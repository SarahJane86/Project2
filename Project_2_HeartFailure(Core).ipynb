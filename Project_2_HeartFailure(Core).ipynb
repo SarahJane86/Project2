{
  "cells": [
    {
      "cell_type": "markdown",
      "metadata": {
        "id": "view-in-github",
        "colab_type": "text"
      },
      "source": [
        "<a href=\"https://colab.research.google.com/github/SarahJane86/Project2/blob/main/Project_2_HeartFailure(Core).ipynb\" target=\"_parent\"><img src=\"https://colab.research.google.com/assets/colab-badge.svg\" alt=\"Open In Colab\"/></a>"
      ]
    },
    {
      "cell_type": "markdown",
      "metadata": {
        "id": "3hJLNgANAi3O"
      },
      "source": [
        "## Heart Failure Project\n",
        "### Sarah Musselwhite\n",
        "#### August 27, 2022"
      ]
    },
    {
      "cell_type": "markdown",
      "metadata": {
        "id": "P_FAbRikAt0K"
      },
      "source": [
        "### First choice: Heart Failure \n",
        "\n",
        "\n",
        "\n"
      ]
    },
    {
      "cell_type": "code",
      "execution_count": null,
      "metadata": {
        "id": "DaObS_lEAx_9"
      },
      "outputs": [],
      "source": [
        "import pandas as pd\n",
        "import numpy as np\n",
        "from sklearn.preprocessing import StandardScaler, OneHotEncoder\n",
        "from sklearn.impute import SimpleImputer\n",
        "from sklearn.compose import make_column_transformer, make_column_selector\n",
        "from sklearn.pipeline import make_pipeline\n",
        "from sklearn.model_selection import train_test_split\n",
        "from sklearn.linear_model import LinearRegression\n",
        "from sklearn.linear_model import LogisticRegression\n",
        "from sklearn.neighbors import KNeighborsClassifier\n",
        "from sklearn.ensemble import RandomForestClassifier\n",
        "from sklearn import set_config\n",
        "from sklearn.dummy import DummyRegressor\n",
        "from sklearn.metrics import mean_absolute_error, mean_squared_error, r2_score\n",
        "set_config(display='diagram')"
      ]
    },
    {
      "cell_type": "markdown",
      "metadata": {
        "id": "vOpVPfAs2qnh"
      },
      "source": [
        "1) Source of data\n",
        "\n",
        "##### https://www.kaggle.com/datasets/andrewmvd/heart-failure-clinical-data"
      ]
    },
    {
      "cell_type": "code",
      "execution_count": null,
      "metadata": {
        "colab": {
          "base_uri": "https://localhost:8080/",
          "height": 270
        },
        "id": "DXeZ1XUhzzgx",
        "outputId": "183a5fcd-1b7c-4546-919a-45b5895e99ea"
      },
      "outputs": [
        {
          "output_type": "execute_result",
          "data": {
            "text/plain": [
              "    age  anaemia  creatinine_phosphokinase  diabetes  ejection_fraction  \\\n",
              "0  75.0        0                       582         0                 20   \n",
              "1  55.0        0                      7861         0                 38   \n",
              "2  65.0        0                       146         0                 20   \n",
              "3  50.0        1                       111         0                 20   \n",
              "4  65.0        1                       160         1                 20   \n",
              "\n",
              "   high_blood_pressure  platelets  serum_creatinine  serum_sodium  sex  \\\n",
              "0                    1  265000.00               1.9           130    1   \n",
              "1                    0  263358.03               1.1           136    1   \n",
              "2                    0  162000.00               1.3           129    1   \n",
              "3                    0  210000.00               1.9           137    1   \n",
              "4                    0  327000.00               2.7           116    0   \n",
              "\n",
              "   smoking  time  DEATH_EVENT  \n",
              "0        0     4            1  \n",
              "1        0     6            1  \n",
              "2        1     7            1  \n",
              "3        0     7            1  \n",
              "4        0     8            1  "
            ],
            "text/html": [
              "\n",
              "  <div id=\"df-9322c4ad-590f-417d-8320-9b9660e5d423\">\n",
              "    <div class=\"colab-df-container\">\n",
              "      <div>\n",
              "<style scoped>\n",
              "    .dataframe tbody tr th:only-of-type {\n",
              "        vertical-align: middle;\n",
              "    }\n",
              "\n",
              "    .dataframe tbody tr th {\n",
              "        vertical-align: top;\n",
              "    }\n",
              "\n",
              "    .dataframe thead th {\n",
              "        text-align: right;\n",
              "    }\n",
              "</style>\n",
              "<table border=\"1\" class=\"dataframe\">\n",
              "  <thead>\n",
              "    <tr style=\"text-align: right;\">\n",
              "      <th></th>\n",
              "      <th>age</th>\n",
              "      <th>anaemia</th>\n",
              "      <th>creatinine_phosphokinase</th>\n",
              "      <th>diabetes</th>\n",
              "      <th>ejection_fraction</th>\n",
              "      <th>high_blood_pressure</th>\n",
              "      <th>platelets</th>\n",
              "      <th>serum_creatinine</th>\n",
              "      <th>serum_sodium</th>\n",
              "      <th>sex</th>\n",
              "      <th>smoking</th>\n",
              "      <th>time</th>\n",
              "      <th>DEATH_EVENT</th>\n",
              "    </tr>\n",
              "  </thead>\n",
              "  <tbody>\n",
              "    <tr>\n",
              "      <th>0</th>\n",
              "      <td>75.0</td>\n",
              "      <td>0</td>\n",
              "      <td>582</td>\n",
              "      <td>0</td>\n",
              "      <td>20</td>\n",
              "      <td>1</td>\n",
              "      <td>265000.00</td>\n",
              "      <td>1.9</td>\n",
              "      <td>130</td>\n",
              "      <td>1</td>\n",
              "      <td>0</td>\n",
              "      <td>4</td>\n",
              "      <td>1</td>\n",
              "    </tr>\n",
              "    <tr>\n",
              "      <th>1</th>\n",
              "      <td>55.0</td>\n",
              "      <td>0</td>\n",
              "      <td>7861</td>\n",
              "      <td>0</td>\n",
              "      <td>38</td>\n",
              "      <td>0</td>\n",
              "      <td>263358.03</td>\n",
              "      <td>1.1</td>\n",
              "      <td>136</td>\n",
              "      <td>1</td>\n",
              "      <td>0</td>\n",
              "      <td>6</td>\n",
              "      <td>1</td>\n",
              "    </tr>\n",
              "    <tr>\n",
              "      <th>2</th>\n",
              "      <td>65.0</td>\n",
              "      <td>0</td>\n",
              "      <td>146</td>\n",
              "      <td>0</td>\n",
              "      <td>20</td>\n",
              "      <td>0</td>\n",
              "      <td>162000.00</td>\n",
              "      <td>1.3</td>\n",
              "      <td>129</td>\n",
              "      <td>1</td>\n",
              "      <td>1</td>\n",
              "      <td>7</td>\n",
              "      <td>1</td>\n",
              "    </tr>\n",
              "    <tr>\n",
              "      <th>3</th>\n",
              "      <td>50.0</td>\n",
              "      <td>1</td>\n",
              "      <td>111</td>\n",
              "      <td>0</td>\n",
              "      <td>20</td>\n",
              "      <td>0</td>\n",
              "      <td>210000.00</td>\n",
              "      <td>1.9</td>\n",
              "      <td>137</td>\n",
              "      <td>1</td>\n",
              "      <td>0</td>\n",
              "      <td>7</td>\n",
              "      <td>1</td>\n",
              "    </tr>\n",
              "    <tr>\n",
              "      <th>4</th>\n",
              "      <td>65.0</td>\n",
              "      <td>1</td>\n",
              "      <td>160</td>\n",
              "      <td>1</td>\n",
              "      <td>20</td>\n",
              "      <td>0</td>\n",
              "      <td>327000.00</td>\n",
              "      <td>2.7</td>\n",
              "      <td>116</td>\n",
              "      <td>0</td>\n",
              "      <td>0</td>\n",
              "      <td>8</td>\n",
              "      <td>1</td>\n",
              "    </tr>\n",
              "  </tbody>\n",
              "</table>\n",
              "</div>\n",
              "      <button class=\"colab-df-convert\" onclick=\"convertToInteractive('df-9322c4ad-590f-417d-8320-9b9660e5d423')\"\n",
              "              title=\"Convert this dataframe to an interactive table.\"\n",
              "              style=\"display:none;\">\n",
              "        \n",
              "  <svg xmlns=\"http://www.w3.org/2000/svg\" height=\"24px\"viewBox=\"0 0 24 24\"\n",
              "       width=\"24px\">\n",
              "    <path d=\"M0 0h24v24H0V0z\" fill=\"none\"/>\n",
              "    <path d=\"M18.56 5.44l.94 2.06.94-2.06 2.06-.94-2.06-.94-.94-2.06-.94 2.06-2.06.94zm-11 1L8.5 8.5l.94-2.06 2.06-.94-2.06-.94L8.5 2.5l-.94 2.06-2.06.94zm10 10l.94 2.06.94-2.06 2.06-.94-2.06-.94-.94-2.06-.94 2.06-2.06.94z\"/><path d=\"M17.41 7.96l-1.37-1.37c-.4-.4-.92-.59-1.43-.59-.52 0-1.04.2-1.43.59L10.3 9.45l-7.72 7.72c-.78.78-.78 2.05 0 2.83L4 21.41c.39.39.9.59 1.41.59.51 0 1.02-.2 1.41-.59l7.78-7.78 2.81-2.81c.8-.78.8-2.07 0-2.86zM5.41 20L4 18.59l7.72-7.72 1.47 1.35L5.41 20z\"/>\n",
              "  </svg>\n",
              "      </button>\n",
              "      \n",
              "  <style>\n",
              "    .colab-df-container {\n",
              "      display:flex;\n",
              "      flex-wrap:wrap;\n",
              "      gap: 12px;\n",
              "    }\n",
              "\n",
              "    .colab-df-convert {\n",
              "      background-color: #E8F0FE;\n",
              "      border: none;\n",
              "      border-radius: 50%;\n",
              "      cursor: pointer;\n",
              "      display: none;\n",
              "      fill: #1967D2;\n",
              "      height: 32px;\n",
              "      padding: 0 0 0 0;\n",
              "      width: 32px;\n",
              "    }\n",
              "\n",
              "    .colab-df-convert:hover {\n",
              "      background-color: #E2EBFA;\n",
              "      box-shadow: 0px 1px 2px rgba(60, 64, 67, 0.3), 0px 1px 3px 1px rgba(60, 64, 67, 0.15);\n",
              "      fill: #174EA6;\n",
              "    }\n",
              "\n",
              "    [theme=dark] .colab-df-convert {\n",
              "      background-color: #3B4455;\n",
              "      fill: #D2E3FC;\n",
              "    }\n",
              "\n",
              "    [theme=dark] .colab-df-convert:hover {\n",
              "      background-color: #434B5C;\n",
              "      box-shadow: 0px 1px 3px 1px rgba(0, 0, 0, 0.15);\n",
              "      filter: drop-shadow(0px 1px 2px rgba(0, 0, 0, 0.3));\n",
              "      fill: #FFFFFF;\n",
              "    }\n",
              "  </style>\n",
              "\n",
              "      <script>\n",
              "        const buttonEl =\n",
              "          document.querySelector('#df-9322c4ad-590f-417d-8320-9b9660e5d423 button.colab-df-convert');\n",
              "        buttonEl.style.display =\n",
              "          google.colab.kernel.accessAllowed ? 'block' : 'none';\n",
              "\n",
              "        async function convertToInteractive(key) {\n",
              "          const element = document.querySelector('#df-9322c4ad-590f-417d-8320-9b9660e5d423');\n",
              "          const dataTable =\n",
              "            await google.colab.kernel.invokeFunction('convertToInteractive',\n",
              "                                                     [key], {});\n",
              "          if (!dataTable) return;\n",
              "\n",
              "          const docLinkHtml = 'Like what you see? Visit the ' +\n",
              "            '<a target=\"_blank\" href=https://colab.research.google.com/notebooks/data_table.ipynb>data table notebook</a>'\n",
              "            + ' to learn more about interactive tables.';\n",
              "          element.innerHTML = '';\n",
              "          dataTable['output_type'] = 'display_data';\n",
              "          await google.colab.output.renderOutput(dataTable, element);\n",
              "          const docLink = document.createElement('div');\n",
              "          docLink.innerHTML = docLinkHtml;\n",
              "          element.appendChild(docLink);\n",
              "        }\n",
              "      </script>\n",
              "    </div>\n",
              "  </div>\n",
              "  "
            ]
          },
          "metadata": {},
          "execution_count": 2
        }
      ],
      "source": [
        "heart_df = pd.read_csv('https://docs.google.com/spreadsheets/d/e/2PACX-1vQ0gjToMQ5DRQ4Q5uok5ADJf_1cZDD8eGUNNLsSpz_pYQ3SLYZsOYsrjEaBjXEbGdfXzduFznLZXfF7/pub?gid=1116141808&single=true&output=csv')\n",
        "heart_df.head()"
      ]
    },
    {
      "cell_type": "markdown",
      "metadata": {
        "id": "0RdNBgAl2sis"
      },
      "source": [
        "#### 2) Brief description of data\n",
        "\n",
        "##### Heart disease is one of the most leading causes of death globally taking an estimated 17.9 million lives per year. Heart failure is a common event caused by a Cardiovascular Disease. Most can be prevented by addressing certain behaviors, such as smoking, physical health, and alcohol use.\n",
        "\n",
        "##### People with CVD or have a risk of developing CVD, need early detection and insight on how to manage it. "
      ]
    },
    {
      "cell_type": "markdown",
      "metadata": {
        "id": "9MbcaFf32xDg"
      },
      "source": [
        "####3) What is the target?\n",
        "###### Target will be \"Death Event\""
      ]
    },
    {
      "cell_type": "markdown",
      "metadata": {
        "id": "-QNgox-X20uQ"
      },
      "source": [
        "#### 4) Is this a classification or regression problem?\n",
        "\n",
        "###### Classification, because I will be exploring what factors contribute to Death events, is it a compilation of many things? Or something different."
      ]
    },
    {
      "cell_type": "markdown",
      "metadata": {
        "id": "qjTbn7ZO28To"
      },
      "source": [
        "####5) How many features?"
      ]
    },
    {
      "cell_type": "code",
      "execution_count": null,
      "metadata": {
        "colab": {
          "base_uri": "https://localhost:8080/"
        },
        "id": "8PA-u6fX29kn",
        "outputId": "73f4429d-9495-468a-c7b0-cdd7484bee2e"
      },
      "outputs": [
        {
          "output_type": "stream",
          "name": "stdout",
          "text": [
            "<class 'pandas.core.frame.DataFrame'>\n",
            "RangeIndex: 299 entries, 0 to 298\n",
            "Data columns (total 13 columns):\n",
            " #   Column                    Non-Null Count  Dtype  \n",
            "---  ------                    --------------  -----  \n",
            " 0   age                       299 non-null    float64\n",
            " 1   anaemia                   299 non-null    int64  \n",
            " 2   creatinine_phosphokinase  299 non-null    int64  \n",
            " 3   diabetes                  299 non-null    int64  \n",
            " 4   ejection_fraction         299 non-null    int64  \n",
            " 5   high_blood_pressure       299 non-null    int64  \n",
            " 6   platelets                 299 non-null    float64\n",
            " 7   serum_creatinine          299 non-null    float64\n",
            " 8   serum_sodium              299 non-null    int64  \n",
            " 9   sex                       299 non-null    int64  \n",
            " 10  smoking                   299 non-null    int64  \n",
            " 11  time                      299 non-null    int64  \n",
            " 12  DEATH_EVENT               299 non-null    int64  \n",
            "dtypes: float64(3), int64(10)\n",
            "memory usage: 30.5 KB\n"
          ]
        }
      ],
      "source": [
        "heart_df.info()"
      ]
    },
    {
      "cell_type": "markdown",
      "metadata": {
        "id": "rg6DH0do298i"
      },
      "source": [
        "\n",
        "#####6) How many rows of data.\n",
        "\n",
        "\n"
      ]
    },
    {
      "cell_type": "code",
      "execution_count": null,
      "metadata": {
        "colab": {
          "base_uri": "https://localhost:8080/"
        },
        "id": "qtdB4khE3Bhu",
        "outputId": "2abad182-4d0f-45ac-9468-b73b90fc82e1"
      },
      "outputs": [
        {
          "output_type": "execute_result",
          "data": {
            "text/plain": [
              "299"
            ]
          },
          "metadata": {},
          "execution_count": 4
        }
      ],
      "source": [
        " len(heart_df.index)"
      ]
    },
    {
      "cell_type": "markdown",
      "metadata": {
        "id": "xkM5RSJs3E-f"
      },
      "source": [
        "#### 7) What, if any, challenges do your foresee in cleaning, exploring, or modeling with this dataset?"
      ]
    },
    {
      "cell_type": "markdown",
      "metadata": {
        "id": "XiLf4iCeC2mW"
      },
      "source": [
        "##### In cleaning, I forsee a bit of time consumption, due to the fact of trying to narrow down what aspects to keep, and what to drop. What counts more toward the target. I'm honestly excited to explore this data, as much of my family history, most in my family tree has been affected by some sort of cardiac health issue."
      ]
    },
    {
      "cell_type": "markdown",
      "metadata": {
        "id": "d3kRA9nBLOo6"
      },
      "source": [
        "## Preparing Data\n",
        "#### 9/6/22"
      ]
    },
    {
      "cell_type": "markdown",
      "metadata": {
        "id": "BBuNorxpi0R5"
      },
      "source": [
        "#### About the data:\n",
        "* **age:** Age of the patient\n",
        "\n",
        "* **anaemia:** If the patient had the haemoglobin below the normal range\n",
        "\n",
        "* **diabetes:** If the patient was diabetic\n",
        "\n",
        "* **high_blood_pressure:** If the patient had hypertension\n",
        "\n",
        "* **sex:** The sex of the patient\n",
        "* **smoking:** If the patient smokes actively or ever did in past\n",
        "*  **time:** It is the time of the patient's follow-up visit for the disease in months\n",
        "* **DEATH_EVENT:** If the patient deceased during the follow-up period\n",
        "\n",
        "### *- Dropped columns:*\n",
        "* **ejection_fraction:** Ejection fraction is a measurement of how much blood the left ventricle pumps out with each contraction\n",
        "* **creatinine_phosphokinase:** The level of the creatine phosphokinase in the blood in mcg/L\n",
        "* **platelets:** Platelet count of blood in kiloplatelets/mL\n",
        "* **serum_creatinine:** The level of serum creatinine in the blood in mg/dL\n",
        "* **serum_sodium:** The level of serum sodium in the blood in mEq/L"
      ]
    },
    {
      "cell_type": "code",
      "execution_count": null,
      "metadata": {
        "colab": {
          "base_uri": "https://localhost:8080/",
          "height": 270
        },
        "id": "GIkcMa0oiC6d",
        "outputId": "776dd3fa-bf9b-4611-dc70-3aaeb5379ccc"
      },
      "outputs": [
        {
          "output_type": "execute_result",
          "data": {
            "text/plain": [
              "    age  anaemia  creatinine_phosphokinase  diabetes  ejection_fraction  \\\n",
              "0  75.0        0                       582         0                 20   \n",
              "1  55.0        0                      7861         0                 38   \n",
              "2  65.0        0                       146         0                 20   \n",
              "3  50.0        1                       111         0                 20   \n",
              "4  65.0        1                       160         1                 20   \n",
              "\n",
              "   high_blood_pressure  platelets  serum_creatinine  serum_sodium  sex  \\\n",
              "0                    1  265000.00               1.9           130    1   \n",
              "1                    0  263358.03               1.1           136    1   \n",
              "2                    0  162000.00               1.3           129    1   \n",
              "3                    0  210000.00               1.9           137    1   \n",
              "4                    0  327000.00               2.7           116    0   \n",
              "\n",
              "   smoking  time  DEATH_EVENT  \n",
              "0        0     4            1  \n",
              "1        0     6            1  \n",
              "2        1     7            1  \n",
              "3        0     7            1  \n",
              "4        0     8            1  "
            ],
            "text/html": [
              "\n",
              "  <div id=\"df-ab64ac3f-6eba-40cb-a7e1-d95024ef57b2\">\n",
              "    <div class=\"colab-df-container\">\n",
              "      <div>\n",
              "<style scoped>\n",
              "    .dataframe tbody tr th:only-of-type {\n",
              "        vertical-align: middle;\n",
              "    }\n",
              "\n",
              "    .dataframe tbody tr th {\n",
              "        vertical-align: top;\n",
              "    }\n",
              "\n",
              "    .dataframe thead th {\n",
              "        text-align: right;\n",
              "    }\n",
              "</style>\n",
              "<table border=\"1\" class=\"dataframe\">\n",
              "  <thead>\n",
              "    <tr style=\"text-align: right;\">\n",
              "      <th></th>\n",
              "      <th>age</th>\n",
              "      <th>anaemia</th>\n",
              "      <th>creatinine_phosphokinase</th>\n",
              "      <th>diabetes</th>\n",
              "      <th>ejection_fraction</th>\n",
              "      <th>high_blood_pressure</th>\n",
              "      <th>platelets</th>\n",
              "      <th>serum_creatinine</th>\n",
              "      <th>serum_sodium</th>\n",
              "      <th>sex</th>\n",
              "      <th>smoking</th>\n",
              "      <th>time</th>\n",
              "      <th>DEATH_EVENT</th>\n",
              "    </tr>\n",
              "  </thead>\n",
              "  <tbody>\n",
              "    <tr>\n",
              "      <th>0</th>\n",
              "      <td>75.0</td>\n",
              "      <td>0</td>\n",
              "      <td>582</td>\n",
              "      <td>0</td>\n",
              "      <td>20</td>\n",
              "      <td>1</td>\n",
              "      <td>265000.00</td>\n",
              "      <td>1.9</td>\n",
              "      <td>130</td>\n",
              "      <td>1</td>\n",
              "      <td>0</td>\n",
              "      <td>4</td>\n",
              "      <td>1</td>\n",
              "    </tr>\n",
              "    <tr>\n",
              "      <th>1</th>\n",
              "      <td>55.0</td>\n",
              "      <td>0</td>\n",
              "      <td>7861</td>\n",
              "      <td>0</td>\n",
              "      <td>38</td>\n",
              "      <td>0</td>\n",
              "      <td>263358.03</td>\n",
              "      <td>1.1</td>\n",
              "      <td>136</td>\n",
              "      <td>1</td>\n",
              "      <td>0</td>\n",
              "      <td>6</td>\n",
              "      <td>1</td>\n",
              "    </tr>\n",
              "    <tr>\n",
              "      <th>2</th>\n",
              "      <td>65.0</td>\n",
              "      <td>0</td>\n",
              "      <td>146</td>\n",
              "      <td>0</td>\n",
              "      <td>20</td>\n",
              "      <td>0</td>\n",
              "      <td>162000.00</td>\n",
              "      <td>1.3</td>\n",
              "      <td>129</td>\n",
              "      <td>1</td>\n",
              "      <td>1</td>\n",
              "      <td>7</td>\n",
              "      <td>1</td>\n",
              "    </tr>\n",
              "    <tr>\n",
              "      <th>3</th>\n",
              "      <td>50.0</td>\n",
              "      <td>1</td>\n",
              "      <td>111</td>\n",
              "      <td>0</td>\n",
              "      <td>20</td>\n",
              "      <td>0</td>\n",
              "      <td>210000.00</td>\n",
              "      <td>1.9</td>\n",
              "      <td>137</td>\n",
              "      <td>1</td>\n",
              "      <td>0</td>\n",
              "      <td>7</td>\n",
              "      <td>1</td>\n",
              "    </tr>\n",
              "    <tr>\n",
              "      <th>4</th>\n",
              "      <td>65.0</td>\n",
              "      <td>1</td>\n",
              "      <td>160</td>\n",
              "      <td>1</td>\n",
              "      <td>20</td>\n",
              "      <td>0</td>\n",
              "      <td>327000.00</td>\n",
              "      <td>2.7</td>\n",
              "      <td>116</td>\n",
              "      <td>0</td>\n",
              "      <td>0</td>\n",
              "      <td>8</td>\n",
              "      <td>1</td>\n",
              "    </tr>\n",
              "  </tbody>\n",
              "</table>\n",
              "</div>\n",
              "      <button class=\"colab-df-convert\" onclick=\"convertToInteractive('df-ab64ac3f-6eba-40cb-a7e1-d95024ef57b2')\"\n",
              "              title=\"Convert this dataframe to an interactive table.\"\n",
              "              style=\"display:none;\">\n",
              "        \n",
              "  <svg xmlns=\"http://www.w3.org/2000/svg\" height=\"24px\"viewBox=\"0 0 24 24\"\n",
              "       width=\"24px\">\n",
              "    <path d=\"M0 0h24v24H0V0z\" fill=\"none\"/>\n",
              "    <path d=\"M18.56 5.44l.94 2.06.94-2.06 2.06-.94-2.06-.94-.94-2.06-.94 2.06-2.06.94zm-11 1L8.5 8.5l.94-2.06 2.06-.94-2.06-.94L8.5 2.5l-.94 2.06-2.06.94zm10 10l.94 2.06.94-2.06 2.06-.94-2.06-.94-.94-2.06-.94 2.06-2.06.94z\"/><path d=\"M17.41 7.96l-1.37-1.37c-.4-.4-.92-.59-1.43-.59-.52 0-1.04.2-1.43.59L10.3 9.45l-7.72 7.72c-.78.78-.78 2.05 0 2.83L4 21.41c.39.39.9.59 1.41.59.51 0 1.02-.2 1.41-.59l7.78-7.78 2.81-2.81c.8-.78.8-2.07 0-2.86zM5.41 20L4 18.59l7.72-7.72 1.47 1.35L5.41 20z\"/>\n",
              "  </svg>\n",
              "      </button>\n",
              "      \n",
              "  <style>\n",
              "    .colab-df-container {\n",
              "      display:flex;\n",
              "      flex-wrap:wrap;\n",
              "      gap: 12px;\n",
              "    }\n",
              "\n",
              "    .colab-df-convert {\n",
              "      background-color: #E8F0FE;\n",
              "      border: none;\n",
              "      border-radius: 50%;\n",
              "      cursor: pointer;\n",
              "      display: none;\n",
              "      fill: #1967D2;\n",
              "      height: 32px;\n",
              "      padding: 0 0 0 0;\n",
              "      width: 32px;\n",
              "    }\n",
              "\n",
              "    .colab-df-convert:hover {\n",
              "      background-color: #E2EBFA;\n",
              "      box-shadow: 0px 1px 2px rgba(60, 64, 67, 0.3), 0px 1px 3px 1px rgba(60, 64, 67, 0.15);\n",
              "      fill: #174EA6;\n",
              "    }\n",
              "\n",
              "    [theme=dark] .colab-df-convert {\n",
              "      background-color: #3B4455;\n",
              "      fill: #D2E3FC;\n",
              "    }\n",
              "\n",
              "    [theme=dark] .colab-df-convert:hover {\n",
              "      background-color: #434B5C;\n",
              "      box-shadow: 0px 1px 3px 1px rgba(0, 0, 0, 0.15);\n",
              "      filter: drop-shadow(0px 1px 2px rgba(0, 0, 0, 0.3));\n",
              "      fill: #FFFFFF;\n",
              "    }\n",
              "  </style>\n",
              "\n",
              "      <script>\n",
              "        const buttonEl =\n",
              "          document.querySelector('#df-ab64ac3f-6eba-40cb-a7e1-d95024ef57b2 button.colab-df-convert');\n",
              "        buttonEl.style.display =\n",
              "          google.colab.kernel.accessAllowed ? 'block' : 'none';\n",
              "\n",
              "        async function convertToInteractive(key) {\n",
              "          const element = document.querySelector('#df-ab64ac3f-6eba-40cb-a7e1-d95024ef57b2');\n",
              "          const dataTable =\n",
              "            await google.colab.kernel.invokeFunction('convertToInteractive',\n",
              "                                                     [key], {});\n",
              "          if (!dataTable) return;\n",
              "\n",
              "          const docLinkHtml = 'Like what you see? Visit the ' +\n",
              "            '<a target=\"_blank\" href=https://colab.research.google.com/notebooks/data_table.ipynb>data table notebook</a>'\n",
              "            + ' to learn more about interactive tables.';\n",
              "          element.innerHTML = '';\n",
              "          dataTable['output_type'] = 'display_data';\n",
              "          await google.colab.output.renderOutput(dataTable, element);\n",
              "          const docLink = document.createElement('div');\n",
              "          docLink.innerHTML = docLinkHtml;\n",
              "          element.appendChild(docLink);\n",
              "        }\n",
              "      </script>\n",
              "    </div>\n",
              "  </div>\n",
              "  "
            ]
          },
          "metadata": {},
          "execution_count": 5
        }
      ],
      "source": [
        "heart_df.head()"
      ]
    },
    {
      "cell_type": "code",
      "execution_count": null,
      "metadata": {
        "id": "XfjMfieSzL5P"
      },
      "outputs": [],
      "source": [
        "heartfail = heart_df.drop(columns = ['ejection_fraction', 'creatinine_phosphokinase', 'platelets', 'serum_creatinine', 'serum_sodium'])"
      ]
    },
    {
      "cell_type": "code",
      "execution_count": null,
      "metadata": {
        "colab": {
          "base_uri": "https://localhost:8080/"
        },
        "id": "9KffMKN4jGhu",
        "outputId": "5aa946b2-73fc-4c7a-edd5-79d938574f29"
      },
      "outputs": [
        {
          "output_type": "stream",
          "name": "stdout",
          "text": [
            "<class 'pandas.core.frame.DataFrame'>\n",
            "RangeIndex: 299 entries, 0 to 298\n",
            "Data columns (total 8 columns):\n",
            " #   Column               Non-Null Count  Dtype  \n",
            "---  ------               --------------  -----  \n",
            " 0   age                  299 non-null    float64\n",
            " 1   anaemia              299 non-null    int64  \n",
            " 2   diabetes             299 non-null    int64  \n",
            " 3   high_blood_pressure  299 non-null    int64  \n",
            " 4   sex                  299 non-null    int64  \n",
            " 5   smoking              299 non-null    int64  \n",
            " 6   time                 299 non-null    int64  \n",
            " 7   DEATH_EVENT          299 non-null    int64  \n",
            "dtypes: float64(1), int64(7)\n",
            "memory usage: 18.8 KB\n"
          ]
        }
      ],
      "source": [
        "heartfail.info()"
      ]
    },
    {
      "cell_type": "code",
      "execution_count": null,
      "metadata": {
        "colab": {
          "base_uri": "https://localhost:8080/"
        },
        "id": "njqUnfP1isih",
        "outputId": "95bf9f47-b886-4882-8322-28ed7d673604"
      },
      "outputs": [
        {
          "output_type": "execute_result",
          "data": {
            "text/plain": [
              "age                    0\n",
              "anaemia                0\n",
              "diabetes               0\n",
              "high_blood_pressure    0\n",
              "sex                    0\n",
              "smoking                0\n",
              "time                   0\n",
              "DEATH_EVENT            0\n",
              "dtype: int64"
            ]
          },
          "metadata": {},
          "execution_count": 8
        }
      ],
      "source": [
        "# Identifying any missing values\n",
        "heartfail.isna().sum()"
      ]
    },
    {
      "cell_type": "code",
      "execution_count": null,
      "metadata": {
        "colab": {
          "base_uri": "https://localhost:8080/",
          "height": 112
        },
        "id": "1De31Ut8i685",
        "outputId": "f4cd78f5-0e1a-4085-8e0d-acb3c54d70aa"
      },
      "outputs": [
        {
          "output_type": "execute_result",
          "data": {
            "text/plain": [
              "      age  anaemia  diabetes  high_blood_pressure  sex  smoking  time  \\\n",
              "233  53.0        1         0                    0    1        1   209   \n",
              "234  53.0        1         0                    0    1        1   209   \n",
              "\n",
              "     DEATH_EVENT  \n",
              "233            0  \n",
              "234            0  "
            ],
            "text/html": [
              "\n",
              "  <div id=\"df-fb1112d3-47f0-4dd2-b963-af2964feb784\">\n",
              "    <div class=\"colab-df-container\">\n",
              "      <div>\n",
              "<style scoped>\n",
              "    .dataframe tbody tr th:only-of-type {\n",
              "        vertical-align: middle;\n",
              "    }\n",
              "\n",
              "    .dataframe tbody tr th {\n",
              "        vertical-align: top;\n",
              "    }\n",
              "\n",
              "    .dataframe thead th {\n",
              "        text-align: right;\n",
              "    }\n",
              "</style>\n",
              "<table border=\"1\" class=\"dataframe\">\n",
              "  <thead>\n",
              "    <tr style=\"text-align: right;\">\n",
              "      <th></th>\n",
              "      <th>age</th>\n",
              "      <th>anaemia</th>\n",
              "      <th>diabetes</th>\n",
              "      <th>high_blood_pressure</th>\n",
              "      <th>sex</th>\n",
              "      <th>smoking</th>\n",
              "      <th>time</th>\n",
              "      <th>DEATH_EVENT</th>\n",
              "    </tr>\n",
              "  </thead>\n",
              "  <tbody>\n",
              "    <tr>\n",
              "      <th>233</th>\n",
              "      <td>53.0</td>\n",
              "      <td>1</td>\n",
              "      <td>0</td>\n",
              "      <td>0</td>\n",
              "      <td>1</td>\n",
              "      <td>1</td>\n",
              "      <td>209</td>\n",
              "      <td>0</td>\n",
              "    </tr>\n",
              "    <tr>\n",
              "      <th>234</th>\n",
              "      <td>53.0</td>\n",
              "      <td>1</td>\n",
              "      <td>0</td>\n",
              "      <td>0</td>\n",
              "      <td>1</td>\n",
              "      <td>1</td>\n",
              "      <td>209</td>\n",
              "      <td>0</td>\n",
              "    </tr>\n",
              "  </tbody>\n",
              "</table>\n",
              "</div>\n",
              "      <button class=\"colab-df-convert\" onclick=\"convertToInteractive('df-fb1112d3-47f0-4dd2-b963-af2964feb784')\"\n",
              "              title=\"Convert this dataframe to an interactive table.\"\n",
              "              style=\"display:none;\">\n",
              "        \n",
              "  <svg xmlns=\"http://www.w3.org/2000/svg\" height=\"24px\"viewBox=\"0 0 24 24\"\n",
              "       width=\"24px\">\n",
              "    <path d=\"M0 0h24v24H0V0z\" fill=\"none\"/>\n",
              "    <path d=\"M18.56 5.44l.94 2.06.94-2.06 2.06-.94-2.06-.94-.94-2.06-.94 2.06-2.06.94zm-11 1L8.5 8.5l.94-2.06 2.06-.94-2.06-.94L8.5 2.5l-.94 2.06-2.06.94zm10 10l.94 2.06.94-2.06 2.06-.94-2.06-.94-.94-2.06-.94 2.06-2.06.94z\"/><path d=\"M17.41 7.96l-1.37-1.37c-.4-.4-.92-.59-1.43-.59-.52 0-1.04.2-1.43.59L10.3 9.45l-7.72 7.72c-.78.78-.78 2.05 0 2.83L4 21.41c.39.39.9.59 1.41.59.51 0 1.02-.2 1.41-.59l7.78-7.78 2.81-2.81c.8-.78.8-2.07 0-2.86zM5.41 20L4 18.59l7.72-7.72 1.47 1.35L5.41 20z\"/>\n",
              "  </svg>\n",
              "      </button>\n",
              "      \n",
              "  <style>\n",
              "    .colab-df-container {\n",
              "      display:flex;\n",
              "      flex-wrap:wrap;\n",
              "      gap: 12px;\n",
              "    }\n",
              "\n",
              "    .colab-df-convert {\n",
              "      background-color: #E8F0FE;\n",
              "      border: none;\n",
              "      border-radius: 50%;\n",
              "      cursor: pointer;\n",
              "      display: none;\n",
              "      fill: #1967D2;\n",
              "      height: 32px;\n",
              "      padding: 0 0 0 0;\n",
              "      width: 32px;\n",
              "    }\n",
              "\n",
              "    .colab-df-convert:hover {\n",
              "      background-color: #E2EBFA;\n",
              "      box-shadow: 0px 1px 2px rgba(60, 64, 67, 0.3), 0px 1px 3px 1px rgba(60, 64, 67, 0.15);\n",
              "      fill: #174EA6;\n",
              "    }\n",
              "\n",
              "    [theme=dark] .colab-df-convert {\n",
              "      background-color: #3B4455;\n",
              "      fill: #D2E3FC;\n",
              "    }\n",
              "\n",
              "    [theme=dark] .colab-df-convert:hover {\n",
              "      background-color: #434B5C;\n",
              "      box-shadow: 0px 1px 3px 1px rgba(0, 0, 0, 0.15);\n",
              "      filter: drop-shadow(0px 1px 2px rgba(0, 0, 0, 0.3));\n",
              "      fill: #FFFFFF;\n",
              "    }\n",
              "  </style>\n",
              "\n",
              "      <script>\n",
              "        const buttonEl =\n",
              "          document.querySelector('#df-fb1112d3-47f0-4dd2-b963-af2964feb784 button.colab-df-convert');\n",
              "        buttonEl.style.display =\n",
              "          google.colab.kernel.accessAllowed ? 'block' : 'none';\n",
              "\n",
              "        async function convertToInteractive(key) {\n",
              "          const element = document.querySelector('#df-fb1112d3-47f0-4dd2-b963-af2964feb784');\n",
              "          const dataTable =\n",
              "            await google.colab.kernel.invokeFunction('convertToInteractive',\n",
              "                                                     [key], {});\n",
              "          if (!dataTable) return;\n",
              "\n",
              "          const docLinkHtml = 'Like what you see? Visit the ' +\n",
              "            '<a target=\"_blank\" href=https://colab.research.google.com/notebooks/data_table.ipynb>data table notebook</a>'\n",
              "            + ' to learn more about interactive tables.';\n",
              "          element.innerHTML = '';\n",
              "          dataTable['output_type'] = 'display_data';\n",
              "          await google.colab.output.renderOutput(dataTable, element);\n",
              "          const docLink = document.createElement('div');\n",
              "          docLink.innerHTML = docLinkHtml;\n",
              "          element.appendChild(docLink);\n",
              "        }\n",
              "      </script>\n",
              "    </div>\n",
              "  </div>\n",
              "  "
            ]
          },
          "metadata": {},
          "execution_count": 9
        }
      ],
      "source": [
        "# Identifying any duplicates\n",
        "heartfail[heartfail.duplicated(keep = False)]"
      ]
    },
    {
      "cell_type": "code",
      "execution_count": null,
      "metadata": {
        "id": "IneKxU821HqP"
      },
      "outputs": [],
      "source": [
        "heartfail.drop_duplicates(inplace = True)"
      ]
    },
    {
      "cell_type": "markdown",
      "metadata": {
        "id": "riJpt5CnMqG-"
      },
      "source": [
        "  ###### There are no categorical values. I did check for inconsistencies in all columns and found none. "
      ]
    },
    {
      "cell_type": "code",
      "execution_count": null,
      "metadata": {
        "colab": {
          "base_uri": "https://localhost:8080/"
        },
        "id": "KD77iva4gsR8",
        "outputId": "eddfee69-aacd-486b-c577-9f245ab2d12b"
      },
      "outputs": [
        {
          "output_type": "execute_result",
          "data": {
            "text/plain": [
              "60.000    33\n",
              "50.000    27\n",
              "65.000    26\n",
              "70.000    25\n",
              "45.000    19\n",
              "55.000    17\n",
              "75.000    11\n",
              "58.000    10\n",
              "53.000     9\n",
              "63.000     8\n",
              "80.000     7\n",
              "72.000     7\n",
              "40.000     7\n",
              "42.000     7\n",
              "85.000     6\n",
              "68.000     5\n",
              "52.000     5\n",
              "62.000     5\n",
              "51.000     4\n",
              "59.000     4\n",
              "61.000     4\n",
              "73.000     4\n",
              "49.000     4\n",
              "69.000     3\n",
              "46.000     3\n",
              "64.000     3\n",
              "82.000     3\n",
              "90.000     3\n",
              "78.000     2\n",
              "60.667     2\n",
              "54.000     2\n",
              "77.000     2\n",
              "57.000     2\n",
              "66.000     2\n",
              "44.000     2\n",
              "67.000     2\n",
              "95.000     2\n",
              "48.000     2\n",
              "43.000     1\n",
              "86.000     1\n",
              "81.000     1\n",
              "79.000     1\n",
              "41.000     1\n",
              "94.000     1\n",
              "87.000     1\n",
              "47.000     1\n",
              "56.000     1\n",
              "Name: age, dtype: int64"
            ]
          },
          "metadata": {},
          "execution_count": 11
        }
      ],
      "source": [
        "heartfail['age'].value_counts()"
      ]
    },
    {
      "cell_type": "code",
      "execution_count": null,
      "metadata": {
        "colab": {
          "base_uri": "https://localhost:8080/"
        },
        "id": "pytRSZgpgsEu",
        "outputId": "14fb26f4-cf0f-48db-d770-f204e15b07fd"
      },
      "outputs": [
        {
          "output_type": "execute_result",
          "data": {
            "text/plain": [
              "0    170\n",
              "1    128\n",
              "Name: anaemia, dtype: int64"
            ]
          },
          "metadata": {},
          "execution_count": 12
        }
      ],
      "source": [
        "heartfail['anaemia'].value_counts()"
      ]
    },
    {
      "cell_type": "code",
      "execution_count": null,
      "metadata": {
        "colab": {
          "base_uri": "https://localhost:8080/"
        },
        "id": "O4TP8ovak52m",
        "outputId": "7dca0357-b190-4a14-88ed-a04963708564"
      },
      "outputs": [
        {
          "output_type": "execute_result",
          "data": {
            "text/plain": [
              "0    173\n",
              "1    125\n",
              "Name: diabetes, dtype: int64"
            ]
          },
          "metadata": {},
          "execution_count": 13
        }
      ],
      "source": [
        "heartfail['diabetes'].value_counts()"
      ]
    },
    {
      "cell_type": "code",
      "execution_count": null,
      "metadata": {
        "colab": {
          "base_uri": "https://localhost:8080/"
        },
        "id": "MuyLS4Mzk5RE",
        "outputId": "6dff93a2-6572-4dfd-c51b-2aac70584b6a"
      },
      "outputs": [
        {
          "output_type": "execute_result",
          "data": {
            "text/plain": [
              "0    193\n",
              "1    105\n",
              "Name: high_blood_pressure, dtype: int64"
            ]
          },
          "metadata": {},
          "execution_count": 14
        }
      ],
      "source": [
        "heartfail['high_blood_pressure'].value_counts()"
      ]
    },
    {
      "cell_type": "code",
      "execution_count": null,
      "metadata": {
        "colab": {
          "base_uri": "https://localhost:8080/"
        },
        "id": "4rw7rMpZlTqk",
        "outputId": "e7c6337c-ddfd-4337-aea4-75c49dac33e7"
      },
      "outputs": [
        {
          "output_type": "execute_result",
          "data": {
            "text/plain": [
              "1    193\n",
              "0    105\n",
              "Name: sex, dtype: int64"
            ]
          },
          "metadata": {},
          "execution_count": 15
        }
      ],
      "source": [
        "heartfail['sex'].value_counts()"
      ]
    },
    {
      "cell_type": "code",
      "execution_count": null,
      "metadata": {
        "colab": {
          "base_uri": "https://localhost:8080/"
        },
        "id": "Kv_EEx0RlcFg",
        "outputId": "1eb936b3-fa80-4af5-c7db-0b464bc42dc2"
      },
      "outputs": [
        {
          "output_type": "execute_result",
          "data": {
            "text/plain": [
              "0    203\n",
              "1     95\n",
              "Name: smoking, dtype: int64"
            ]
          },
          "metadata": {},
          "execution_count": 16
        }
      ],
      "source": [
        "heartfail['smoking'].value_counts()"
      ]
    },
    {
      "cell_type": "code",
      "execution_count": null,
      "metadata": {
        "colab": {
          "base_uri": "https://localhost:8080/"
        },
        "id": "KtX-6pM0lf0a",
        "outputId": "a5363d31-2305-42a8-c65c-1c96dd15d9e8"
      },
      "outputs": [
        {
          "output_type": "execute_result",
          "data": {
            "text/plain": [
              "250    7\n",
              "187    7\n",
              "107    6\n",
              "10     6\n",
              "186    6\n",
              "      ..\n",
              "97     1\n",
              "96     1\n",
              "86     1\n",
              "77     1\n",
              "285    1\n",
              "Name: time, Length: 148, dtype: int64"
            ]
          },
          "metadata": {},
          "execution_count": 17
        }
      ],
      "source": [
        "heartfail['time'].value_counts()"
      ]
    },
    {
      "cell_type": "code",
      "execution_count": null,
      "metadata": {
        "colab": {
          "base_uri": "https://localhost:8080/"
        },
        "id": "P3qhoyeFjC4Y",
        "outputId": "f5984ccb-d4c4-4fed-897f-8bf4b9085d38"
      },
      "outputs": [
        {
          "output_type": "execute_result",
          "data": {
            "text/plain": [
              "0    202\n",
              "1     96\n",
              "Name: DEATH_EVENT, dtype: int64"
            ]
          },
          "metadata": {},
          "execution_count": 18
        }
      ],
      "source": [
        "heartfail['DEATH_EVENT'].value_counts()"
      ]
    },
    {
      "cell_type": "markdown",
      "metadata": {
        "id": "A7caVOvFpANv"
      },
      "source": [
        "#### Univariate visuals\n",
        "\n",
        "- I chose box plots for the columns that had multiple variables.\n",
        "\n",
        "- I chose histograms for the columns that had ordinal values. "
      ]
    },
    {
      "cell_type": "code",
      "execution_count": null,
      "metadata": {
        "id": "xmcGo2aUhax3"
      },
      "outputs": [],
      "source": [
        "import matplotlib.pyplot as plt\n",
        "import seaborn as sns"
      ]
    },
    {
      "cell_type": "code",
      "execution_count": null,
      "metadata": {
        "colab": {
          "base_uri": "https://localhost:8080/",
          "height": 364
        },
        "id": "fSUBYvJc1fNk",
        "outputId": "a10075f5-e93c-40da-c0c2-357842e07f75"
      },
      "outputs": [
        {
          "output_type": "execute_result",
          "data": {
            "text/plain": [
              "              age     anaemia    diabetes  high_blood_pressure         sex  \\\n",
              "count  298.000000  298.000000  298.000000           298.000000  298.000000   \n",
              "mean    60.860181    0.429530    0.419463             0.352349    0.647651   \n",
              "std     11.906114    0.495842    0.494301             0.478506    0.478506   \n",
              "min     40.000000    0.000000    0.000000             0.000000    0.000000   \n",
              "25%     51.000000    0.000000    0.000000             0.000000    0.000000   \n",
              "50%     60.000000    0.000000    0.000000             0.000000    1.000000   \n",
              "75%     70.000000    1.000000    1.000000             1.000000    1.000000   \n",
              "max     95.000000    1.000000    1.000000             1.000000    1.000000   \n",
              "\n",
              "          smoking        time  DEATH_EVENT  \n",
              "count  298.000000  298.000000   298.000000  \n",
              "mean     0.318792  129.996644     0.322148  \n",
              "std      0.466792   77.609941     0.468085  \n",
              "min      0.000000    4.000000     0.000000  \n",
              "25%      0.000000   73.000000     0.000000  \n",
              "50%      0.000000  114.000000     0.000000  \n",
              "75%      1.000000  201.000000     1.000000  \n",
              "max      1.000000  285.000000     1.000000  "
            ],
            "text/html": [
              "\n",
              "  <div id=\"df-13aedd52-8e4a-469a-9a7c-e5d10d90ff98\">\n",
              "    <div class=\"colab-df-container\">\n",
              "      <div>\n",
              "<style scoped>\n",
              "    .dataframe tbody tr th:only-of-type {\n",
              "        vertical-align: middle;\n",
              "    }\n",
              "\n",
              "    .dataframe tbody tr th {\n",
              "        vertical-align: top;\n",
              "    }\n",
              "\n",
              "    .dataframe thead th {\n",
              "        text-align: right;\n",
              "    }\n",
              "</style>\n",
              "<table border=\"1\" class=\"dataframe\">\n",
              "  <thead>\n",
              "    <tr style=\"text-align: right;\">\n",
              "      <th></th>\n",
              "      <th>age</th>\n",
              "      <th>anaemia</th>\n",
              "      <th>diabetes</th>\n",
              "      <th>high_blood_pressure</th>\n",
              "      <th>sex</th>\n",
              "      <th>smoking</th>\n",
              "      <th>time</th>\n",
              "      <th>DEATH_EVENT</th>\n",
              "    </tr>\n",
              "  </thead>\n",
              "  <tbody>\n",
              "    <tr>\n",
              "      <th>count</th>\n",
              "      <td>298.000000</td>\n",
              "      <td>298.000000</td>\n",
              "      <td>298.000000</td>\n",
              "      <td>298.000000</td>\n",
              "      <td>298.000000</td>\n",
              "      <td>298.000000</td>\n",
              "      <td>298.000000</td>\n",
              "      <td>298.000000</td>\n",
              "    </tr>\n",
              "    <tr>\n",
              "      <th>mean</th>\n",
              "      <td>60.860181</td>\n",
              "      <td>0.429530</td>\n",
              "      <td>0.419463</td>\n",
              "      <td>0.352349</td>\n",
              "      <td>0.647651</td>\n",
              "      <td>0.318792</td>\n",
              "      <td>129.996644</td>\n",
              "      <td>0.322148</td>\n",
              "    </tr>\n",
              "    <tr>\n",
              "      <th>std</th>\n",
              "      <td>11.906114</td>\n",
              "      <td>0.495842</td>\n",
              "      <td>0.494301</td>\n",
              "      <td>0.478506</td>\n",
              "      <td>0.478506</td>\n",
              "      <td>0.466792</td>\n",
              "      <td>77.609941</td>\n",
              "      <td>0.468085</td>\n",
              "    </tr>\n",
              "    <tr>\n",
              "      <th>min</th>\n",
              "      <td>40.000000</td>\n",
              "      <td>0.000000</td>\n",
              "      <td>0.000000</td>\n",
              "      <td>0.000000</td>\n",
              "      <td>0.000000</td>\n",
              "      <td>0.000000</td>\n",
              "      <td>4.000000</td>\n",
              "      <td>0.000000</td>\n",
              "    </tr>\n",
              "    <tr>\n",
              "      <th>25%</th>\n",
              "      <td>51.000000</td>\n",
              "      <td>0.000000</td>\n",
              "      <td>0.000000</td>\n",
              "      <td>0.000000</td>\n",
              "      <td>0.000000</td>\n",
              "      <td>0.000000</td>\n",
              "      <td>73.000000</td>\n",
              "      <td>0.000000</td>\n",
              "    </tr>\n",
              "    <tr>\n",
              "      <th>50%</th>\n",
              "      <td>60.000000</td>\n",
              "      <td>0.000000</td>\n",
              "      <td>0.000000</td>\n",
              "      <td>0.000000</td>\n",
              "      <td>1.000000</td>\n",
              "      <td>0.000000</td>\n",
              "      <td>114.000000</td>\n",
              "      <td>0.000000</td>\n",
              "    </tr>\n",
              "    <tr>\n",
              "      <th>75%</th>\n",
              "      <td>70.000000</td>\n",
              "      <td>1.000000</td>\n",
              "      <td>1.000000</td>\n",
              "      <td>1.000000</td>\n",
              "      <td>1.000000</td>\n",
              "      <td>1.000000</td>\n",
              "      <td>201.000000</td>\n",
              "      <td>1.000000</td>\n",
              "    </tr>\n",
              "    <tr>\n",
              "      <th>max</th>\n",
              "      <td>95.000000</td>\n",
              "      <td>1.000000</td>\n",
              "      <td>1.000000</td>\n",
              "      <td>1.000000</td>\n",
              "      <td>1.000000</td>\n",
              "      <td>1.000000</td>\n",
              "      <td>285.000000</td>\n",
              "      <td>1.000000</td>\n",
              "    </tr>\n",
              "  </tbody>\n",
              "</table>\n",
              "</div>\n",
              "      <button class=\"colab-df-convert\" onclick=\"convertToInteractive('df-13aedd52-8e4a-469a-9a7c-e5d10d90ff98')\"\n",
              "              title=\"Convert this dataframe to an interactive table.\"\n",
              "              style=\"display:none;\">\n",
              "        \n",
              "  <svg xmlns=\"http://www.w3.org/2000/svg\" height=\"24px\"viewBox=\"0 0 24 24\"\n",
              "       width=\"24px\">\n",
              "    <path d=\"M0 0h24v24H0V0z\" fill=\"none\"/>\n",
              "    <path d=\"M18.56 5.44l.94 2.06.94-2.06 2.06-.94-2.06-.94-.94-2.06-.94 2.06-2.06.94zm-11 1L8.5 8.5l.94-2.06 2.06-.94-2.06-.94L8.5 2.5l-.94 2.06-2.06.94zm10 10l.94 2.06.94-2.06 2.06-.94-2.06-.94-.94-2.06-.94 2.06-2.06.94z\"/><path d=\"M17.41 7.96l-1.37-1.37c-.4-.4-.92-.59-1.43-.59-.52 0-1.04.2-1.43.59L10.3 9.45l-7.72 7.72c-.78.78-.78 2.05 0 2.83L4 21.41c.39.39.9.59 1.41.59.51 0 1.02-.2 1.41-.59l7.78-7.78 2.81-2.81c.8-.78.8-2.07 0-2.86zM5.41 20L4 18.59l7.72-7.72 1.47 1.35L5.41 20z\"/>\n",
              "  </svg>\n",
              "      </button>\n",
              "      \n",
              "  <style>\n",
              "    .colab-df-container {\n",
              "      display:flex;\n",
              "      flex-wrap:wrap;\n",
              "      gap: 12px;\n",
              "    }\n",
              "\n",
              "    .colab-df-convert {\n",
              "      background-color: #E8F0FE;\n",
              "      border: none;\n",
              "      border-radius: 50%;\n",
              "      cursor: pointer;\n",
              "      display: none;\n",
              "      fill: #1967D2;\n",
              "      height: 32px;\n",
              "      padding: 0 0 0 0;\n",
              "      width: 32px;\n",
              "    }\n",
              "\n",
              "    .colab-df-convert:hover {\n",
              "      background-color: #E2EBFA;\n",
              "      box-shadow: 0px 1px 2px rgba(60, 64, 67, 0.3), 0px 1px 3px 1px rgba(60, 64, 67, 0.15);\n",
              "      fill: #174EA6;\n",
              "    }\n",
              "\n",
              "    [theme=dark] .colab-df-convert {\n",
              "      background-color: #3B4455;\n",
              "      fill: #D2E3FC;\n",
              "    }\n",
              "\n",
              "    [theme=dark] .colab-df-convert:hover {\n",
              "      background-color: #434B5C;\n",
              "      box-shadow: 0px 1px 3px 1px rgba(0, 0, 0, 0.15);\n",
              "      filter: drop-shadow(0px 1px 2px rgba(0, 0, 0, 0.3));\n",
              "      fill: #FFFFFF;\n",
              "    }\n",
              "  </style>\n",
              "\n",
              "      <script>\n",
              "        const buttonEl =\n",
              "          document.querySelector('#df-13aedd52-8e4a-469a-9a7c-e5d10d90ff98 button.colab-df-convert');\n",
              "        buttonEl.style.display =\n",
              "          google.colab.kernel.accessAllowed ? 'block' : 'none';\n",
              "\n",
              "        async function convertToInteractive(key) {\n",
              "          const element = document.querySelector('#df-13aedd52-8e4a-469a-9a7c-e5d10d90ff98');\n",
              "          const dataTable =\n",
              "            await google.colab.kernel.invokeFunction('convertToInteractive',\n",
              "                                                     [key], {});\n",
              "          if (!dataTable) return;\n",
              "\n",
              "          const docLinkHtml = 'Like what you see? Visit the ' +\n",
              "            '<a target=\"_blank\" href=https://colab.research.google.com/notebooks/data_table.ipynb>data table notebook</a>'\n",
              "            + ' to learn more about interactive tables.';\n",
              "          element.innerHTML = '';\n",
              "          dataTable['output_type'] = 'display_data';\n",
              "          await google.colab.output.renderOutput(dataTable, element);\n",
              "          const docLink = document.createElement('div');\n",
              "          docLink.innerHTML = docLinkHtml;\n",
              "          element.appendChild(docLink);\n",
              "        }\n",
              "      </script>\n",
              "    </div>\n",
              "  </div>\n",
              "  "
            ]
          },
          "metadata": {},
          "execution_count": 20
        }
      ],
      "source": [
        "heartfail.describe()"
      ]
    },
    {
      "cell_type": "code",
      "execution_count": null,
      "metadata": {
        "colab": {
          "base_uri": "https://localhost:8080/",
          "height": 281
        },
        "id": "heMuAHiA6xlq",
        "outputId": "f61be7f6-0a67-4f54-a8d8-2dd8d17d9f99"
      },
      "outputs": [
        {
          "output_type": "display_data",
          "data": {
            "text/plain": [
              "<Figure size 432x288 with 1 Axes>"
            ],
            "image/png": "[encoded data removed]"
          },
          "metadata": {
            "needs_background": "light"
          }
        }
      ],
      "source": [
        "heartfail['age'].plot(kind='box')\n",
        "plt.title('Age vs. Death Event')\n",
        "plt.ylabel('DEATH_EVENT');\n",
        "plt.show()"
      ]
    },
    {
      "cell_type": "code",
      "execution_count": null,
      "metadata": {
        "colab": {
          "base_uri": "https://localhost:8080/",
          "height": 281
        },
        "id": "3EoZ3ULh9hcL",
        "outputId": "c9125c9d-03d4-4368-8405-7dbeeecb2722"
      },
      "outputs": [
        {
          "output_type": "display_data",
          "data": {
            "text/plain": [
              "<Figure size 432x288 with 1 Axes>"
            ],
            "image/png": "[encoded data removed]"
          },
          "metadata": {
            "needs_background": "light"
          }
        }
      ],
      "source": [
        "heartfail['time'].plot(kind='box')\n",
        "plt.title('Time since last follow-up vs. Death Event')\n",
        "plt.ylabel('DEATH_EVENT');\n",
        "plt.show()"
      ]
    },
    {
      "cell_type": "code",
      "execution_count": null,
      "metadata": {
        "colab": {
          "base_uri": "https://localhost:8080/",
          "height": 278
        },
        "id": "HE6gh7Y992fM",
        "outputId": "bc2927f4-1d77-41fb-a960-9c2ef521a724"
      },
      "outputs": [
        {
          "output_type": "display_data",
          "data": {
            "text/plain": [
              "<Figure size 432x288 with 1 Axes>"
            ],
            "image/png": "[encoded data removed]"
          },
          "metadata": {
            "needs_background": "light"
          }
        }
      ],
      "source": [
        "anemic= heartfail['anaemia'].value_counts()\n",
        "\n",
        "#Let's give it some color\n",
        "anemic.plot(kind = 'bar', color = ['blue','red'])\n",
        "plt.title('Anemic= Y-1, N-0')\n",
        "plt.show()"
      ]
    },
    {
      "cell_type": "code",
      "execution_count": null,
      "metadata": {
        "colab": {
          "base_uri": "https://localhost:8080/",
          "height": 278
        },
        "id": "FC-7eXKL-Qwb",
        "outputId": "18e93c40-a6f2-4f14-a8e8-0323a4e10c0f"
      },
      "outputs": [
        {
          "output_type": "display_data",
          "data": {
            "text/plain": [
              "<Figure size 432x288 with 1 Axes>"
            ],
            "image/png": "[encoded data removed]"
          },
          "metadata": {
            "needs_background": "light"
          }
        }
      ],
      "source": [
        "Hypertension = heartfail['high_blood_pressure'].value_counts()\n",
        "\n",
        "#Let's give it some color\n",
        "Hypertension.plot(kind = 'bar', color = ['blue','orange'])\n",
        "plt.title('Hypertension = Y-1, N-0')\n",
        "plt.show()"
      ]
    },
    {
      "cell_type": "code",
      "execution_count": null,
      "metadata": {
        "colab": {
          "base_uri": "https://localhost:8080/",
          "height": 278
        },
        "id": "hxV0oOXp-hn4",
        "outputId": "a24c0d9e-9071-49a2-822a-68f54d4e4e6e"
      },
      "outputs": [
        {
          "output_type": "display_data",
          "data": {
            "text/plain": [
              "<Figure size 432x288 with 1 Axes>"
            ],
            "image/png": "[encoded data removed]"
          },
          "metadata": {
            "needs_background": "light"
          }
        }
      ],
      "source": [
        "Diabetic= heartfail['diabetes'].value_counts()\n",
        "\n",
        "#Let's give it some color\n",
        "Diabetic.plot(kind = 'bar', color = ['orange','red'])\n",
        "plt.title('Diabetic = Y-1, N-0')\n",
        "plt.show()"
      ]
    },
    {
      "cell_type": "code",
      "execution_count": null,
      "metadata": {
        "colab": {
          "base_uri": "https://localhost:8080/",
          "height": 278
        },
        "id": "YD57c4fp_I64",
        "outputId": "9f73b6aa-aea3-4c0e-ff81-cebdd648759a"
      },
      "outputs": [
        {
          "output_type": "display_data",
          "data": {
            "text/plain": [
              "<Figure size 432x288 with 1 Axes>"
            ],
            "image/png": "[encoded data removed]"
          },
          "metadata": {
            "needs_background": "light"
          }
        }
      ],
      "source": [
        "Gender= heartfail['sex'].value_counts()\n",
        "\n",
        "#Let's give it some color\n",
        "Gender.plot(kind = 'bar', color = ['blue','green'])\n",
        "plt.title('Male =1 Female =0')\n",
        "plt.show()"
      ]
    },
    {
      "cell_type": "code",
      "execution_count": null,
      "metadata": {
        "colab": {
          "base_uri": "https://localhost:8080/",
          "height": 278
        },
        "id": "mwGyg61j_bUh",
        "outputId": "3c15c275-b464-4548-e87b-3d3a2bb42ef1"
      },
      "outputs": [
        {
          "output_type": "display_data",
          "data": {
            "text/plain": [
              "<Figure size 432x288 with 1 Axes>"
            ],
            "image/png": "[encoded data removed]"
          },
          "metadata": {
            "needs_background": "light"
          }
        }
      ],
      "source": [
        "smoke= heartfail['smoking'].value_counts()\n",
        "\n",
        "smoke.plot(kind = 'bar', color = ['purple','green'])\n",
        "plt.title('Smoking vs. Non ')\n",
        "plt.show()"
      ]
    },
    {
      "cell_type": "markdown",
      "metadata": {
        "id": "xuBLJ_K1FuYI"
      },
      "source": [
        "### Data Analysis\n",
        "9/14/2022"
      ]
    },
    {
      "cell_type": "markdown",
      "metadata": {
        "id": "w4esS7lcF13M"
      },
      "source": [
        "###### For this part of the project, you will continue your EDA by:\n",
        "- Identifying any moderate or strong correlations between your target and your features and/or between one feature and another\n",
        "- Creating multivariate exploratory visuals to further understand your data\n",
        "\n",
        "- From your data analysis, create two visuals that demonstrate key findings of interest to a stakeholder. These visuals should be reporting quality.  Be sure to explain the finding associated with each visual.  (NO histograms, boxplots, or correlation plots)"
      ]
    },
    {
      "cell_type": "code",
      "execution_count": null,
      "metadata": {
        "colab": {
          "base_uri": "https://localhost:8080/"
        },
        "id": "ZS8XL2k8MkTB",
        "outputId": "65f7d6f2-fe7c-45ae-c894-9d1e56462f3a"
      },
      "outputs": [
        {
          "output_type": "stream",
          "name": "stdout",
          "text": [
            "Looking in indexes: https://pypi.org/simple, https://us-python.pkg.dev/colab-wheels/public/simple/\n",
            "Requirement already satisfied: dython in /usr/local/lib/python3.7/dist-packages (0.7.2)\n",
            "Requirement already satisfied: scikit-plot>=0.3.7 in /usr/local/lib/python3.7/dist-packages (from dython) (0.3.7)\n",
            "Requirement already satisfied: seaborn>=0.11.0 in /usr/local/lib/python3.7/dist-packages (from dython) (0.11.2)\n",
            "Requirement already satisfied: pandas>=1.3.2 in /usr/local/lib/python3.7/dist-packages (from dython) (1.3.5)\n",
            "Requirement already satisfied: scikit-learn>=0.24.2 in /usr/local/lib/python3.7/dist-packages (from dython) (1.0.2)\n",
            "Requirement already satisfied: psutil>=5.9.1 in /usr/local/lib/python3.7/dist-packages (from dython) (5.9.2)\n",
            "Requirement already satisfied: scipy>=1.7.1 in /usr/local/lib/python3.7/dist-packages (from dython) (1.7.3)\n",
            "Requirement already satisfied: numpy>=1.19.5 in /usr/local/lib/python3.7/dist-packages (from dython) (1.21.6)\n",
            "Requirement already satisfied: matplotlib>=3.4.3 in /usr/local/lib/python3.7/dist-packages (from dython) (3.5.3)\n",
            "Requirement already satisfied: pyparsing>=2.2.1 in /usr/local/lib/python3.7/dist-packages (from matplotlib>=3.4.3->dython) (3.0.9)\n",
            "Requirement already satisfied: python-dateutil>=2.7 in /usr/local/lib/python3.7/dist-packages (from matplotlib>=3.4.3->dython) (2.8.2)\n",
            "Requirement already satisfied: cycler>=0.10 in /usr/local/lib/python3.7/dist-packages (from matplotlib>=3.4.3->dython) (0.11.0)\n",
            "Requirement already satisfied: kiwisolver>=1.0.1 in /usr/local/lib/python3.7/dist-packages (from matplotlib>=3.4.3->dython) (1.4.4)\n",
            "Requirement already satisfied: pillow>=6.2.0 in /usr/local/lib/python3.7/dist-packages (from matplotlib>=3.4.3->dython) (7.1.2)\n",
            "Requirement already satisfied: fonttools>=4.22.0 in /usr/local/lib/python3.7/dist-packages (from matplotlib>=3.4.3->dython) (4.37.3)\n",
            "Requirement already satisfied: packaging>=20.0 in /usr/local/lib/python3.7/dist-packages (from matplotlib>=3.4.3->dython) (21.3)\n",
            "Requirement already satisfied: typing-extensions in /usr/local/lib/python3.7/dist-packages (from kiwisolver>=1.0.1->matplotlib>=3.4.3->dython) (4.1.1)\n",
            "Requirement already satisfied: pytz>=2017.3 in /usr/local/lib/python3.7/dist-packages (from pandas>=1.3.2->dython) (2022.2.1)\n",
            "Requirement already satisfied: six>=1.5 in /usr/local/lib/python3.7/dist-packages (from python-dateutil>=2.7->matplotlib>=3.4.3->dython) (1.15.0)\n",
            "Requirement already satisfied: threadpoolctl>=2.0.0 in /usr/local/lib/python3.7/dist-packages (from scikit-learn>=0.24.2->dython) (3.1.0)\n",
            "Requirement already satisfied: joblib>=0.11 in /usr/local/lib/python3.7/dist-packages (from scikit-learn>=0.24.2->dython) (1.1.0)\n"
          ]
        }
      ],
      "source": [
        "!pip install dython"
      ]
    },
    {
      "cell_type": "code",
      "execution_count": null,
      "metadata": {
        "id": "f0TSijUHGIWm"
      },
      "outputs": [],
      "source": [
        "# Calculate the correlation/strength-of-association of features\n",
        "# in a data-set with dython\n",
        "from dython.nominal import associations"
      ]
    },
    {
      "cell_type": "code",
      "execution_count": null,
      "metadata": {
        "colab": {
          "base_uri": "https://localhost:8080/",
          "height": 987
        },
        "id": "_abIl37gG06n",
        "outputId": "32a9bb3e-0ca5-47f2-d377-02048cf54e0f"
      },
      "outputs": [
        {
          "output_type": "display_data",
          "data": {
            "text/plain": [
              "<Figure size 720x720 with 2 Axes>"
            ],
            "image/png": "[encoded data removed]"
          },
          "metadata": {
            "needs_background": "light"
          }
        },
        {
          "output_type": "execute_result",
          "data": {
            "text/plain": [
              "{'corr':                           age   anaemia  diabetes  high_blood_pressure  \\\n",
              " age                  1.000000  0.090815 -0.103088             0.091810   \n",
              " anaemia              0.090815  1.000000 -0.009496             0.041144   \n",
              " diabetes            -0.103088 -0.009496  1.000000            -0.014856   \n",
              " high_blood_pressure  0.091810  0.041144 -0.014856             1.000000   \n",
              " sex                  0.067168 -0.097908 -0.155967            -0.102985   \n",
              " smoking              0.021981 -0.113546 -0.143721            -0.052355   \n",
              " time                -0.222367 -0.145904  0.036724            -0.194444   \n",
              " DEATH_EVENT          0.252591  0.069127 -0.003907             0.077786   \n",
              " \n",
              "                           sex   smoking      time  DEATH_EVENT  \n",
              " age                  0.067168  0.021981 -0.222367     0.252591  \n",
              " anaemia             -0.097908 -0.113546 -0.145904     0.069127  \n",
              " diabetes            -0.155967 -0.143721  0.036724    -0.003907  \n",
              " high_blood_pressure -0.102985 -0.052355 -0.194444     0.077786  \n",
              " sex                  1.000000  0.444283 -0.018165    -0.002623  \n",
              " smoking              0.444283  1.000000 -0.027945    -0.009308  \n",
              " time                -0.018165 -0.027945  1.000000    -0.525948  \n",
              " DEATH_EVENT         -0.002623 -0.009308 -0.525948     1.000000  ,\n",
              " 'ax': <AxesSubplot:>}"
            ]
          },
          "metadata": {},
          "execution_count": 30
        }
      ],
      "source": [
        "# Calculate the correlation/strength-of-association of features in data-set \n",
        "# with both categorical and continuous features using:\n",
        "# - Pearson's R for continuous-continuous cases\n",
        "# - Correlation Ratio for categorical-continuous cases \n",
        "# - Cramer's V or Theil's U for categorical-categorical cases\n",
        "associations(heartfail, \n",
        "             figsize=(10,10), \n",
        "             cmap='viridis')"
      ]
    },
    {
      "cell_type": "code",
      "execution_count": null,
      "metadata": {
        "colab": {
          "base_uri": "https://localhost:8080/",
          "height": 308
        },
        "id": "4nGGkCgyNmbD",
        "outputId": "c2e94349-fd05-497b-fa86-194fe028de9b"
      },
      "outputs": [
        {
          "output_type": "display_data",
          "data": {
            "text/plain": [
              "<Figure size 432x288 with 1 Axes>"
            ],
            "image/png": "[encoded data removed]"
          },
          "metadata": {
            "needs_background": "light"
          }
        }
      ],
      "source": [
        "sns.barplot(data=heartfail, x='DEATH_EVENT', y='age')\n",
        "plt.ticklabel_format(style='plain', axis='y')\n",
        "plt.title('Age as a contributor to Heart Disease Death (0=N 1=Y)', fontsize=20)\n",
        "plt.xlabel('DEATH_EVENT', fontsize=15)\n",
        "plt.ylabel('Age', fontsize=15)\n",
        "plt.xticks(rotation = 45);"
      ]
    },
    {
      "cell_type": "markdown",
      "metadata": {
        "id": "OBthgtKiTOs6"
      },
      "source": [
        "As we can see in the bar plot above, many older patients who were experiencing heart failure seemed to have a higher death rate."
      ]
    },
    {
      "cell_type": "code",
      "execution_count": null,
      "metadata": {
        "id": "9O19Kkf5RlB5",
        "colab": {
          "base_uri": "https://localhost:8080/",
          "height": 1000
        },
        "outputId": "c7765f43-9d91-4a90-a933-a00825b793cd"
      },
      "outputs": [
        {
          "output_type": "execute_result",
          "data": {
            "text/plain": [
              "         anaemia  diabetes  high_blood_pressure       sex   smoking  \\\n",
              "age                                                                   \n",
              "40.000  0.285714  0.285714             0.142857  0.714286  0.285714   \n",
              "41.000  0.000000  0.000000             0.000000  1.000000  1.000000   \n",
              "42.000  0.285714  0.285714             0.000000  0.714286  0.428571   \n",
              "43.000  1.000000  0.000000             0.000000  0.000000  0.000000   \n",
              "44.000  0.000000  1.000000             1.000000  1.000000  0.500000   \n",
              "45.000  0.210526  0.578947             0.263158  0.631579  0.157895   \n",
              "46.000  0.333333  0.333333             0.666667  0.000000  0.000000   \n",
              "47.000  0.000000  0.000000             0.000000  1.000000  0.000000   \n",
              "48.000  1.000000  1.000000             0.500000  0.000000  0.000000   \n",
              "49.000  0.500000  0.250000             0.750000  0.250000  0.250000   \n",
              "50.000  0.444444  0.444444             0.370370  0.592593  0.333333   \n",
              "51.000  0.250000  0.500000             0.250000  0.750000  0.250000   \n",
              "52.000  0.400000  0.400000             0.200000  0.800000  0.800000   \n",
              "53.000  0.555556  0.333333             0.333333  0.777778  0.444444   \n",
              "54.000  0.500000  0.500000             0.500000  0.500000  0.000000   \n",
              "55.000  0.176471  0.235294             0.235294  0.705882  0.294118   \n",
              "56.000  1.000000  1.000000             0.000000  1.000000  0.000000   \n",
              "57.000  1.000000  0.000000             0.500000  0.500000  0.000000   \n",
              "58.000  0.600000  0.500000             0.300000  0.700000  0.300000   \n",
              "59.000  0.750000  0.750000             0.500000  0.750000  0.500000   \n",
              "60.000  0.515152  0.575758             0.272727  0.606061  0.333333   \n",
              "60.667  1.000000  1.000000             0.500000  0.500000  0.000000   \n",
              "61.000  0.500000  0.500000             0.500000  0.750000  0.250000   \n",
              "62.000  0.200000  0.600000             0.600000  0.600000  0.400000   \n",
              "63.000  0.750000  0.500000             0.250000  0.875000  0.500000   \n",
              "64.000  0.333333  0.000000             0.000000  0.666667  0.000000   \n",
              "65.000  0.423077  0.576923             0.307692  0.500000  0.269231   \n",
              "66.000  1.000000  0.500000             1.000000  0.500000  0.000000   \n",
              "67.000  0.000000  0.000000             0.000000  0.500000  0.500000   \n",
              "68.000  1.000000  0.400000             0.400000  0.800000  0.200000   \n",
              "69.000  0.000000  0.333333             0.000000  1.000000  0.666667   \n",
              "70.000  0.240000  0.360000             0.520000  0.520000  0.400000   \n",
              "72.000  0.428571  0.285714             0.714286  0.571429  0.571429   \n",
              "73.000  0.500000  0.250000             0.500000  0.750000  0.250000   \n",
              "75.000  0.363636  0.272727             0.636364  0.818182  0.181818   \n",
              "77.000  1.000000  0.000000             0.500000  1.000000  0.000000   \n",
              "78.000  0.500000  0.000000             0.000000  1.000000  1.000000   \n",
              "79.000  1.000000  0.000000             1.000000  1.000000  0.000000   \n",
              "80.000  0.285714  0.428571             0.428571  0.857143  0.428571   \n",
              "81.000  0.000000  0.000000             0.000000  1.000000  1.000000   \n",
              "82.000  0.666667  0.666667             0.333333  0.666667  0.333333   \n",
              "85.000  0.333333  0.000000             0.000000  0.833333  0.333333   \n",
              "86.000  0.000000  0.000000             0.000000  0.000000  0.000000   \n",
              "87.000  1.000000  0.000000             0.000000  1.000000  0.000000   \n",
              "90.000  1.000000  0.333333             0.333333  0.666667  0.333333   \n",
              "94.000  0.000000  1.000000             1.000000  1.000000  0.000000   \n",
              "95.000  1.000000  0.000000             0.500000  0.500000  0.000000   \n",
              "\n",
              "              time  DEATH_EVENT  \n",
              "age                              \n",
              "40.000  198.285714     0.000000  \n",
              "41.000   68.000000     0.000000  \n",
              "42.000  143.428571     0.142857  \n",
              "43.000   97.000000     0.000000  \n",
              "44.000  161.500000     0.000000  \n",
              "45.000  156.315789     0.315789  \n",
              "46.000  105.333333     0.333333  \n",
              "47.000  201.000000     0.000000  \n",
              "48.000  104.000000     1.000000  \n",
              "49.000  100.250000     0.250000  \n",
              "50.000  133.777778     0.296296  \n",
              "51.000  126.500000     0.250000  \n",
              "52.000  170.400000     0.000000  \n",
              "53.000  142.111111     0.111111  \n",
              "54.000  204.500000     0.500000  \n",
              "55.000  166.352941     0.176471  \n",
              "56.000  244.000000     0.000000  \n",
              "57.000   60.500000     0.500000  \n",
              "58.000  126.800000     0.200000  \n",
              "59.000  121.000000     0.750000  \n",
              "60.000  108.454545     0.393939  \n",
              "60.667  171.500000     0.500000  \n",
              "61.000  166.000000     0.000000  \n",
              "62.000  147.600000     0.200000  \n",
              "63.000  136.250000     0.000000  \n",
              "64.000  167.000000     0.000000  \n",
              "65.000  127.923077     0.307692  \n",
              "66.000  108.000000     0.000000  \n",
              "67.000  160.500000     0.000000  \n",
              "68.000  121.000000     0.400000  \n",
              "69.000   83.333333     0.666667  \n",
              "70.000  134.680000     0.280000  \n",
              "72.000   96.857143     0.714286  \n",
              "73.000  196.500000     0.250000  \n",
              "75.000   91.272727     0.545455  \n",
              "77.000  194.500000     0.500000  \n",
              "78.000  189.500000     0.000000  \n",
              "79.000   78.000000     0.000000  \n",
              "80.000   82.000000     0.714286  \n",
              "81.000  107.000000     0.000000  \n",
              "82.000   23.000000     1.000000  \n",
              "85.000   98.666667     0.500000  \n",
              "86.000   95.000000     1.000000  \n",
              "87.000   14.000000     1.000000  \n",
              "90.000   98.000000     0.666667  \n",
              "94.000   27.000000     1.000000  \n",
              "95.000   37.000000     1.000000  "
            ],
            "text/html": [
              "\n",
              "  <div id=\"df-42aa3911-564a-47d0-8a12-1bf30d9a49c9\">\n",
              "    <div class=\"colab-df-container\">\n",
              "      <div>\n",
              "<style scoped>\n",
              "    .dataframe tbody tr th:only-of-type {\n",
              "        vertical-align: middle;\n",
              "    }\n",
              "\n",
              "    .dataframe tbody tr th {\n",
              "        vertical-align: top;\n",
              "    }\n",
              "\n",
              "    .dataframe thead th {\n",
              "        text-align: right;\n",
              "    }\n",
              "</style>\n",
              "<table border=\"1\" class=\"dataframe\">\n",
              "  <thead>\n",
              "    <tr style=\"text-align: right;\">\n",
              "      <th></th>\n",
              "      <th>anaemia</th>\n",
              "      <th>diabetes</th>\n",
              "      <th>high_blood_pressure</th>\n",
              "      <th>sex</th>\n",
              "      <th>smoking</th>\n",
              "      <th>time</th>\n",
              "      <th>DEATH_EVENT</th>\n",
              "    </tr>\n",
              "    <tr>\n",
              "      <th>age</th>\n",
              "      <th></th>\n",
              "      <th></th>\n",
              "      <th></th>\n",
              "      <th></th>\n",
              "      <th></th>\n",
              "      <th></th>\n",
              "      <th></th>\n",
              "    </tr>\n",
              "  </thead>\n",
              "  <tbody>\n",
              "    <tr>\n",
              "      <th>40.000</th>\n",
              "      <td>0.285714</td>\n",
              "      <td>0.285714</td>\n",
              "      <td>0.142857</td>\n",
              "      <td>0.714286</td>\n",
              "      <td>0.285714</td>\n",
              "      <td>198.285714</td>\n",
              "      <td>0.000000</td>\n",
              "    </tr>\n",
              "    <tr>\n",
              "      <th>41.000</th>\n",
              "      <td>0.000000</td>\n",
              "      <td>0.000000</td>\n",
              "      <td>0.000000</td>\n",
              "      <td>1.000000</td>\n",
              "      <td>1.000000</td>\n",
              "      <td>68.000000</td>\n",
              "      <td>0.000000</td>\n",
              "    </tr>\n",
              "    <tr>\n",
              "      <th>42.000</th>\n",
              "      <td>0.285714</td>\n",
              "      <td>0.285714</td>\n",
              "      <td>0.000000</td>\n",
              "      <td>0.714286</td>\n",
              "      <td>0.428571</td>\n",
              "      <td>143.428571</td>\n",
              "      <td>0.142857</td>\n",
              "    </tr>\n",
              "    <tr>\n",
              "      <th>43.000</th>\n",
              "      <td>1.000000</td>\n",
              "      <td>0.000000</td>\n",
              "      <td>0.000000</td>\n",
              "      <td>0.000000</td>\n",
              "      <td>0.000000</td>\n",
              "      <td>97.000000</td>\n",
              "      <td>0.000000</td>\n",
              "    </tr>\n",
              "    <tr>\n",
              "      <th>44.000</th>\n",
              "      <td>0.000000</td>\n",
              "      <td>1.000000</td>\n",
              "      <td>1.000000</td>\n",
              "      <td>1.000000</td>\n",
              "      <td>0.500000</td>\n",
              "      <td>161.500000</td>\n",
              "      <td>0.000000</td>\n",
              "    </tr>\n",
              "    <tr>\n",
              "      <th>45.000</th>\n",
              "      <td>0.210526</td>\n",
              "      <td>0.578947</td>\n",
              "      <td>0.263158</td>\n",
              "      <td>0.631579</td>\n",
              "      <td>0.157895</td>\n",
              "      <td>156.315789</td>\n",
              "      <td>0.315789</td>\n",
              "    </tr>\n",
              "    <tr>\n",
              "      <th>46.000</th>\n",
              "      <td>0.333333</td>\n",
              "      <td>0.333333</td>\n",
              "      <td>0.666667</td>\n",
              "      <td>0.000000</td>\n",
              "      <td>0.000000</td>\n",
              "      <td>105.333333</td>\n",
              "      <td>0.333333</td>\n",
              "    </tr>\n",
              "    <tr>\n",
              "      <th>47.000</th>\n",
              "      <td>0.000000</td>\n",
              "      <td>0.000000</td>\n",
              "      <td>0.000000</td>\n",
              "      <td>1.000000</td>\n",
              "      <td>0.000000</td>\n",
              "      <td>201.000000</td>\n",
              "      <td>0.000000</td>\n",
              "    </tr>\n",
              "    <tr>\n",
              "      <th>48.000</th>\n",
              "      <td>1.000000</td>\n",
              "      <td>1.000000</td>\n",
              "      <td>0.500000</td>\n",
              "      <td>0.000000</td>\n",
              "      <td>0.000000</td>\n",
              "      <td>104.000000</td>\n",
              "      <td>1.000000</td>\n",
              "    </tr>\n",
              "    <tr>\n",
              "      <th>49.000</th>\n",
              "      <td>0.500000</td>\n",
              "      <td>0.250000</td>\n",
              "      <td>0.750000</td>\n",
              "      <td>0.250000</td>\n",
              "      <td>0.250000</td>\n",
              "      <td>100.250000</td>\n",
              "      <td>0.250000</td>\n",
              "    </tr>\n",
              "    <tr>\n",
              "      <th>50.000</th>\n",
              "      <td>0.444444</td>\n",
              "      <td>0.444444</td>\n",
              "      <td>0.370370</td>\n",
              "      <td>0.592593</td>\n",
              "      <td>0.333333</td>\n",
              "      <td>133.777778</td>\n",
              "      <td>0.296296</td>\n",
              "    </tr>\n",
              "    <tr>\n",
              "      <th>51.000</th>\n",
              "      <td>0.250000</td>\n",
              "      <td>0.500000</td>\n",
              "      <td>0.250000</td>\n",
              "      <td>0.750000</td>\n",
              "      <td>0.250000</td>\n",
              "      <td>126.500000</td>\n",
              "      <td>0.250000</td>\n",
              "    </tr>\n",
              "    <tr>\n",
              "      <th>52.000</th>\n",
              "      <td>0.400000</td>\n",
              "      <td>0.400000</td>\n",
              "      <td>0.200000</td>\n",
              "      <td>0.800000</td>\n",
              "      <td>0.800000</td>\n",
              "      <td>170.400000</td>\n",
              "      <td>0.000000</td>\n",
              "    </tr>\n",
              "    <tr>\n",
              "      <th>53.000</th>\n",
              "      <td>0.555556</td>\n",
              "      <td>0.333333</td>\n",
              "      <td>0.333333</td>\n",
              "      <td>0.777778</td>\n",
              "      <td>0.444444</td>\n",
              "      <td>142.111111</td>\n",
              "      <td>0.111111</td>\n",
              "    </tr>\n",
              "    <tr>\n",
              "      <th>54.000</th>\n",
              "      <td>0.500000</td>\n",
              "      <td>0.500000</td>\n",
              "      <td>0.500000</td>\n",
              "      <td>0.500000</td>\n",
              "      <td>0.000000</td>\n",
              "      <td>204.500000</td>\n",
              "      <td>0.500000</td>\n",
              "    </tr>\n",
              "    <tr>\n",
              "      <th>55.000</th>\n",
              "      <td>0.176471</td>\n",
              "      <td>0.235294</td>\n",
              "      <td>0.235294</td>\n",
              "      <td>0.705882</td>\n",
              "      <td>0.294118</td>\n",
              "      <td>166.352941</td>\n",
              "      <td>0.176471</td>\n",
              "    </tr>\n",
              "    <tr>\n",
              "      <th>56.000</th>\n",
              "      <td>1.000000</td>\n",
              "      <td>1.000000</td>\n",
              "      <td>0.000000</td>\n",
              "      <td>1.000000</td>\n",
              "      <td>0.000000</td>\n",
              "      <td>244.000000</td>\n",
              "      <td>0.000000</td>\n",
              "    </tr>\n",
              "    <tr>\n",
              "      <th>57.000</th>\n",
              "      <td>1.000000</td>\n",
              "      <td>0.000000</td>\n",
              "      <td>0.500000</td>\n",
              "      <td>0.500000</td>\n",
              "      <td>0.000000</td>\n",
              "      <td>60.500000</td>\n",
              "      <td>0.500000</td>\n",
              "    </tr>\n",
              "    <tr>\n",
              "      <th>58.000</th>\n",
              "      <td>0.600000</td>\n",
              "      <td>0.500000</td>\n",
              "      <td>0.300000</td>\n",
              "      <td>0.700000</td>\n",
              "      <td>0.300000</td>\n",
              "      <td>126.800000</td>\n",
              "      <td>0.200000</td>\n",
              "    </tr>\n",
              "    <tr>\n",
              "      <th>59.000</th>\n",
              "      <td>0.750000</td>\n",
              "      <td>0.750000</td>\n",
              "      <td>0.500000</td>\n",
              "      <td>0.750000</td>\n",
              "      <td>0.500000</td>\n",
              "      <td>121.000000</td>\n",
              "      <td>0.750000</td>\n",
              "    </tr>\n",
              "    <tr>\n",
              "      <th>60.000</th>\n",
              "      <td>0.515152</td>\n",
              "      <td>0.575758</td>\n",
              "      <td>0.272727</td>\n",
              "      <td>0.606061</td>\n",
              "      <td>0.333333</td>\n",
              "      <td>108.454545</td>\n",
              "      <td>0.393939</td>\n",
              "    </tr>\n",
              "    <tr>\n",
              "      <th>60.667</th>\n",
              "      <td>1.000000</td>\n",
              "      <td>1.000000</td>\n",
              "      <td>0.500000</td>\n",
              "      <td>0.500000</td>\n",
              "      <td>0.000000</td>\n",
              "      <td>171.500000</td>\n",
              "      <td>0.500000</td>\n",
              "    </tr>\n",
              "    <tr>\n",
              "      <th>61.000</th>\n",
              "      <td>0.500000</td>\n",
              "      <td>0.500000</td>\n",
              "      <td>0.500000</td>\n",
              "      <td>0.750000</td>\n",
              "      <td>0.250000</td>\n",
              "      <td>166.000000</td>\n",
              "      <td>0.000000</td>\n",
              "    </tr>\n",
              "    <tr>\n",
              "      <th>62.000</th>\n",
              "      <td>0.200000</td>\n",
              "      <td>0.600000</td>\n",
              "      <td>0.600000</td>\n",
              "      <td>0.600000</td>\n",
              "      <td>0.400000</td>\n",
              "      <td>147.600000</td>\n",
              "      <td>0.200000</td>\n",
              "    </tr>\n",
              "    <tr>\n",
              "      <th>63.000</th>\n",
              "      <td>0.750000</td>\n",
              "      <td>0.500000</td>\n",
              "      <td>0.250000</td>\n",
              "      <td>0.875000</td>\n",
              "      <td>0.500000</td>\n",
              "      <td>136.250000</td>\n",
              "      <td>0.000000</td>\n",
              "    </tr>\n",
              "    <tr>\n",
              "      <th>64.000</th>\n",
              "      <td>0.333333</td>\n",
              "      <td>0.000000</td>\n",
              "      <td>0.000000</td>\n",
              "      <td>0.666667</td>\n",
              "      <td>0.000000</td>\n",
              "      <td>167.000000</td>\n",
              "      <td>0.000000</td>\n",
              "    </tr>\n",
              "    <tr>\n",
              "      <th>65.000</th>\n",
              "      <td>0.423077</td>\n",
              "      <td>0.576923</td>\n",
              "      <td>0.307692</td>\n",
              "      <td>0.500000</td>\n",
              "      <td>0.269231</td>\n",
              "      <td>127.923077</td>\n",
              "      <td>0.307692</td>\n",
              "    </tr>\n",
              "    <tr>\n",
              "      <th>66.000</th>\n",
              "      <td>1.000000</td>\n",
              "      <td>0.500000</td>\n",
              "      <td>1.000000</td>\n",
              "      <td>0.500000</td>\n",
              "      <td>0.000000</td>\n",
              "      <td>108.000000</td>\n",
              "      <td>0.000000</td>\n",
              "    </tr>\n",
              "    <tr>\n",
              "      <th>67.000</th>\n",
              "      <td>0.000000</td>\n",
              "      <td>0.000000</td>\n",
              "      <td>0.000000</td>\n",
              "      <td>0.500000</td>\n",
              "      <td>0.500000</td>\n",
              "      <td>160.500000</td>\n",
              "      <td>0.000000</td>\n",
              "    </tr>\n",
              "    <tr>\n",
              "      <th>68.000</th>\n",
              "      <td>1.000000</td>\n",
              "      <td>0.400000</td>\n",
              "      <td>0.400000</td>\n",
              "      <td>0.800000</td>\n",
              "      <td>0.200000</td>\n",
              "      <td>121.000000</td>\n",
              "      <td>0.400000</td>\n",
              "    </tr>\n",
              "    <tr>\n",
              "      <th>69.000</th>\n",
              "      <td>0.000000</td>\n",
              "      <td>0.333333</td>\n",
              "      <td>0.000000</td>\n",
              "      <td>1.000000</td>\n",
              "      <td>0.666667</td>\n",
              "      <td>83.333333</td>\n",
              "      <td>0.666667</td>\n",
              "    </tr>\n",
              "    <tr>\n",
              "      <th>70.000</th>\n",
              "      <td>0.240000</td>\n",
              "      <td>0.360000</td>\n",
              "      <td>0.520000</td>\n",
              "      <td>0.520000</td>\n",
              "      <td>0.400000</td>\n",
              "      <td>134.680000</td>\n",
              "      <td>0.280000</td>\n",
              "    </tr>\n",
              "    <tr>\n",
              "      <th>72.000</th>\n",
              "      <td>0.428571</td>\n",
              "      <td>0.285714</td>\n",
              "      <td>0.714286</td>\n",
              "      <td>0.571429</td>\n",
              "      <td>0.571429</td>\n",
              "      <td>96.857143</td>\n",
              "      <td>0.714286</td>\n",
              "    </tr>\n",
              "    <tr>\n",
              "      <th>73.000</th>\n",
              "      <td>0.500000</td>\n",
              "      <td>0.250000</td>\n",
              "      <td>0.500000</td>\n",
              "      <td>0.750000</td>\n",
              "      <td>0.250000</td>\n",
              "      <td>196.500000</td>\n",
              "      <td>0.250000</td>\n",
              "    </tr>\n",
              "    <tr>\n",
              "      <th>75.000</th>\n",
              "      <td>0.363636</td>\n",
              "      <td>0.272727</td>\n",
              "      <td>0.636364</td>\n",
              "      <td>0.818182</td>\n",
              "      <td>0.181818</td>\n",
              "      <td>91.272727</td>\n",
              "      <td>0.545455</td>\n",
              "    </tr>\n",
              "    <tr>\n",
              "      <th>77.000</th>\n",
              "      <td>1.000000</td>\n",
              "      <td>0.000000</td>\n",
              "      <td>0.500000</td>\n",
              "      <td>1.000000</td>\n",
              "      <td>0.000000</td>\n",
              "      <td>194.500000</td>\n",
              "      <td>0.500000</td>\n",
              "    </tr>\n",
              "    <tr>\n",
              "      <th>78.000</th>\n",
              "      <td>0.500000</td>\n",
              "      <td>0.000000</td>\n",
              "      <td>0.000000</td>\n",
              "      <td>1.000000</td>\n",
              "      <td>1.000000</td>\n",
              "      <td>189.500000</td>\n",
              "      <td>0.000000</td>\n",
              "    </tr>\n",
              "    <tr>\n",
              "      <th>79.000</th>\n",
              "      <td>1.000000</td>\n",
              "      <td>0.000000</td>\n",
              "      <td>1.000000</td>\n",
              "      <td>1.000000</td>\n",
              "      <td>0.000000</td>\n",
              "      <td>78.000000</td>\n",
              "      <td>0.000000</td>\n",
              "    </tr>\n",
              "    <tr>\n",
              "      <th>80.000</th>\n",
              "      <td>0.285714</td>\n",
              "      <td>0.428571</td>\n",
              "      <td>0.428571</td>\n",
              "      <td>0.857143</td>\n",
              "      <td>0.428571</td>\n",
              "      <td>82.000000</td>\n",
              "      <td>0.714286</td>\n",
              "    </tr>\n",
              "    <tr>\n",
              "      <th>81.000</th>\n",
              "      <td>0.000000</td>\n",
              "      <td>0.000000</td>\n",
              "      <td>0.000000</td>\n",
              "      <td>1.000000</td>\n",
              "      <td>1.000000</td>\n",
              "      <td>107.000000</td>\n",
              "      <td>0.000000</td>\n",
              "    </tr>\n",
              "    <tr>\n",
              "      <th>82.000</th>\n",
              "      <td>0.666667</td>\n",
              "      <td>0.666667</td>\n",
              "      <td>0.333333</td>\n",
              "      <td>0.666667</td>\n",
              "      <td>0.333333</td>\n",
              "      <td>23.000000</td>\n",
              "      <td>1.000000</td>\n",
              "    </tr>\n",
              "    <tr>\n",
              "      <th>85.000</th>\n",
              "      <td>0.333333</td>\n",
              "      <td>0.000000</td>\n",
              "      <td>0.000000</td>\n",
              "      <td>0.833333</td>\n",
              "      <td>0.333333</td>\n",
              "      <td>98.666667</td>\n",
              "      <td>0.500000</td>\n",
              "    </tr>\n",
              "    <tr>\n",
              "      <th>86.000</th>\n",
              "      <td>0.000000</td>\n",
              "      <td>0.000000</td>\n",
              "      <td>0.000000</td>\n",
              "      <td>0.000000</td>\n",
              "      <td>0.000000</td>\n",
              "      <td>95.000000</td>\n",
              "      <td>1.000000</td>\n",
              "    </tr>\n",
              "    <tr>\n",
              "      <th>87.000</th>\n",
              "      <td>1.000000</td>\n",
              "      <td>0.000000</td>\n",
              "      <td>0.000000</td>\n",
              "      <td>1.000000</td>\n",
              "      <td>0.000000</td>\n",
              "      <td>14.000000</td>\n",
              "      <td>1.000000</td>\n",
              "    </tr>\n",
              "    <tr>\n",
              "      <th>90.000</th>\n",
              "      <td>1.000000</td>\n",
              "      <td>0.333333</td>\n",
              "      <td>0.333333</td>\n",
              "      <td>0.666667</td>\n",
              "      <td>0.333333</td>\n",
              "      <td>98.000000</td>\n",
              "      <td>0.666667</td>\n",
              "    </tr>\n",
              "    <tr>\n",
              "      <th>94.000</th>\n",
              "      <td>0.000000</td>\n",
              "      <td>1.000000</td>\n",
              "      <td>1.000000</td>\n",
              "      <td>1.000000</td>\n",
              "      <td>0.000000</td>\n",
              "      <td>27.000000</td>\n",
              "      <td>1.000000</td>\n",
              "    </tr>\n",
              "    <tr>\n",
              "      <th>95.000</th>\n",
              "      <td>1.000000</td>\n",
              "      <td>0.000000</td>\n",
              "      <td>0.500000</td>\n",
              "      <td>0.500000</td>\n",
              "      <td>0.000000</td>\n",
              "      <td>37.000000</td>\n",
              "      <td>1.000000</td>\n",
              "    </tr>\n",
              "  </tbody>\n",
              "</table>\n",
              "</div>\n",
              "      <button class=\"colab-df-convert\" onclick=\"convertToInteractive('df-42aa3911-564a-47d0-8a12-1bf30d9a49c9')\"\n",
              "              title=\"Convert this dataframe to an interactive table.\"\n",
              "              style=\"display:none;\">\n",
              "        \n",
              "  <svg xmlns=\"http://www.w3.org/2000/svg\" height=\"24px\"viewBox=\"0 0 24 24\"\n",
              "       width=\"24px\">\n",
              "    <path d=\"M0 0h24v24H0V0z\" fill=\"none\"/>\n",
              "    <path d=\"M18.56 5.44l.94 2.06.94-2.06 2.06-.94-2.06-.94-.94-2.06-.94 2.06-2.06.94zm-11 1L8.5 8.5l.94-2.06 2.06-.94-2.06-.94L8.5 2.5l-.94 2.06-2.06.94zm10 10l.94 2.06.94-2.06 2.06-.94-2.06-.94-.94-2.06-.94 2.06-2.06.94z\"/><path d=\"M17.41 7.96l-1.37-1.37c-.4-.4-.92-.59-1.43-.59-.52 0-1.04.2-1.43.59L10.3 9.45l-7.72 7.72c-.78.78-.78 2.05 0 2.83L4 21.41c.39.39.9.59 1.41.59.51 0 1.02-.2 1.41-.59l7.78-7.78 2.81-2.81c.8-.78.8-2.07 0-2.86zM5.41 20L4 18.59l7.72-7.72 1.47 1.35L5.41 20z\"/>\n",
              "  </svg>\n",
              "      </button>\n",
              "      \n",
              "  <style>\n",
              "    .colab-df-container {\n",
              "      display:flex;\n",
              "      flex-wrap:wrap;\n",
              "      gap: 12px;\n",
              "    }\n",
              "\n",
              "    .colab-df-convert {\n",
              "      background-color: #E8F0FE;\n",
              "      border: none;\n",
              "      border-radius: 50%;\n",
              "      cursor: pointer;\n",
              "      display: none;\n",
              "      fill: #1967D2;\n",
              "      height: 32px;\n",
              "      padding: 0 0 0 0;\n",
              "      width: 32px;\n",
              "    }\n",
              "\n",
              "    .colab-df-convert:hover {\n",
              "      background-color: #E2EBFA;\n",
              "      box-shadow: 0px 1px 2px rgba(60, 64, 67, 0.3), 0px 1px 3px 1px rgba(60, 64, 67, 0.15);\n",
              "      fill: #174EA6;\n",
              "    }\n",
              "\n",
              "    [theme=dark] .colab-df-convert {\n",
              "      background-color: #3B4455;\n",
              "      fill: #D2E3FC;\n",
              "    }\n",
              "\n",
              "    [theme=dark] .colab-df-convert:hover {\n",
              "      background-color: #434B5C;\n",
              "      box-shadow: 0px 1px 3px 1px rgba(0, 0, 0, 0.15);\n",
              "      filter: drop-shadow(0px 1px 2px rgba(0, 0, 0, 0.3));\n",
              "      fill: #FFFFFF;\n",
              "    }\n",
              "  </style>\n",
              "\n",
              "      <script>\n",
              "        const buttonEl =\n",
              "          document.querySelector('#df-42aa3911-564a-47d0-8a12-1bf30d9a49c9 button.colab-df-convert');\n",
              "        buttonEl.style.display =\n",
              "          google.colab.kernel.accessAllowed ? 'block' : 'none';\n",
              "\n",
              "        async function convertToInteractive(key) {\n",
              "          const element = document.querySelector('#df-42aa3911-564a-47d0-8a12-1bf30d9a49c9');\n",
              "          const dataTable =\n",
              "            await google.colab.kernel.invokeFunction('convertToInteractive',\n",
              "                                                     [key], {});\n",
              "          if (!dataTable) return;\n",
              "\n",
              "          const docLinkHtml = 'Like what you see? Visit the ' +\n",
              "            '<a target=\"_blank\" href=https://colab.research.google.com/notebooks/data_table.ipynb>data table notebook</a>'\n",
              "            + ' to learn more about interactive tables.';\n",
              "          element.innerHTML = '';\n",
              "          dataTable['output_type'] = 'display_data';\n",
              "          await google.colab.output.renderOutput(dataTable, element);\n",
              "          const docLink = document.createElement('div');\n",
              "          docLink.innerHTML = docLinkHtml;\n",
              "          element.appendChild(docLink);\n",
              "        }\n",
              "      </script>\n",
              "    </div>\n",
              "  </div>\n",
              "  "
            ]
          },
          "metadata": {},
          "execution_count": 32
        }
      ],
      "source": [
        "heartfailgrp =heartfail.groupby('age').mean()\n",
        "heartfailgrp"
      ]
    },
    {
      "cell_type": "code",
      "execution_count": null,
      "metadata": {
        "colab": {
          "base_uri": "https://localhost:8080/",
          "height": 297
        },
        "id": "JqP_bTxyRzY4",
        "outputId": "2ad77725-db39-42f8-98e8-8c1791a235c5"
      },
      "outputs": [
        {
          "output_type": "display_data",
          "data": {
            "text/plain": [
              "<Figure size 432x288 with 1 Axes>"
            ],
            "image/png": "[encoded data removed]"
          },
          "metadata": {
            "needs_background": "light"
          }
        }
      ],
      "source": [
        "#group the data by year\n",
        "heartfail_grp = heartfail.groupby('age').mean().reset_index()\n",
        "\n",
        "#Create figure\n",
        "fig, axes = plt.subplots(nrows = 1, ncols = 1)\n",
        "\n",
        "axes.plot(heartfail_grp['age'], heartfail_grp['high_blood_pressure'])\n",
        "axes.set_title('Does Hypertension have an effect on Heart Failure?', fontsize=20)\n",
        "axes.set_ylabel('HYPERTENSION', fontsize=15)\n",
        "axes.set_xlabel(\"AGE\", fontsize=20)\n",
        "axes.ticklabel_format(style = 'plain')\n",
        "axes.grid()\n",
        "\n",
        "plt.tight_layout()\n",
        "plt.show()"
      ]
    },
    {
      "cell_type": "markdown",
      "metadata": {
        "id": "aTQKaCF6Tinv"
      },
      "source": [
        "This visual shows that blood pressure seems to have an effect on causing death in a heart failure patient. The trend varies quite a bit, inicating that there could be other variables to contribute as well. "
      ]
    },
    {
      "cell_type": "markdown",
      "metadata": {
        "id": "SjcVgFzO-ss3"
      },
      "source": [
        "###Preprocessing\n",
        "September 17, 2022"
      ]
    },
    {
      "cell_type": "markdown",
      "metadata": {
        "id": "YK4m5GPQ-4tA"
      },
      "source": [
        "#### Ensure that you complete the appropriate pre-processing steps"
      ]
    },
    {
      "cell_type": "code",
      "execution_count": null,
      "metadata": {
        "id": "_ez1hBtt-_E6"
      },
      "outputs": [],
      "source": [
        "x = heartfail.drop('DEATH_EVENT', axis=1)\n",
        "y = heartfail['DEATH_EVENT']"
      ]
    },
    {
      "cell_type": "code",
      "execution_count": null,
      "metadata": {
        "id": "o37mcV6O_Eab",
        "colab": {
          "base_uri": "https://localhost:8080/",
          "height": 206
        },
        "outputId": "6b68067b-a7e4-4d49-8417-79c4410c8bdc"
      },
      "outputs": [
        {
          "output_type": "execute_result",
          "data": {
            "text/plain": [
              "    age  anaemia  diabetes  high_blood_pressure  sex  smoking  time\n",
              "0  75.0        0         0                    1    1        0     4\n",
              "1  55.0        0         0                    0    1        0     6\n",
              "2  65.0        0         0                    0    1        1     7\n",
              "3  50.0        1         0                    0    1        0     7\n",
              "4  65.0        1         1                    0    0        0     8"
            ],
            "text/html": [
              "\n",
              "  <div id=\"df-8db410a6-a83b-45e0-9652-aac7027100d9\">\n",
              "    <div class=\"colab-df-container\">\n",
              "      <div>\n",
              "<style scoped>\n",
              "    .dataframe tbody tr th:only-of-type {\n",
              "        vertical-align: middle;\n",
              "    }\n",
              "\n",
              "    .dataframe tbody tr th {\n",
              "        vertical-align: top;\n",
              "    }\n",
              "\n",
              "    .dataframe thead th {\n",
              "        text-align: right;\n",
              "    }\n",
              "</style>\n",
              "<table border=\"1\" class=\"dataframe\">\n",
              "  <thead>\n",
              "    <tr style=\"text-align: right;\">\n",
              "      <th></th>\n",
              "      <th>age</th>\n",
              "      <th>anaemia</th>\n",
              "      <th>diabetes</th>\n",
              "      <th>high_blood_pressure</th>\n",
              "      <th>sex</th>\n",
              "      <th>smoking</th>\n",
              "      <th>time</th>\n",
              "    </tr>\n",
              "  </thead>\n",
              "  <tbody>\n",
              "    <tr>\n",
              "      <th>0</th>\n",
              "      <td>75.0</td>\n",
              "      <td>0</td>\n",
              "      <td>0</td>\n",
              "      <td>1</td>\n",
              "      <td>1</td>\n",
              "      <td>0</td>\n",
              "      <td>4</td>\n",
              "    </tr>\n",
              "    <tr>\n",
              "      <th>1</th>\n",
              "      <td>55.0</td>\n",
              "      <td>0</td>\n",
              "      <td>0</td>\n",
              "      <td>0</td>\n",
              "      <td>1</td>\n",
              "      <td>0</td>\n",
              "      <td>6</td>\n",
              "    </tr>\n",
              "    <tr>\n",
              "      <th>2</th>\n",
              "      <td>65.0</td>\n",
              "      <td>0</td>\n",
              "      <td>0</td>\n",
              "      <td>0</td>\n",
              "      <td>1</td>\n",
              "      <td>1</td>\n",
              "      <td>7</td>\n",
              "    </tr>\n",
              "    <tr>\n",
              "      <th>3</th>\n",
              "      <td>50.0</td>\n",
              "      <td>1</td>\n",
              "      <td>0</td>\n",
              "      <td>0</td>\n",
              "      <td>1</td>\n",
              "      <td>0</td>\n",
              "      <td>7</td>\n",
              "    </tr>\n",
              "    <tr>\n",
              "      <th>4</th>\n",
              "      <td>65.0</td>\n",
              "      <td>1</td>\n",
              "      <td>1</td>\n",
              "      <td>0</td>\n",
              "      <td>0</td>\n",
              "      <td>0</td>\n",
              "      <td>8</td>\n",
              "    </tr>\n",
              "  </tbody>\n",
              "</table>\n",
              "</div>\n",
              "      <button class=\"colab-df-convert\" onclick=\"convertToInteractive('df-8db410a6-a83b-45e0-9652-aac7027100d9')\"\n",
              "              title=\"Convert this dataframe to an interactive table.\"\n",
              "              style=\"display:none;\">\n",
              "        \n",
              "  <svg xmlns=\"http://www.w3.org/2000/svg\" height=\"24px\"viewBox=\"0 0 24 24\"\n",
              "       width=\"24px\">\n",
              "    <path d=\"M0 0h24v24H0V0z\" fill=\"none\"/>\n",
              "    <path d=\"M18.56 5.44l.94 2.06.94-2.06 2.06-.94-2.06-.94-.94-2.06-.94 2.06-2.06.94zm-11 1L8.5 8.5l.94-2.06 2.06-.94-2.06-.94L8.5 2.5l-.94 2.06-2.06.94zm10 10l.94 2.06.94-2.06 2.06-.94-2.06-.94-.94-2.06-.94 2.06-2.06.94z\"/><path d=\"M17.41 7.96l-1.37-1.37c-.4-.4-.92-.59-1.43-.59-.52 0-1.04.2-1.43.59L10.3 9.45l-7.72 7.72c-.78.78-.78 2.05 0 2.83L4 21.41c.39.39.9.59 1.41.59.51 0 1.02-.2 1.41-.59l7.78-7.78 2.81-2.81c.8-.78.8-2.07 0-2.86zM5.41 20L4 18.59l7.72-7.72 1.47 1.35L5.41 20z\"/>\n",
              "  </svg>\n",
              "      </button>\n",
              "      \n",
              "  <style>\n",
              "    .colab-df-container {\n",
              "      display:flex;\n",
              "      flex-wrap:wrap;\n",
              "      gap: 12px;\n",
              "    }\n",
              "\n",
              "    .colab-df-convert {\n",
              "      background-color: #E8F0FE;\n",
              "      border: none;\n",
              "      border-radius: 50%;\n",
              "      cursor: pointer;\n",
              "      display: none;\n",
              "      fill: #1967D2;\n",
              "      height: 32px;\n",
              "      padding: 0 0 0 0;\n",
              "      width: 32px;\n",
              "    }\n",
              "\n",
              "    .colab-df-convert:hover {\n",
              "      background-color: #E2EBFA;\n",
              "      box-shadow: 0px 1px 2px rgba(60, 64, 67, 0.3), 0px 1px 3px 1px rgba(60, 64, 67, 0.15);\n",
              "      fill: #174EA6;\n",
              "    }\n",
              "\n",
              "    [theme=dark] .colab-df-convert {\n",
              "      background-color: #3B4455;\n",
              "      fill: #D2E3FC;\n",
              "    }\n",
              "\n",
              "    [theme=dark] .colab-df-convert:hover {\n",
              "      background-color: #434B5C;\n",
              "      box-shadow: 0px 1px 3px 1px rgba(0, 0, 0, 0.15);\n",
              "      filter: drop-shadow(0px 1px 2px rgba(0, 0, 0, 0.3));\n",
              "      fill: #FFFFFF;\n",
              "    }\n",
              "  </style>\n",
              "\n",
              "      <script>\n",
              "        const buttonEl =\n",
              "          document.querySelector('#df-8db410a6-a83b-45e0-9652-aac7027100d9 button.colab-df-convert');\n",
              "        buttonEl.style.display =\n",
              "          google.colab.kernel.accessAllowed ? 'block' : 'none';\n",
              "\n",
              "        async function convertToInteractive(key) {\n",
              "          const element = document.querySelector('#df-8db410a6-a83b-45e0-9652-aac7027100d9');\n",
              "          const dataTable =\n",
              "            await google.colab.kernel.invokeFunction('convertToInteractive',\n",
              "                                                     [key], {});\n",
              "          if (!dataTable) return;\n",
              "\n",
              "          const docLinkHtml = 'Like what you see? Visit the ' +\n",
              "            '<a target=\"_blank\" href=https://colab.research.google.com/notebooks/data_table.ipynb>data table notebook</a>'\n",
              "            + ' to learn more about interactive tables.';\n",
              "          element.innerHTML = '';\n",
              "          dataTable['output_type'] = 'display_data';\n",
              "          await google.colab.output.renderOutput(dataTable, element);\n",
              "          const docLink = document.createElement('div');\n",
              "          docLink.innerHTML = docLinkHtml;\n",
              "          element.appendChild(docLink);\n",
              "        }\n",
              "      </script>\n",
              "    </div>\n",
              "  </div>\n",
              "  "
            ]
          },
          "metadata": {},
          "execution_count": 35
        }
      ],
      "source": [
        "x.head()"
      ]
    },
    {
      "cell_type": "code",
      "source": [
        "#train test split\n",
        "x_train, x_test, y_train, y_test = train_test_split(x, y, random_state=42)\n",
        "x_train.head()"
      ],
      "metadata": {
        "colab": {
          "base_uri": "https://localhost:8080/",
          "height": 206
        },
        "id": "McsfwTFYA1BX",
        "outputId": "0e9dbbe6-e404-41db-af87-5f5cac39f65a"
      },
      "execution_count": null,
      "outputs": [
        {
          "output_type": "execute_result",
          "data": {
            "text/plain": [
              "      age  anaemia  diabetes  high_blood_pressure  sex  smoking  time\n",
              "224  58.0        0         1                    0    1        0   205\n",
              "78   75.0        1         1                    1    1        1    74\n",
              "66   42.0        1         1                    0    0        0    65\n",
              "296  45.0        0         1                    0    0        0   278\n",
              "281  70.0        0         0                    0    1        1   250"
            ],
            "text/html": [
              "\n",
              "  <div id=\"df-3926734b-95df-4b73-b43b-c033ff4490c4\">\n",
              "    <div class=\"colab-df-container\">\n",
              "      <div>\n",
              "<style scoped>\n",
              "    .dataframe tbody tr th:only-of-type {\n",
              "        vertical-align: middle;\n",
              "    }\n",
              "\n",
              "    .dataframe tbody tr th {\n",
              "        vertical-align: top;\n",
              "    }\n",
              "\n",
              "    .dataframe thead th {\n",
              "        text-align: right;\n",
              "    }\n",
              "</style>\n",
              "<table border=\"1\" class=\"dataframe\">\n",
              "  <thead>\n",
              "    <tr style=\"text-align: right;\">\n",
              "      <th></th>\n",
              "      <th>age</th>\n",
              "      <th>anaemia</th>\n",
              "      <th>diabetes</th>\n",
              "      <th>high_blood_pressure</th>\n",
              "      <th>sex</th>\n",
              "      <th>smoking</th>\n",
              "      <th>time</th>\n",
              "    </tr>\n",
              "  </thead>\n",
              "  <tbody>\n",
              "    <tr>\n",
              "      <th>224</th>\n",
              "      <td>58.0</td>\n",
              "      <td>0</td>\n",
              "      <td>1</td>\n",
              "      <td>0</td>\n",
              "      <td>1</td>\n",
              "      <td>0</td>\n",
              "      <td>205</td>\n",
              "    </tr>\n",
              "    <tr>\n",
              "      <th>78</th>\n",
              "      <td>75.0</td>\n",
              "      <td>1</td>\n",
              "      <td>1</td>\n",
              "      <td>1</td>\n",
              "      <td>1</td>\n",
              "      <td>1</td>\n",
              "      <td>74</td>\n",
              "    </tr>\n",
              "    <tr>\n",
              "      <th>66</th>\n",
              "      <td>42.0</td>\n",
              "      <td>1</td>\n",
              "      <td>1</td>\n",
              "      <td>0</td>\n",
              "      <td>0</td>\n",
              "      <td>0</td>\n",
              "      <td>65</td>\n",
              "    </tr>\n",
              "    <tr>\n",
              "      <th>296</th>\n",
              "      <td>45.0</td>\n",
              "      <td>0</td>\n",
              "      <td>1</td>\n",
              "      <td>0</td>\n",
              "      <td>0</td>\n",
              "      <td>0</td>\n",
              "      <td>278</td>\n",
              "    </tr>\n",
              "    <tr>\n",
              "      <th>281</th>\n",
              "      <td>70.0</td>\n",
              "      <td>0</td>\n",
              "      <td>0</td>\n",
              "      <td>0</td>\n",
              "      <td>1</td>\n",
              "      <td>1</td>\n",
              "      <td>250</td>\n",
              "    </tr>\n",
              "  </tbody>\n",
              "</table>\n",
              "</div>\n",
              "      <button class=\"colab-df-convert\" onclick=\"convertToInteractive('df-3926734b-95df-4b73-b43b-c033ff4490c4')\"\n",
              "              title=\"Convert this dataframe to an interactive table.\"\n",
              "              style=\"display:none;\">\n",
              "        \n",
              "  <svg xmlns=\"http://www.w3.org/2000/svg\" height=\"24px\"viewBox=\"0 0 24 24\"\n",
              "       width=\"24px\">\n",
              "    <path d=\"M0 0h24v24H0V0z\" fill=\"none\"/>\n",
              "    <path d=\"M18.56 5.44l.94 2.06.94-2.06 2.06-.94-2.06-.94-.94-2.06-.94 2.06-2.06.94zm-11 1L8.5 8.5l.94-2.06 2.06-.94-2.06-.94L8.5 2.5l-.94 2.06-2.06.94zm10 10l.94 2.06.94-2.06 2.06-.94-2.06-.94-.94-2.06-.94 2.06-2.06.94z\"/><path d=\"M17.41 7.96l-1.37-1.37c-.4-.4-.92-.59-1.43-.59-.52 0-1.04.2-1.43.59L10.3 9.45l-7.72 7.72c-.78.78-.78 2.05 0 2.83L4 21.41c.39.39.9.59 1.41.59.51 0 1.02-.2 1.41-.59l7.78-7.78 2.81-2.81c.8-.78.8-2.07 0-2.86zM5.41 20L4 18.59l7.72-7.72 1.47 1.35L5.41 20z\"/>\n",
              "  </svg>\n",
              "      </button>\n",
              "      \n",
              "  <style>\n",
              "    .colab-df-container {\n",
              "      display:flex;\n",
              "      flex-wrap:wrap;\n",
              "      gap: 12px;\n",
              "    }\n",
              "\n",
              "    .colab-df-convert {\n",
              "      background-color: #E8F0FE;\n",
              "      border: none;\n",
              "      border-radius: 50%;\n",
              "      cursor: pointer;\n",
              "      display: none;\n",
              "      fill: #1967D2;\n",
              "      height: 32px;\n",
              "      padding: 0 0 0 0;\n",
              "      width: 32px;\n",
              "    }\n",
              "\n",
              "    .colab-df-convert:hover {\n",
              "      background-color: #E2EBFA;\n",
              "      box-shadow: 0px 1px 2px rgba(60, 64, 67, 0.3), 0px 1px 3px 1px rgba(60, 64, 67, 0.15);\n",
              "      fill: #174EA6;\n",
              "    }\n",
              "\n",
              "    [theme=dark] .colab-df-convert {\n",
              "      background-color: #3B4455;\n",
              "      fill: #D2E3FC;\n",
              "    }\n",
              "\n",
              "    [theme=dark] .colab-df-convert:hover {\n",
              "      background-color: #434B5C;\n",
              "      box-shadow: 0px 1px 3px 1px rgba(0, 0, 0, 0.15);\n",
              "      filter: drop-shadow(0px 1px 2px rgba(0, 0, 0, 0.3));\n",
              "      fill: #FFFFFF;\n",
              "    }\n",
              "  </style>\n",
              "\n",
              "      <script>\n",
              "        const buttonEl =\n",
              "          document.querySelector('#df-3926734b-95df-4b73-b43b-c033ff4490c4 button.colab-df-convert');\n",
              "        buttonEl.style.display =\n",
              "          google.colab.kernel.accessAllowed ? 'block' : 'none';\n",
              "\n",
              "        async function convertToInteractive(key) {\n",
              "          const element = document.querySelector('#df-3926734b-95df-4b73-b43b-c033ff4490c4');\n",
              "          const dataTable =\n",
              "            await google.colab.kernel.invokeFunction('convertToInteractive',\n",
              "                                                     [key], {});\n",
              "          if (!dataTable) return;\n",
              "\n",
              "          const docLinkHtml = 'Like what you see? Visit the ' +\n",
              "            '<a target=\"_blank\" href=https://colab.research.google.com/notebooks/data_table.ipynb>data table notebook</a>'\n",
              "            + ' to learn more about interactive tables.';\n",
              "          element.innerHTML = '';\n",
              "          dataTable['output_type'] = 'display_data';\n",
              "          await google.colab.output.renderOutput(dataTable, element);\n",
              "          const docLink = document.createElement('div');\n",
              "          docLink.innerHTML = docLinkHtml;\n",
              "          element.appendChild(docLink);\n",
              "        }\n",
              "      </script>\n",
              "    </div>\n",
              "  </div>\n",
              "  "
            ]
          },
          "metadata": {},
          "execution_count": 36
        }
      ]
    },
    {
      "cell_type": "code",
      "source": [
        "num_sel = make_column_selector(dtype_include='number')"
      ],
      "metadata": {
        "id": "ByHvT-U0CrnD"
      },
      "execution_count": null,
      "outputs": []
    },
    {
      "cell_type": "code",
      "source": [
        "scaler= StandardScaler()"
      ],
      "metadata": {
        "id": "lJNdZLTvBWZt"
      },
      "execution_count": null,
      "outputs": []
    },
    {
      "cell_type": "code",
      "source": [
        "Num_tup = (scaler, num_sel)"
      ],
      "metadata": {
        "id": "fBe0QWYMCj_t"
      },
      "execution_count": null,
      "outputs": []
    },
    {
      "cell_type": "code",
      "source": [
        "transform_col = make_column_transformer (Num_tup, remainder = 'passthrough')"
      ],
      "metadata": {
        "id": "Pew5eXtPC5w9"
      },
      "execution_count": null,
      "outputs": []
    },
    {
      "cell_type": "code",
      "source": [
        "mean_impute = SimpleImputer(strategy='mean')"
      ],
      "metadata": {
        "id": "TUDZFF6lDf8F"
      },
      "execution_count": null,
      "outputs": []
    },
    {
      "cell_type": "code",
      "source": [
        "x.info()"
      ],
      "metadata": {
        "colab": {
          "base_uri": "https://localhost:8080/"
        },
        "id": "kNbEFgiDBtR-",
        "outputId": "f79b3fc8-0c66-45cc-eeec-8ea07693c847"
      },
      "execution_count": null,
      "outputs": [
        {
          "output_type": "stream",
          "name": "stdout",
          "text": [
            "<class 'pandas.core.frame.DataFrame'>\n",
            "Int64Index: 298 entries, 0 to 298\n",
            "Data columns (total 7 columns):\n",
            " #   Column               Non-Null Count  Dtype  \n",
            "---  ------               --------------  -----  \n",
            " 0   age                  298 non-null    float64\n",
            " 1   anaemia              298 non-null    int64  \n",
            " 2   diabetes             298 non-null    int64  \n",
            " 3   high_blood_pressure  298 non-null    int64  \n",
            " 4   sex                  298 non-null    int64  \n",
            " 5   smoking              298 non-null    int64  \n",
            " 6   time                 298 non-null    int64  \n",
            "dtypes: float64(1), int64(6)\n",
            "memory usage: 26.7 KB\n"
          ]
        }
      ]
    },
    {
      "cell_type": "code",
      "source": [
        "number_pipe = make_pipeline(mean_impute, scaler)\n",
        "number_pipe"
      ],
      "metadata": {
        "colab": {
          "base_uri": "https://localhost:8080/",
          "height": 126
        },
        "id": "iZviGMOKDUNS",
        "outputId": "11a67911-48ac-4556-fedd-d882f26f9532"
      },
      "execution_count": null,
      "outputs": [
        {
          "output_type": "execute_result",
          "data": {
            "text/plain": [
              "Pipeline(steps=[('simpleimputer', SimpleImputer()),\n",
              "                ('standardscaler', StandardScaler())])"
            ],
            "text/html": [
              "<style>#sk-e10f1479-7862-4200-9411-c35844663d48 {color: black;background-color: white;}#sk-e10f1479-7862-4200-9411-c35844663d48 pre{padding: 0;}#sk-e10f1479-7862-4200-9411-c35844663d48 div.sk-toggleable {background-color: white;}#sk-e10f1479-7862-4200-9411-c35844663d48 label.sk-toggleable__label {cursor: pointer;display: block;width: 100%;margin-bottom: 0;padding: 0.3em;box-sizing: border-box;text-align: center;}#sk-e10f1479-7862-4200-9411-c35844663d48 label.sk-toggleable__label-arrow:before {content: \"▸\";float: left;margin-right: 0.25em;color: #696969;}#sk-e10f1479-7862-4200-9411-c35844663d48 label.sk-toggleable__label-arrow:hover:before {color: black;}#sk-e10f1479-7862-4200-9411-c35844663d48 div.sk-estimator:hover label.sk-toggleable__label-arrow:before {color: black;}#sk-e10f1479-7862-4200-9411-c35844663d48 div.sk-toggleable__content {max-height: 0;max-width: 0;overflow: hidden;text-align: left;background-color: #f0f8ff;}#sk-e10f1479-7862-4200-9411-c35844663d48 div.sk-toggleable__content pre {margin: 0.2em;color: black;border-radius: 0.25em;background-color: #f0f8ff;}#sk-e10f1479-7862-4200-9411-c35844663d48 input.sk-toggleable__control:checked~div.sk-toggleable__content {max-height: 200px;max-width: 100%;overflow: auto;}#sk-e10f1479-7862-4200-9411-c35844663d48 input.sk-toggleable__control:checked~label.sk-toggleable__label-arrow:before {content: \"▾\";}#sk-e10f1479-7862-4200-9411-c35844663d48 div.sk-estimator input.sk-toggleable__control:checked~label.sk-toggleable__label {background-color: #d4ebff;}#sk-e10f1479-7862-4200-9411-c35844663d48 div.sk-label input.sk-toggleable__control:checked~label.sk-toggleable__label {background-color: #d4ebff;}#sk-e10f1479-7862-4200-9411-c35844663d48 input.sk-hidden--visually {border: 0;clip: rect(1px 1px 1px 1px);clip: rect(1px, 1px, 1px, 1px);height: 1px;margin: -1px;overflow: hidden;padding: 0;position: absolute;width: 1px;}#sk-e10f1479-7862-4200-9411-c35844663d48 div.sk-estimator {font-family: monospace;background-color: #f0f8ff;border: 1px dotted black;border-radius: 0.25em;box-sizing: border-box;margin-bottom: 0.5em;}#sk-e10f1479-7862-4200-9411-c35844663d48 div.sk-estimator:hover {background-color: #d4ebff;}#sk-e10f1479-7862-4200-9411-c35844663d48 div.sk-parallel-item::after {content: \"\";width: 100%;border-bottom: 1px solid gray;flex-grow: 1;}#sk-e10f1479-7862-4200-9411-c35844663d48 div.sk-label:hover label.sk-toggleable__label {background-color: #d4ebff;}#sk-e10f1479-7862-4200-9411-c35844663d48 div.sk-serial::before {content: \"\";position: absolute;border-left: 1px solid gray;box-sizing: border-box;top: 2em;bottom: 0;left: 50%;}#sk-e10f1479-7862-4200-9411-c35844663d48 div.sk-serial {display: flex;flex-direction: column;align-items: center;background-color: white;padding-right: 0.2em;padding-left: 0.2em;}#sk-e10f1479-7862-4200-9411-c35844663d48 div.sk-item {z-index: 1;}#sk-e10f1479-7862-4200-9411-c35844663d48 div.sk-parallel {display: flex;align-items: stretch;justify-content: center;background-color: white;}#sk-e10f1479-7862-4200-9411-c35844663d48 div.sk-parallel::before {content: \"\";position: absolute;border-left: 1px solid gray;box-sizing: border-box;top: 2em;bottom: 0;left: 50%;}#sk-e10f1479-7862-4200-9411-c35844663d48 div.sk-parallel-item {display: flex;flex-direction: column;position: relative;background-color: white;}#sk-e10f1479-7862-4200-9411-c35844663d48 div.sk-parallel-item:first-child::after {align-self: flex-end;width: 50%;}#sk-e10f1479-7862-4200-9411-c35844663d48 div.sk-parallel-item:last-child::after {align-self: flex-start;width: 50%;}#sk-e10f1479-7862-4200-9411-c35844663d48 div.sk-parallel-item:only-child::after {width: 0;}#sk-e10f1479-7862-4200-9411-c35844663d48 div.sk-dashed-wrapped {border: 1px dashed gray;margin: 0 0.4em 0.5em 0.4em;box-sizing: border-box;padding-bottom: 0.4em;background-color: white;position: relative;}#sk-e10f1479-7862-4200-9411-c35844663d48 div.sk-label label {font-family: monospace;font-weight: bold;background-color: white;display: inline-block;line-height: 1.2em;}#sk-e10f1479-7862-4200-9411-c35844663d48 div.sk-label-container {position: relative;z-index: 2;text-align: center;}#sk-e10f1479-7862-4200-9411-c35844663d48 div.sk-container {/* jupyter's `normalize.less` sets `[hidden] { display: none; }` but bootstrap.min.css set `[hidden] { display: none !important; }` so we also need the `!important` here to be able to override the default hidden behavior on the sphinx rendered scikit-learn.org. See: https://github.com/scikit-learn/scikit-learn/issues/21755 */display: inline-block !important;position: relative;}#sk-e10f1479-7862-4200-9411-c35844663d48 div.sk-text-repr-fallback {display: none;}</style><div id=\"sk-e10f1479-7862-4200-9411-c35844663d48\" class=\"sk-top-container\"><div class=\"sk-text-repr-fallback\"><pre>Pipeline(steps=[(&#x27;simpleimputer&#x27;, SimpleImputer()),\n",
              "                (&#x27;standardscaler&#x27;, StandardScaler())])</pre><b>Please rerun this cell to show the HTML repr or trust the notebook.</b></div><div class=\"sk-container\" hidden><div class=\"sk-item sk-dashed-wrapped\"><div class=\"sk-label-container\"><div class=\"sk-label sk-toggleable\"><input class=\"sk-toggleable__control sk-hidden--visually\" id=\"8f0e4e1a-98b6-44d5-99c5-f427586fa00a\" type=\"checkbox\" ><label for=\"8f0e4e1a-98b6-44d5-99c5-f427586fa00a\" class=\"sk-toggleable__label sk-toggleable__label-arrow\">Pipeline</label><div class=\"sk-toggleable__content\"><pre>Pipeline(steps=[(&#x27;simpleimputer&#x27;, SimpleImputer()),\n",
              "                (&#x27;standardscaler&#x27;, StandardScaler())])</pre></div></div></div><div class=\"sk-serial\"><div class=\"sk-item\"><div class=\"sk-estimator sk-toggleable\"><input class=\"sk-toggleable__control sk-hidden--visually\" id=\"102727c2-6daf-43cf-860f-3edd2c2d513b\" type=\"checkbox\" ><label for=\"102727c2-6daf-43cf-860f-3edd2c2d513b\" class=\"sk-toggleable__label sk-toggleable__label-arrow\">SimpleImputer</label><div class=\"sk-toggleable__content\"><pre>SimpleImputer()</pre></div></div></div><div class=\"sk-item\"><div class=\"sk-estimator sk-toggleable\"><input class=\"sk-toggleable__control sk-hidden--visually\" id=\"a46c64db-46fa-4160-bc88-b323e8c2b23c\" type=\"checkbox\" ><label for=\"a46c64db-46fa-4160-bc88-b323e8c2b23c\" class=\"sk-toggleable__label sk-toggleable__label-arrow\">StandardScaler</label><div class=\"sk-toggleable__content\"><pre>StandardScaler()</pre></div></div></div></div></div></div></div>"
            ]
          },
          "metadata": {},
          "execution_count": 43
        }
      ]
    },
    {
      "cell_type": "code",
      "source": [
        "number_tuple = (number_pipe, num_sel)\n",
        "preprocessed = make_column_transformer(number_tuple,remainder= 'passthrough')\n",
        "preprocessed"
      ],
      "metadata": {
        "colab": {
          "base_uri": "https://localhost:8080/",
          "height": 152
        },
        "id": "Biz-jph8EApy",
        "outputId": "ec97eac2-d866-43c3-dbda-ce65a19a64a0"
      },
      "execution_count": null,
      "outputs": [
        {
          "output_type": "execute_result",
          "data": {
            "text/plain": [
              "ColumnTransformer(remainder='passthrough',\n",
              "                  transformers=[('pipeline',\n",
              "                                 Pipeline(steps=[('simpleimputer',\n",
              "                                                  SimpleImputer()),\n",
              "                                                 ('standardscaler',\n",
              "                                                  StandardScaler())]),\n",
              "                                 <sklearn.compose._column_transformer.make_column_selector object at 0x7fd897dbfe50>)])"
            ],
            "text/html": [
              "<style>#sk-eb66158b-f521-4921-9f8d-c7f1dbe9e4da {color: black;background-color: white;}#sk-eb66158b-f521-4921-9f8d-c7f1dbe9e4da pre{padding: 0;}#sk-eb66158b-f521-4921-9f8d-c7f1dbe9e4da div.sk-toggleable {background-color: white;}#sk-eb66158b-f521-4921-9f8d-c7f1dbe9e4da label.sk-toggleable__label {cursor: pointer;display: block;width: 100%;margin-bottom: 0;padding: 0.3em;box-sizing: border-box;text-align: center;}#sk-eb66158b-f521-4921-9f8d-c7f1dbe9e4da label.sk-toggleable__label-arrow:before {content: \"▸\";float: left;margin-right: 0.25em;color: #696969;}#sk-eb66158b-f521-4921-9f8d-c7f1dbe9e4da label.sk-toggleable__label-arrow:hover:before {color: black;}#sk-eb66158b-f521-4921-9f8d-c7f1dbe9e4da div.sk-estimator:hover label.sk-toggleable__label-arrow:before {color: black;}#sk-eb66158b-f521-4921-9f8d-c7f1dbe9e4da div.sk-toggleable__content {max-height: 0;max-width: 0;overflow: hidden;text-align: left;background-color: #f0f8ff;}#sk-eb66158b-f521-4921-9f8d-c7f1dbe9e4da div.sk-toggleable__content pre {margin: 0.2em;color: black;border-radius: 0.25em;background-color: #f0f8ff;}#sk-eb66158b-f521-4921-9f8d-c7f1dbe9e4da input.sk-toggleable__control:checked~div.sk-toggleable__content {max-height: 200px;max-width: 100%;overflow: auto;}#sk-eb66158b-f521-4921-9f8d-c7f1dbe9e4da input.sk-toggleable__control:checked~label.sk-toggleable__label-arrow:before {content: \"▾\";}#sk-eb66158b-f521-4921-9f8d-c7f1dbe9e4da div.sk-estimator input.sk-toggleable__control:checked~label.sk-toggleable__label {background-color: #d4ebff;}#sk-eb66158b-f521-4921-9f8d-c7f1dbe9e4da div.sk-label input.sk-toggleable__control:checked~label.sk-toggleable__label {background-color: #d4ebff;}#sk-eb66158b-f521-4921-9f8d-c7f1dbe9e4da input.sk-hidden--visually {border: 0;clip: rect(1px 1px 1px 1px);clip: rect(1px, 1px, 1px, 1px);height: 1px;margin: -1px;overflow: hidden;padding: 0;position: absolute;width: 1px;}#sk-eb66158b-f521-4921-9f8d-c7f1dbe9e4da div.sk-estimator {font-family: monospace;background-color: #f0f8ff;border: 1px dotted black;border-radius: 0.25em;box-sizing: border-box;margin-bottom: 0.5em;}#sk-eb66158b-f521-4921-9f8d-c7f1dbe9e4da div.sk-estimator:hover {background-color: #d4ebff;}#sk-eb66158b-f521-4921-9f8d-c7f1dbe9e4da div.sk-parallel-item::after {content: \"\";width: 100%;border-bottom: 1px solid gray;flex-grow: 1;}#sk-eb66158b-f521-4921-9f8d-c7f1dbe9e4da div.sk-label:hover label.sk-toggleable__label {background-color: #d4ebff;}#sk-eb66158b-f521-4921-9f8d-c7f1dbe9e4da div.sk-serial::before {content: \"\";position: absolute;border-left: 1px solid gray;box-sizing: border-box;top: 2em;bottom: 0;left: 50%;}#sk-eb66158b-f521-4921-9f8d-c7f1dbe9e4da div.sk-serial {display: flex;flex-direction: column;align-items: center;background-color: white;padding-right: 0.2em;padding-left: 0.2em;}#sk-eb66158b-f521-4921-9f8d-c7f1dbe9e4da div.sk-item {z-index: 1;}#sk-eb66158b-f521-4921-9f8d-c7f1dbe9e4da div.sk-parallel {display: flex;align-items: stretch;justify-content: center;background-color: white;}#sk-eb66158b-f521-4921-9f8d-c7f1dbe9e4da div.sk-parallel::before {content: \"\";position: absolute;border-left: 1px solid gray;box-sizing: border-box;top: 2em;bottom: 0;left: 50%;}#sk-eb66158b-f521-4921-9f8d-c7f1dbe9e4da div.sk-parallel-item {display: flex;flex-direction: column;position: relative;background-color: white;}#sk-eb66158b-f521-4921-9f8d-c7f1dbe9e4da div.sk-parallel-item:first-child::after {align-self: flex-end;width: 50%;}#sk-eb66158b-f521-4921-9f8d-c7f1dbe9e4da div.sk-parallel-item:last-child::after {align-self: flex-start;width: 50%;}#sk-eb66158b-f521-4921-9f8d-c7f1dbe9e4da div.sk-parallel-item:only-child::after {width: 0;}#sk-eb66158b-f521-4921-9f8d-c7f1dbe9e4da div.sk-dashed-wrapped {border: 1px dashed gray;margin: 0 0.4em 0.5em 0.4em;box-sizing: border-box;padding-bottom: 0.4em;background-color: white;position: relative;}#sk-eb66158b-f521-4921-9f8d-c7f1dbe9e4da div.sk-label label {font-family: monospace;font-weight: bold;background-color: white;display: inline-block;line-height: 1.2em;}#sk-eb66158b-f521-4921-9f8d-c7f1dbe9e4da div.sk-label-container {position: relative;z-index: 2;text-align: center;}#sk-eb66158b-f521-4921-9f8d-c7f1dbe9e4da div.sk-container {/* jupyter's `normalize.less` sets `[hidden] { display: none; }` but bootstrap.min.css set `[hidden] { display: none !important; }` so we also need the `!important` here to be able to override the default hidden behavior on the sphinx rendered scikit-learn.org. See: https://github.com/scikit-learn/scikit-learn/issues/21755 */display: inline-block !important;position: relative;}#sk-eb66158b-f521-4921-9f8d-c7f1dbe9e4da div.sk-text-repr-fallback {display: none;}</style><div id=\"sk-eb66158b-f521-4921-9f8d-c7f1dbe9e4da\" class=\"sk-top-container\"><div class=\"sk-text-repr-fallback\"><pre>ColumnTransformer(remainder=&#x27;passthrough&#x27;,\n",
              "                  transformers=[(&#x27;pipeline&#x27;,\n",
              "                                 Pipeline(steps=[(&#x27;simpleimputer&#x27;,\n",
              "                                                  SimpleImputer()),\n",
              "                                                 (&#x27;standardscaler&#x27;,\n",
              "                                                  StandardScaler())]),\n",
              "                                 &lt;sklearn.compose._column_transformer.make_column_selector object at 0x7fd897dbfe50&gt;)])</pre><b>Please rerun this cell to show the HTML repr or trust the notebook.</b></div><div class=\"sk-container\" hidden><div class=\"sk-item sk-dashed-wrapped\"><div class=\"sk-label-container\"><div class=\"sk-label sk-toggleable\"><input class=\"sk-toggleable__control sk-hidden--visually\" id=\"cd385c80-f226-482e-88ea-f7f5ae5276e2\" type=\"checkbox\" ><label for=\"cd385c80-f226-482e-88ea-f7f5ae5276e2\" class=\"sk-toggleable__label sk-toggleable__label-arrow\">ColumnTransformer</label><div class=\"sk-toggleable__content\"><pre>ColumnTransformer(remainder=&#x27;passthrough&#x27;,\n",
              "                  transformers=[(&#x27;pipeline&#x27;,\n",
              "                                 Pipeline(steps=[(&#x27;simpleimputer&#x27;,\n",
              "                                                  SimpleImputer()),\n",
              "                                                 (&#x27;standardscaler&#x27;,\n",
              "                                                  StandardScaler())]),\n",
              "                                 &lt;sklearn.compose._column_transformer.make_column_selector object at 0x7fd897dbfe50&gt;)])</pre></div></div></div><div class=\"sk-parallel\"><div class=\"sk-parallel-item\"><div class=\"sk-item\"><div class=\"sk-label-container\"><div class=\"sk-label sk-toggleable\"><input class=\"sk-toggleable__control sk-hidden--visually\" id=\"4dc5727e-6aca-4a0c-8ccc-5fde1c052fed\" type=\"checkbox\" ><label for=\"4dc5727e-6aca-4a0c-8ccc-5fde1c052fed\" class=\"sk-toggleable__label sk-toggleable__label-arrow\">pipeline</label><div class=\"sk-toggleable__content\"><pre>&lt;sklearn.compose._column_transformer.make_column_selector object at 0x7fd897dbfe50&gt;</pre></div></div></div><div class=\"sk-serial\"><div class=\"sk-item\"><div class=\"sk-serial\"><div class=\"sk-item\"><div class=\"sk-estimator sk-toggleable\"><input class=\"sk-toggleable__control sk-hidden--visually\" id=\"bed1d8f9-2d8c-4af4-a581-f6e738f6c1e5\" type=\"checkbox\" ><label for=\"bed1d8f9-2d8c-4af4-a581-f6e738f6c1e5\" class=\"sk-toggleable__label sk-toggleable__label-arrow\">SimpleImputer</label><div class=\"sk-toggleable__content\"><pre>SimpleImputer()</pre></div></div></div><div class=\"sk-item\"><div class=\"sk-estimator sk-toggleable\"><input class=\"sk-toggleable__control sk-hidden--visually\" id=\"8ec03152-136b-4635-ba93-a61c5854c59d\" type=\"checkbox\" ><label for=\"8ec03152-136b-4635-ba93-a61c5854c59d\" class=\"sk-toggleable__label sk-toggleable__label-arrow\">StandardScaler</label><div class=\"sk-toggleable__content\"><pre>StandardScaler()</pre></div></div></div></div></div></div></div></div><div class=\"sk-parallel-item\"><div class=\"sk-item\"><div class=\"sk-label-container\"><div class=\"sk-label sk-toggleable\"><input class=\"sk-toggleable__control sk-hidden--visually\" id=\"1b676eba-705c-4b8f-a737-bd6f1062888d\" type=\"checkbox\" ><label for=\"1b676eba-705c-4b8f-a737-bd6f1062888d\" class=\"sk-toggleable__label sk-toggleable__label-arrow\">remainder</label><div class=\"sk-toggleable__content\"><pre></pre></div></div></div><div class=\"sk-serial\"><div class=\"sk-item\"><div class=\"sk-estimator sk-toggleable\"><input class=\"sk-toggleable__control sk-hidden--visually\" id=\"1d14825a-0118-4c23-a018-26a73966a135\" type=\"checkbox\" ><label for=\"1d14825a-0118-4c23-a018-26a73966a135\" class=\"sk-toggleable__label sk-toggleable__label-arrow\">passthrough</label><div class=\"sk-toggleable__content\"><pre>passthrough</pre></div></div></div></div></div></div></div></div></div></div>"
            ]
          },
          "metadata": {},
          "execution_count": 44
        }
      ]
    },
    {
      "cell_type": "code",
      "source": [
        "preprocessed.fit(x_train)"
      ],
      "metadata": {
        "colab": {
          "base_uri": "https://localhost:8080/",
          "height": 152
        },
        "id": "mW7JcS5_EPJ5",
        "outputId": "67f576f2-f235-4247-a936-762584f0ce45"
      },
      "execution_count": null,
      "outputs": [
        {
          "output_type": "execute_result",
          "data": {
            "text/plain": [
              "ColumnTransformer(remainder='passthrough',\n",
              "                  transformers=[('pipeline',\n",
              "                                 Pipeline(steps=[('simpleimputer',\n",
              "                                                  SimpleImputer()),\n",
              "                                                 ('standardscaler',\n",
              "                                                  StandardScaler())]),\n",
              "                                 <sklearn.compose._column_transformer.make_column_selector object at 0x7fd897dbfe50>)])"
            ],
            "text/html": [
              "<style>#sk-f986bd06-79c3-45ae-a38d-220dd10e7a85 {color: black;background-color: white;}#sk-f986bd06-79c3-45ae-a38d-220dd10e7a85 pre{padding: 0;}#sk-f986bd06-79c3-45ae-a38d-220dd10e7a85 div.sk-toggleable {background-color: white;}#sk-f986bd06-79c3-45ae-a38d-220dd10e7a85 label.sk-toggleable__label {cursor: pointer;display: block;width: 100%;margin-bottom: 0;padding: 0.3em;box-sizing: border-box;text-align: center;}#sk-f986bd06-79c3-45ae-a38d-220dd10e7a85 label.sk-toggleable__label-arrow:before {content: \"▸\";float: left;margin-right: 0.25em;color: #696969;}#sk-f986bd06-79c3-45ae-a38d-220dd10e7a85 label.sk-toggleable__label-arrow:hover:before {color: black;}#sk-f986bd06-79c3-45ae-a38d-220dd10e7a85 div.sk-estimator:hover label.sk-toggleable__label-arrow:before {color: black;}#sk-f986bd06-79c3-45ae-a38d-220dd10e7a85 div.sk-toggleable__content {max-height: 0;max-width: 0;overflow: hidden;text-align: left;background-color: #f0f8ff;}#sk-f986bd06-79c3-45ae-a38d-220dd10e7a85 div.sk-toggleable__content pre {margin: 0.2em;color: black;border-radius: 0.25em;background-color: #f0f8ff;}#sk-f986bd06-79c3-45ae-a38d-220dd10e7a85 input.sk-toggleable__control:checked~div.sk-toggleable__content {max-height: 200px;max-width: 100%;overflow: auto;}#sk-f986bd06-79c3-45ae-a38d-220dd10e7a85 input.sk-toggleable__control:checked~label.sk-toggleable__label-arrow:before {content: \"▾\";}#sk-f986bd06-79c3-45ae-a38d-220dd10e7a85 div.sk-estimator input.sk-toggleable__control:checked~label.sk-toggleable__label {background-color: #d4ebff;}#sk-f986bd06-79c3-45ae-a38d-220dd10e7a85 div.sk-label input.sk-toggleable__control:checked~label.sk-toggleable__label {background-color: #d4ebff;}#sk-f986bd06-79c3-45ae-a38d-220dd10e7a85 input.sk-hidden--visually {border: 0;clip: rect(1px 1px 1px 1px);clip: rect(1px, 1px, 1px, 1px);height: 1px;margin: -1px;overflow: hidden;padding: 0;position: absolute;width: 1px;}#sk-f986bd06-79c3-45ae-a38d-220dd10e7a85 div.sk-estimator {font-family: monospace;background-color: #f0f8ff;border: 1px dotted black;border-radius: 0.25em;box-sizing: border-box;margin-bottom: 0.5em;}#sk-f986bd06-79c3-45ae-a38d-220dd10e7a85 div.sk-estimator:hover {background-color: #d4ebff;}#sk-f986bd06-79c3-45ae-a38d-220dd10e7a85 div.sk-parallel-item::after {content: \"\";width: 100%;border-bottom: 1px solid gray;flex-grow: 1;}#sk-f986bd06-79c3-45ae-a38d-220dd10e7a85 div.sk-label:hover label.sk-toggleable__label {background-color: #d4ebff;}#sk-f986bd06-79c3-45ae-a38d-220dd10e7a85 div.sk-serial::before {content: \"\";position: absolute;border-left: 1px solid gray;box-sizing: border-box;top: 2em;bottom: 0;left: 50%;}#sk-f986bd06-79c3-45ae-a38d-220dd10e7a85 div.sk-serial {display: flex;flex-direction: column;align-items: center;background-color: white;padding-right: 0.2em;padding-left: 0.2em;}#sk-f986bd06-79c3-45ae-a38d-220dd10e7a85 div.sk-item {z-index: 1;}#sk-f986bd06-79c3-45ae-a38d-220dd10e7a85 div.sk-parallel {display: flex;align-items: stretch;justify-content: center;background-color: white;}#sk-f986bd06-79c3-45ae-a38d-220dd10e7a85 div.sk-parallel::before {content: \"\";position: absolute;border-left: 1px solid gray;box-sizing: border-box;top: 2em;bottom: 0;left: 50%;}#sk-f986bd06-79c3-45ae-a38d-220dd10e7a85 div.sk-parallel-item {display: flex;flex-direction: column;position: relative;background-color: white;}#sk-f986bd06-79c3-45ae-a38d-220dd10e7a85 div.sk-parallel-item:first-child::after {align-self: flex-end;width: 50%;}#sk-f986bd06-79c3-45ae-a38d-220dd10e7a85 div.sk-parallel-item:last-child::after {align-self: flex-start;width: 50%;}#sk-f986bd06-79c3-45ae-a38d-220dd10e7a85 div.sk-parallel-item:only-child::after {width: 0;}#sk-f986bd06-79c3-45ae-a38d-220dd10e7a85 div.sk-dashed-wrapped {border: 1px dashed gray;margin: 0 0.4em 0.5em 0.4em;box-sizing: border-box;padding-bottom: 0.4em;background-color: white;position: relative;}#sk-f986bd06-79c3-45ae-a38d-220dd10e7a85 div.sk-label label {font-family: monospace;font-weight: bold;background-color: white;display: inline-block;line-height: 1.2em;}#sk-f986bd06-79c3-45ae-a38d-220dd10e7a85 div.sk-label-container {position: relative;z-index: 2;text-align: center;}#sk-f986bd06-79c3-45ae-a38d-220dd10e7a85 div.sk-container {/* jupyter's `normalize.less` sets `[hidden] { display: none; }` but bootstrap.min.css set `[hidden] { display: none !important; }` so we also need the `!important` here to be able to override the default hidden behavior on the sphinx rendered scikit-learn.org. See: https://github.com/scikit-learn/scikit-learn/issues/21755 */display: inline-block !important;position: relative;}#sk-f986bd06-79c3-45ae-a38d-220dd10e7a85 div.sk-text-repr-fallback {display: none;}</style><div id=\"sk-f986bd06-79c3-45ae-a38d-220dd10e7a85\" class=\"sk-top-container\"><div class=\"sk-text-repr-fallback\"><pre>ColumnTransformer(remainder=&#x27;passthrough&#x27;,\n",
              "                  transformers=[(&#x27;pipeline&#x27;,\n",
              "                                 Pipeline(steps=[(&#x27;simpleimputer&#x27;,\n",
              "                                                  SimpleImputer()),\n",
              "                                                 (&#x27;standardscaler&#x27;,\n",
              "                                                  StandardScaler())]),\n",
              "                                 &lt;sklearn.compose._column_transformer.make_column_selector object at 0x7fd897dbfe50&gt;)])</pre><b>Please rerun this cell to show the HTML repr or trust the notebook.</b></div><div class=\"sk-container\" hidden><div class=\"sk-item sk-dashed-wrapped\"><div class=\"sk-label-container\"><div class=\"sk-label sk-toggleable\"><input class=\"sk-toggleable__control sk-hidden--visually\" id=\"f539698a-e739-42c9-babe-3c498c72a883\" type=\"checkbox\" ><label for=\"f539698a-e739-42c9-babe-3c498c72a883\" class=\"sk-toggleable__label sk-toggleable__label-arrow\">ColumnTransformer</label><div class=\"sk-toggleable__content\"><pre>ColumnTransformer(remainder=&#x27;passthrough&#x27;,\n",
              "                  transformers=[(&#x27;pipeline&#x27;,\n",
              "                                 Pipeline(steps=[(&#x27;simpleimputer&#x27;,\n",
              "                                                  SimpleImputer()),\n",
              "                                                 (&#x27;standardscaler&#x27;,\n",
              "                                                  StandardScaler())]),\n",
              "                                 &lt;sklearn.compose._column_transformer.make_column_selector object at 0x7fd897dbfe50&gt;)])</pre></div></div></div><div class=\"sk-parallel\"><div class=\"sk-parallel-item\"><div class=\"sk-item\"><div class=\"sk-label-container\"><div class=\"sk-label sk-toggleable\"><input class=\"sk-toggleable__control sk-hidden--visually\" id=\"3fd00927-172b-45fe-8abe-781dcd43401d\" type=\"checkbox\" ><label for=\"3fd00927-172b-45fe-8abe-781dcd43401d\" class=\"sk-toggleable__label sk-toggleable__label-arrow\">pipeline</label><div class=\"sk-toggleable__content\"><pre>&lt;sklearn.compose._column_transformer.make_column_selector object at 0x7fd897dbfe50&gt;</pre></div></div></div><div class=\"sk-serial\"><div class=\"sk-item\"><div class=\"sk-serial\"><div class=\"sk-item\"><div class=\"sk-estimator sk-toggleable\"><input class=\"sk-toggleable__control sk-hidden--visually\" id=\"a1ecfab9-57d1-44f6-b7e3-21f617b08cf3\" type=\"checkbox\" ><label for=\"a1ecfab9-57d1-44f6-b7e3-21f617b08cf3\" class=\"sk-toggleable__label sk-toggleable__label-arrow\">SimpleImputer</label><div class=\"sk-toggleable__content\"><pre>SimpleImputer()</pre></div></div></div><div class=\"sk-item\"><div class=\"sk-estimator sk-toggleable\"><input class=\"sk-toggleable__control sk-hidden--visually\" id=\"0bf59a6b-e3ca-4558-bf96-59c65528d2e8\" type=\"checkbox\" ><label for=\"0bf59a6b-e3ca-4558-bf96-59c65528d2e8\" class=\"sk-toggleable__label sk-toggleable__label-arrow\">StandardScaler</label><div class=\"sk-toggleable__content\"><pre>StandardScaler()</pre></div></div></div></div></div></div></div></div><div class=\"sk-parallel-item\"><div class=\"sk-item\"><div class=\"sk-label-container\"><div class=\"sk-label sk-toggleable\"><input class=\"sk-toggleable__control sk-hidden--visually\" id=\"d86df494-ad90-48f7-ac76-c8239277af95\" type=\"checkbox\" ><label for=\"d86df494-ad90-48f7-ac76-c8239277af95\" class=\"sk-toggleable__label sk-toggleable__label-arrow\">remainder</label><div class=\"sk-toggleable__content\"><pre>[]</pre></div></div></div><div class=\"sk-serial\"><div class=\"sk-item\"><div class=\"sk-estimator sk-toggleable\"><input class=\"sk-toggleable__control sk-hidden--visually\" id=\"338eec9d-0a38-4ab6-b98e-b7ce0d168348\" type=\"checkbox\" ><label for=\"338eec9d-0a38-4ab6-b98e-b7ce0d168348\" class=\"sk-toggleable__label sk-toggleable__label-arrow\">passthrough</label><div class=\"sk-toggleable__content\"><pre>passthrough</pre></div></div></div></div></div></div></div></div></div></div>"
            ]
          },
          "metadata": {},
          "execution_count": 45
        }
      ]
    },
    {
      "cell_type": "code",
      "source": [
        "train_x_process = preprocessed.transform(x_train)\n",
        "test_x_process = preprocessed.transform(x_test)"
      ],
      "metadata": {
        "id": "n-p8kI1bF-xH"
      },
      "execution_count": null,
      "outputs": []
    },
    {
      "cell_type": "code",
      "source": [
        "# Inspecting\n",
        "print(np.isnan(train_x_process).sum().sum(), 'missing values in training data')\n",
        "print(np.isnan(test_x_process).sum().sum(), 'missing values in testing data')\n",
        "print('\\n')\n",
        "print('All data in train_x_processed are', train_x_process.dtype)\n",
        "print('All data in test_x_processed are', test_x_process.dtype)\n",
        "print('\\n')\n",
        "print('Shape of data is', train_x_process.shape)\n",
        "print('\\n')\n",
        "train_x_process"
      ],
      "metadata": {
        "colab": {
          "base_uri": "https://localhost:8080/"
        },
        "id": "64A6dzWKGJMd",
        "outputId": "1b9d623a-8b17-4d80-8102-4880dd5fa64d"
      },
      "execution_count": null,
      "outputs": [
        {
          "output_type": "stream",
          "name": "stdout",
          "text": [
            "0 missing values in training data\n",
            "0 missing values in testing data\n",
            "\n",
            "\n",
            "All data in train_x_processed are float64\n",
            "All data in test_x_processed are float64\n",
            "\n",
            "\n",
            "Shape of data is (223, 7)\n",
            "\n",
            "\n"
          ]
        },
        {
          "output_type": "execute_result",
          "data": {
            "text/plain": [
              "array([[-0.24555621, -0.83802749,  1.19327828, ...,  0.762601  ,\n",
              "        -0.64139879,  0.9254158 ],\n",
              "       [ 1.18954625,  1.19327828,  1.19327828, ...,  0.762601  ,\n",
              "         1.55909244, -0.74222789],\n",
              "       [-1.59624088,  1.19327828,  1.19327828, ..., -1.31130172,\n",
              "        -0.64139879, -0.85679883],\n",
              "       ...,\n",
              "       [-0.49880959, -0.83802749, -0.83802749, ...,  0.762601  ,\n",
              "        -0.64139879, -0.56400642],\n",
              "       [-0.83648076, -0.83802749,  1.19327828, ..., -1.31130172,\n",
              "        -0.64139879,  1.42188988],\n",
              "       [ 1.61163521, -0.83802749, -0.83802749, ...,  0.762601  ,\n",
              "         1.55909244, -0.57673653]])"
            ]
          },
          "metadata": {},
          "execution_count": 47
        }
      ]
    },
    {
      "cell_type": "markdown",
      "metadata": {
        "id": "7wHhAbck-_YR"
      },
      "source": [
        "####Try multiple models and tune the hyperparameters of each model to optimize model performance (include all models and hyperparameters tested in addition to the final model)"
      ]
    },
    {
      "cell_type": "markdown",
      "source": [
        "##### Logistic Regression"
      ],
      "metadata": {
        "id": "GzkcnB7nYIXE"
      }
    },
    {
      "cell_type": "code",
      "source": [
        "lr = LinearRegression()"
      ],
      "metadata": {
        "id": "mN3yvvduHIy5"
      },
      "execution_count": null,
      "outputs": []
    },
    {
      "cell_type": "code",
      "source": [
        "lr.fit(train_x_process, y_train)"
      ],
      "metadata": {
        "colab": {
          "base_uri": "https://localhost:8080/",
          "height": 75
        },
        "id": "BKJgvT6kU1Il",
        "outputId": "7d070971-b0bc-44ac-97e5-fb87799f810e"
      },
      "execution_count": null,
      "outputs": [
        {
          "output_type": "execute_result",
          "data": {
            "text/plain": [
              "LinearRegression()"
            ],
            "text/html": [
              "<style>#sk-ddf25049-40f9-4ab0-b897-687bd3ecdab7 {color: black;background-color: white;}#sk-ddf25049-40f9-4ab0-b897-687bd3ecdab7 pre{padding: 0;}#sk-ddf25049-40f9-4ab0-b897-687bd3ecdab7 div.sk-toggleable {background-color: white;}#sk-ddf25049-40f9-4ab0-b897-687bd3ecdab7 label.sk-toggleable__label {cursor: pointer;display: block;width: 100%;margin-bottom: 0;padding: 0.3em;box-sizing: border-box;text-align: center;}#sk-ddf25049-40f9-4ab0-b897-687bd3ecdab7 label.sk-toggleable__label-arrow:before {content: \"▸\";float: left;margin-right: 0.25em;color: #696969;}#sk-ddf25049-40f9-4ab0-b897-687bd3ecdab7 label.sk-toggleable__label-arrow:hover:before {color: black;}#sk-ddf25049-40f9-4ab0-b897-687bd3ecdab7 div.sk-estimator:hover label.sk-toggleable__label-arrow:before {color: black;}#sk-ddf25049-40f9-4ab0-b897-687bd3ecdab7 div.sk-toggleable__content {max-height: 0;max-width: 0;overflow: hidden;text-align: left;background-color: #f0f8ff;}#sk-ddf25049-40f9-4ab0-b897-687bd3ecdab7 div.sk-toggleable__content pre {margin: 0.2em;color: black;border-radius: 0.25em;background-color: #f0f8ff;}#sk-ddf25049-40f9-4ab0-b897-687bd3ecdab7 input.sk-toggleable__control:checked~div.sk-toggleable__content {max-height: 200px;max-width: 100%;overflow: auto;}#sk-ddf25049-40f9-4ab0-b897-687bd3ecdab7 input.sk-toggleable__control:checked~label.sk-toggleable__label-arrow:before {content: \"▾\";}#sk-ddf25049-40f9-4ab0-b897-687bd3ecdab7 div.sk-estimator input.sk-toggleable__control:checked~label.sk-toggleable__label {background-color: #d4ebff;}#sk-ddf25049-40f9-4ab0-b897-687bd3ecdab7 div.sk-label input.sk-toggleable__control:checked~label.sk-toggleable__label {background-color: #d4ebff;}#sk-ddf25049-40f9-4ab0-b897-687bd3ecdab7 input.sk-hidden--visually {border: 0;clip: rect(1px 1px 1px 1px);clip: rect(1px, 1px, 1px, 1px);height: 1px;margin: -1px;overflow: hidden;padding: 0;position: absolute;width: 1px;}#sk-ddf25049-40f9-4ab0-b897-687bd3ecdab7 div.sk-estimator {font-family: monospace;background-color: #f0f8ff;border: 1px dotted black;border-radius: 0.25em;box-sizing: border-box;margin-bottom: 0.5em;}#sk-ddf25049-40f9-4ab0-b897-687bd3ecdab7 div.sk-estimator:hover {background-color: #d4ebff;}#sk-ddf25049-40f9-4ab0-b897-687bd3ecdab7 div.sk-parallel-item::after {content: \"\";width: 100%;border-bottom: 1px solid gray;flex-grow: 1;}#sk-ddf25049-40f9-4ab0-b897-687bd3ecdab7 div.sk-label:hover label.sk-toggleable__label {background-color: #d4ebff;}#sk-ddf25049-40f9-4ab0-b897-687bd3ecdab7 div.sk-serial::before {content: \"\";position: absolute;border-left: 1px solid gray;box-sizing: border-box;top: 2em;bottom: 0;left: 50%;}#sk-ddf25049-40f9-4ab0-b897-687bd3ecdab7 div.sk-serial {display: flex;flex-direction: column;align-items: center;background-color: white;padding-right: 0.2em;padding-left: 0.2em;}#sk-ddf25049-40f9-4ab0-b897-687bd3ecdab7 div.sk-item {z-index: 1;}#sk-ddf25049-40f9-4ab0-b897-687bd3ecdab7 div.sk-parallel {display: flex;align-items: stretch;justify-content: center;background-color: white;}#sk-ddf25049-40f9-4ab0-b897-687bd3ecdab7 div.sk-parallel::before {content: \"\";position: absolute;border-left: 1px solid gray;box-sizing: border-box;top: 2em;bottom: 0;left: 50%;}#sk-ddf25049-40f9-4ab0-b897-687bd3ecdab7 div.sk-parallel-item {display: flex;flex-direction: column;position: relative;background-color: white;}#sk-ddf25049-40f9-4ab0-b897-687bd3ecdab7 div.sk-parallel-item:first-child::after {align-self: flex-end;width: 50%;}#sk-ddf25049-40f9-4ab0-b897-687bd3ecdab7 div.sk-parallel-item:last-child::after {align-self: flex-start;width: 50%;}#sk-ddf25049-40f9-4ab0-b897-687bd3ecdab7 div.sk-parallel-item:only-child::after {width: 0;}#sk-ddf25049-40f9-4ab0-b897-687bd3ecdab7 div.sk-dashed-wrapped {border: 1px dashed gray;margin: 0 0.4em 0.5em 0.4em;box-sizing: border-box;padding-bottom: 0.4em;background-color: white;position: relative;}#sk-ddf25049-40f9-4ab0-b897-687bd3ecdab7 div.sk-label label {font-family: monospace;font-weight: bold;background-color: white;display: inline-block;line-height: 1.2em;}#sk-ddf25049-40f9-4ab0-b897-687bd3ecdab7 div.sk-label-container {position: relative;z-index: 2;text-align: center;}#sk-ddf25049-40f9-4ab0-b897-687bd3ecdab7 div.sk-container {/* jupyter's `normalize.less` sets `[hidden] { display: none; }` but bootstrap.min.css set `[hidden] { display: none !important; }` so we also need the `!important` here to be able to override the default hidden behavior on the sphinx rendered scikit-learn.org. See: https://github.com/scikit-learn/scikit-learn/issues/21755 */display: inline-block !important;position: relative;}#sk-ddf25049-40f9-4ab0-b897-687bd3ecdab7 div.sk-text-repr-fallback {display: none;}</style><div id=\"sk-ddf25049-40f9-4ab0-b897-687bd3ecdab7\" class=\"sk-top-container\"><div class=\"sk-text-repr-fallback\"><pre>LinearRegression()</pre><b>Please rerun this cell to show the HTML repr or trust the notebook.</b></div><div class=\"sk-container\" hidden><div class=\"sk-item\"><div class=\"sk-estimator sk-toggleable\"><input class=\"sk-toggleable__control sk-hidden--visually\" id=\"ebdaefa1-fc20-4938-a251-bf5f83d32729\" type=\"checkbox\" checked><label for=\"ebdaefa1-fc20-4938-a251-bf5f83d32729\" class=\"sk-toggleable__label sk-toggleable__label-arrow\">LinearRegression</label><div class=\"sk-toggleable__content\"><pre>LinearRegression()</pre></div></div></div></div></div>"
            ]
          },
          "metadata": {},
          "execution_count": 49
        }
      ]
    },
    {
      "cell_type": "code",
      "source": [
        "predict=lr.predict(test_x_process)"
      ],
      "metadata": {
        "id": "Ahl7QZMNVBUL"
      },
      "execution_count": null,
      "outputs": []
    },
    {
      "cell_type": "code",
      "source": [
        "# Make an instance of the model\n",
        "logreg = LogisticRegression(C = 1000)\n",
        "# Scaler\n",
        "scaler = StandardScaler()\n",
        "# Pipeline\n",
        "logreg_pipeline = make_pipeline(scaler, logreg)\n",
        "# Training the model on the data, storing the information learned from the data\n",
        "# Model is learning the relationship between X and y \n",
        "logreg_pipeline.fit(train_x_process, y_train)"
      ],
      "metadata": {
        "colab": {
          "base_uri": "https://localhost:8080/",
          "height": 126
        },
        "id": "HV6V5DGZVHuJ",
        "outputId": "ad7445ca-f3b6-465a-fa8d-064449aa7d0c"
      },
      "execution_count": null,
      "outputs": [
        {
          "output_type": "execute_result",
          "data": {
            "text/plain": [
              "Pipeline(steps=[('standardscaler', StandardScaler()),\n",
              "                ('logisticregression', LogisticRegression(C=1000))])"
            ],
            "text/html": [
              "<style>#sk-ce8afad9-e675-438f-90ee-07240a28c393 {color: black;background-color: white;}#sk-ce8afad9-e675-438f-90ee-07240a28c393 pre{padding: 0;}#sk-ce8afad9-e675-438f-90ee-07240a28c393 div.sk-toggleable {background-color: white;}#sk-ce8afad9-e675-438f-90ee-07240a28c393 label.sk-toggleable__label {cursor: pointer;display: block;width: 100%;margin-bottom: 0;padding: 0.3em;box-sizing: border-box;text-align: center;}#sk-ce8afad9-e675-438f-90ee-07240a28c393 label.sk-toggleable__label-arrow:before {content: \"▸\";float: left;margin-right: 0.25em;color: #696969;}#sk-ce8afad9-e675-438f-90ee-07240a28c393 label.sk-toggleable__label-arrow:hover:before {color: black;}#sk-ce8afad9-e675-438f-90ee-07240a28c393 div.sk-estimator:hover label.sk-toggleable__label-arrow:before {color: black;}#sk-ce8afad9-e675-438f-90ee-07240a28c393 div.sk-toggleable__content {max-height: 0;max-width: 0;overflow: hidden;text-align: left;background-color: #f0f8ff;}#sk-ce8afad9-e675-438f-90ee-07240a28c393 div.sk-toggleable__content pre {margin: 0.2em;color: black;border-radius: 0.25em;background-color: #f0f8ff;}#sk-ce8afad9-e675-438f-90ee-07240a28c393 input.sk-toggleable__control:checked~div.sk-toggleable__content {max-height: 200px;max-width: 100%;overflow: auto;}#sk-ce8afad9-e675-438f-90ee-07240a28c393 input.sk-toggleable__control:checked~label.sk-toggleable__label-arrow:before {content: \"▾\";}#sk-ce8afad9-e675-438f-90ee-07240a28c393 div.sk-estimator input.sk-toggleable__control:checked~label.sk-toggleable__label {background-color: #d4ebff;}#sk-ce8afad9-e675-438f-90ee-07240a28c393 div.sk-label input.sk-toggleable__control:checked~label.sk-toggleable__label {background-color: #d4ebff;}#sk-ce8afad9-e675-438f-90ee-07240a28c393 input.sk-hidden--visually {border: 0;clip: rect(1px 1px 1px 1px);clip: rect(1px, 1px, 1px, 1px);height: 1px;margin: -1px;overflow: hidden;padding: 0;position: absolute;width: 1px;}#sk-ce8afad9-e675-438f-90ee-07240a28c393 div.sk-estimator {font-family: monospace;background-color: #f0f8ff;border: 1px dotted black;border-radius: 0.25em;box-sizing: border-box;margin-bottom: 0.5em;}#sk-ce8afad9-e675-438f-90ee-07240a28c393 div.sk-estimator:hover {background-color: #d4ebff;}#sk-ce8afad9-e675-438f-90ee-07240a28c393 div.sk-parallel-item::after {content: \"\";width: 100%;border-bottom: 1px solid gray;flex-grow: 1;}#sk-ce8afad9-e675-438f-90ee-07240a28c393 div.sk-label:hover label.sk-toggleable__label {background-color: #d4ebff;}#sk-ce8afad9-e675-438f-90ee-07240a28c393 div.sk-serial::before {content: \"\";position: absolute;border-left: 1px solid gray;box-sizing: border-box;top: 2em;bottom: 0;left: 50%;}#sk-ce8afad9-e675-438f-90ee-07240a28c393 div.sk-serial {display: flex;flex-direction: column;align-items: center;background-color: white;padding-right: 0.2em;padding-left: 0.2em;}#sk-ce8afad9-e675-438f-90ee-07240a28c393 div.sk-item {z-index: 1;}#sk-ce8afad9-e675-438f-90ee-07240a28c393 div.sk-parallel {display: flex;align-items: stretch;justify-content: center;background-color: white;}#sk-ce8afad9-e675-438f-90ee-07240a28c393 div.sk-parallel::before {content: \"\";position: absolute;border-left: 1px solid gray;box-sizing: border-box;top: 2em;bottom: 0;left: 50%;}#sk-ce8afad9-e675-438f-90ee-07240a28c393 div.sk-parallel-item {display: flex;flex-direction: column;position: relative;background-color: white;}#sk-ce8afad9-e675-438f-90ee-07240a28c393 div.sk-parallel-item:first-child::after {align-self: flex-end;width: 50%;}#sk-ce8afad9-e675-438f-90ee-07240a28c393 div.sk-parallel-item:last-child::after {align-self: flex-start;width: 50%;}#sk-ce8afad9-e675-438f-90ee-07240a28c393 div.sk-parallel-item:only-child::after {width: 0;}#sk-ce8afad9-e675-438f-90ee-07240a28c393 div.sk-dashed-wrapped {border: 1px dashed gray;margin: 0 0.4em 0.5em 0.4em;box-sizing: border-box;padding-bottom: 0.4em;background-color: white;position: relative;}#sk-ce8afad9-e675-438f-90ee-07240a28c393 div.sk-label label {font-family: monospace;font-weight: bold;background-color: white;display: inline-block;line-height: 1.2em;}#sk-ce8afad9-e675-438f-90ee-07240a28c393 div.sk-label-container {position: relative;z-index: 2;text-align: center;}#sk-ce8afad9-e675-438f-90ee-07240a28c393 div.sk-container {/* jupyter's `normalize.less` sets `[hidden] { display: none; }` but bootstrap.min.css set `[hidden] { display: none !important; }` so we also need the `!important` here to be able to override the default hidden behavior on the sphinx rendered scikit-learn.org. See: https://github.com/scikit-learn/scikit-learn/issues/21755 */display: inline-block !important;position: relative;}#sk-ce8afad9-e675-438f-90ee-07240a28c393 div.sk-text-repr-fallback {display: none;}</style><div id=\"sk-ce8afad9-e675-438f-90ee-07240a28c393\" class=\"sk-top-container\"><div class=\"sk-text-repr-fallback\"><pre>Pipeline(steps=[(&#x27;standardscaler&#x27;, StandardScaler()),\n",
              "                (&#x27;logisticregression&#x27;, LogisticRegression(C=1000))])</pre><b>Please rerun this cell to show the HTML repr or trust the notebook.</b></div><div class=\"sk-container\" hidden><div class=\"sk-item sk-dashed-wrapped\"><div class=\"sk-label-container\"><div class=\"sk-label sk-toggleable\"><input class=\"sk-toggleable__control sk-hidden--visually\" id=\"6455c74c-a351-4253-a491-529e046fe2f1\" type=\"checkbox\" ><label for=\"6455c74c-a351-4253-a491-529e046fe2f1\" class=\"sk-toggleable__label sk-toggleable__label-arrow\">Pipeline</label><div class=\"sk-toggleable__content\"><pre>Pipeline(steps=[(&#x27;standardscaler&#x27;, StandardScaler()),\n",
              "                (&#x27;logisticregression&#x27;, LogisticRegression(C=1000))])</pre></div></div></div><div class=\"sk-serial\"><div class=\"sk-item\"><div class=\"sk-estimator sk-toggleable\"><input class=\"sk-toggleable__control sk-hidden--visually\" id=\"a00c2749-7e4d-4b9f-88da-c8c2713517d7\" type=\"checkbox\" ><label for=\"a00c2749-7e4d-4b9f-88da-c8c2713517d7\" class=\"sk-toggleable__label sk-toggleable__label-arrow\">StandardScaler</label><div class=\"sk-toggleable__content\"><pre>StandardScaler()</pre></div></div></div><div class=\"sk-item\"><div class=\"sk-estimator sk-toggleable\"><input class=\"sk-toggleable__control sk-hidden--visually\" id=\"4920e33b-14fe-4b29-9cdb-2590a7574794\" type=\"checkbox\" ><label for=\"4920e33b-14fe-4b29-9cdb-2590a7574794\" class=\"sk-toggleable__label sk-toggleable__label-arrow\">LogisticRegression</label><div class=\"sk-toggleable__content\"><pre>LogisticRegression(C=1000)</pre></div></div></div></div></div></div></div>"
            ]
          },
          "metadata": {},
          "execution_count": 51
        }
      ]
    },
    {
      "cell_type": "code",
      "source": [
        "print(logreg_pipeline.score(train_x_process, y_train))\n",
        "print(logreg_pipeline.score(test_x_process, y_test))"
      ],
      "metadata": {
        "colab": {
          "base_uri": "https://localhost:8080/"
        },
        "id": "iw_MkwP5ViuT",
        "outputId": "764e3691-c76e-4bac-c963-212b20dea665"
      },
      "execution_count": null,
      "outputs": [
        {
          "output_type": "stream",
          "name": "stdout",
          "text": [
            "0.8385650224215246\n",
            "0.7466666666666667\n"
          ]
        }
      ]
    },
    {
      "cell_type": "code",
      "source": [
        "#L1 Tuning\n",
        "\n",
        "# create a list of c values and empty lists for scores\n",
        "c_values = [0.0001, 0.001, 0.01, 0.1, 1, 10, 100, 1000]\n",
        "train_scores = []\n",
        "test_scores = []\n",
        "#iterative over the c values\n",
        "for c in c_values:\n",
        "  # model with each value of c and fit it on the data\n",
        "  log_reg = LogisticRegression(C=c, max_iter=1000, solver='liblinear', penalty='l1')\n",
        "  log_reg_pipeline = make_pipeline(scaler, log_reg)\n",
        "  log_reg_pipeline.fit(train_x_process, y_train)\n",
        "  #training and testing scores to our scores lists\n",
        "  train_scores.append(log_reg_pipeline.score(train_x_process, y_train))\n",
        "  test_scores.append(log_reg_pipeline.score(test_x_process, y_test))\n",
        "#plot the change in accuracy as we change the value of C\n",
        "fig, ax = plt.subplots(1,1)\n",
        "ax.plot(c_values, train_scores, label='Training Accuracy')\n",
        "ax.plot(c_values, test_scores, label='Testing Accuracy')\n",
        "ax.set_xticks(c_values)\n",
        "ax.set_title('Change in accuracy over C values for l1 regularization')\n",
        "ax.legend()\n",
        "#set the x axis to a logarithmic scale to show the values of C in even intervals\n",
        "ax.set_xscale('log')\n",
        "#dictionary of values of C and accuracy scores\n",
        "{c:score for c, score in zip(c_values, test_scores)}"
      ],
      "metadata": {
        "colab": {
          "base_uri": "https://localhost:8080/",
          "height": 424
        },
        "id": "JOz9yS4GVxir",
        "outputId": "e8d69801-666a-451e-98f9-f713126822ee"
      },
      "execution_count": null,
      "outputs": [
        {
          "output_type": "execute_result",
          "data": {
            "text/plain": [
              "{0.0001: 0.6266666666666667,\n",
              " 0.001: 0.6266666666666667,\n",
              " 0.01: 0.6266666666666667,\n",
              " 0.1: 0.7333333333333333,\n",
              " 1: 0.7333333333333333,\n",
              " 10: 0.7466666666666667,\n",
              " 100: 0.7466666666666667,\n",
              " 1000: 0.7466666666666667}"
            ]
          },
          "metadata": {},
          "execution_count": 53
        },
        {
          "output_type": "display_data",
          "data": {
            "text/plain": [
              "<Figure size 432x288 with 1 Axes>"
            ],
            "image/png": "[encoded data removed]"
          },
          "metadata": {
            "needs_background": "light"
          }
        }
      ]
    },
    {
      "cell_type": "code",
      "source": [
        "#L2 Tuning\n",
        "\n",
        "# create a list of c values and empty lists for scores\n",
        "c_values = [0.0001, 0.001, 0.01, 0.1, 1, 10, 100, 1000]\n",
        "train_scores = []\n",
        "test_scores = []\n",
        "#iterative over the c values\n",
        "for c in c_values:\n",
        "  #  model with each value of c and fit it on the data\n",
        "  log_reg = LogisticRegression(C=c, max_iter=1000, solver='liblinear', penalty='l2')\n",
        "  log_reg_pipeline = make_pipeline(scaler, log_reg)\n",
        "  log_reg_pipeline.fit(train_x_process, y_train)\n",
        "  # training and testing scores\n",
        "  train_scores.append(log_reg_pipeline.score(train_x_process, y_train))\n",
        "  test_scores.append(log_reg_pipeline.score(test_x_process, y_test))\n",
        "#plot the change in accuracy as we change the value of C\n",
        "fig, ax = plt.subplots(1,1)\n",
        "ax.plot(c_values, train_scores, label='Training Accuracy')\n",
        "ax.plot(c_values, test_scores, label='Testing Accuracy')\n",
        "ax.set_xticks(c_values)\n",
        "ax.set_title('Change in accuracy over C values for l2 regularization')\n",
        "ax.legend()\n",
        "#set the x axis to a logarithmic scale to show the values of C in even intervals\n",
        "ax.set_xscale('log')\n",
        "#dictionary of values of C w/accuracy scores\n",
        "{c:score for c, score in zip(c_values, test_scores)}"
      ],
      "metadata": {
        "colab": {
          "base_uri": "https://localhost:8080/",
          "height": 424
        },
        "id": "XXa8e7TIWEoj",
        "outputId": "4d439b8b-e7ce-4ec8-9a5c-bd99dc3cf199"
      },
      "execution_count": null,
      "outputs": [
        {
          "output_type": "execute_result",
          "data": {
            "text/plain": [
              "{0.0001: 0.72,\n",
              " 0.001: 0.72,\n",
              " 0.01: 0.72,\n",
              " 0.1: 0.72,\n",
              " 1: 0.7333333333333333,\n",
              " 10: 0.7466666666666667,\n",
              " 100: 0.7466666666666667,\n",
              " 1000: 0.7466666666666667}"
            ]
          },
          "metadata": {},
          "execution_count": 54
        },
        {
          "output_type": "display_data",
          "data": {
            "text/plain": [
              "<Figure size 432x288 with 1 Axes>"
            ],
            "image/png": "[encoded data removed]"
          },
          "metadata": {
            "needs_background": "light"
          }
        }
      ]
    },
    {
      "cell_type": "markdown",
      "source": [
        "##### KNN Modeling"
      ],
      "metadata": {
        "id": "l_an9QdBXFdn"
      }
    },
    {
      "cell_type": "code",
      "source": [
        "#knn modeling\n",
        "knn = KNeighborsClassifier(n_neighbors=1)"
      ],
      "metadata": {
        "id": "umnySmKZWgpN"
      },
      "execution_count": null,
      "outputs": []
    },
    {
      "cell_type": "code",
      "source": [
        "knn.get_params()"
      ],
      "metadata": {
        "colab": {
          "base_uri": "https://localhost:8080/"
        },
        "id": "jL17p8uTWpeL",
        "outputId": "f8b96301-f08f-4338-99a4-6663907c79b2"
      },
      "execution_count": null,
      "outputs": [
        {
          "output_type": "execute_result",
          "data": {
            "text/plain": [
              "{'algorithm': 'auto',\n",
              " 'leaf_size': 30,\n",
              " 'metric': 'minkowski',\n",
              " 'metric_params': None,\n",
              " 'n_jobs': None,\n",
              " 'n_neighbors': 1,\n",
              " 'p': 2,\n",
              " 'weights': 'uniform'}"
            ]
          },
          "metadata": {},
          "execution_count": 56
        }
      ]
    },
    {
      "cell_type": "code",
      "source": [
        "knn_pipeline = make_pipeline(scaler, knn)\n",
        "knn_pipeline.fit(train_x_process, y_train)"
      ],
      "metadata": {
        "colab": {
          "base_uri": "https://localhost:8080/",
          "height": 126
        },
        "id": "g9k8R0dZWuYX",
        "outputId": "a88d1246-ac0f-4eeb-9289-03fe2faa2ada"
      },
      "execution_count": null,
      "outputs": [
        {
          "output_type": "execute_result",
          "data": {
            "text/plain": [
              "Pipeline(steps=[('standardscaler', StandardScaler()),\n",
              "                ('kneighborsclassifier', KNeighborsClassifier(n_neighbors=1))])"
            ],
            "text/html": [
              "<style>#sk-f6b00e5d-0ea6-433a-9cc3-1a8e823f9dc2 {color: black;background-color: white;}#sk-f6b00e5d-0ea6-433a-9cc3-1a8e823f9dc2 pre{padding: 0;}#sk-f6b00e5d-0ea6-433a-9cc3-1a8e823f9dc2 div.sk-toggleable {background-color: white;}#sk-f6b00e5d-0ea6-433a-9cc3-1a8e823f9dc2 label.sk-toggleable__label {cursor: pointer;display: block;width: 100%;margin-bottom: 0;padding: 0.3em;box-sizing: border-box;text-align: center;}#sk-f6b00e5d-0ea6-433a-9cc3-1a8e823f9dc2 label.sk-toggleable__label-arrow:before {content: \"▸\";float: left;margin-right: 0.25em;color: #696969;}#sk-f6b00e5d-0ea6-433a-9cc3-1a8e823f9dc2 label.sk-toggleable__label-arrow:hover:before {color: black;}#sk-f6b00e5d-0ea6-433a-9cc3-1a8e823f9dc2 div.sk-estimator:hover label.sk-toggleable__label-arrow:before {color: black;}#sk-f6b00e5d-0ea6-433a-9cc3-1a8e823f9dc2 div.sk-toggleable__content {max-height: 0;max-width: 0;overflow: hidden;text-align: left;background-color: #f0f8ff;}#sk-f6b00e5d-0ea6-433a-9cc3-1a8e823f9dc2 div.sk-toggleable__content pre {margin: 0.2em;color: black;border-radius: 0.25em;background-color: #f0f8ff;}#sk-f6b00e5d-0ea6-433a-9cc3-1a8e823f9dc2 input.sk-toggleable__control:checked~div.sk-toggleable__content {max-height: 200px;max-width: 100%;overflow: auto;}#sk-f6b00e5d-0ea6-433a-9cc3-1a8e823f9dc2 input.sk-toggleable__control:checked~label.sk-toggleable__label-arrow:before {content: \"▾\";}#sk-f6b00e5d-0ea6-433a-9cc3-1a8e823f9dc2 div.sk-estimator input.sk-toggleable__control:checked~label.sk-toggleable__label {background-color: #d4ebff;}#sk-f6b00e5d-0ea6-433a-9cc3-1a8e823f9dc2 div.sk-label input.sk-toggleable__control:checked~label.sk-toggleable__label {background-color: #d4ebff;}#sk-f6b00e5d-0ea6-433a-9cc3-1a8e823f9dc2 input.sk-hidden--visually {border: 0;clip: rect(1px 1px 1px 1px);clip: rect(1px, 1px, 1px, 1px);height: 1px;margin: -1px;overflow: hidden;padding: 0;position: absolute;width: 1px;}#sk-f6b00e5d-0ea6-433a-9cc3-1a8e823f9dc2 div.sk-estimator {font-family: monospace;background-color: #f0f8ff;border: 1px dotted black;border-radius: 0.25em;box-sizing: border-box;margin-bottom: 0.5em;}#sk-f6b00e5d-0ea6-433a-9cc3-1a8e823f9dc2 div.sk-estimator:hover {background-color: #d4ebff;}#sk-f6b00e5d-0ea6-433a-9cc3-1a8e823f9dc2 div.sk-parallel-item::after {content: \"\";width: 100%;border-bottom: 1px solid gray;flex-grow: 1;}#sk-f6b00e5d-0ea6-433a-9cc3-1a8e823f9dc2 div.sk-label:hover label.sk-toggleable__label {background-color: #d4ebff;}#sk-f6b00e5d-0ea6-433a-9cc3-1a8e823f9dc2 div.sk-serial::before {content: \"\";position: absolute;border-left: 1px solid gray;box-sizing: border-box;top: 2em;bottom: 0;left: 50%;}#sk-f6b00e5d-0ea6-433a-9cc3-1a8e823f9dc2 div.sk-serial {display: flex;flex-direction: column;align-items: center;background-color: white;padding-right: 0.2em;padding-left: 0.2em;}#sk-f6b00e5d-0ea6-433a-9cc3-1a8e823f9dc2 div.sk-item {z-index: 1;}#sk-f6b00e5d-0ea6-433a-9cc3-1a8e823f9dc2 div.sk-parallel {display: flex;align-items: stretch;justify-content: center;background-color: white;}#sk-f6b00e5d-0ea6-433a-9cc3-1a8e823f9dc2 div.sk-parallel::before {content: \"\";position: absolute;border-left: 1px solid gray;box-sizing: border-box;top: 2em;bottom: 0;left: 50%;}#sk-f6b00e5d-0ea6-433a-9cc3-1a8e823f9dc2 div.sk-parallel-item {display: flex;flex-direction: column;position: relative;background-color: white;}#sk-f6b00e5d-0ea6-433a-9cc3-1a8e823f9dc2 div.sk-parallel-item:first-child::after {align-self: flex-end;width: 50%;}#sk-f6b00e5d-0ea6-433a-9cc3-1a8e823f9dc2 div.sk-parallel-item:last-child::after {align-self: flex-start;width: 50%;}#sk-f6b00e5d-0ea6-433a-9cc3-1a8e823f9dc2 div.sk-parallel-item:only-child::after {width: 0;}#sk-f6b00e5d-0ea6-433a-9cc3-1a8e823f9dc2 div.sk-dashed-wrapped {border: 1px dashed gray;margin: 0 0.4em 0.5em 0.4em;box-sizing: border-box;padding-bottom: 0.4em;background-color: white;position: relative;}#sk-f6b00e5d-0ea6-433a-9cc3-1a8e823f9dc2 div.sk-label label {font-family: monospace;font-weight: bold;background-color: white;display: inline-block;line-height: 1.2em;}#sk-f6b00e5d-0ea6-433a-9cc3-1a8e823f9dc2 div.sk-label-container {position: relative;z-index: 2;text-align: center;}#sk-f6b00e5d-0ea6-433a-9cc3-1a8e823f9dc2 div.sk-container {/* jupyter's `normalize.less` sets `[hidden] { display: none; }` but bootstrap.min.css set `[hidden] { display: none !important; }` so we also need the `!important` here to be able to override the default hidden behavior on the sphinx rendered scikit-learn.org. See: https://github.com/scikit-learn/scikit-learn/issues/21755 */display: inline-block !important;position: relative;}#sk-f6b00e5d-0ea6-433a-9cc3-1a8e823f9dc2 div.sk-text-repr-fallback {display: none;}</style><div id=\"sk-f6b00e5d-0ea6-433a-9cc3-1a8e823f9dc2\" class=\"sk-top-container\"><div class=\"sk-text-repr-fallback\"><pre>Pipeline(steps=[(&#x27;standardscaler&#x27;, StandardScaler()),\n",
              "                (&#x27;kneighborsclassifier&#x27;, KNeighborsClassifier(n_neighbors=1))])</pre><b>Please rerun this cell to show the HTML repr or trust the notebook.</b></div><div class=\"sk-container\" hidden><div class=\"sk-item sk-dashed-wrapped\"><div class=\"sk-label-container\"><div class=\"sk-label sk-toggleable\"><input class=\"sk-toggleable__control sk-hidden--visually\" id=\"f969a638-4d82-41b6-9f28-aaafa03edd41\" type=\"checkbox\" ><label for=\"f969a638-4d82-41b6-9f28-aaafa03edd41\" class=\"sk-toggleable__label sk-toggleable__label-arrow\">Pipeline</label><div class=\"sk-toggleable__content\"><pre>Pipeline(steps=[(&#x27;standardscaler&#x27;, StandardScaler()),\n",
              "                (&#x27;kneighborsclassifier&#x27;, KNeighborsClassifier(n_neighbors=1))])</pre></div></div></div><div class=\"sk-serial\"><div class=\"sk-item\"><div class=\"sk-estimator sk-toggleable\"><input class=\"sk-toggleable__control sk-hidden--visually\" id=\"b5fb4468-4fef-45e1-bb2e-70abad868690\" type=\"checkbox\" ><label for=\"b5fb4468-4fef-45e1-bb2e-70abad868690\" class=\"sk-toggleable__label sk-toggleable__label-arrow\">StandardScaler</label><div class=\"sk-toggleable__content\"><pre>StandardScaler()</pre></div></div></div><div class=\"sk-item\"><div class=\"sk-estimator sk-toggleable\"><input class=\"sk-toggleable__control sk-hidden--visually\" id=\"544868cb-0264-40e1-8eb7-8ec5f4af35f2\" type=\"checkbox\" ><label for=\"544868cb-0264-40e1-8eb7-8ec5f4af35f2\" class=\"sk-toggleable__label sk-toggleable__label-arrow\">KNeighborsClassifier</label><div class=\"sk-toggleable__content\"><pre>KNeighborsClassifier(n_neighbors=1)</pre></div></div></div></div></div></div></div>"
            ]
          },
          "metadata": {},
          "execution_count": 57
        }
      ]
    },
    {
      "cell_type": "code",
      "source": [
        "predict_pipe = knn_pipeline.predict(test_x_process)\n",
        "predict_pipe"
      ],
      "metadata": {
        "colab": {
          "base_uri": "https://localhost:8080/"
        },
        "id": "kY_TnfpqW0AS",
        "outputId": "8bc33037-4f4d-4f04-ae70-69700948d0ee"
      },
      "execution_count": null,
      "outputs": [
        {
          "output_type": "execute_result",
          "data": {
            "text/plain": [
              "array([0, 0, 0, 1, 0, 0, 0, 0, 1, 0, 0, 0, 0, 0, 0, 0, 1, 0, 0, 0, 0, 0,\n",
              "       0, 0, 1, 0, 0, 0, 0, 0, 1, 0, 1, 1, 0, 1, 0, 1, 0, 0, 0, 0, 0, 1,\n",
              "       0, 0, 0, 0, 1, 0, 0, 0, 0, 0, 0, 0, 0, 1, 0, 1, 1, 0, 1, 0, 0, 1,\n",
              "       0, 1, 0, 0, 0, 1, 0, 0, 1])"
            ]
          },
          "metadata": {},
          "execution_count": 58
        }
      ]
    },
    {
      "cell_type": "code",
      "source": [
        "accurate_score = knn_pipeline.score(test_x_process, y_test)\n",
        "accurate_score"
      ],
      "metadata": {
        "colab": {
          "base_uri": "https://localhost:8080/"
        },
        "id": "MW7_hKfpW848",
        "outputId": "95a51166-53b6-428f-b097-bff98eb4c729"
      },
      "execution_count": null,
      "outputs": [
        {
          "output_type": "execute_result",
          "data": {
            "text/plain": [
              "0.6666666666666666"
            ]
          },
          "metadata": {},
          "execution_count": 59
        }
      ]
    },
    {
      "cell_type": "markdown",
      "source": [
        "##### Random Forest Modeling"
      ],
      "metadata": {
        "id": "fIK8eAo5XIWA"
      }
    },
    {
      "cell_type": "code",
      "source": [
        "randomforest = RandomForestClassifier(random_state = 42)"
      ],
      "metadata": {
        "id": "AqHEOxTbXMbt"
      },
      "execution_count": null,
      "outputs": []
    },
    {
      "cell_type": "code",
      "source": [
        "randomforest.get_params()"
      ],
      "metadata": {
        "colab": {
          "base_uri": "https://localhost:8080/"
        },
        "id": "cgxdDidYXOsH",
        "outputId": "bbf2014a-0636-4311-c3af-1d4d44cfb89c"
      },
      "execution_count": null,
      "outputs": [
        {
          "output_type": "execute_result",
          "data": {
            "text/plain": [
              "{'bootstrap': True,\n",
              " 'ccp_alpha': 0.0,\n",
              " 'class_weight': None,\n",
              " 'criterion': 'gini',\n",
              " 'max_depth': None,\n",
              " 'max_features': 'auto',\n",
              " 'max_leaf_nodes': None,\n",
              " 'max_samples': None,\n",
              " 'min_impurity_decrease': 0.0,\n",
              " 'min_samples_leaf': 1,\n",
              " 'min_samples_split': 2,\n",
              " 'min_weight_fraction_leaf': 0.0,\n",
              " 'n_estimators': 100,\n",
              " 'n_jobs': None,\n",
              " 'oob_score': False,\n",
              " 'random_state': 42,\n",
              " 'verbose': 0,\n",
              " 'warm_start': False}"
            ]
          },
          "metadata": {},
          "execution_count": 61
        }
      ]
    },
    {
      "cell_type": "code",
      "source": [
        "randomforest.fit(train_x_process, y_train)"
      ],
      "metadata": {
        "colab": {
          "base_uri": "https://localhost:8080/",
          "height": 75
        },
        "id": "ksftaPNjXQi9",
        "outputId": "b20659fb-477d-4fc5-aa43-71571f3ea98a"
      },
      "execution_count": null,
      "outputs": [
        {
          "output_type": "execute_result",
          "data": {
            "text/plain": [
              "RandomForestClassifier(random_state=42)"
            ],
            "text/html": [
              "<style>#sk-7384630a-9f9c-4a16-87df-bbd866af88ff {color: black;background-color: white;}#sk-7384630a-9f9c-4a16-87df-bbd866af88ff pre{padding: 0;}#sk-7384630a-9f9c-4a16-87df-bbd866af88ff div.sk-toggleable {background-color: white;}#sk-7384630a-9f9c-4a16-87df-bbd866af88ff label.sk-toggleable__label {cursor: pointer;display: block;width: 100%;margin-bottom: 0;padding: 0.3em;box-sizing: border-box;text-align: center;}#sk-7384630a-9f9c-4a16-87df-bbd866af88ff label.sk-toggleable__label-arrow:before {content: \"▸\";float: left;margin-right: 0.25em;color: #696969;}#sk-7384630a-9f9c-4a16-87df-bbd866af88ff label.sk-toggleable__label-arrow:hover:before {color: black;}#sk-7384630a-9f9c-4a16-87df-bbd866af88ff div.sk-estimator:hover label.sk-toggleable__label-arrow:before {color: black;}#sk-7384630a-9f9c-4a16-87df-bbd866af88ff div.sk-toggleable__content {max-height: 0;max-width: 0;overflow: hidden;text-align: left;background-color: #f0f8ff;}#sk-7384630a-9f9c-4a16-87df-bbd866af88ff div.sk-toggleable__content pre {margin: 0.2em;color: black;border-radius: 0.25em;background-color: #f0f8ff;}#sk-7384630a-9f9c-4a16-87df-bbd866af88ff input.sk-toggleable__control:checked~div.sk-toggleable__content {max-height: 200px;max-width: 100%;overflow: auto;}#sk-7384630a-9f9c-4a16-87df-bbd866af88ff input.sk-toggleable__control:checked~label.sk-toggleable__label-arrow:before {content: \"▾\";}#sk-7384630a-9f9c-4a16-87df-bbd866af88ff div.sk-estimator input.sk-toggleable__control:checked~label.sk-toggleable__label {background-color: #d4ebff;}#sk-7384630a-9f9c-4a16-87df-bbd866af88ff div.sk-label input.sk-toggleable__control:checked~label.sk-toggleable__label {background-color: #d4ebff;}#sk-7384630a-9f9c-4a16-87df-bbd866af88ff input.sk-hidden--visually {border: 0;clip: rect(1px 1px 1px 1px);clip: rect(1px, 1px, 1px, 1px);height: 1px;margin: -1px;overflow: hidden;padding: 0;position: absolute;width: 1px;}#sk-7384630a-9f9c-4a16-87df-bbd866af88ff div.sk-estimator {font-family: monospace;background-color: #f0f8ff;border: 1px dotted black;border-radius: 0.25em;box-sizing: border-box;margin-bottom: 0.5em;}#sk-7384630a-9f9c-4a16-87df-bbd866af88ff div.sk-estimator:hover {background-color: #d4ebff;}#sk-7384630a-9f9c-4a16-87df-bbd866af88ff div.sk-parallel-item::after {content: \"\";width: 100%;border-bottom: 1px solid gray;flex-grow: 1;}#sk-7384630a-9f9c-4a16-87df-bbd866af88ff div.sk-label:hover label.sk-toggleable__label {background-color: #d4ebff;}#sk-7384630a-9f9c-4a16-87df-bbd866af88ff div.sk-serial::before {content: \"\";position: absolute;border-left: 1px solid gray;box-sizing: border-box;top: 2em;bottom: 0;left: 50%;}#sk-7384630a-9f9c-4a16-87df-bbd866af88ff div.sk-serial {display: flex;flex-direction: column;align-items: center;background-color: white;padding-right: 0.2em;padding-left: 0.2em;}#sk-7384630a-9f9c-4a16-87df-bbd866af88ff div.sk-item {z-index: 1;}#sk-7384630a-9f9c-4a16-87df-bbd866af88ff div.sk-parallel {display: flex;align-items: stretch;justify-content: center;background-color: white;}#sk-7384630a-9f9c-4a16-87df-bbd866af88ff div.sk-parallel::before {content: \"\";position: absolute;border-left: 1px solid gray;box-sizing: border-box;top: 2em;bottom: 0;left: 50%;}#sk-7384630a-9f9c-4a16-87df-bbd866af88ff div.sk-parallel-item {display: flex;flex-direction: column;position: relative;background-color: white;}#sk-7384630a-9f9c-4a16-87df-bbd866af88ff div.sk-parallel-item:first-child::after {align-self: flex-end;width: 50%;}#sk-7384630a-9f9c-4a16-87df-bbd866af88ff div.sk-parallel-item:last-child::after {align-self: flex-start;width: 50%;}#sk-7384630a-9f9c-4a16-87df-bbd866af88ff div.sk-parallel-item:only-child::after {width: 0;}#sk-7384630a-9f9c-4a16-87df-bbd866af88ff div.sk-dashed-wrapped {border: 1px dashed gray;margin: 0 0.4em 0.5em 0.4em;box-sizing: border-box;padding-bottom: 0.4em;background-color: white;position: relative;}#sk-7384630a-9f9c-4a16-87df-bbd866af88ff div.sk-label label {font-family: monospace;font-weight: bold;background-color: white;display: inline-block;line-height: 1.2em;}#sk-7384630a-9f9c-4a16-87df-bbd866af88ff div.sk-label-container {position: relative;z-index: 2;text-align: center;}#sk-7384630a-9f9c-4a16-87df-bbd866af88ff div.sk-container {/* jupyter's `normalize.less` sets `[hidden] { display: none; }` but bootstrap.min.css set `[hidden] { display: none !important; }` so we also need the `!important` here to be able to override the default hidden behavior on the sphinx rendered scikit-learn.org. See: https://github.com/scikit-learn/scikit-learn/issues/21755 */display: inline-block !important;position: relative;}#sk-7384630a-9f9c-4a16-87df-bbd866af88ff div.sk-text-repr-fallback {display: none;}</style><div id=\"sk-7384630a-9f9c-4a16-87df-bbd866af88ff\" class=\"sk-top-container\"><div class=\"sk-text-repr-fallback\"><pre>RandomForestClassifier(random_state=42)</pre><b>Please rerun this cell to show the HTML repr or trust the notebook.</b></div><div class=\"sk-container\" hidden><div class=\"sk-item\"><div class=\"sk-estimator sk-toggleable\"><input class=\"sk-toggleable__control sk-hidden--visually\" id=\"f8f24cd9-2c8b-4adc-921c-78dcab4cbadd\" type=\"checkbox\" checked><label for=\"f8f24cd9-2c8b-4adc-921c-78dcab4cbadd\" class=\"sk-toggleable__label sk-toggleable__label-arrow\">RandomForestClassifier</label><div class=\"sk-toggleable__content\"><pre>RandomForestClassifier(random_state=42)</pre></div></div></div></div></div>"
            ]
          },
          "metadata": {},
          "execution_count": 62
        }
      ]
    },
    {
      "cell_type": "code",
      "source": [
        "randomforest.predict(test_x_process)"
      ],
      "metadata": {
        "colab": {
          "base_uri": "https://localhost:8080/"
        },
        "id": "d2nduMQuXSwi",
        "outputId": "07fc8d14-8f37-47d3-8d1d-b40b7225ba3e"
      },
      "execution_count": null,
      "outputs": [
        {
          "output_type": "execute_result",
          "data": {
            "text/plain": [
              "array([0, 0, 0, 1, 0, 0, 0, 0, 1, 0, 0, 0, 0, 0, 1, 0, 0, 0, 0, 0, 0, 0,\n",
              "       0, 1, 1, 0, 0, 0, 0, 0, 1, 0, 1, 1, 0, 1, 0, 0, 0, 0, 0, 0, 0, 0,\n",
              "       0, 0, 0, 0, 0, 0, 0, 0, 0, 0, 0, 0, 0, 1, 0, 1, 1, 0, 0, 0, 1, 1,\n",
              "       0, 1, 0, 0, 0, 0, 0, 0, 1])"
            ]
          },
          "metadata": {},
          "execution_count": 63
        }
      ]
    },
    {
      "cell_type": "code",
      "source": [
        "rf_train_score = randomforest.score(train_x_process, y_train)\n",
        "rf_test_score = randomforest.score(test_x_process, y_test)\n",
        "print(rf_train_score)\n",
        "print(rf_test_score)"
      ],
      "metadata": {
        "colab": {
          "base_uri": "https://localhost:8080/"
        },
        "id": "Y17ige8qXUqh",
        "outputId": "9b42f02e-300a-486b-92b9-a589d46aa000"
      },
      "execution_count": null,
      "outputs": [
        {
          "output_type": "stream",
          "name": "stdout",
          "text": [
            "1.0\n",
            "0.7333333333333333\n"
          ]
        }
      ]
    },
    {
      "cell_type": "code",
      "source": [
        "est_depths = [estimator.get_depth() for estimator in randomforest.estimators_]\n",
        "max(est_depths)"
      ],
      "metadata": {
        "colab": {
          "base_uri": "https://localhost:8080/"
        },
        "id": "7UIEv5oWXVIb",
        "outputId": "68c885df-6ed3-4ff9-81ff-4d711add7a56"
      },
      "execution_count": null,
      "outputs": [
        {
          "output_type": "execute_result",
          "data": {
            "text/plain": [
              "14"
            ]
          },
          "metadata": {},
          "execution_count": 65
        }
      ]
    },
    {
      "cell_type": "code",
      "source": [
        "depths = range(1, max(est_depths))\n",
        "scores = pd.DataFrame(index=depths, columns=['Test Score'])\n",
        "for depth in depths:    \n",
        "   model1 = RandomForestClassifier(max_depth=depth)\n",
        "   model1.fit(train_x_process, y_train)\n",
        "   scores.loc[depth, 'Train Score'] = model1.score(train_x_process, y_train)\n",
        "   scores.loc[depth, 'Test Score'] = model1.score(test_x_process, y_test)\n",
        "   \n",
        "scores.head()"
      ],
      "metadata": {
        "colab": {
          "base_uri": "https://localhost:8080/",
          "height": 206
        },
        "id": "ihxXSTyzXXfT",
        "outputId": "a4b7c05b-c2c3-4c57-ce8b-c19dc1af1375"
      },
      "execution_count": null,
      "outputs": [
        {
          "output_type": "execute_result",
          "data": {
            "text/plain": [
              "  Test Score  Train Score\n",
              "1   0.666667     0.735426\n",
              "2       0.72     0.838565\n",
              "3       0.76     0.869955\n",
              "4   0.786667     0.883408\n",
              "5       0.76     0.910314"
            ],
            "text/html": [
              "\n",
              "  <div id=\"df-16b5a177-af57-4564-80dd-706323c3d8f9\">\n",
              "    <div class=\"colab-df-container\">\n",
              "      <div>\n",
              "<style scoped>\n",
              "    .dataframe tbody tr th:only-of-type {\n",
              "        vertical-align: middle;\n",
              "    }\n",
              "\n",
              "    .dataframe tbody tr th {\n",
              "        vertical-align: top;\n",
              "    }\n",
              "\n",
              "    .dataframe thead th {\n",
              "        text-align: right;\n",
              "    }\n",
              "</style>\n",
              "<table border=\"1\" class=\"dataframe\">\n",
              "  <thead>\n",
              "    <tr style=\"text-align: right;\">\n",
              "      <th></th>\n",
              "      <th>Test Score</th>\n",
              "      <th>Train Score</th>\n",
              "    </tr>\n",
              "  </thead>\n",
              "  <tbody>\n",
              "    <tr>\n",
              "      <th>1</th>\n",
              "      <td>0.666667</td>\n",
              "      <td>0.735426</td>\n",
              "    </tr>\n",
              "    <tr>\n",
              "      <th>2</th>\n",
              "      <td>0.72</td>\n",
              "      <td>0.838565</td>\n",
              "    </tr>\n",
              "    <tr>\n",
              "      <th>3</th>\n",
              "      <td>0.76</td>\n",
              "      <td>0.869955</td>\n",
              "    </tr>\n",
              "    <tr>\n",
              "      <th>4</th>\n",
              "      <td>0.786667</td>\n",
              "      <td>0.883408</td>\n",
              "    </tr>\n",
              "    <tr>\n",
              "      <th>5</th>\n",
              "      <td>0.76</td>\n",
              "      <td>0.910314</td>\n",
              "    </tr>\n",
              "  </tbody>\n",
              "</table>\n",
              "</div>\n",
              "      <button class=\"colab-df-convert\" onclick=\"convertToInteractive('df-16b5a177-af57-4564-80dd-706323c3d8f9')\"\n",
              "              title=\"Convert this dataframe to an interactive table.\"\n",
              "              style=\"display:none;\">\n",
              "        \n",
              "  <svg xmlns=\"http://www.w3.org/2000/svg\" height=\"24px\"viewBox=\"0 0 24 24\"\n",
              "       width=\"24px\">\n",
              "    <path d=\"M0 0h24v24H0V0z\" fill=\"none\"/>\n",
              "    <path d=\"M18.56 5.44l.94 2.06.94-2.06 2.06-.94-2.06-.94-.94-2.06-.94 2.06-2.06.94zm-11 1L8.5 8.5l.94-2.06 2.06-.94-2.06-.94L8.5 2.5l-.94 2.06-2.06.94zm10 10l.94 2.06.94-2.06 2.06-.94-2.06-.94-.94-2.06-.94 2.06-2.06.94z\"/><path d=\"M17.41 7.96l-1.37-1.37c-.4-.4-.92-.59-1.43-.59-.52 0-1.04.2-1.43.59L10.3 9.45l-7.72 7.72c-.78.78-.78 2.05 0 2.83L4 21.41c.39.39.9.59 1.41.59.51 0 1.02-.2 1.41-.59l7.78-7.78 2.81-2.81c.8-.78.8-2.07 0-2.86zM5.41 20L4 18.59l7.72-7.72 1.47 1.35L5.41 20z\"/>\n",
              "  </svg>\n",
              "      </button>\n",
              "      \n",
              "  <style>\n",
              "    .colab-df-container {\n",
              "      display:flex;\n",
              "      flex-wrap:wrap;\n",
              "      gap: 12px;\n",
              "    }\n",
              "\n",
              "    .colab-df-convert {\n",
              "      background-color: #E8F0FE;\n",
              "      border: none;\n",
              "      border-radius: 50%;\n",
              "      cursor: pointer;\n",
              "      display: none;\n",
              "      fill: #1967D2;\n",
              "      height: 32px;\n",
              "      padding: 0 0 0 0;\n",
              "      width: 32px;\n",
              "    }\n",
              "\n",
              "    .colab-df-convert:hover {\n",
              "      background-color: #E2EBFA;\n",
              "      box-shadow: 0px 1px 2px rgba(60, 64, 67, 0.3), 0px 1px 3px 1px rgba(60, 64, 67, 0.15);\n",
              "      fill: #174EA6;\n",
              "    }\n",
              "\n",
              "    [theme=dark] .colab-df-convert {\n",
              "      background-color: #3B4455;\n",
              "      fill: #D2E3FC;\n",
              "    }\n",
              "\n",
              "    [theme=dark] .colab-df-convert:hover {\n",
              "      background-color: #434B5C;\n",
              "      box-shadow: 0px 1px 3px 1px rgba(0, 0, 0, 0.15);\n",
              "      filter: drop-shadow(0px 1px 2px rgba(0, 0, 0, 0.3));\n",
              "      fill: #FFFFFF;\n",
              "    }\n",
              "  </style>\n",
              "\n",
              "      <script>\n",
              "        const buttonEl =\n",
              "          document.querySelector('#df-16b5a177-af57-4564-80dd-706323c3d8f9 button.colab-df-convert');\n",
              "        buttonEl.style.display =\n",
              "          google.colab.kernel.accessAllowed ? 'block' : 'none';\n",
              "\n",
              "        async function convertToInteractive(key) {\n",
              "          const element = document.querySelector('#df-16b5a177-af57-4564-80dd-706323c3d8f9');\n",
              "          const dataTable =\n",
              "            await google.colab.kernel.invokeFunction('convertToInteractive',\n",
              "                                                     [key], {});\n",
              "          if (!dataTable) return;\n",
              "\n",
              "          const docLinkHtml = 'Like what you see? Visit the ' +\n",
              "            '<a target=\"_blank\" href=https://colab.research.google.com/notebooks/data_table.ipynb>data table notebook</a>'\n",
              "            + ' to learn more about interactive tables.';\n",
              "          element.innerHTML = '';\n",
              "          dataTable['output_type'] = 'display_data';\n",
              "          await google.colab.output.renderOutput(dataTable, element);\n",
              "          const docLink = document.createElement('div');\n",
              "          docLink.innerHTML = docLinkHtml;\n",
              "          element.appendChild(docLink);\n",
              "        }\n",
              "      </script>\n",
              "    </div>\n",
              "  </div>\n",
              "  "
            ]
          },
          "metadata": {},
          "execution_count": 66
        }
      ]
    },
    {
      "cell_type": "code",
      "source": [
        "plt.plot(scores['Test Score'])"
      ],
      "metadata": {
        "colab": {
          "base_uri": "https://localhost:8080/",
          "height": 282
        },
        "id": "dC8ZDLOrXbgI",
        "outputId": "7452154a-5aec-4192-cb27-b660212ee0ae"
      },
      "execution_count": null,
      "outputs": [
        {
          "output_type": "execute_result",
          "data": {
            "text/plain": [
              "[<matplotlib.lines.Line2D at 0x7fd8979017d0>]"
            ]
          },
          "metadata": {},
          "execution_count": 67
        },
        {
          "output_type": "display_data",
          "data": {
            "text/plain": [
              "<Figure size 432x288 with 1 Axes>"
            ],
            "image/png": "[encoded data removed]"
          },
          "metadata": {
            "needs_background": "light"
          }
        }
      ]
    },
    {
      "cell_type": "code",
      "source": [
        "sort_scores = scores.sort_values(by='Test Score', ascending=False)\n",
        "sort_scores.head()"
      ],
      "metadata": {
        "colab": {
          "base_uri": "https://localhost:8080/",
          "height": 206
        },
        "id": "mnTmDiJFX6ET",
        "outputId": "08c699eb-f4f9-4220-a70c-f9fddad03160"
      },
      "execution_count": null,
      "outputs": [
        {
          "output_type": "execute_result",
          "data": {
            "text/plain": [
              "  Test Score  Train Score\n",
              "4   0.786667     0.883408\n",
              "3       0.76     0.869955\n",
              "5       0.76     0.910314\n",
              "6   0.746667     0.928251\n",
              "9   0.746667     0.991031"
            ],
            "text/html": [
              "\n",
              "  <div id=\"df-1e71dbb5-1b05-47dd-93b6-850af24f6343\">\n",
              "    <div class=\"colab-df-container\">\n",
              "      <div>\n",
              "<style scoped>\n",
              "    .dataframe tbody tr th:only-of-type {\n",
              "        vertical-align: middle;\n",
              "    }\n",
              "\n",
              "    .dataframe tbody tr th {\n",
              "        vertical-align: top;\n",
              "    }\n",
              "\n",
              "    .dataframe thead th {\n",
              "        text-align: right;\n",
              "    }\n",
              "</style>\n",
              "<table border=\"1\" class=\"dataframe\">\n",
              "  <thead>\n",
              "    <tr style=\"text-align: right;\">\n",
              "      <th></th>\n",
              "      <th>Test Score</th>\n",
              "      <th>Train Score</th>\n",
              "    </tr>\n",
              "  </thead>\n",
              "  <tbody>\n",
              "    <tr>\n",
              "      <th>4</th>\n",
              "      <td>0.786667</td>\n",
              "      <td>0.883408</td>\n",
              "    </tr>\n",
              "    <tr>\n",
              "      <th>3</th>\n",
              "      <td>0.76</td>\n",
              "      <td>0.869955</td>\n",
              "    </tr>\n",
              "    <tr>\n",
              "      <th>5</th>\n",
              "      <td>0.76</td>\n",
              "      <td>0.910314</td>\n",
              "    </tr>\n",
              "    <tr>\n",
              "      <th>6</th>\n",
              "      <td>0.746667</td>\n",
              "      <td>0.928251</td>\n",
              "    </tr>\n",
              "    <tr>\n",
              "      <th>9</th>\n",
              "      <td>0.746667</td>\n",
              "      <td>0.991031</td>\n",
              "    </tr>\n",
              "  </tbody>\n",
              "</table>\n",
              "</div>\n",
              "      <button class=\"colab-df-convert\" onclick=\"convertToInteractive('df-1e71dbb5-1b05-47dd-93b6-850af24f6343')\"\n",
              "              title=\"Convert this dataframe to an interactive table.\"\n",
              "              style=\"display:none;\">\n",
              "        \n",
              "  <svg xmlns=\"http://www.w3.org/2000/svg\" height=\"24px\"viewBox=\"0 0 24 24\"\n",
              "       width=\"24px\">\n",
              "    <path d=\"M0 0h24v24H0V0z\" fill=\"none\"/>\n",
              "    <path d=\"M18.56 5.44l.94 2.06.94-2.06 2.06-.94-2.06-.94-.94-2.06-.94 2.06-2.06.94zm-11 1L8.5 8.5l.94-2.06 2.06-.94-2.06-.94L8.5 2.5l-.94 2.06-2.06.94zm10 10l.94 2.06.94-2.06 2.06-.94-2.06-.94-.94-2.06-.94 2.06-2.06.94z\"/><path d=\"M17.41 7.96l-1.37-1.37c-.4-.4-.92-.59-1.43-.59-.52 0-1.04.2-1.43.59L10.3 9.45l-7.72 7.72c-.78.78-.78 2.05 0 2.83L4 21.41c.39.39.9.59 1.41.59.51 0 1.02-.2 1.41-.59l7.78-7.78 2.81-2.81c.8-.78.8-2.07 0-2.86zM5.41 20L4 18.59l7.72-7.72 1.47 1.35L5.41 20z\"/>\n",
              "  </svg>\n",
              "      </button>\n",
              "      \n",
              "  <style>\n",
              "    .colab-df-container {\n",
              "      display:flex;\n",
              "      flex-wrap:wrap;\n",
              "      gap: 12px;\n",
              "    }\n",
              "\n",
              "    .colab-df-convert {\n",
              "      background-color: #E8F0FE;\n",
              "      border: none;\n",
              "      border-radius: 50%;\n",
              "      cursor: pointer;\n",
              "      display: none;\n",
              "      fill: #1967D2;\n",
              "      height: 32px;\n",
              "      padding: 0 0 0 0;\n",
              "      width: 32px;\n",
              "    }\n",
              "\n",
              "    .colab-df-convert:hover {\n",
              "      background-color: #E2EBFA;\n",
              "      box-shadow: 0px 1px 2px rgba(60, 64, 67, 0.3), 0px 1px 3px 1px rgba(60, 64, 67, 0.15);\n",
              "      fill: #174EA6;\n",
              "    }\n",
              "\n",
              "    [theme=dark] .colab-df-convert {\n",
              "      background-color: #3B4455;\n",
              "      fill: #D2E3FC;\n",
              "    }\n",
              "\n",
              "    [theme=dark] .colab-df-convert:hover {\n",
              "      background-color: #434B5C;\n",
              "      box-shadow: 0px 1px 3px 1px rgba(0, 0, 0, 0.15);\n",
              "      filter: drop-shadow(0px 1px 2px rgba(0, 0, 0, 0.3));\n",
              "      fill: #FFFFFF;\n",
              "    }\n",
              "  </style>\n",
              "\n",
              "      <script>\n",
              "        const buttonEl =\n",
              "          document.querySelector('#df-1e71dbb5-1b05-47dd-93b6-850af24f6343 button.colab-df-convert');\n",
              "        buttonEl.style.display =\n",
              "          google.colab.kernel.accessAllowed ? 'block' : 'none';\n",
              "\n",
              "        async function convertToInteractive(key) {\n",
              "          const element = document.querySelector('#df-1e71dbb5-1b05-47dd-93b6-850af24f6343');\n",
              "          const dataTable =\n",
              "            await google.colab.kernel.invokeFunction('convertToInteractive',\n",
              "                                                     [key], {});\n",
              "          if (!dataTable) return;\n",
              "\n",
              "          const docLinkHtml = 'Like what you see? Visit the ' +\n",
              "            '<a target=\"_blank\" href=https://colab.research.google.com/notebooks/data_table.ipynb>data table notebook</a>'\n",
              "            + ' to learn more about interactive tables.';\n",
              "          element.innerHTML = '';\n",
              "          dataTable['output_type'] = 'display_data';\n",
              "          await google.colab.output.renderOutput(dataTable, element);\n",
              "          const docLink = document.createElement('div');\n",
              "          docLink.innerHTML = docLinkHtml;\n",
              "          element.appendChild(docLink);\n",
              "        }\n",
              "      </script>\n",
              "    </div>\n",
              "  </div>\n",
              "  "
            ]
          },
          "metadata": {},
          "execution_count": 68
        }
      ]
    },
    {
      "cell_type": "markdown",
      "metadata": {
        "id": "HEw5c2Hp_EuP"
      },
      "source": [
        "####Perform PCA or another feature engineering technique on your dataset to see how this impacts your results.  (We encourage you to try multiple techniques depending on your data!)"
      ]
    },
    {
      "cell_type": "code",
      "execution_count": null,
      "metadata": {
        "id": "Gm700YEY_JAR"
      },
      "outputs": [],
      "source": [
        "from sklearn.decomposition import PCA"
      ]
    },
    {
      "cell_type": "code",
      "source": [
        "#creating a scaler\n",
        "scaler= StandardScaler()\n",
        "scaled_df = scaler.fit_transform(x)"
      ],
      "metadata": {
        "id": "CVBPco4h7WsQ"
      },
      "execution_count": null,
      "outputs": []
    },
    {
      "cell_type": "code",
      "source": [
        "#fitting the pca\n",
        "pca = PCA()\n",
        "pca.fit(scaled_df)"
      ],
      "metadata": {
        "colab": {
          "base_uri": "https://localhost:8080/",
          "height": 75
        },
        "id": "jUTlw2ES7hdg",
        "outputId": "5cab53d2-ba19-4ea0-d866-fbb7e581bafe"
      },
      "execution_count": null,
      "outputs": [
        {
          "output_type": "execute_result",
          "data": {
            "text/plain": [
              "PCA()"
            ],
            "text/html": [
              "<style>#sk-78b37786-d4d3-42c5-b758-ad01d8cc2569 {color: black;background-color: white;}#sk-78b37786-d4d3-42c5-b758-ad01d8cc2569 pre{padding: 0;}#sk-78b37786-d4d3-42c5-b758-ad01d8cc2569 div.sk-toggleable {background-color: white;}#sk-78b37786-d4d3-42c5-b758-ad01d8cc2569 label.sk-toggleable__label {cursor: pointer;display: block;width: 100%;margin-bottom: 0;padding: 0.3em;box-sizing: border-box;text-align: center;}#sk-78b37786-d4d3-42c5-b758-ad01d8cc2569 label.sk-toggleable__label-arrow:before {content: \"▸\";float: left;margin-right: 0.25em;color: #696969;}#sk-78b37786-d4d3-42c5-b758-ad01d8cc2569 label.sk-toggleable__label-arrow:hover:before {color: black;}#sk-78b37786-d4d3-42c5-b758-ad01d8cc2569 div.sk-estimator:hover label.sk-toggleable__label-arrow:before {color: black;}#sk-78b37786-d4d3-42c5-b758-ad01d8cc2569 div.sk-toggleable__content {max-height: 0;max-width: 0;overflow: hidden;text-align: left;background-color: #f0f8ff;}#sk-78b37786-d4d3-42c5-b758-ad01d8cc2569 div.sk-toggleable__content pre {margin: 0.2em;color: black;border-radius: 0.25em;background-color: #f0f8ff;}#sk-78b37786-d4d3-42c5-b758-ad01d8cc2569 input.sk-toggleable__control:checked~div.sk-toggleable__content {max-height: 200px;max-width: 100%;overflow: auto;}#sk-78b37786-d4d3-42c5-b758-ad01d8cc2569 input.sk-toggleable__control:checked~label.sk-toggleable__label-arrow:before {content: \"▾\";}#sk-78b37786-d4d3-42c5-b758-ad01d8cc2569 div.sk-estimator input.sk-toggleable__control:checked~label.sk-toggleable__label {background-color: #d4ebff;}#sk-78b37786-d4d3-42c5-b758-ad01d8cc2569 div.sk-label input.sk-toggleable__control:checked~label.sk-toggleable__label {background-color: #d4ebff;}#sk-78b37786-d4d3-42c5-b758-ad01d8cc2569 input.sk-hidden--visually {border: 0;clip: rect(1px 1px 1px 1px);clip: rect(1px, 1px, 1px, 1px);height: 1px;margin: -1px;overflow: hidden;padding: 0;position: absolute;width: 1px;}#sk-78b37786-d4d3-42c5-b758-ad01d8cc2569 div.sk-estimator {font-family: monospace;background-color: #f0f8ff;border: 1px dotted black;border-radius: 0.25em;box-sizing: border-box;margin-bottom: 0.5em;}#sk-78b37786-d4d3-42c5-b758-ad01d8cc2569 div.sk-estimator:hover {background-color: #d4ebff;}#sk-78b37786-d4d3-42c5-b758-ad01d8cc2569 div.sk-parallel-item::after {content: \"\";width: 100%;border-bottom: 1px solid gray;flex-grow: 1;}#sk-78b37786-d4d3-42c5-b758-ad01d8cc2569 div.sk-label:hover label.sk-toggleable__label {background-color: #d4ebff;}#sk-78b37786-d4d3-42c5-b758-ad01d8cc2569 div.sk-serial::before {content: \"\";position: absolute;border-left: 1px solid gray;box-sizing: border-box;top: 2em;bottom: 0;left: 50%;}#sk-78b37786-d4d3-42c5-b758-ad01d8cc2569 div.sk-serial {display: flex;flex-direction: column;align-items: center;background-color: white;padding-right: 0.2em;padding-left: 0.2em;}#sk-78b37786-d4d3-42c5-b758-ad01d8cc2569 div.sk-item {z-index: 1;}#sk-78b37786-d4d3-42c5-b758-ad01d8cc2569 div.sk-parallel {display: flex;align-items: stretch;justify-content: center;background-color: white;}#sk-78b37786-d4d3-42c5-b758-ad01d8cc2569 div.sk-parallel::before {content: \"\";position: absolute;border-left: 1px solid gray;box-sizing: border-box;top: 2em;bottom: 0;left: 50%;}#sk-78b37786-d4d3-42c5-b758-ad01d8cc2569 div.sk-parallel-item {display: flex;flex-direction: column;position: relative;background-color: white;}#sk-78b37786-d4d3-42c5-b758-ad01d8cc2569 div.sk-parallel-item:first-child::after {align-self: flex-end;width: 50%;}#sk-78b37786-d4d3-42c5-b758-ad01d8cc2569 div.sk-parallel-item:last-child::after {align-self: flex-start;width: 50%;}#sk-78b37786-d4d3-42c5-b758-ad01d8cc2569 div.sk-parallel-item:only-child::after {width: 0;}#sk-78b37786-d4d3-42c5-b758-ad01d8cc2569 div.sk-dashed-wrapped {border: 1px dashed gray;margin: 0 0.4em 0.5em 0.4em;box-sizing: border-box;padding-bottom: 0.4em;background-color: white;position: relative;}#sk-78b37786-d4d3-42c5-b758-ad01d8cc2569 div.sk-label label {font-family: monospace;font-weight: bold;background-color: white;display: inline-block;line-height: 1.2em;}#sk-78b37786-d4d3-42c5-b758-ad01d8cc2569 div.sk-label-container {position: relative;z-index: 2;text-align: center;}#sk-78b37786-d4d3-42c5-b758-ad01d8cc2569 div.sk-container {/* jupyter's `normalize.less` sets `[hidden] { display: none; }` but bootstrap.min.css set `[hidden] { display: none !important; }` so we also need the `!important` here to be able to override the default hidden behavior on the sphinx rendered scikit-learn.org. See: https://github.com/scikit-learn/scikit-learn/issues/21755 */display: inline-block !important;position: relative;}#sk-78b37786-d4d3-42c5-b758-ad01d8cc2569 div.sk-text-repr-fallback {display: none;}</style><div id=\"sk-78b37786-d4d3-42c5-b758-ad01d8cc2569\" class=\"sk-top-container\"><div class=\"sk-text-repr-fallback\"><pre>PCA()</pre><b>Please rerun this cell to show the HTML repr or trust the notebook.</b></div><div class=\"sk-container\" hidden><div class=\"sk-item\"><div class=\"sk-estimator sk-toggleable\"><input class=\"sk-toggleable__control sk-hidden--visually\" id=\"b13b1be0-3e17-4944-ba04-8896630cf4a6\" type=\"checkbox\" checked><label for=\"b13b1be0-3e17-4944-ba04-8896630cf4a6\" class=\"sk-toggleable__label sk-toggleable__label-arrow\">PCA</label><div class=\"sk-toggleable__content\"><pre>PCA()</pre></div></div></div></div></div>"
            ]
          },
          "metadata": {},
          "execution_count": 95
        }
      ]
    },
    {
      "cell_type": "code",
      "source": [
        "pca_processing = make_pipeline(scaler, pca)"
      ],
      "metadata": {
        "id": "OT0q-A8P7xKL"
      },
      "execution_count": null,
      "outputs": []
    },
    {
      "cell_type": "code",
      "source": [
        "# Transform the training data and check shape of new features after applying PCA\n",
        "print('Shape before PCA:', train_x_process.shape)\n",
        "print('Shape after PCA', pca_processing.fit_transform(train_x_process).shape)\n",
        "print('Column count reduced by', train_x_process.shape[1] - pca_processing.fit_transform(train_x_process).shape[1])"
      ],
      "metadata": {
        "colab": {
          "base_uri": "https://localhost:8080/"
        },
        "id": "B5jHcVps7ayK",
        "outputId": "0c9210f5-0904-4748-9023-e20afa018576"
      },
      "execution_count": null,
      "outputs": [
        {
          "output_type": "stream",
          "name": "stdout",
          "text": [
            "Shape before PCA: (223, 7)\n",
            "Shape after PCA (223, 7)\n",
            "Column count reduced by 0\n"
          ]
        }
      ]
    },
    {
      "cell_type": "code",
      "source": [
        "plt.plot(range(0, 7), pca.explained_variance_ratio_.cumsum(), marker= '.')\n",
        "plt.xticks(ticks=range(0,7), fontsize=8);"
      ],
      "metadata": {
        "id": "3YC11xp5awMV",
        "colab": {
          "base_uri": "https://localhost:8080/",
          "height": 264
        },
        "outputId": "dadac079-9876-4d52-89e8-750c2333d618"
      },
      "execution_count": null,
      "outputs": [
        {
          "output_type": "display_data",
          "data": {
            "text/plain": [
              "<Figure size 432x288 with 1 Axes>"
            ],
            "image/png": "[encoded data removed]"
          },
          "metadata": {
            "needs_background": "light"
          }
        }
      ]
    },
    {
      "cell_type": "code",
      "source": [
        "# Plot the explained variance ratios of the first 30 principal components\n",
        "plt.plot(range(0, 7), pca.explained_variance_ratio_, marker = '.')\n",
        "plt.xticks(ticks = range(0, 7), fontsize=8)\n",
        "plt.xlabel('Principal Component')\n",
        "plt.ylabel('Proportion of Explained Variance')"
      ],
      "metadata": {
        "id": "R9ISCQZmayYC",
        "colab": {
          "base_uri": "https://localhost:8080/",
          "height": 299
        },
        "outputId": "f0ab22cd-9722-4acd-a366-f496a90be463"
      },
      "execution_count": null,
      "outputs": [
        {
          "output_type": "execute_result",
          "data": {
            "text/plain": [
              "Text(0, 0.5, 'Proportion of Explained Variance')"
            ]
          },
          "metadata": {},
          "execution_count": 99
        },
        {
          "output_type": "display_data",
          "data": {
            "text/plain": [
              "<Figure size 432x288 with 1 Axes>"
            ],
            "image/png": "[encoded data removed]"
          },
          "metadata": {
            "needs_background": "light"
          }
        }
      ]
    },
    {
      "cell_type": "code",
      "source": [
        "pca2 = PCA(n_components=7)"
      ],
      "metadata": {
        "id": "CAc4DCCK8ur2"
      },
      "execution_count": null,
      "outputs": []
    },
    {
      "cell_type": "code",
      "source": [
        "transformer = make_pipeline(StandardScaler(), PCA(n_components=7))"
      ],
      "metadata": {
        "id": "Z8tp3Tni9TYe"
      },
      "execution_count": null,
      "outputs": []
    },
    {
      "cell_type": "code",
      "source": [
        "logreg = LogisticRegression()\n",
        "# Create a modeling pipeline\n",
        "logreg_pipe = make_pipeline(transformer, logreg)\n",
        "logreg_pipe.fit(train_x_process, y_train)"
      ],
      "metadata": {
        "colab": {
          "base_uri": "https://localhost:8080/",
          "height": 186
        },
        "id": "Ir3PZOPe9bfx",
        "outputId": "c9d4b6f6-13c8-47e1-e6dd-be0b3b6d72c3"
      },
      "execution_count": null,
      "outputs": [
        {
          "output_type": "execute_result",
          "data": {
            "text/plain": [
              "Pipeline(steps=[('pipeline',\n",
              "                 Pipeline(steps=[('standardscaler', StandardScaler()),\n",
              "                                 ('pca', PCA(n_components=7))])),\n",
              "                ('logisticregression', LogisticRegression())])"
            ],
            "text/html": [
              "<style>#sk-92353318-7163-4580-8235-d16d63948186 {color: black;background-color: white;}#sk-92353318-7163-4580-8235-d16d63948186 pre{padding: 0;}#sk-92353318-7163-4580-8235-d16d63948186 div.sk-toggleable {background-color: white;}#sk-92353318-7163-4580-8235-d16d63948186 label.sk-toggleable__label {cursor: pointer;display: block;width: 100%;margin-bottom: 0;padding: 0.3em;box-sizing: border-box;text-align: center;}#sk-92353318-7163-4580-8235-d16d63948186 label.sk-toggleable__label-arrow:before {content: \"▸\";float: left;margin-right: 0.25em;color: #696969;}#sk-92353318-7163-4580-8235-d16d63948186 label.sk-toggleable__label-arrow:hover:before {color: black;}#sk-92353318-7163-4580-8235-d16d63948186 div.sk-estimator:hover label.sk-toggleable__label-arrow:before {color: black;}#sk-92353318-7163-4580-8235-d16d63948186 div.sk-toggleable__content {max-height: 0;max-width: 0;overflow: hidden;text-align: left;background-color: #f0f8ff;}#sk-92353318-7163-4580-8235-d16d63948186 div.sk-toggleable__content pre {margin: 0.2em;color: black;border-radius: 0.25em;background-color: #f0f8ff;}#sk-92353318-7163-4580-8235-d16d63948186 input.sk-toggleable__control:checked~div.sk-toggleable__content {max-height: 200px;max-width: 100%;overflow: auto;}#sk-92353318-7163-4580-8235-d16d63948186 input.sk-toggleable__control:checked~label.sk-toggleable__label-arrow:before {content: \"▾\";}#sk-92353318-7163-4580-8235-d16d63948186 div.sk-estimator input.sk-toggleable__control:checked~label.sk-toggleable__label {background-color: #d4ebff;}#sk-92353318-7163-4580-8235-d16d63948186 div.sk-label input.sk-toggleable__control:checked~label.sk-toggleable__label {background-color: #d4ebff;}#sk-92353318-7163-4580-8235-d16d63948186 input.sk-hidden--visually {border: 0;clip: rect(1px 1px 1px 1px);clip: rect(1px, 1px, 1px, 1px);height: 1px;margin: -1px;overflow: hidden;padding: 0;position: absolute;width: 1px;}#sk-92353318-7163-4580-8235-d16d63948186 div.sk-estimator {font-family: monospace;background-color: #f0f8ff;border: 1px dotted black;border-radius: 0.25em;box-sizing: border-box;margin-bottom: 0.5em;}#sk-92353318-7163-4580-8235-d16d63948186 div.sk-estimator:hover {background-color: #d4ebff;}#sk-92353318-7163-4580-8235-d16d63948186 div.sk-parallel-item::after {content: \"\";width: 100%;border-bottom: 1px solid gray;flex-grow: 1;}#sk-92353318-7163-4580-8235-d16d63948186 div.sk-label:hover label.sk-toggleable__label {background-color: #d4ebff;}#sk-92353318-7163-4580-8235-d16d63948186 div.sk-serial::before {content: \"\";position: absolute;border-left: 1px solid gray;box-sizing: border-box;top: 2em;bottom: 0;left: 50%;}#sk-92353318-7163-4580-8235-d16d63948186 div.sk-serial {display: flex;flex-direction: column;align-items: center;background-color: white;padding-right: 0.2em;padding-left: 0.2em;}#sk-92353318-7163-4580-8235-d16d63948186 div.sk-item {z-index: 1;}#sk-92353318-7163-4580-8235-d16d63948186 div.sk-parallel {display: flex;align-items: stretch;justify-content: center;background-color: white;}#sk-92353318-7163-4580-8235-d16d63948186 div.sk-parallel::before {content: \"\";position: absolute;border-left: 1px solid gray;box-sizing: border-box;top: 2em;bottom: 0;left: 50%;}#sk-92353318-7163-4580-8235-d16d63948186 div.sk-parallel-item {display: flex;flex-direction: column;position: relative;background-color: white;}#sk-92353318-7163-4580-8235-d16d63948186 div.sk-parallel-item:first-child::after {align-self: flex-end;width: 50%;}#sk-92353318-7163-4580-8235-d16d63948186 div.sk-parallel-item:last-child::after {align-self: flex-start;width: 50%;}#sk-92353318-7163-4580-8235-d16d63948186 div.sk-parallel-item:only-child::after {width: 0;}#sk-92353318-7163-4580-8235-d16d63948186 div.sk-dashed-wrapped {border: 1px dashed gray;margin: 0 0.4em 0.5em 0.4em;box-sizing: border-box;padding-bottom: 0.4em;background-color: white;position: relative;}#sk-92353318-7163-4580-8235-d16d63948186 div.sk-label label {font-family: monospace;font-weight: bold;background-color: white;display: inline-block;line-height: 1.2em;}#sk-92353318-7163-4580-8235-d16d63948186 div.sk-label-container {position: relative;z-index: 2;text-align: center;}#sk-92353318-7163-4580-8235-d16d63948186 div.sk-container {/* jupyter's `normalize.less` sets `[hidden] { display: none; }` but bootstrap.min.css set `[hidden] { display: none !important; }` so we also need the `!important` here to be able to override the default hidden behavior on the sphinx rendered scikit-learn.org. See: https://github.com/scikit-learn/scikit-learn/issues/21755 */display: inline-block !important;position: relative;}#sk-92353318-7163-4580-8235-d16d63948186 div.sk-text-repr-fallback {display: none;}</style><div id=\"sk-92353318-7163-4580-8235-d16d63948186\" class=\"sk-top-container\"><div class=\"sk-text-repr-fallback\"><pre>Pipeline(steps=[(&#x27;pipeline&#x27;,\n",
              "                 Pipeline(steps=[(&#x27;standardscaler&#x27;, StandardScaler()),\n",
              "                                 (&#x27;pca&#x27;, PCA(n_components=7))])),\n",
              "                (&#x27;logisticregression&#x27;, LogisticRegression())])</pre><b>Please rerun this cell to show the HTML repr or trust the notebook.</b></div><div class=\"sk-container\" hidden><div class=\"sk-item sk-dashed-wrapped\"><div class=\"sk-label-container\"><div class=\"sk-label sk-toggleable\"><input class=\"sk-toggleable__control sk-hidden--visually\" id=\"6c3e9acb-8eb7-41e9-a92f-2a1ebf51e3b4\" type=\"checkbox\" ><label for=\"6c3e9acb-8eb7-41e9-a92f-2a1ebf51e3b4\" class=\"sk-toggleable__label sk-toggleable__label-arrow\">Pipeline</label><div class=\"sk-toggleable__content\"><pre>Pipeline(steps=[(&#x27;pipeline&#x27;,\n",
              "                 Pipeline(steps=[(&#x27;standardscaler&#x27;, StandardScaler()),\n",
              "                                 (&#x27;pca&#x27;, PCA(n_components=7))])),\n",
              "                (&#x27;logisticregression&#x27;, LogisticRegression())])</pre></div></div></div><div class=\"sk-serial\"><div class=\"sk-item\"><div class=\"sk-label-container\"><div class=\"sk-label sk-toggleable\"><input class=\"sk-toggleable__control sk-hidden--visually\" id=\"0bd1d490-3ab7-475f-8b3e-4e0c19ebfd3d\" type=\"checkbox\" ><label for=\"0bd1d490-3ab7-475f-8b3e-4e0c19ebfd3d\" class=\"sk-toggleable__label sk-toggleable__label-arrow\">pipeline: Pipeline</label><div class=\"sk-toggleable__content\"><pre>Pipeline(steps=[(&#x27;standardscaler&#x27;, StandardScaler()),\n",
              "                (&#x27;pca&#x27;, PCA(n_components=7))])</pre></div></div></div><div class=\"sk-serial\"><div class=\"sk-item\"><div class=\"sk-estimator sk-toggleable\"><input class=\"sk-toggleable__control sk-hidden--visually\" id=\"53167c4b-fed3-4c93-9744-a572a3d2e9bc\" type=\"checkbox\" ><label for=\"53167c4b-fed3-4c93-9744-a572a3d2e9bc\" class=\"sk-toggleable__label sk-toggleable__label-arrow\">StandardScaler</label><div class=\"sk-toggleable__content\"><pre>StandardScaler()</pre></div></div></div><div class=\"sk-item\"><div class=\"sk-estimator sk-toggleable\"><input class=\"sk-toggleable__control sk-hidden--visually\" id=\"32f2678d-ff63-4c36-a5b2-0310fe47b4a3\" type=\"checkbox\" ><label for=\"32f2678d-ff63-4c36-a5b2-0310fe47b4a3\" class=\"sk-toggleable__label sk-toggleable__label-arrow\">PCA</label><div class=\"sk-toggleable__content\"><pre>PCA(n_components=7)</pre></div></div></div></div></div><div class=\"sk-item\"><div class=\"sk-estimator sk-toggleable\"><input class=\"sk-toggleable__control sk-hidden--visually\" id=\"76bd14bd-7c8f-48a2-a3f0-de0a81ed8c87\" type=\"checkbox\" ><label for=\"76bd14bd-7c8f-48a2-a3f0-de0a81ed8c87\" class=\"sk-toggleable__label sk-toggleable__label-arrow\">LogisticRegression</label><div class=\"sk-toggleable__content\"><pre>LogisticRegression()</pre></div></div></div></div></div></div></div>"
            ]
          },
          "metadata": {},
          "execution_count": 102
        }
      ]
    },
    {
      "cell_type": "code",
      "execution_count": null,
      "metadata": {
        "id": "RrGkTLWR_Nq3",
        "colab": {
          "base_uri": "https://localhost:8080/",
          "height": 126
        },
        "outputId": "964e9466-534b-416f-8c78-4872ac6ab86d"
      },
      "outputs": [
        {
          "output_type": "execute_result",
          "data": {
            "text/plain": [
              "Pipeline(steps=[('standardscaler', StandardScaler()),\n",
              "                ('kneighborsclassifier', KNeighborsClassifier())])"
            ],
            "text/html": [
              "<style>#sk-d29c2ab5-24db-4736-a05c-3485b571a59a {color: black;background-color: white;}#sk-d29c2ab5-24db-4736-a05c-3485b571a59a pre{padding: 0;}#sk-d29c2ab5-24db-4736-a05c-3485b571a59a div.sk-toggleable {background-color: white;}#sk-d29c2ab5-24db-4736-a05c-3485b571a59a label.sk-toggleable__label {cursor: pointer;display: block;width: 100%;margin-bottom: 0;padding: 0.3em;box-sizing: border-box;text-align: center;}#sk-d29c2ab5-24db-4736-a05c-3485b571a59a label.sk-toggleable__label-arrow:before {content: \"▸\";float: left;margin-right: 0.25em;color: #696969;}#sk-d29c2ab5-24db-4736-a05c-3485b571a59a label.sk-toggleable__label-arrow:hover:before {color: black;}#sk-d29c2ab5-24db-4736-a05c-3485b571a59a div.sk-estimator:hover label.sk-toggleable__label-arrow:before {color: black;}#sk-d29c2ab5-24db-4736-a05c-3485b571a59a div.sk-toggleable__content {max-height: 0;max-width: 0;overflow: hidden;text-align: left;background-color: #f0f8ff;}#sk-d29c2ab5-24db-4736-a05c-3485b571a59a div.sk-toggleable__content pre {margin: 0.2em;color: black;border-radius: 0.25em;background-color: #f0f8ff;}#sk-d29c2ab5-24db-4736-a05c-3485b571a59a input.sk-toggleable__control:checked~div.sk-toggleable__content {max-height: 200px;max-width: 100%;overflow: auto;}#sk-d29c2ab5-24db-4736-a05c-3485b571a59a input.sk-toggleable__control:checked~label.sk-toggleable__label-arrow:before {content: \"▾\";}#sk-d29c2ab5-24db-4736-a05c-3485b571a59a div.sk-estimator input.sk-toggleable__control:checked~label.sk-toggleable__label {background-color: #d4ebff;}#sk-d29c2ab5-24db-4736-a05c-3485b571a59a div.sk-label input.sk-toggleable__control:checked~label.sk-toggleable__label {background-color: #d4ebff;}#sk-d29c2ab5-24db-4736-a05c-3485b571a59a input.sk-hidden--visually {border: 0;clip: rect(1px 1px 1px 1px);clip: rect(1px, 1px, 1px, 1px);height: 1px;margin: -1px;overflow: hidden;padding: 0;position: absolute;width: 1px;}#sk-d29c2ab5-24db-4736-a05c-3485b571a59a div.sk-estimator {font-family: monospace;background-color: #f0f8ff;border: 1px dotted black;border-radius: 0.25em;box-sizing: border-box;margin-bottom: 0.5em;}#sk-d29c2ab5-24db-4736-a05c-3485b571a59a div.sk-estimator:hover {background-color: #d4ebff;}#sk-d29c2ab5-24db-4736-a05c-3485b571a59a div.sk-parallel-item::after {content: \"\";width: 100%;border-bottom: 1px solid gray;flex-grow: 1;}#sk-d29c2ab5-24db-4736-a05c-3485b571a59a div.sk-label:hover label.sk-toggleable__label {background-color: #d4ebff;}#sk-d29c2ab5-24db-4736-a05c-3485b571a59a div.sk-serial::before {content: \"\";position: absolute;border-left: 1px solid gray;box-sizing: border-box;top: 2em;bottom: 0;left: 50%;}#sk-d29c2ab5-24db-4736-a05c-3485b571a59a div.sk-serial {display: flex;flex-direction: column;align-items: center;background-color: white;padding-right: 0.2em;padding-left: 0.2em;}#sk-d29c2ab5-24db-4736-a05c-3485b571a59a div.sk-item {z-index: 1;}#sk-d29c2ab5-24db-4736-a05c-3485b571a59a div.sk-parallel {display: flex;align-items: stretch;justify-content: center;background-color: white;}#sk-d29c2ab5-24db-4736-a05c-3485b571a59a div.sk-parallel::before {content: \"\";position: absolute;border-left: 1px solid gray;box-sizing: border-box;top: 2em;bottom: 0;left: 50%;}#sk-d29c2ab5-24db-4736-a05c-3485b571a59a div.sk-parallel-item {display: flex;flex-direction: column;position: relative;background-color: white;}#sk-d29c2ab5-24db-4736-a05c-3485b571a59a div.sk-parallel-item:first-child::after {align-self: flex-end;width: 50%;}#sk-d29c2ab5-24db-4736-a05c-3485b571a59a div.sk-parallel-item:last-child::after {align-self: flex-start;width: 50%;}#sk-d29c2ab5-24db-4736-a05c-3485b571a59a div.sk-parallel-item:only-child::after {width: 0;}#sk-d29c2ab5-24db-4736-a05c-3485b571a59a div.sk-dashed-wrapped {border: 1px dashed gray;margin: 0 0.4em 0.5em 0.4em;box-sizing: border-box;padding-bottom: 0.4em;background-color: white;position: relative;}#sk-d29c2ab5-24db-4736-a05c-3485b571a59a div.sk-label label {font-family: monospace;font-weight: bold;background-color: white;display: inline-block;line-height: 1.2em;}#sk-d29c2ab5-24db-4736-a05c-3485b571a59a div.sk-label-container {position: relative;z-index: 2;text-align: center;}#sk-d29c2ab5-24db-4736-a05c-3485b571a59a div.sk-container {/* jupyter's `normalize.less` sets `[hidden] { display: none; }` but bootstrap.min.css set `[hidden] { display: none !important; }` so we also need the `!important` here to be able to override the default hidden behavior on the sphinx rendered scikit-learn.org. See: https://github.com/scikit-learn/scikit-learn/issues/21755 */display: inline-block !important;position: relative;}#sk-d29c2ab5-24db-4736-a05c-3485b571a59a div.sk-text-repr-fallback {display: none;}</style><div id=\"sk-d29c2ab5-24db-4736-a05c-3485b571a59a\" class=\"sk-top-container\"><div class=\"sk-text-repr-fallback\"><pre>Pipeline(steps=[(&#x27;standardscaler&#x27;, StandardScaler()),\n",
              "                (&#x27;kneighborsclassifier&#x27;, KNeighborsClassifier())])</pre><b>Please rerun this cell to show the HTML repr or trust the notebook.</b></div><div class=\"sk-container\" hidden><div class=\"sk-item sk-dashed-wrapped\"><div class=\"sk-label-container\"><div class=\"sk-label sk-toggleable\"><input class=\"sk-toggleable__control sk-hidden--visually\" id=\"d8a01bdb-d15c-4e31-8a15-39f06b06024d\" type=\"checkbox\" ><label for=\"d8a01bdb-d15c-4e31-8a15-39f06b06024d\" class=\"sk-toggleable__label sk-toggleable__label-arrow\">Pipeline</label><div class=\"sk-toggleable__content\"><pre>Pipeline(steps=[(&#x27;standardscaler&#x27;, StandardScaler()),\n",
              "                (&#x27;kneighborsclassifier&#x27;, KNeighborsClassifier())])</pre></div></div></div><div class=\"sk-serial\"><div class=\"sk-item\"><div class=\"sk-estimator sk-toggleable\"><input class=\"sk-toggleable__control sk-hidden--visually\" id=\"d415be62-d7c7-4688-9607-281a1a2513ee\" type=\"checkbox\" ><label for=\"d415be62-d7c7-4688-9607-281a1a2513ee\" class=\"sk-toggleable__label sk-toggleable__label-arrow\">StandardScaler</label><div class=\"sk-toggleable__content\"><pre>StandardScaler()</pre></div></div></div><div class=\"sk-item\"><div class=\"sk-estimator sk-toggleable\"><input class=\"sk-toggleable__control sk-hidden--visually\" id=\"bc55614c-b26d-4951-9c7a-65d758300176\" type=\"checkbox\" ><label for=\"bc55614c-b26d-4951-9c7a-65d758300176\" class=\"sk-toggleable__label sk-toggleable__label-arrow\">KNeighborsClassifier</label><div class=\"sk-toggleable__content\"><pre>KNeighborsClassifier()</pre></div></div></div></div></div></div></div>"
            ]
          },
          "metadata": {},
          "execution_count": 103
        }
      ],
      "source": [
        "# Create and fit a KNN model WITHOUT PCA.\n",
        "knn = KNeighborsClassifier()\n",
        "\n",
        "knn_pipe = make_pipeline(scaler, knn)\n",
        "knn_pipe.fit(train_x_process, y_train)"
      ]
    },
    {
      "cell_type": "markdown",
      "metadata": {
        "id": "ebDkpUdd_JQ1"
      },
      "source": [
        "####Evaluate model performance with appropriate metrics for the model"
      ]
    },
    {
      "cell_type": "code",
      "source": [
        "#RANDOM FOREST\n",
        "%%time\n",
        "print('Training accuracy:',  randomforest.score(train_x_process, y_train))\n",
        "print('Testing accuracy:', randomforest.score(test_x_process, y_test))"
      ],
      "metadata": {
        "colab": {
          "base_uri": "https://localhost:8080/"
        },
        "id": "2xIV14u6F_Ez",
        "outputId": "8cbb8629-972c-4300-f0b8-bf0d7a507d7d"
      },
      "execution_count": null,
      "outputs": [
        {
          "output_type": "stream",
          "name": "stdout",
          "text": [
            "Training accuracy: 1.0\n",
            "Testing accuracy: 0.7333333333333333\n",
            "CPU times: user 32.1 ms, sys: 1.17 ms, total: 33.3 ms\n",
            "Wall time: 31.4 ms\n"
          ]
        }
      ]
    },
    {
      "cell_type": "code",
      "source": [
        "#LOGISTIC REGRESSION\n",
        "%%time\n",
        "print('Training accuracy:', logreg_pipe.score(train_x_process, y_train))\n",
        "print('Testing accuracy:', logreg_pipe.score(test_x_process, y_test))"
      ],
      "metadata": {
        "colab": {
          "base_uri": "https://localhost:8080/"
        },
        "id": "KPUSnQcl9ihe",
        "outputId": "e3502773-fe97-4cd6-ac97-024a35244977"
      },
      "execution_count": null,
      "outputs": [
        {
          "output_type": "stream",
          "name": "stdout",
          "text": [
            "Training accuracy: 0.8340807174887892\n",
            "Testing accuracy: 0.7333333333333333\n",
            "CPU times: user 3.34 ms, sys: 589 µs, total: 3.93 ms\n",
            "Wall time: 3.65 ms\n"
          ]
        }
      ]
    },
    {
      "cell_type": "code",
      "source": [
        "#KNN\n",
        "%%time\n",
        "print('Training accuracy:', knn_pipe.score(train_x_process, y_train))\n",
        "print('Testing accuracy:', knn_pipe.score(test_x_process, y_test))"
      ],
      "metadata": {
        "colab": {
          "base_uri": "https://localhost:8080/"
        },
        "id": "BQy3EBa09R44",
        "outputId": "93a20df9-d853-4a4d-ce4e-5cca2016b5ec"
      },
      "execution_count": null,
      "outputs": [
        {
          "output_type": "stream",
          "name": "stdout",
          "text": [
            "Training accuracy: 0.8026905829596412\n",
            "Testing accuracy: 0.7333333333333333\n",
            "CPU times: user 16.2 ms, sys: 0 ns, total: 16.2 ms\n",
            "Wall time: 16.7 ms\n"
          ]
        }
      ]
    },
    {
      "cell_type": "markdown",
      "metadata": {
        "id": "sebgAPdk_N7s"
      },
      "source": [
        "####Choose your \"production\" model and justify this decision"
      ]
    },
    {
      "cell_type": "markdown",
      "metadata": {
        "id": "RBQvOxLy_Q7a"
      },
      "source": [
        "I chose the random forest model, its accuracy is higher. While the time it takes to run the model is higher, it is only by mere miliseconds."
      ]
    }
  ],
  "metadata": {
    "colab": {
      "collapsed_sections": [],
      "provenance": [],
      "mount_file_id": "14nfqfWy5-oNlcGUg-1Qoamrf2h7RTfdP",
      "authorship_tag": "ABX9TyMIbaPrl3o7mdOPsOv6MMnb",
      "include_colab_link": true
    },
    "kernelspec": {
      "display_name": "Python 3",
      "name": "python3"
    },
    "language_info": {
      "name": "python"
    }
  },
  "nbformat": 4,
  "nbformat_minor": 0
}