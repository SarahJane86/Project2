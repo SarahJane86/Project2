{
  "cells": [
    {
      "cell_type": "markdown",
      "metadata": {
        "id": "view-in-github",
        "colab_type": "text"
      },
      "source": [
        "<a href=\"https://colab.research.google.com/github/SarahJane86/Project2/blob/main/Project_2_HeartFailure(Core).ipynb\" target=\"_parent\"><img src=\"https://colab.research.google.com/assets/colab-badge.svg\" alt=\"Open In Colab\"/></a>"
      ]
    },
    {
      "cell_type": "markdown",
      "metadata": {
        "id": "3hJLNgANAi3O"
      },
      "source": [
        "## Heart Failure Project\n",
        "### Sarah Musselwhite\n",
        "#### August 27, 2022"
      ]
    },
    {
      "cell_type": "markdown",
      "metadata": {
        "id": "P_FAbRikAt0K"
      },
      "source": [
        "### First choice: Heart Failure \n",
        "\n",
        "\n",
        "\n"
      ]
    },
    {
      "cell_type": "code",
      "execution_count": 1,
      "metadata": {
        "id": "DaObS_lEAx_9"
      },
      "outputs": [],
      "source": [
        "import pandas as pd\n",
        "import numpy as np\n",
        "import matplotlib.pyplot as plt\n",
        "import seaborn as sns\n",
        "from sklearn.decomposition import PCA\n",
        "from sklearn.cluster import KMeans\n",
        "from sklearn.metrics import silhouette_score\n",
        "from sklearn.model_selection import train_test_split, cross_val_score\n",
        "from sklearn.neighbors import KNeighborsClassifier\n",
        "from sklearn.pipeline import make_pipeline\n",
        "from sklearn.pipeline import Pipeline\n",
        "from sklearn.compose import make_column_transformer, make_column_selector\n",
        "from sklearn.impute import SimpleImputer\n",
        "from sklearn.preprocessing import StandardScaler, OneHotEncoder\n",
        "from sklearn.metrics import accuracy_score, classification_report, plot_confusion_matrix\n",
        "from sklearn.dummy import DummyRegressor\n",
        "from sklearn.linear_model import LogisticRegression\n",
        "from sklearn.linear_model import LinearRegression\n",
        "from sklearn.metrics import mean_absolute_error, mean_squared_error, r2_score\n",
        "from sklearn.ensemble import RandomForestClassifier\n",
        "from sklearn.model_selection import GridSearchCV\n",
        "from sklearn.cluster import KMeans\n",
        "from sklearn.preprocessing import MinMaxScaler\n",
        "from sklearn import set_config\n",
        "set_config(display='diagram')"
      ]
    },
    {
      "cell_type": "markdown",
      "metadata": {
        "id": "vOpVPfAs2qnh"
      },
      "source": [
        "1) Source of data\n",
        "\n",
        "##### https://www.kaggle.com/datasets/andrewmvd/heart-failure-clinical-data"
      ]
    },
    {
      "cell_type": "code",
      "execution_count": 2,
      "metadata": {
        "colab": {
          "base_uri": "https://localhost:8080/",
          "height": 270
        },
        "id": "DXeZ1XUhzzgx",
        "outputId": "d4ca5eb4-36c3-4420-e116-55d77c70f8c9"
      },
      "outputs": [
        {
          "output_type": "execute_result",
          "data": {
            "text/plain": [
              "    age  anaemia  creatinine_phosphokinase  diabetes  ejection_fraction  \\\n",
              "0  75.0        0                       582         0                 20   \n",
              "1  55.0        0                      7861         0                 38   \n",
              "2  65.0        0                       146         0                 20   \n",
              "3  50.0        1                       111         0                 20   \n",
              "4  65.0        1                       160         1                 20   \n",
              "\n",
              "   high_blood_pressure  platelets  serum_creatinine  serum_sodium  sex  \\\n",
              "0                    1  265000.00               1.9           130    1   \n",
              "1                    0  263358.03               1.1           136    1   \n",
              "2                    0  162000.00               1.3           129    1   \n",
              "3                    0  210000.00               1.9           137    1   \n",
              "4                    0  327000.00               2.7           116    0   \n",
              "\n",
              "   smoking  time  DEATH_EVENT  \n",
              "0        0     4            1  \n",
              "1        0     6            1  \n",
              "2        1     7            1  \n",
              "3        0     7            1  \n",
              "4        0     8            1  "
            ],
            "text/html": [
              "\n",
              "  <div id=\"df-37b95b1d-d407-4a3c-941d-035e05d5137c\">\n",
              "    <div class=\"colab-df-container\">\n",
              "      <div>\n",
              "<style scoped>\n",
              "    .dataframe tbody tr th:only-of-type {\n",
              "        vertical-align: middle;\n",
              "    }\n",
              "\n",
              "    .dataframe tbody tr th {\n",
              "        vertical-align: top;\n",
              "    }\n",
              "\n",
              "    .dataframe thead th {\n",
              "        text-align: right;\n",
              "    }\n",
              "</style>\n",
              "<table border=\"1\" class=\"dataframe\">\n",
              "  <thead>\n",
              "    <tr style=\"text-align: right;\">\n",
              "      <th></th>\n",
              "      <th>age</th>\n",
              "      <th>anaemia</th>\n",
              "      <th>creatinine_phosphokinase</th>\n",
              "      <th>diabetes</th>\n",
              "      <th>ejection_fraction</th>\n",
              "      <th>high_blood_pressure</th>\n",
              "      <th>platelets</th>\n",
              "      <th>serum_creatinine</th>\n",
              "      <th>serum_sodium</th>\n",
              "      <th>sex</th>\n",
              "      <th>smoking</th>\n",
              "      <th>time</th>\n",
              "      <th>DEATH_EVENT</th>\n",
              "    </tr>\n",
              "  </thead>\n",
              "  <tbody>\n",
              "    <tr>\n",
              "      <th>0</th>\n",
              "      <td>75.0</td>\n",
              "      <td>0</td>\n",
              "      <td>582</td>\n",
              "      <td>0</td>\n",
              "      <td>20</td>\n",
              "      <td>1</td>\n",
              "      <td>265000.00</td>\n",
              "      <td>1.9</td>\n",
              "      <td>130</td>\n",
              "      <td>1</td>\n",
              "      <td>0</td>\n",
              "      <td>4</td>\n",
              "      <td>1</td>\n",
              "    </tr>\n",
              "    <tr>\n",
              "      <th>1</th>\n",
              "      <td>55.0</td>\n",
              "      <td>0</td>\n",
              "      <td>7861</td>\n",
              "      <td>0</td>\n",
              "      <td>38</td>\n",
              "      <td>0</td>\n",
              "      <td>263358.03</td>\n",
              "      <td>1.1</td>\n",
              "      <td>136</td>\n",
              "      <td>1</td>\n",
              "      <td>0</td>\n",
              "      <td>6</td>\n",
              "      <td>1</td>\n",
              "    </tr>\n",
              "    <tr>\n",
              "      <th>2</th>\n",
              "      <td>65.0</td>\n",
              "      <td>0</td>\n",
              "      <td>146</td>\n",
              "      <td>0</td>\n",
              "      <td>20</td>\n",
              "      <td>0</td>\n",
              "      <td>162000.00</td>\n",
              "      <td>1.3</td>\n",
              "      <td>129</td>\n",
              "      <td>1</td>\n",
              "      <td>1</td>\n",
              "      <td>7</td>\n",
              "      <td>1</td>\n",
              "    </tr>\n",
              "    <tr>\n",
              "      <th>3</th>\n",
              "      <td>50.0</td>\n",
              "      <td>1</td>\n",
              "      <td>111</td>\n",
              "      <td>0</td>\n",
              "      <td>20</td>\n",
              "      <td>0</td>\n",
              "      <td>210000.00</td>\n",
              "      <td>1.9</td>\n",
              "      <td>137</td>\n",
              "      <td>1</td>\n",
              "      <td>0</td>\n",
              "      <td>7</td>\n",
              "      <td>1</td>\n",
              "    </tr>\n",
              "    <tr>\n",
              "      <th>4</th>\n",
              "      <td>65.0</td>\n",
              "      <td>1</td>\n",
              "      <td>160</td>\n",
              "      <td>1</td>\n",
              "      <td>20</td>\n",
              "      <td>0</td>\n",
              "      <td>327000.00</td>\n",
              "      <td>2.7</td>\n",
              "      <td>116</td>\n",
              "      <td>0</td>\n",
              "      <td>0</td>\n",
              "      <td>8</td>\n",
              "      <td>1</td>\n",
              "    </tr>\n",
              "  </tbody>\n",
              "</table>\n",
              "</div>\n",
              "      <button class=\"colab-df-convert\" onclick=\"convertToInteractive('df-37b95b1d-d407-4a3c-941d-035e05d5137c')\"\n",
              "              title=\"Convert this dataframe to an interactive table.\"\n",
              "              style=\"display:none;\">\n",
              "        \n",
              "  <svg xmlns=\"http://www.w3.org/2000/svg\" height=\"24px\"viewBox=\"0 0 24 24\"\n",
              "       width=\"24px\">\n",
              "    <path d=\"M0 0h24v24H0V0z\" fill=\"none\"/>\n",
              "    <path d=\"M18.56 5.44l.94 2.06.94-2.06 2.06-.94-2.06-.94-.94-2.06-.94 2.06-2.06.94zm-11 1L8.5 8.5l.94-2.06 2.06-.94-2.06-.94L8.5 2.5l-.94 2.06-2.06.94zm10 10l.94 2.06.94-2.06 2.06-.94-2.06-.94-.94-2.06-.94 2.06-2.06.94z\"/><path d=\"M17.41 7.96l-1.37-1.37c-.4-.4-.92-.59-1.43-.59-.52 0-1.04.2-1.43.59L10.3 9.45l-7.72 7.72c-.78.78-.78 2.05 0 2.83L4 21.41c.39.39.9.59 1.41.59.51 0 1.02-.2 1.41-.59l7.78-7.78 2.81-2.81c.8-.78.8-2.07 0-2.86zM5.41 20L4 18.59l7.72-7.72 1.47 1.35L5.41 20z\"/>\n",
              "  </svg>\n",
              "      </button>\n",
              "      \n",
              "  <style>\n",
              "    .colab-df-container {\n",
              "      display:flex;\n",
              "      flex-wrap:wrap;\n",
              "      gap: 12px;\n",
              "    }\n",
              "\n",
              "    .colab-df-convert {\n",
              "      background-color: #E8F0FE;\n",
              "      border: none;\n",
              "      border-radius: 50%;\n",
              "      cursor: pointer;\n",
              "      display: none;\n",
              "      fill: #1967D2;\n",
              "      height: 32px;\n",
              "      padding: 0 0 0 0;\n",
              "      width: 32px;\n",
              "    }\n",
              "\n",
              "    .colab-df-convert:hover {\n",
              "      background-color: #E2EBFA;\n",
              "      box-shadow: 0px 1px 2px rgba(60, 64, 67, 0.3), 0px 1px 3px 1px rgba(60, 64, 67, 0.15);\n",
              "      fill: #174EA6;\n",
              "    }\n",
              "\n",
              "    [theme=dark] .colab-df-convert {\n",
              "      background-color: #3B4455;\n",
              "      fill: #D2E3FC;\n",
              "    }\n",
              "\n",
              "    [theme=dark] .colab-df-convert:hover {\n",
              "      background-color: #434B5C;\n",
              "      box-shadow: 0px 1px 3px 1px rgba(0, 0, 0, 0.15);\n",
              "      filter: drop-shadow(0px 1px 2px rgba(0, 0, 0, 0.3));\n",
              "      fill: #FFFFFF;\n",
              "    }\n",
              "  </style>\n",
              "\n",
              "      <script>\n",
              "        const buttonEl =\n",
              "          document.querySelector('#df-37b95b1d-d407-4a3c-941d-035e05d5137c button.colab-df-convert');\n",
              "        buttonEl.style.display =\n",
              "          google.colab.kernel.accessAllowed ? 'block' : 'none';\n",
              "\n",
              "        async function convertToInteractive(key) {\n",
              "          const element = document.querySelector('#df-37b95b1d-d407-4a3c-941d-035e05d5137c');\n",
              "          const dataTable =\n",
              "            await google.colab.kernel.invokeFunction('convertToInteractive',\n",
              "                                                     [key], {});\n",
              "          if (!dataTable) return;\n",
              "\n",
              "          const docLinkHtml = 'Like what you see? Visit the ' +\n",
              "            '<a target=\"_blank\" href=https://colab.research.google.com/notebooks/data_table.ipynb>data table notebook</a>'\n",
              "            + ' to learn more about interactive tables.';\n",
              "          element.innerHTML = '';\n",
              "          dataTable['output_type'] = 'display_data';\n",
              "          await google.colab.output.renderOutput(dataTable, element);\n",
              "          const docLink = document.createElement('div');\n",
              "          docLink.innerHTML = docLinkHtml;\n",
              "          element.appendChild(docLink);\n",
              "        }\n",
              "      </script>\n",
              "    </div>\n",
              "  </div>\n",
              "  "
            ]
          },
          "metadata": {},
          "execution_count": 2
        }
      ],
      "source": [
        "heart_df = pd.read_csv('https://docs.google.com/spreadsheets/d/e/2PACX-1vQ0gjToMQ5DRQ4Q5uok5ADJf_1cZDD8eGUNNLsSpz_pYQ3SLYZsOYsrjEaBjXEbGdfXzduFznLZXfF7/pub?gid=1116141808&single=true&output=csv')\n",
        "heart_df.head()"
      ]
    },
    {
      "cell_type": "markdown",
      "metadata": {
        "id": "0RdNBgAl2sis"
      },
      "source": [
        "#### 2) Brief description of data\n",
        "\n",
        "##### Heart disease is one of the most leading causes of death globally taking an estimated 17.9 million lives per year. Heart failure is a common event caused by a Cardiovascular Disease. Most can be prevented by addressing certain behaviors, such as smoking, physical health, and alcohol use.\n",
        "\n",
        "##### People with CVD or have a risk of developing CVD, need early detection and insight on how to manage it. "
      ]
    },
    {
      "cell_type": "markdown",
      "metadata": {
        "id": "9MbcaFf32xDg"
      },
      "source": [
        "####3) What is the target?\n",
        "###### Target will be \"Death Event\""
      ]
    },
    {
      "cell_type": "markdown",
      "metadata": {
        "id": "-QNgox-X20uQ"
      },
      "source": [
        "#### 4) Is this a classification or regression problem?\n",
        "\n",
        "###### Classification, because I will be exploring what factors contribute to Death events, is it a compilation of many things? Or something different."
      ]
    },
    {
      "cell_type": "markdown",
      "metadata": {
        "id": "qjTbn7ZO28To"
      },
      "source": [
        "####5) How many features?"
      ]
    },
    {
      "cell_type": "code",
      "execution_count": 3,
      "metadata": {
        "colab": {
          "base_uri": "https://localhost:8080/"
        },
        "id": "8PA-u6fX29kn",
        "outputId": "c67370ea-0c3a-47d5-f45c-b1d0300fb9e6"
      },
      "outputs": [
        {
          "output_type": "stream",
          "name": "stdout",
          "text": [
            "<class 'pandas.core.frame.DataFrame'>\n",
            "RangeIndex: 299 entries, 0 to 298\n",
            "Data columns (total 13 columns):\n",
            " #   Column                    Non-Null Count  Dtype  \n",
            "---  ------                    --------------  -----  \n",
            " 0   age                       299 non-null    float64\n",
            " 1   anaemia                   299 non-null    int64  \n",
            " 2   creatinine_phosphokinase  299 non-null    int64  \n",
            " 3   diabetes                  299 non-null    int64  \n",
            " 4   ejection_fraction         299 non-null    int64  \n",
            " 5   high_blood_pressure       299 non-null    int64  \n",
            " 6   platelets                 299 non-null    float64\n",
            " 7   serum_creatinine          299 non-null    float64\n",
            " 8   serum_sodium              299 non-null    int64  \n",
            " 9   sex                       299 non-null    int64  \n",
            " 10  smoking                   299 non-null    int64  \n",
            " 11  time                      299 non-null    int64  \n",
            " 12  DEATH_EVENT               299 non-null    int64  \n",
            "dtypes: float64(3), int64(10)\n",
            "memory usage: 30.5 KB\n"
          ]
        }
      ],
      "source": [
        "heart_df.info()"
      ]
    },
    {
      "cell_type": "markdown",
      "metadata": {
        "id": "rg6DH0do298i"
      },
      "source": [
        "\n",
        "#####6) How many rows of data.\n",
        "\n",
        "\n"
      ]
    },
    {
      "cell_type": "code",
      "execution_count": 4,
      "metadata": {
        "colab": {
          "base_uri": "https://localhost:8080/"
        },
        "id": "qtdB4khE3Bhu",
        "outputId": "bfd1c9d0-1931-4bd8-bc99-f53c56f939f5"
      },
      "outputs": [
        {
          "output_type": "execute_result",
          "data": {
            "text/plain": [
              "299"
            ]
          },
          "metadata": {},
          "execution_count": 4
        }
      ],
      "source": [
        " len(heart_df.index)"
      ]
    },
    {
      "cell_type": "markdown",
      "metadata": {
        "id": "xkM5RSJs3E-f"
      },
      "source": [
        "#### 7) What, if any, challenges do your foresee in cleaning, exploring, or modeling with this dataset?"
      ]
    },
    {
      "cell_type": "markdown",
      "metadata": {
        "id": "XiLf4iCeC2mW"
      },
      "source": [
        "##### In cleaning, I forsee a bit of time consumption, due to the fact of trying to narrow down what aspects to keep, and what to drop. What counts more toward the target. I'm honestly excited to explore this data, as much of my family history, most in my family tree has been affected by some sort of cardiac health issue."
      ]
    },
    {
      "cell_type": "markdown",
      "metadata": {
        "id": "d3kRA9nBLOo6"
      },
      "source": [
        "## Preparing Data\n",
        "#### 9/6/22"
      ]
    },
    {
      "cell_type": "markdown",
      "metadata": {
        "id": "BBuNorxpi0R5"
      },
      "source": [
        "#### About the data:\n",
        "* **age:** Age of the patient\n",
        "\n",
        "* **anaemia:** If the patient had the haemoglobin below the normal range\n",
        "\n",
        "* **diabetes:** If the patient was diabetic\n",
        "\n",
        "* **high_blood_pressure:** If the patient had hypertension\n",
        "\n",
        "* **sex:** The sex of the patient\n",
        "* **smoking:** If the patient smokes actively or ever did in past\n",
        "*  **time:** It is the time of the patient's follow-up visit for the disease in months\n",
        "* **DEATH_EVENT:** If the patient deceased during the follow-up period\n",
        "\n",
        "###  *- Dropped columns:* (I chose to drop these columns to simplify the dataset. Many of these terms to the common, non medically trained individual, could be difficult to understand.)\n",
        "* **ejection_fraction:** Ejection fraction is a measurement of how much blood the left ventricle pumps out with each contraction\n",
        "* **creatinine_phosphokinase:** The level of the creatine phosphokinase in the blood in mcg/L\n",
        "* **platelets:** Platelet count of blood in kiloplatelets/mL\n",
        "* **serum_creatinine:** The level of serum creatinine in the blood in mg/dL\n",
        "* **serum_sodium:** The level of serum sodium in the blood in mEq/L"
      ]
    },
    {
      "cell_type": "code",
      "execution_count": 5,
      "metadata": {
        "colab": {
          "base_uri": "https://localhost:8080/",
          "height": 270
        },
        "id": "GIkcMa0oiC6d",
        "outputId": "75c1bf13-e7ca-4b23-8d51-eb5b5128695d"
      },
      "outputs": [
        {
          "output_type": "execute_result",
          "data": {
            "text/plain": [
              "    age  anaemia  creatinine_phosphokinase  diabetes  ejection_fraction  \\\n",
              "0  75.0        0                       582         0                 20   \n",
              "1  55.0        0                      7861         0                 38   \n",
              "2  65.0        0                       146         0                 20   \n",
              "3  50.0        1                       111         0                 20   \n",
              "4  65.0        1                       160         1                 20   \n",
              "\n",
              "   high_blood_pressure  platelets  serum_creatinine  serum_sodium  sex  \\\n",
              "0                    1  265000.00               1.9           130    1   \n",
              "1                    0  263358.03               1.1           136    1   \n",
              "2                    0  162000.00               1.3           129    1   \n",
              "3                    0  210000.00               1.9           137    1   \n",
              "4                    0  327000.00               2.7           116    0   \n",
              "\n",
              "   smoking  time  DEATH_EVENT  \n",
              "0        0     4            1  \n",
              "1        0     6            1  \n",
              "2        1     7            1  \n",
              "3        0     7            1  \n",
              "4        0     8            1  "
            ],
            "text/html": [
              "\n",
              "  <div id=\"df-b0f8b03b-0455-4eee-999c-b456deb1e5c5\">\n",
              "    <div class=\"colab-df-container\">\n",
              "      <div>\n",
              "<style scoped>\n",
              "    .dataframe tbody tr th:only-of-type {\n",
              "        vertical-align: middle;\n",
              "    }\n",
              "\n",
              "    .dataframe tbody tr th {\n",
              "        vertical-align: top;\n",
              "    }\n",
              "\n",
              "    .dataframe thead th {\n",
              "        text-align: right;\n",
              "    }\n",
              "</style>\n",
              "<table border=\"1\" class=\"dataframe\">\n",
              "  <thead>\n",
              "    <tr style=\"text-align: right;\">\n",
              "      <th></th>\n",
              "      <th>age</th>\n",
              "      <th>anaemia</th>\n",
              "      <th>creatinine_phosphokinase</th>\n",
              "      <th>diabetes</th>\n",
              "      <th>ejection_fraction</th>\n",
              "      <th>high_blood_pressure</th>\n",
              "      <th>platelets</th>\n",
              "      <th>serum_creatinine</th>\n",
              "      <th>serum_sodium</th>\n",
              "      <th>sex</th>\n",
              "      <th>smoking</th>\n",
              "      <th>time</th>\n",
              "      <th>DEATH_EVENT</th>\n",
              "    </tr>\n",
              "  </thead>\n",
              "  <tbody>\n",
              "    <tr>\n",
              "      <th>0</th>\n",
              "      <td>75.0</td>\n",
              "      <td>0</td>\n",
              "      <td>582</td>\n",
              "      <td>0</td>\n",
              "      <td>20</td>\n",
              "      <td>1</td>\n",
              "      <td>265000.00</td>\n",
              "      <td>1.9</td>\n",
              "      <td>130</td>\n",
              "      <td>1</td>\n",
              "      <td>0</td>\n",
              "      <td>4</td>\n",
              "      <td>1</td>\n",
              "    </tr>\n",
              "    <tr>\n",
              "      <th>1</th>\n",
              "      <td>55.0</td>\n",
              "      <td>0</td>\n",
              "      <td>7861</td>\n",
              "      <td>0</td>\n",
              "      <td>38</td>\n",
              "      <td>0</td>\n",
              "      <td>263358.03</td>\n",
              "      <td>1.1</td>\n",
              "      <td>136</td>\n",
              "      <td>1</td>\n",
              "      <td>0</td>\n",
              "      <td>6</td>\n",
              "      <td>1</td>\n",
              "    </tr>\n",
              "    <tr>\n",
              "      <th>2</th>\n",
              "      <td>65.0</td>\n",
              "      <td>0</td>\n",
              "      <td>146</td>\n",
              "      <td>0</td>\n",
              "      <td>20</td>\n",
              "      <td>0</td>\n",
              "      <td>162000.00</td>\n",
              "      <td>1.3</td>\n",
              "      <td>129</td>\n",
              "      <td>1</td>\n",
              "      <td>1</td>\n",
              "      <td>7</td>\n",
              "      <td>1</td>\n",
              "    </tr>\n",
              "    <tr>\n",
              "      <th>3</th>\n",
              "      <td>50.0</td>\n",
              "      <td>1</td>\n",
              "      <td>111</td>\n",
              "      <td>0</td>\n",
              "      <td>20</td>\n",
              "      <td>0</td>\n",
              "      <td>210000.00</td>\n",
              "      <td>1.9</td>\n",
              "      <td>137</td>\n",
              "      <td>1</td>\n",
              "      <td>0</td>\n",
              "      <td>7</td>\n",
              "      <td>1</td>\n",
              "    </tr>\n",
              "    <tr>\n",
              "      <th>4</th>\n",
              "      <td>65.0</td>\n",
              "      <td>1</td>\n",
              "      <td>160</td>\n",
              "      <td>1</td>\n",
              "      <td>20</td>\n",
              "      <td>0</td>\n",
              "      <td>327000.00</td>\n",
              "      <td>2.7</td>\n",
              "      <td>116</td>\n",
              "      <td>0</td>\n",
              "      <td>0</td>\n",
              "      <td>8</td>\n",
              "      <td>1</td>\n",
              "    </tr>\n",
              "  </tbody>\n",
              "</table>\n",
              "</div>\n",
              "      <button class=\"colab-df-convert\" onclick=\"convertToInteractive('df-b0f8b03b-0455-4eee-999c-b456deb1e5c5')\"\n",
              "              title=\"Convert this dataframe to an interactive table.\"\n",
              "              style=\"display:none;\">\n",
              "        \n",
              "  <svg xmlns=\"http://www.w3.org/2000/svg\" height=\"24px\"viewBox=\"0 0 24 24\"\n",
              "       width=\"24px\">\n",
              "    <path d=\"M0 0h24v24H0V0z\" fill=\"none\"/>\n",
              "    <path d=\"M18.56 5.44l.94 2.06.94-2.06 2.06-.94-2.06-.94-.94-2.06-.94 2.06-2.06.94zm-11 1L8.5 8.5l.94-2.06 2.06-.94-2.06-.94L8.5 2.5l-.94 2.06-2.06.94zm10 10l.94 2.06.94-2.06 2.06-.94-2.06-.94-.94-2.06-.94 2.06-2.06.94z\"/><path d=\"M17.41 7.96l-1.37-1.37c-.4-.4-.92-.59-1.43-.59-.52 0-1.04.2-1.43.59L10.3 9.45l-7.72 7.72c-.78.78-.78 2.05 0 2.83L4 21.41c.39.39.9.59 1.41.59.51 0 1.02-.2 1.41-.59l7.78-7.78 2.81-2.81c.8-.78.8-2.07 0-2.86zM5.41 20L4 18.59l7.72-7.72 1.47 1.35L5.41 20z\"/>\n",
              "  </svg>\n",
              "      </button>\n",
              "      \n",
              "  <style>\n",
              "    .colab-df-container {\n",
              "      display:flex;\n",
              "      flex-wrap:wrap;\n",
              "      gap: 12px;\n",
              "    }\n",
              "\n",
              "    .colab-df-convert {\n",
              "      background-color: #E8F0FE;\n",
              "      border: none;\n",
              "      border-radius: 50%;\n",
              "      cursor: pointer;\n",
              "      display: none;\n",
              "      fill: #1967D2;\n",
              "      height: 32px;\n",
              "      padding: 0 0 0 0;\n",
              "      width: 32px;\n",
              "    }\n",
              "\n",
              "    .colab-df-convert:hover {\n",
              "      background-color: #E2EBFA;\n",
              "      box-shadow: 0px 1px 2px rgba(60, 64, 67, 0.3), 0px 1px 3px 1px rgba(60, 64, 67, 0.15);\n",
              "      fill: #174EA6;\n",
              "    }\n",
              "\n",
              "    [theme=dark] .colab-df-convert {\n",
              "      background-color: #3B4455;\n",
              "      fill: #D2E3FC;\n",
              "    }\n",
              "\n",
              "    [theme=dark] .colab-df-convert:hover {\n",
              "      background-color: #434B5C;\n",
              "      box-shadow: 0px 1px 3px 1px rgba(0, 0, 0, 0.15);\n",
              "      filter: drop-shadow(0px 1px 2px rgba(0, 0, 0, 0.3));\n",
              "      fill: #FFFFFF;\n",
              "    }\n",
              "  </style>\n",
              "\n",
              "      <script>\n",
              "        const buttonEl =\n",
              "          document.querySelector('#df-b0f8b03b-0455-4eee-999c-b456deb1e5c5 button.colab-df-convert');\n",
              "        buttonEl.style.display =\n",
              "          google.colab.kernel.accessAllowed ? 'block' : 'none';\n",
              "\n",
              "        async function convertToInteractive(key) {\n",
              "          const element = document.querySelector('#df-b0f8b03b-0455-4eee-999c-b456deb1e5c5');\n",
              "          const dataTable =\n",
              "            await google.colab.kernel.invokeFunction('convertToInteractive',\n",
              "                                                     [key], {});\n",
              "          if (!dataTable) return;\n",
              "\n",
              "          const docLinkHtml = 'Like what you see? Visit the ' +\n",
              "            '<a target=\"_blank\" href=https://colab.research.google.com/notebooks/data_table.ipynb>data table notebook</a>'\n",
              "            + ' to learn more about interactive tables.';\n",
              "          element.innerHTML = '';\n",
              "          dataTable['output_type'] = 'display_data';\n",
              "          await google.colab.output.renderOutput(dataTable, element);\n",
              "          const docLink = document.createElement('div');\n",
              "          docLink.innerHTML = docLinkHtml;\n",
              "          element.appendChild(docLink);\n",
              "        }\n",
              "      </script>\n",
              "    </div>\n",
              "  </div>\n",
              "  "
            ]
          },
          "metadata": {},
          "execution_count": 5
        }
      ],
      "source": [
        "heart_df.head()"
      ]
    },
    {
      "cell_type": "code",
      "execution_count": 6,
      "metadata": {
        "id": "XfjMfieSzL5P"
      },
      "outputs": [],
      "source": [
        "heartfail = heart_df.drop(columns = ['ejection_fraction', 'creatinine_phosphokinase', 'platelets', 'serum_creatinine', 'serum_sodium'])"
      ]
    },
    {
      "cell_type": "code",
      "execution_count": 7,
      "metadata": {
        "colab": {
          "base_uri": "https://localhost:8080/"
        },
        "id": "9KffMKN4jGhu",
        "outputId": "fcfc714d-e05f-4592-ce5d-628f34fe4670"
      },
      "outputs": [
        {
          "output_type": "stream",
          "name": "stdout",
          "text": [
            "<class 'pandas.core.frame.DataFrame'>\n",
            "RangeIndex: 299 entries, 0 to 298\n",
            "Data columns (total 8 columns):\n",
            " #   Column               Non-Null Count  Dtype  \n",
            "---  ------               --------------  -----  \n",
            " 0   age                  299 non-null    float64\n",
            " 1   anaemia              299 non-null    int64  \n",
            " 2   diabetes             299 non-null    int64  \n",
            " 3   high_blood_pressure  299 non-null    int64  \n",
            " 4   sex                  299 non-null    int64  \n",
            " 5   smoking              299 non-null    int64  \n",
            " 6   time                 299 non-null    int64  \n",
            " 7   DEATH_EVENT          299 non-null    int64  \n",
            "dtypes: float64(1), int64(7)\n",
            "memory usage: 18.8 KB\n"
          ]
        }
      ],
      "source": [
        "heartfail.info()"
      ]
    },
    {
      "cell_type": "code",
      "execution_count": 8,
      "metadata": {
        "colab": {
          "base_uri": "https://localhost:8080/"
        },
        "id": "njqUnfP1isih",
        "outputId": "8875ef65-20b3-44e7-c1fb-57e509b14734"
      },
      "outputs": [
        {
          "output_type": "execute_result",
          "data": {
            "text/plain": [
              "age                    0\n",
              "anaemia                0\n",
              "diabetes               0\n",
              "high_blood_pressure    0\n",
              "sex                    0\n",
              "smoking                0\n",
              "time                   0\n",
              "DEATH_EVENT            0\n",
              "dtype: int64"
            ]
          },
          "metadata": {},
          "execution_count": 8
        }
      ],
      "source": [
        "# Identifying any missing values\n",
        "heartfail.isna().sum()"
      ]
    },
    {
      "cell_type": "code",
      "execution_count": 9,
      "metadata": {
        "colab": {
          "base_uri": "https://localhost:8080/",
          "height": 112
        },
        "id": "1De31Ut8i685",
        "outputId": "35da6bf4-46c8-4a50-e1e7-6dc2c2d5fb2d"
      },
      "outputs": [
        {
          "output_type": "execute_result",
          "data": {
            "text/plain": [
              "      age  anaemia  diabetes  high_blood_pressure  sex  smoking  time  \\\n",
              "233  53.0        1         0                    0    1        1   209   \n",
              "234  53.0        1         0                    0    1        1   209   \n",
              "\n",
              "     DEATH_EVENT  \n",
              "233            0  \n",
              "234            0  "
            ],
            "text/html": [
              "\n",
              "  <div id=\"df-88718710-c047-43c3-9ce8-714ff0a34a36\">\n",
              "    <div class=\"colab-df-container\">\n",
              "      <div>\n",
              "<style scoped>\n",
              "    .dataframe tbody tr th:only-of-type {\n",
              "        vertical-align: middle;\n",
              "    }\n",
              "\n",
              "    .dataframe tbody tr th {\n",
              "        vertical-align: top;\n",
              "    }\n",
              "\n",
              "    .dataframe thead th {\n",
              "        text-align: right;\n",
              "    }\n",
              "</style>\n",
              "<table border=\"1\" class=\"dataframe\">\n",
              "  <thead>\n",
              "    <tr style=\"text-align: right;\">\n",
              "      <th></th>\n",
              "      <th>age</th>\n",
              "      <th>anaemia</th>\n",
              "      <th>diabetes</th>\n",
              "      <th>high_blood_pressure</th>\n",
              "      <th>sex</th>\n",
              "      <th>smoking</th>\n",
              "      <th>time</th>\n",
              "      <th>DEATH_EVENT</th>\n",
              "    </tr>\n",
              "  </thead>\n",
              "  <tbody>\n",
              "    <tr>\n",
              "      <th>233</th>\n",
              "      <td>53.0</td>\n",
              "      <td>1</td>\n",
              "      <td>0</td>\n",
              "      <td>0</td>\n",
              "      <td>1</td>\n",
              "      <td>1</td>\n",
              "      <td>209</td>\n",
              "      <td>0</td>\n",
              "    </tr>\n",
              "    <tr>\n",
              "      <th>234</th>\n",
              "      <td>53.0</td>\n",
              "      <td>1</td>\n",
              "      <td>0</td>\n",
              "      <td>0</td>\n",
              "      <td>1</td>\n",
              "      <td>1</td>\n",
              "      <td>209</td>\n",
              "      <td>0</td>\n",
              "    </tr>\n",
              "  </tbody>\n",
              "</table>\n",
              "</div>\n",
              "      <button class=\"colab-df-convert\" onclick=\"convertToInteractive('df-88718710-c047-43c3-9ce8-714ff0a34a36')\"\n",
              "              title=\"Convert this dataframe to an interactive table.\"\n",
              "              style=\"display:none;\">\n",
              "        \n",
              "  <svg xmlns=\"http://www.w3.org/2000/svg\" height=\"24px\"viewBox=\"0 0 24 24\"\n",
              "       width=\"24px\">\n",
              "    <path d=\"M0 0h24v24H0V0z\" fill=\"none\"/>\n",
              "    <path d=\"M18.56 5.44l.94 2.06.94-2.06 2.06-.94-2.06-.94-.94-2.06-.94 2.06-2.06.94zm-11 1L8.5 8.5l.94-2.06 2.06-.94-2.06-.94L8.5 2.5l-.94 2.06-2.06.94zm10 10l.94 2.06.94-2.06 2.06-.94-2.06-.94-.94-2.06-.94 2.06-2.06.94z\"/><path d=\"M17.41 7.96l-1.37-1.37c-.4-.4-.92-.59-1.43-.59-.52 0-1.04.2-1.43.59L10.3 9.45l-7.72 7.72c-.78.78-.78 2.05 0 2.83L4 21.41c.39.39.9.59 1.41.59.51 0 1.02-.2 1.41-.59l7.78-7.78 2.81-2.81c.8-.78.8-2.07 0-2.86zM5.41 20L4 18.59l7.72-7.72 1.47 1.35L5.41 20z\"/>\n",
              "  </svg>\n",
              "      </button>\n",
              "      \n",
              "  <style>\n",
              "    .colab-df-container {\n",
              "      display:flex;\n",
              "      flex-wrap:wrap;\n",
              "      gap: 12px;\n",
              "    }\n",
              "\n",
              "    .colab-df-convert {\n",
              "      background-color: #E8F0FE;\n",
              "      border: none;\n",
              "      border-radius: 50%;\n",
              "      cursor: pointer;\n",
              "      display: none;\n",
              "      fill: #1967D2;\n",
              "      height: 32px;\n",
              "      padding: 0 0 0 0;\n",
              "      width: 32px;\n",
              "    }\n",
              "\n",
              "    .colab-df-convert:hover {\n",
              "      background-color: #E2EBFA;\n",
              "      box-shadow: 0px 1px 2px rgba(60, 64, 67, 0.3), 0px 1px 3px 1px rgba(60, 64, 67, 0.15);\n",
              "      fill: #174EA6;\n",
              "    }\n",
              "\n",
              "    [theme=dark] .colab-df-convert {\n",
              "      background-color: #3B4455;\n",
              "      fill: #D2E3FC;\n",
              "    }\n",
              "\n",
              "    [theme=dark] .colab-df-convert:hover {\n",
              "      background-color: #434B5C;\n",
              "      box-shadow: 0px 1px 3px 1px rgba(0, 0, 0, 0.15);\n",
              "      filter: drop-shadow(0px 1px 2px rgba(0, 0, 0, 0.3));\n",
              "      fill: #FFFFFF;\n",
              "    }\n",
              "  </style>\n",
              "\n",
              "      <script>\n",
              "        const buttonEl =\n",
              "          document.querySelector('#df-88718710-c047-43c3-9ce8-714ff0a34a36 button.colab-df-convert');\n",
              "        buttonEl.style.display =\n",
              "          google.colab.kernel.accessAllowed ? 'block' : 'none';\n",
              "\n",
              "        async function convertToInteractive(key) {\n",
              "          const element = document.querySelector('#df-88718710-c047-43c3-9ce8-714ff0a34a36');\n",
              "          const dataTable =\n",
              "            await google.colab.kernel.invokeFunction('convertToInteractive',\n",
              "                                                     [key], {});\n",
              "          if (!dataTable) return;\n",
              "\n",
              "          const docLinkHtml = 'Like what you see? Visit the ' +\n",
              "            '<a target=\"_blank\" href=https://colab.research.google.com/notebooks/data_table.ipynb>data table notebook</a>'\n",
              "            + ' to learn more about interactive tables.';\n",
              "          element.innerHTML = '';\n",
              "          dataTable['output_type'] = 'display_data';\n",
              "          await google.colab.output.renderOutput(dataTable, element);\n",
              "          const docLink = document.createElement('div');\n",
              "          docLink.innerHTML = docLinkHtml;\n",
              "          element.appendChild(docLink);\n",
              "        }\n",
              "      </script>\n",
              "    </div>\n",
              "  </div>\n",
              "  "
            ]
          },
          "metadata": {},
          "execution_count": 9
        }
      ],
      "source": [
        "# Identifying any duplicates\n",
        "heartfail[heartfail.duplicated(keep = False)]"
      ]
    },
    {
      "cell_type": "code",
      "execution_count": 10,
      "metadata": {
        "id": "IneKxU821HqP"
      },
      "outputs": [],
      "source": [
        "heartfail.drop_duplicates(inplace = True)"
      ]
    },
    {
      "cell_type": "markdown",
      "metadata": {
        "id": "riJpt5CnMqG-"
      },
      "source": [
        "  ###### There are no categorical values. I did check for inconsistencies in all columns and found none. "
      ]
    },
    {
      "cell_type": "code",
      "execution_count": 11,
      "metadata": {
        "colab": {
          "base_uri": "https://localhost:8080/"
        },
        "id": "KD77iva4gsR8",
        "outputId": "bd961ef8-ffc7-4842-d10e-63f169bc31d5"
      },
      "outputs": [
        {
          "output_type": "execute_result",
          "data": {
            "text/plain": [
              "60.000    33\n",
              "50.000    27\n",
              "65.000    26\n",
              "70.000    25\n",
              "45.000    19\n",
              "55.000    17\n",
              "75.000    11\n",
              "58.000    10\n",
              "53.000     9\n",
              "63.000     8\n",
              "80.000     7\n",
              "72.000     7\n",
              "40.000     7\n",
              "42.000     7\n",
              "85.000     6\n",
              "68.000     5\n",
              "52.000     5\n",
              "62.000     5\n",
              "51.000     4\n",
              "59.000     4\n",
              "61.000     4\n",
              "73.000     4\n",
              "49.000     4\n",
              "69.000     3\n",
              "46.000     3\n",
              "64.000     3\n",
              "82.000     3\n",
              "90.000     3\n",
              "78.000     2\n",
              "60.667     2\n",
              "54.000     2\n",
              "77.000     2\n",
              "57.000     2\n",
              "66.000     2\n",
              "44.000     2\n",
              "67.000     2\n",
              "95.000     2\n",
              "48.000     2\n",
              "43.000     1\n",
              "86.000     1\n",
              "81.000     1\n",
              "79.000     1\n",
              "41.000     1\n",
              "94.000     1\n",
              "87.000     1\n",
              "47.000     1\n",
              "56.000     1\n",
              "Name: age, dtype: int64"
            ]
          },
          "metadata": {},
          "execution_count": 11
        }
      ],
      "source": [
        "heartfail['age'].value_counts()"
      ]
    },
    {
      "cell_type": "code",
      "execution_count": 12,
      "metadata": {
        "colab": {
          "base_uri": "https://localhost:8080/"
        },
        "id": "pytRSZgpgsEu",
        "outputId": "6df9bffd-a840-4320-916f-00703c9399ef"
      },
      "outputs": [
        {
          "output_type": "execute_result",
          "data": {
            "text/plain": [
              "0    170\n",
              "1    128\n",
              "Name: anaemia, dtype: int64"
            ]
          },
          "metadata": {},
          "execution_count": 12
        }
      ],
      "source": [
        "heartfail['anaemia'].value_counts()"
      ]
    },
    {
      "cell_type": "code",
      "execution_count": 13,
      "metadata": {
        "colab": {
          "base_uri": "https://localhost:8080/"
        },
        "id": "O4TP8ovak52m",
        "outputId": "cb0960a1-150e-4166-d675-20723260d341"
      },
      "outputs": [
        {
          "output_type": "execute_result",
          "data": {
            "text/plain": [
              "0    173\n",
              "1    125\n",
              "Name: diabetes, dtype: int64"
            ]
          },
          "metadata": {},
          "execution_count": 13
        }
      ],
      "source": [
        "heartfail['diabetes'].value_counts()"
      ]
    },
    {
      "cell_type": "code",
      "execution_count": 14,
      "metadata": {
        "colab": {
          "base_uri": "https://localhost:8080/"
        },
        "id": "MuyLS4Mzk5RE",
        "outputId": "901dfb9d-0195-417f-d57d-143770a2d6a9"
      },
      "outputs": [
        {
          "output_type": "execute_result",
          "data": {
            "text/plain": [
              "0    193\n",
              "1    105\n",
              "Name: high_blood_pressure, dtype: int64"
            ]
          },
          "metadata": {},
          "execution_count": 14
        }
      ],
      "source": [
        "heartfail['high_blood_pressure'].value_counts()"
      ]
    },
    {
      "cell_type": "code",
      "execution_count": 15,
      "metadata": {
        "colab": {
          "base_uri": "https://localhost:8080/"
        },
        "id": "4rw7rMpZlTqk",
        "outputId": "923b3bc6-5e9f-45c9-9328-acaf6976d44c"
      },
      "outputs": [
        {
          "output_type": "execute_result",
          "data": {
            "text/plain": [
              "1    193\n",
              "0    105\n",
              "Name: sex, dtype: int64"
            ]
          },
          "metadata": {},
          "execution_count": 15
        }
      ],
      "source": [
        "heartfail['sex'].value_counts()"
      ]
    },
    {
      "cell_type": "code",
      "execution_count": 16,
      "metadata": {
        "colab": {
          "base_uri": "https://localhost:8080/"
        },
        "id": "Kv_EEx0RlcFg",
        "outputId": "6d1181b8-c9c0-40f2-868e-f8fa62ea235a"
      },
      "outputs": [
        {
          "output_type": "execute_result",
          "data": {
            "text/plain": [
              "0    203\n",
              "1     95\n",
              "Name: smoking, dtype: int64"
            ]
          },
          "metadata": {},
          "execution_count": 16
        }
      ],
      "source": [
        "heartfail['smoking'].value_counts()"
      ]
    },
    {
      "cell_type": "code",
      "execution_count": 17,
      "metadata": {
        "colab": {
          "base_uri": "https://localhost:8080/"
        },
        "id": "KtX-6pM0lf0a",
        "outputId": "3b560f77-d8cf-416a-e66f-dbf7be37ce14"
      },
      "outputs": [
        {
          "output_type": "execute_result",
          "data": {
            "text/plain": [
              "250    7\n",
              "187    7\n",
              "107    6\n",
              "10     6\n",
              "186    6\n",
              "      ..\n",
              "97     1\n",
              "96     1\n",
              "86     1\n",
              "77     1\n",
              "285    1\n",
              "Name: time, Length: 148, dtype: int64"
            ]
          },
          "metadata": {},
          "execution_count": 17
        }
      ],
      "source": [
        "heartfail['time'].value_counts()"
      ]
    },
    {
      "cell_type": "code",
      "execution_count": 18,
      "metadata": {
        "colab": {
          "base_uri": "https://localhost:8080/"
        },
        "id": "P3qhoyeFjC4Y",
        "outputId": "b02f4dd9-56e5-4734-e78b-f312b443b201"
      },
      "outputs": [
        {
          "output_type": "execute_result",
          "data": {
            "text/plain": [
              "0    202\n",
              "1     96\n",
              "Name: DEATH_EVENT, dtype: int64"
            ]
          },
          "metadata": {},
          "execution_count": 18
        }
      ],
      "source": [
        "heartfail['DEATH_EVENT'].value_counts()"
      ]
    },
    {
      "cell_type": "markdown",
      "metadata": {
        "id": "A7caVOvFpANv"
      },
      "source": [
        "#### Univariate visuals\n",
        "\n",
        "- I chose box plots for the columns that had multiple variables.\n",
        "\n",
        "- I chose histograms for the columns that had ordinal values. "
      ]
    },
    {
      "cell_type": "code",
      "execution_count": 19,
      "metadata": {
        "id": "xmcGo2aUhax3"
      },
      "outputs": [],
      "source": [
        "import matplotlib.pyplot as plt\n",
        "import seaborn as sns"
      ]
    },
    {
      "cell_type": "code",
      "execution_count": 20,
      "metadata": {
        "colab": {
          "base_uri": "https://localhost:8080/",
          "height": 364
        },
        "id": "fSUBYvJc1fNk",
        "outputId": "c55513f2-4650-406a-bd03-df88c98217b0"
      },
      "outputs": [
        {
          "output_type": "execute_result",
          "data": {
            "text/plain": [
              "              age     anaemia    diabetes  high_blood_pressure         sex  \\\n",
              "count  298.000000  298.000000  298.000000           298.000000  298.000000   \n",
              "mean    60.860181    0.429530    0.419463             0.352349    0.647651   \n",
              "std     11.906114    0.495842    0.494301             0.478506    0.478506   \n",
              "min     40.000000    0.000000    0.000000             0.000000    0.000000   \n",
              "25%     51.000000    0.000000    0.000000             0.000000    0.000000   \n",
              "50%     60.000000    0.000000    0.000000             0.000000    1.000000   \n",
              "75%     70.000000    1.000000    1.000000             1.000000    1.000000   \n",
              "max     95.000000    1.000000    1.000000             1.000000    1.000000   \n",
              "\n",
              "          smoking        time  DEATH_EVENT  \n",
              "count  298.000000  298.000000   298.000000  \n",
              "mean     0.318792  129.996644     0.322148  \n",
              "std      0.466792   77.609941     0.468085  \n",
              "min      0.000000    4.000000     0.000000  \n",
              "25%      0.000000   73.000000     0.000000  \n",
              "50%      0.000000  114.000000     0.000000  \n",
              "75%      1.000000  201.000000     1.000000  \n",
              "max      1.000000  285.000000     1.000000  "
            ],
            "text/html": [
              "\n",
              "  <div id=\"df-8a43c7bd-3e05-4c99-95c5-6c610338cf87\">\n",
              "    <div class=\"colab-df-container\">\n",
              "      <div>\n",
              "<style scoped>\n",
              "    .dataframe tbody tr th:only-of-type {\n",
              "        vertical-align: middle;\n",
              "    }\n",
              "\n",
              "    .dataframe tbody tr th {\n",
              "        vertical-align: top;\n",
              "    }\n",
              "\n",
              "    .dataframe thead th {\n",
              "        text-align: right;\n",
              "    }\n",
              "</style>\n",
              "<table border=\"1\" class=\"dataframe\">\n",
              "  <thead>\n",
              "    <tr style=\"text-align: right;\">\n",
              "      <th></th>\n",
              "      <th>age</th>\n",
              "      <th>anaemia</th>\n",
              "      <th>diabetes</th>\n",
              "      <th>high_blood_pressure</th>\n",
              "      <th>sex</th>\n",
              "      <th>smoking</th>\n",
              "      <th>time</th>\n",
              "      <th>DEATH_EVENT</th>\n",
              "    </tr>\n",
              "  </thead>\n",
              "  <tbody>\n",
              "    <tr>\n",
              "      <th>count</th>\n",
              "      <td>298.000000</td>\n",
              "      <td>298.000000</td>\n",
              "      <td>298.000000</td>\n",
              "      <td>298.000000</td>\n",
              "      <td>298.000000</td>\n",
              "      <td>298.000000</td>\n",
              "      <td>298.000000</td>\n",
              "      <td>298.000000</td>\n",
              "    </tr>\n",
              "    <tr>\n",
              "      <th>mean</th>\n",
              "      <td>60.860181</td>\n",
              "      <td>0.429530</td>\n",
              "      <td>0.419463</td>\n",
              "      <td>0.352349</td>\n",
              "      <td>0.647651</td>\n",
              "      <td>0.318792</td>\n",
              "      <td>129.996644</td>\n",
              "      <td>0.322148</td>\n",
              "    </tr>\n",
              "    <tr>\n",
              "      <th>std</th>\n",
              "      <td>11.906114</td>\n",
              "      <td>0.495842</td>\n",
              "      <td>0.494301</td>\n",
              "      <td>0.478506</td>\n",
              "      <td>0.478506</td>\n",
              "      <td>0.466792</td>\n",
              "      <td>77.609941</td>\n",
              "      <td>0.468085</td>\n",
              "    </tr>\n",
              "    <tr>\n",
              "      <th>min</th>\n",
              "      <td>40.000000</td>\n",
              "      <td>0.000000</td>\n",
              "      <td>0.000000</td>\n",
              "      <td>0.000000</td>\n",
              "      <td>0.000000</td>\n",
              "      <td>0.000000</td>\n",
              "      <td>4.000000</td>\n",
              "      <td>0.000000</td>\n",
              "    </tr>\n",
              "    <tr>\n",
              "      <th>25%</th>\n",
              "      <td>51.000000</td>\n",
              "      <td>0.000000</td>\n",
              "      <td>0.000000</td>\n",
              "      <td>0.000000</td>\n",
              "      <td>0.000000</td>\n",
              "      <td>0.000000</td>\n",
              "      <td>73.000000</td>\n",
              "      <td>0.000000</td>\n",
              "    </tr>\n",
              "    <tr>\n",
              "      <th>50%</th>\n",
              "      <td>60.000000</td>\n",
              "      <td>0.000000</td>\n",
              "      <td>0.000000</td>\n",
              "      <td>0.000000</td>\n",
              "      <td>1.000000</td>\n",
              "      <td>0.000000</td>\n",
              "      <td>114.000000</td>\n",
              "      <td>0.000000</td>\n",
              "    </tr>\n",
              "    <tr>\n",
              "      <th>75%</th>\n",
              "      <td>70.000000</td>\n",
              "      <td>1.000000</td>\n",
              "      <td>1.000000</td>\n",
              "      <td>1.000000</td>\n",
              "      <td>1.000000</td>\n",
              "      <td>1.000000</td>\n",
              "      <td>201.000000</td>\n",
              "      <td>1.000000</td>\n",
              "    </tr>\n",
              "    <tr>\n",
              "      <th>max</th>\n",
              "      <td>95.000000</td>\n",
              "      <td>1.000000</td>\n",
              "      <td>1.000000</td>\n",
              "      <td>1.000000</td>\n",
              "      <td>1.000000</td>\n",
              "      <td>1.000000</td>\n",
              "      <td>285.000000</td>\n",
              "      <td>1.000000</td>\n",
              "    </tr>\n",
              "  </tbody>\n",
              "</table>\n",
              "</div>\n",
              "      <button class=\"colab-df-convert\" onclick=\"convertToInteractive('df-8a43c7bd-3e05-4c99-95c5-6c610338cf87')\"\n",
              "              title=\"Convert this dataframe to an interactive table.\"\n",
              "              style=\"display:none;\">\n",
              "        \n",
              "  <svg xmlns=\"http://www.w3.org/2000/svg\" height=\"24px\"viewBox=\"0 0 24 24\"\n",
              "       width=\"24px\">\n",
              "    <path d=\"M0 0h24v24H0V0z\" fill=\"none\"/>\n",
              "    <path d=\"M18.56 5.44l.94 2.06.94-2.06 2.06-.94-2.06-.94-.94-2.06-.94 2.06-2.06.94zm-11 1L8.5 8.5l.94-2.06 2.06-.94-2.06-.94L8.5 2.5l-.94 2.06-2.06.94zm10 10l.94 2.06.94-2.06 2.06-.94-2.06-.94-.94-2.06-.94 2.06-2.06.94z\"/><path d=\"M17.41 7.96l-1.37-1.37c-.4-.4-.92-.59-1.43-.59-.52 0-1.04.2-1.43.59L10.3 9.45l-7.72 7.72c-.78.78-.78 2.05 0 2.83L4 21.41c.39.39.9.59 1.41.59.51 0 1.02-.2 1.41-.59l7.78-7.78 2.81-2.81c.8-.78.8-2.07 0-2.86zM5.41 20L4 18.59l7.72-7.72 1.47 1.35L5.41 20z\"/>\n",
              "  </svg>\n",
              "      </button>\n",
              "      \n",
              "  <style>\n",
              "    .colab-df-container {\n",
              "      display:flex;\n",
              "      flex-wrap:wrap;\n",
              "      gap: 12px;\n",
              "    }\n",
              "\n",
              "    .colab-df-convert {\n",
              "      background-color: #E8F0FE;\n",
              "      border: none;\n",
              "      border-radius: 50%;\n",
              "      cursor: pointer;\n",
              "      display: none;\n",
              "      fill: #1967D2;\n",
              "      height: 32px;\n",
              "      padding: 0 0 0 0;\n",
              "      width: 32px;\n",
              "    }\n",
              "\n",
              "    .colab-df-convert:hover {\n",
              "      background-color: #E2EBFA;\n",
              "      box-shadow: 0px 1px 2px rgba(60, 64, 67, 0.3), 0px 1px 3px 1px rgba(60, 64, 67, 0.15);\n",
              "      fill: #174EA6;\n",
              "    }\n",
              "\n",
              "    [theme=dark] .colab-df-convert {\n",
              "      background-color: #3B4455;\n",
              "      fill: #D2E3FC;\n",
              "    }\n",
              "\n",
              "    [theme=dark] .colab-df-convert:hover {\n",
              "      background-color: #434B5C;\n",
              "      box-shadow: 0px 1px 3px 1px rgba(0, 0, 0, 0.15);\n",
              "      filter: drop-shadow(0px 1px 2px rgba(0, 0, 0, 0.3));\n",
              "      fill: #FFFFFF;\n",
              "    }\n",
              "  </style>\n",
              "\n",
              "      <script>\n",
              "        const buttonEl =\n",
              "          document.querySelector('#df-8a43c7bd-3e05-4c99-95c5-6c610338cf87 button.colab-df-convert');\n",
              "        buttonEl.style.display =\n",
              "          google.colab.kernel.accessAllowed ? 'block' : 'none';\n",
              "\n",
              "        async function convertToInteractive(key) {\n",
              "          const element = document.querySelector('#df-8a43c7bd-3e05-4c99-95c5-6c610338cf87');\n",
              "          const dataTable =\n",
              "            await google.colab.kernel.invokeFunction('convertToInteractive',\n",
              "                                                     [key], {});\n",
              "          if (!dataTable) return;\n",
              "\n",
              "          const docLinkHtml = 'Like what you see? Visit the ' +\n",
              "            '<a target=\"_blank\" href=https://colab.research.google.com/notebooks/data_table.ipynb>data table notebook</a>'\n",
              "            + ' to learn more about interactive tables.';\n",
              "          element.innerHTML = '';\n",
              "          dataTable['output_type'] = 'display_data';\n",
              "          await google.colab.output.renderOutput(dataTable, element);\n",
              "          const docLink = document.createElement('div');\n",
              "          docLink.innerHTML = docLinkHtml;\n",
              "          element.appendChild(docLink);\n",
              "        }\n",
              "      </script>\n",
              "    </div>\n",
              "  </div>\n",
              "  "
            ]
          },
          "metadata": {},
          "execution_count": 20
        }
      ],
      "source": [
        "heartfail.describe()"
      ]
    },
    {
      "cell_type": "code",
      "execution_count": 21,
      "metadata": {
        "colab": {
          "base_uri": "https://localhost:8080/",
          "height": 281
        },
        "id": "heMuAHiA6xlq",
        "outputId": "2037bc1b-89ff-40d9-bef1-8fad31325adf"
      },
      "outputs": [
        {
          "output_type": "display_data",
          "data": {
            "text/plain": [
              "<Figure size 432x288 with 1 Axes>"
            ],
            "image/png": "[encoded data removed]"
          },
          "metadata": {
            "needs_background": "light"
          }
        }
      ],
      "source": [
        "heartfail['age'].plot(kind='box')\n",
        "plt.title('Age vs. Death Event')\n",
        "plt.ylabel('DEATH_EVENT');\n",
        "plt.show()"
      ]
    },
    {
      "cell_type": "code",
      "execution_count": 22,
      "metadata": {
        "colab": {
          "base_uri": "https://localhost:8080/",
          "height": 281
        },
        "id": "3EoZ3ULh9hcL",
        "outputId": "a1f4e676-8dcb-4858-ea65-831e3da1558a"
      },
      "outputs": [
        {
          "output_type": "display_data",
          "data": {
            "text/plain": [
              "<Figure size 432x288 with 1 Axes>"
            ],
            "image/png": "[encoded data removed]"
          },
          "metadata": {
            "needs_background": "light"
          }
        }
      ],
      "source": [
        "heartfail['time'].plot(kind='box')\n",
        "plt.title('Time since last follow-up vs. Death Event')\n",
        "plt.ylabel('DEATH_EVENT');\n",
        "plt.show()"
      ]
    },
    {
      "cell_type": "code",
      "execution_count": 23,
      "metadata": {
        "colab": {
          "base_uri": "https://localhost:8080/",
          "height": 278
        },
        "id": "HE6gh7Y992fM",
        "outputId": "4cfe3f0e-7332-4d18-ce04-8d605fe0a6ed"
      },
      "outputs": [
        {
          "output_type": "display_data",
          "data": {
            "text/plain": [
              "<Figure size 432x288 with 1 Axes>"
            ],
            "image/png": "[encoded data removed]"
          },
          "metadata": {
            "needs_background": "light"
          }
        }
      ],
      "source": [
        "anemic= heartfail['anaemia'].value_counts()\n",
        "\n",
        "#Let's give it some color\n",
        "anemic.plot(kind = 'bar', color = ['blue','red'])\n",
        "plt.title('Anemic= Y-1, N-0')\n",
        "plt.show()"
      ]
    },
    {
      "cell_type": "code",
      "execution_count": 24,
      "metadata": {
        "colab": {
          "base_uri": "https://localhost:8080/",
          "height": 278
        },
        "id": "FC-7eXKL-Qwb",
        "outputId": "02146827-3a60-49c9-fc7b-80b7b831f303"
      },
      "outputs": [
        {
          "output_type": "display_data",
          "data": {
            "text/plain": [
              "<Figure size 432x288 with 1 Axes>"
            ],
            "image/png": "[encoded data removed]"
          },
          "metadata": {
            "needs_background": "light"
          }
        }
      ],
      "source": [
        "Hypertension = heartfail['high_blood_pressure'].value_counts()\n",
        "\n",
        "#Let's give it some color\n",
        "Hypertension.plot(kind = 'bar', color = ['blue','orange'])\n",
        "plt.title('Hypertension = Y-1, N-0')\n",
        "plt.show()"
      ]
    },
    {
      "cell_type": "code",
      "execution_count": 25,
      "metadata": {
        "colab": {
          "base_uri": "https://localhost:8080/",
          "height": 278
        },
        "id": "hxV0oOXp-hn4",
        "outputId": "c3f76530-477c-4b10-eae3-12b330d7e4d8"
      },
      "outputs": [
        {
          "output_type": "display_data",
          "data": {
            "text/plain": [
              "<Figure size 432x288 with 1 Axes>"
            ],
            "image/png": "[encoded data removed]"
          },
          "metadata": {
            "needs_background": "light"
          }
        }
      ],
      "source": [
        "Diabetic= heartfail['diabetes'].value_counts()\n",
        "\n",
        "#Let's give it some color\n",
        "Diabetic.plot(kind = 'bar', color = ['orange','red'])\n",
        "plt.title('Diabetic = Y-1, N-0')\n",
        "plt.show()"
      ]
    },
    {
      "cell_type": "code",
      "execution_count": 26,
      "metadata": {
        "colab": {
          "base_uri": "https://localhost:8080/",
          "height": 278
        },
        "id": "YD57c4fp_I64",
        "outputId": "feab705b-b185-4c2b-ffd5-eb58bf1289aa"
      },
      "outputs": [
        {
          "output_type": "display_data",
          "data": {
            "text/plain": [
              "<Figure size 432x288 with 1 Axes>"
            ],
            "image/png": "[encoded data removed]"
          },
          "metadata": {
            "needs_background": "light"
          }
        }
      ],
      "source": [
        "Gender= heartfail['sex'].value_counts()\n",
        "\n",
        "#Let's give it some color\n",
        "Gender.plot(kind = 'bar', color = ['blue','green'])\n",
        "plt.title('Male =1 Female =0')\n",
        "plt.show()"
      ]
    },
    {
      "cell_type": "code",
      "execution_count": 27,
      "metadata": {
        "colab": {
          "base_uri": "https://localhost:8080/",
          "height": 278
        },
        "id": "mwGyg61j_bUh",
        "outputId": "e9332e6f-e89e-483d-9a4f-8c5a713f7298"
      },
      "outputs": [
        {
          "output_type": "display_data",
          "data": {
            "text/plain": [
              "<Figure size 432x288 with 1 Axes>"
            ],
            "image/png": "[encoded data removed]"
          },
          "metadata": {
            "needs_background": "light"
          }
        }
      ],
      "source": [
        "smoke= heartfail['smoking'].value_counts()\n",
        "\n",
        "smoke.plot(kind = 'bar', color = ['purple','green'])\n",
        "plt.title('Smoking vs. Non ')\n",
        "plt.show()"
      ]
    },
    {
      "cell_type": "markdown",
      "metadata": {
        "id": "xuBLJ_K1FuYI"
      },
      "source": [
        "### Data Analysis\n",
        "9/14/2022"
      ]
    },
    {
      "cell_type": "markdown",
      "metadata": {
        "id": "w4esS7lcF13M"
      },
      "source": [
        "###### For this part of the project, you will continue your EDA by:\n",
        "- Identifying any moderate or strong correlations between your target and your features and/or between one feature and another\n",
        "- Creating multivariate exploratory visuals to further understand your data\n",
        "\n",
        "- From your data analysis, create two visuals that demonstrate key findings of interest to a stakeholder. These visuals should be reporting quality.  Be sure to explain the finding associated with each visual.  (NO histograms, boxplots, or correlation plots)"
      ]
    },
    {
      "cell_type": "code",
      "execution_count": 28,
      "metadata": {
        "colab": {
          "base_uri": "https://localhost:8080/"
        },
        "id": "ZS8XL2k8MkTB",
        "outputId": "698ae4c4-3e4a-438c-ea3c-17fc23def828"
      },
      "outputs": [
        {
          "output_type": "stream",
          "name": "stdout",
          "text": [
            "Looking in indexes: https://pypi.org/simple, https://us-python.pkg.dev/colab-wheels/public/simple/\n",
            "Requirement already satisfied: dython in /usr/local/lib/python3.7/dist-packages (0.7.2)\n",
            "Requirement already satisfied: scikit-learn>=0.24.2 in /usr/local/lib/python3.7/dist-packages (from dython) (1.0.2)\n",
            "Requirement already satisfied: psutil>=5.9.1 in /usr/local/lib/python3.7/dist-packages (from dython) (5.9.2)\n",
            "Requirement already satisfied: pandas>=1.3.2 in /usr/local/lib/python3.7/dist-packages (from dython) (1.3.5)\n",
            "Requirement already satisfied: seaborn>=0.11.0 in /usr/local/lib/python3.7/dist-packages (from dython) (0.11.2)\n",
            "Requirement already satisfied: numpy>=1.19.5 in /usr/local/lib/python3.7/dist-packages (from dython) (1.21.6)\n",
            "Requirement already satisfied: matplotlib>=3.4.3 in /usr/local/lib/python3.7/dist-packages (from dython) (3.5.3)\n",
            "Requirement already satisfied: scipy>=1.7.1 in /usr/local/lib/python3.7/dist-packages (from dython) (1.7.3)\n",
            "Requirement already satisfied: scikit-plot>=0.3.7 in /usr/local/lib/python3.7/dist-packages (from dython) (0.3.7)\n",
            "Requirement already satisfied: python-dateutil>=2.7 in /usr/local/lib/python3.7/dist-packages (from matplotlib>=3.4.3->dython) (2.8.2)\n",
            "Requirement already satisfied: packaging>=20.0 in /usr/local/lib/python3.7/dist-packages (from matplotlib>=3.4.3->dython) (21.3)\n",
            "Requirement already satisfied: pillow>=6.2.0 in /usr/local/lib/python3.7/dist-packages (from matplotlib>=3.4.3->dython) (7.1.2)\n",
            "Requirement already satisfied: pyparsing>=2.2.1 in /usr/local/lib/python3.7/dist-packages (from matplotlib>=3.4.3->dython) (3.0.9)\n",
            "Requirement already satisfied: kiwisolver>=1.0.1 in /usr/local/lib/python3.7/dist-packages (from matplotlib>=3.4.3->dython) (1.4.4)\n",
            "Requirement already satisfied: fonttools>=4.22.0 in /usr/local/lib/python3.7/dist-packages (from matplotlib>=3.4.3->dython) (4.37.4)\n",
            "Requirement already satisfied: cycler>=0.10 in /usr/local/lib/python3.7/dist-packages (from matplotlib>=3.4.3->dython) (0.11.0)\n",
            "Requirement already satisfied: typing-extensions in /usr/local/lib/python3.7/dist-packages (from kiwisolver>=1.0.1->matplotlib>=3.4.3->dython) (4.1.1)\n",
            "Requirement already satisfied: pytz>=2017.3 in /usr/local/lib/python3.7/dist-packages (from pandas>=1.3.2->dython) (2022.2.1)\n",
            "Requirement already satisfied: six>=1.5 in /usr/local/lib/python3.7/dist-packages (from python-dateutil>=2.7->matplotlib>=3.4.3->dython) (1.15.0)\n",
            "Requirement already satisfied: joblib>=0.11 in /usr/local/lib/python3.7/dist-packages (from scikit-learn>=0.24.2->dython) (1.1.0)\n",
            "Requirement already satisfied: threadpoolctl>=2.0.0 in /usr/local/lib/python3.7/dist-packages (from scikit-learn>=0.24.2->dython) (3.1.0)\n"
          ]
        }
      ],
      "source": [
        "!pip install dython"
      ]
    },
    {
      "cell_type": "code",
      "execution_count": 29,
      "metadata": {
        "id": "f0TSijUHGIWm"
      },
      "outputs": [],
      "source": [
        "# Calculate the correlation/strength-of-association of features\n",
        "# in a data-set with dython\n",
        "from dython.nominal import associations"
      ]
    },
    {
      "cell_type": "code",
      "execution_count": 30,
      "metadata": {
        "colab": {
          "base_uri": "https://localhost:8080/",
          "height": 987
        },
        "id": "_abIl37gG06n",
        "outputId": "07c9828a-9411-415f-8f5b-8c38ad00c230"
      },
      "outputs": [
        {
          "output_type": "display_data",
          "data": {
            "text/plain": [
              "<Figure size 720x720 with 2 Axes>"
            ],
            "image/png": "[encoded data removed]"
          },
          "metadata": {
            "needs_background": "light"
          }
        },
        {
          "output_type": "execute_result",
          "data": {
            "text/plain": [
              "{'corr':                           age   anaemia  diabetes  high_blood_pressure  \\\n",
              " age                  1.000000  0.090815 -0.103088             0.091810   \n",
              " anaemia              0.090815  1.000000 -0.009496             0.041144   \n",
              " diabetes            -0.103088 -0.009496  1.000000            -0.014856   \n",
              " high_blood_pressure  0.091810  0.041144 -0.014856             1.000000   \n",
              " sex                  0.067168 -0.097908 -0.155967            -0.102985   \n",
              " smoking              0.021981 -0.113546 -0.143721            -0.052355   \n",
              " time                -0.222367 -0.145904  0.036724            -0.194444   \n",
              " DEATH_EVENT          0.252591  0.069127 -0.003907             0.077786   \n",
              " \n",
              "                           sex   smoking      time  DEATH_EVENT  \n",
              " age                  0.067168  0.021981 -0.222367     0.252591  \n",
              " anaemia             -0.097908 -0.113546 -0.145904     0.069127  \n",
              " diabetes            -0.155967 -0.143721  0.036724    -0.003907  \n",
              " high_blood_pressure -0.102985 -0.052355 -0.194444     0.077786  \n",
              " sex                  1.000000  0.444283 -0.018165    -0.002623  \n",
              " smoking              0.444283  1.000000 -0.027945    -0.009308  \n",
              " time                -0.018165 -0.027945  1.000000    -0.525948  \n",
              " DEATH_EVENT         -0.002623 -0.009308 -0.525948     1.000000  ,\n",
              " 'ax': <AxesSubplot:>}"
            ]
          },
          "metadata": {},
          "execution_count": 30
        }
      ],
      "source": [
        "# Calculate the correlation/strength-of-association of features in data-set \n",
        "# with both categorical and continuous features using:\n",
        "# - Pearson's R for continuous-continuous cases\n",
        "# - Correlation Ratio for categorical-continuous cases \n",
        "# - Cramer's V or Theil's U for categorical-categorical cases\n",
        "associations(heartfail, \n",
        "             figsize=(10,10), \n",
        "             cmap='viridis')"
      ]
    },
    {
      "cell_type": "code",
      "execution_count": 31,
      "metadata": {
        "colab": {
          "base_uri": "https://localhost:8080/",
          "height": 307
        },
        "id": "4nGGkCgyNmbD",
        "outputId": "aa621197-b09f-4621-c210-b5450fb4911a"
      },
      "outputs": [
        {
          "output_type": "display_data",
          "data": {
            "text/plain": [
              "<Figure size 432x288 with 1 Axes>"
            ],
            "image/png": "[encoded data removed]"
          },
          "metadata": {
            "needs_background": "light"
          }
        }
      ],
      "source": [
        "sns.barplot(data=heartfail, x='DEATH_EVENT', y='age')\n",
        "plt.ticklabel_format(style='plain', axis='y')\n",
        "plt.title('Age as a contributor to Heart Disease Death (0=N 1=Y)', fontsize=20)\n",
        "plt.xlabel('DEATH EVENT', fontsize=15)\n",
        "plt.ylabel('Age', fontsize=15)\n",
        "plt.xticks(rotation = 45);"
      ]
    },
    {
      "cell_type": "markdown",
      "metadata": {
        "id": "OBthgtKiTOs6"
      },
      "source": [
        "As we can see in the bar plot above, many older patients who were experiencing heart failure seemed to have a higher death rate."
      ]
    },
    {
      "cell_type": "code",
      "execution_count": 90,
      "metadata": {
        "colab": {
          "base_uri": "https://localhost:8080/",
          "height": 307
        },
        "id": "JqP_bTxyRzY4",
        "outputId": "c89f430c-bafb-4baa-be65-d9e8ea855e16"
      },
      "outputs": [
        {
          "output_type": "display_data",
          "data": {
            "text/plain": [
              "<Figure size 432x288 with 1 Axes>"
            ],
            "image/png": "[encoded data removed]"
          },
          "metadata": {
            "needs_background": "light"
          }
        }
      ],
      "source": [
        "sns.barplot(data=heartfail, x='DEATH_EVENT', y='high_blood_pressure')\n",
        "plt.ticklabel_format(style='plain', axis='y')\n",
        "plt.title('Hypertension as a primary factor in death of heart patients (0=N 1=Y)', fontsize=20)\n",
        "plt.xlabel('Death Event', fontsize=15)\n",
        "plt.ylabel('Hypertension', fontsize=15)\n",
        "plt.xticks(rotation = 45);"
      ]
    },
    {
      "cell_type": "markdown",
      "metadata": {
        "id": "aTQKaCF6Tinv"
      },
      "source": [
        "This visual shows that hypertension is one of the primary contributors to a death event in heart failure patients."
      ]
    },
    {
      "cell_type": "markdown",
      "metadata": {
        "id": "SjcVgFzO-ss3"
      },
      "source": [
        "###Preprocessing\n",
        "September 17, 2022"
      ]
    },
    {
      "cell_type": "markdown",
      "metadata": {
        "id": "YK4m5GPQ-4tA"
      },
      "source": [
        "#### Ensure that you complete the appropriate pre-processing steps"
      ]
    },
    {
      "cell_type": "code",
      "execution_count": 33,
      "metadata": {
        "id": "_ez1hBtt-_E6"
      },
      "outputs": [],
      "source": [
        "x = heartfail.drop('DEATH_EVENT', axis=1)\n",
        "y = heartfail['DEATH_EVENT']"
      ]
    },
    {
      "cell_type": "code",
      "source": [
        "#train test split\n",
        "x_train, x_test, y_train, y_test = train_test_split(x, y, random_state=42)\n",
        "x_train.head()"
      ],
      "metadata": {
        "colab": {
          "base_uri": "https://localhost:8080/",
          "height": 206
        },
        "id": "McsfwTFYA1BX",
        "outputId": "8ab37a00-83da-4531-8dc0-72d0fa09156f"
      },
      "execution_count": 34,
      "outputs": [
        {
          "output_type": "execute_result",
          "data": {
            "text/plain": [
              "      age  anaemia  diabetes  high_blood_pressure  sex  smoking  time\n",
              "224  58.0        0         1                    0    1        0   205\n",
              "78   75.0        1         1                    1    1        1    74\n",
              "66   42.0        1         1                    0    0        0    65\n",
              "296  45.0        0         1                    0    0        0   278\n",
              "281  70.0        0         0                    0    1        1   250"
            ],
            "text/html": [
              "\n",
              "  <div id=\"df-a9997e4a-ebd7-49c8-ab90-d5f3aa5cfdc3\">\n",
              "    <div class=\"colab-df-container\">\n",
              "      <div>\n",
              "<style scoped>\n",
              "    .dataframe tbody tr th:only-of-type {\n",
              "        vertical-align: middle;\n",
              "    }\n",
              "\n",
              "    .dataframe tbody tr th {\n",
              "        vertical-align: top;\n",
              "    }\n",
              "\n",
              "    .dataframe thead th {\n",
              "        text-align: right;\n",
              "    }\n",
              "</style>\n",
              "<table border=\"1\" class=\"dataframe\">\n",
              "  <thead>\n",
              "    <tr style=\"text-align: right;\">\n",
              "      <th></th>\n",
              "      <th>age</th>\n",
              "      <th>anaemia</th>\n",
              "      <th>diabetes</th>\n",
              "      <th>high_blood_pressure</th>\n",
              "      <th>sex</th>\n",
              "      <th>smoking</th>\n",
              "      <th>time</th>\n",
              "    </tr>\n",
              "  </thead>\n",
              "  <tbody>\n",
              "    <tr>\n",
              "      <th>224</th>\n",
              "      <td>58.0</td>\n",
              "      <td>0</td>\n",
              "      <td>1</td>\n",
              "      <td>0</td>\n",
              "      <td>1</td>\n",
              "      <td>0</td>\n",
              "      <td>205</td>\n",
              "    </tr>\n",
              "    <tr>\n",
              "      <th>78</th>\n",
              "      <td>75.0</td>\n",
              "      <td>1</td>\n",
              "      <td>1</td>\n",
              "      <td>1</td>\n",
              "      <td>1</td>\n",
              "      <td>1</td>\n",
              "      <td>74</td>\n",
              "    </tr>\n",
              "    <tr>\n",
              "      <th>66</th>\n",
              "      <td>42.0</td>\n",
              "      <td>1</td>\n",
              "      <td>1</td>\n",
              "      <td>0</td>\n",
              "      <td>0</td>\n",
              "      <td>0</td>\n",
              "      <td>65</td>\n",
              "    </tr>\n",
              "    <tr>\n",
              "      <th>296</th>\n",
              "      <td>45.0</td>\n",
              "      <td>0</td>\n",
              "      <td>1</td>\n",
              "      <td>0</td>\n",
              "      <td>0</td>\n",
              "      <td>0</td>\n",
              "      <td>278</td>\n",
              "    </tr>\n",
              "    <tr>\n",
              "      <th>281</th>\n",
              "      <td>70.0</td>\n",
              "      <td>0</td>\n",
              "      <td>0</td>\n",
              "      <td>0</td>\n",
              "      <td>1</td>\n",
              "      <td>1</td>\n",
              "      <td>250</td>\n",
              "    </tr>\n",
              "  </tbody>\n",
              "</table>\n",
              "</div>\n",
              "      <button class=\"colab-df-convert\" onclick=\"convertToInteractive('df-a9997e4a-ebd7-49c8-ab90-d5f3aa5cfdc3')\"\n",
              "              title=\"Convert this dataframe to an interactive table.\"\n",
              "              style=\"display:none;\">\n",
              "        \n",
              "  <svg xmlns=\"http://www.w3.org/2000/svg\" height=\"24px\"viewBox=\"0 0 24 24\"\n",
              "       width=\"24px\">\n",
              "    <path d=\"M0 0h24v24H0V0z\" fill=\"none\"/>\n",
              "    <path d=\"M18.56 5.44l.94 2.06.94-2.06 2.06-.94-2.06-.94-.94-2.06-.94 2.06-2.06.94zm-11 1L8.5 8.5l.94-2.06 2.06-.94-2.06-.94L8.5 2.5l-.94 2.06-2.06.94zm10 10l.94 2.06.94-2.06 2.06-.94-2.06-.94-.94-2.06-.94 2.06-2.06.94z\"/><path d=\"M17.41 7.96l-1.37-1.37c-.4-.4-.92-.59-1.43-.59-.52 0-1.04.2-1.43.59L10.3 9.45l-7.72 7.72c-.78.78-.78 2.05 0 2.83L4 21.41c.39.39.9.59 1.41.59.51 0 1.02-.2 1.41-.59l7.78-7.78 2.81-2.81c.8-.78.8-2.07 0-2.86zM5.41 20L4 18.59l7.72-7.72 1.47 1.35L5.41 20z\"/>\n",
              "  </svg>\n",
              "      </button>\n",
              "      \n",
              "  <style>\n",
              "    .colab-df-container {\n",
              "      display:flex;\n",
              "      flex-wrap:wrap;\n",
              "      gap: 12px;\n",
              "    }\n",
              "\n",
              "    .colab-df-convert {\n",
              "      background-color: #E8F0FE;\n",
              "      border: none;\n",
              "      border-radius: 50%;\n",
              "      cursor: pointer;\n",
              "      display: none;\n",
              "      fill: #1967D2;\n",
              "      height: 32px;\n",
              "      padding: 0 0 0 0;\n",
              "      width: 32px;\n",
              "    }\n",
              "\n",
              "    .colab-df-convert:hover {\n",
              "      background-color: #E2EBFA;\n",
              "      box-shadow: 0px 1px 2px rgba(60, 64, 67, 0.3), 0px 1px 3px 1px rgba(60, 64, 67, 0.15);\n",
              "      fill: #174EA6;\n",
              "    }\n",
              "\n",
              "    [theme=dark] .colab-df-convert {\n",
              "      background-color: #3B4455;\n",
              "      fill: #D2E3FC;\n",
              "    }\n",
              "\n",
              "    [theme=dark] .colab-df-convert:hover {\n",
              "      background-color: #434B5C;\n",
              "      box-shadow: 0px 1px 3px 1px rgba(0, 0, 0, 0.15);\n",
              "      filter: drop-shadow(0px 1px 2px rgba(0, 0, 0, 0.3));\n",
              "      fill: #FFFFFF;\n",
              "    }\n",
              "  </style>\n",
              "\n",
              "      <script>\n",
              "        const buttonEl =\n",
              "          document.querySelector('#df-a9997e4a-ebd7-49c8-ab90-d5f3aa5cfdc3 button.colab-df-convert');\n",
              "        buttonEl.style.display =\n",
              "          google.colab.kernel.accessAllowed ? 'block' : 'none';\n",
              "\n",
              "        async function convertToInteractive(key) {\n",
              "          const element = document.querySelector('#df-a9997e4a-ebd7-49c8-ab90-d5f3aa5cfdc3');\n",
              "          const dataTable =\n",
              "            await google.colab.kernel.invokeFunction('convertToInteractive',\n",
              "                                                     [key], {});\n",
              "          if (!dataTable) return;\n",
              "\n",
              "          const docLinkHtml = 'Like what you see? Visit the ' +\n",
              "            '<a target=\"_blank\" href=https://colab.research.google.com/notebooks/data_table.ipynb>data table notebook</a>'\n",
              "            + ' to learn more about interactive tables.';\n",
              "          element.innerHTML = '';\n",
              "          dataTable['output_type'] = 'display_data';\n",
              "          await google.colab.output.renderOutput(dataTable, element);\n",
              "          const docLink = document.createElement('div');\n",
              "          docLink.innerHTML = docLinkHtml;\n",
              "          element.appendChild(docLink);\n",
              "        }\n",
              "      </script>\n",
              "    </div>\n",
              "  </div>\n",
              "  "
            ]
          },
          "metadata": {},
          "execution_count": 34
        }
      ]
    },
    {
      "cell_type": "code",
      "source": [
        "scaler= StandardScaler()"
      ],
      "metadata": {
        "id": "lJNdZLTvBWZt"
      },
      "execution_count": 35,
      "outputs": []
    },
    {
      "cell_type": "markdown",
      "metadata": {
        "id": "7wHhAbck-_YR"
      },
      "source": [
        "####Try multiple models and tune the hyperparameters of each model to optimize model performance (include all models and hyperparameters tested in addition to the final model)"
      ]
    },
    {
      "cell_type": "markdown",
      "source": [
        "##### Logistic Regression"
      ],
      "metadata": {
        "id": "GzkcnB7nYIXE"
      }
    },
    {
      "cell_type": "code",
      "source": [
        "lr = LinearRegression()"
      ],
      "metadata": {
        "id": "mN3yvvduHIy5"
      },
      "execution_count": 36,
      "outputs": []
    },
    {
      "cell_type": "code",
      "source": [
        "lr.fit(x_train, y_train)"
      ],
      "metadata": {
        "colab": {
          "base_uri": "https://localhost:8080/",
          "height": 75
        },
        "id": "BKJgvT6kU1Il",
        "outputId": "dc78905f-a53d-4c50-9f5b-b298e79427de"
      },
      "execution_count": 37,
      "outputs": [
        {
          "output_type": "execute_result",
          "data": {
            "text/plain": [
              "LinearRegression()"
            ],
            "text/html": [
              "<style>#sk-512ca952-8420-4b3f-81e1-3062bba067c1 {color: black;background-color: white;}#sk-512ca952-8420-4b3f-81e1-3062bba067c1 pre{padding: 0;}#sk-512ca952-8420-4b3f-81e1-3062bba067c1 div.sk-toggleable {background-color: white;}#sk-512ca952-8420-4b3f-81e1-3062bba067c1 label.sk-toggleable__label {cursor: pointer;display: block;width: 100%;margin-bottom: 0;padding: 0.3em;box-sizing: border-box;text-align: center;}#sk-512ca952-8420-4b3f-81e1-3062bba067c1 label.sk-toggleable__label-arrow:before {content: \"▸\";float: left;margin-right: 0.25em;color: #696969;}#sk-512ca952-8420-4b3f-81e1-3062bba067c1 label.sk-toggleable__label-arrow:hover:before {color: black;}#sk-512ca952-8420-4b3f-81e1-3062bba067c1 div.sk-estimator:hover label.sk-toggleable__label-arrow:before {color: black;}#sk-512ca952-8420-4b3f-81e1-3062bba067c1 div.sk-toggleable__content {max-height: 0;max-width: 0;overflow: hidden;text-align: left;background-color: #f0f8ff;}#sk-512ca952-8420-4b3f-81e1-3062bba067c1 div.sk-toggleable__content pre {margin: 0.2em;color: black;border-radius: 0.25em;background-color: #f0f8ff;}#sk-512ca952-8420-4b3f-81e1-3062bba067c1 input.sk-toggleable__control:checked~div.sk-toggleable__content {max-height: 200px;max-width: 100%;overflow: auto;}#sk-512ca952-8420-4b3f-81e1-3062bba067c1 input.sk-toggleable__control:checked~label.sk-toggleable__label-arrow:before {content: \"▾\";}#sk-512ca952-8420-4b3f-81e1-3062bba067c1 div.sk-estimator input.sk-toggleable__control:checked~label.sk-toggleable__label {background-color: #d4ebff;}#sk-512ca952-8420-4b3f-81e1-3062bba067c1 div.sk-label input.sk-toggleable__control:checked~label.sk-toggleable__label {background-color: #d4ebff;}#sk-512ca952-8420-4b3f-81e1-3062bba067c1 input.sk-hidden--visually {border: 0;clip: rect(1px 1px 1px 1px);clip: rect(1px, 1px, 1px, 1px);height: 1px;margin: -1px;overflow: hidden;padding: 0;position: absolute;width: 1px;}#sk-512ca952-8420-4b3f-81e1-3062bba067c1 div.sk-estimator {font-family: monospace;background-color: #f0f8ff;border: 1px dotted black;border-radius: 0.25em;box-sizing: border-box;margin-bottom: 0.5em;}#sk-512ca952-8420-4b3f-81e1-3062bba067c1 div.sk-estimator:hover {background-color: #d4ebff;}#sk-512ca952-8420-4b3f-81e1-3062bba067c1 div.sk-parallel-item::after {content: \"\";width: 100%;border-bottom: 1px solid gray;flex-grow: 1;}#sk-512ca952-8420-4b3f-81e1-3062bba067c1 div.sk-label:hover label.sk-toggleable__label {background-color: #d4ebff;}#sk-512ca952-8420-4b3f-81e1-3062bba067c1 div.sk-serial::before {content: \"\";position: absolute;border-left: 1px solid gray;box-sizing: border-box;top: 2em;bottom: 0;left: 50%;}#sk-512ca952-8420-4b3f-81e1-3062bba067c1 div.sk-serial {display: flex;flex-direction: column;align-items: center;background-color: white;padding-right: 0.2em;padding-left: 0.2em;}#sk-512ca952-8420-4b3f-81e1-3062bba067c1 div.sk-item {z-index: 1;}#sk-512ca952-8420-4b3f-81e1-3062bba067c1 div.sk-parallel {display: flex;align-items: stretch;justify-content: center;background-color: white;}#sk-512ca952-8420-4b3f-81e1-3062bba067c1 div.sk-parallel::before {content: \"\";position: absolute;border-left: 1px solid gray;box-sizing: border-box;top: 2em;bottom: 0;left: 50%;}#sk-512ca952-8420-4b3f-81e1-3062bba067c1 div.sk-parallel-item {display: flex;flex-direction: column;position: relative;background-color: white;}#sk-512ca952-8420-4b3f-81e1-3062bba067c1 div.sk-parallel-item:first-child::after {align-self: flex-end;width: 50%;}#sk-512ca952-8420-4b3f-81e1-3062bba067c1 div.sk-parallel-item:last-child::after {align-self: flex-start;width: 50%;}#sk-512ca952-8420-4b3f-81e1-3062bba067c1 div.sk-parallel-item:only-child::after {width: 0;}#sk-512ca952-8420-4b3f-81e1-3062bba067c1 div.sk-dashed-wrapped {border: 1px dashed gray;margin: 0 0.4em 0.5em 0.4em;box-sizing: border-box;padding-bottom: 0.4em;background-color: white;position: relative;}#sk-512ca952-8420-4b3f-81e1-3062bba067c1 div.sk-label label {font-family: monospace;font-weight: bold;background-color: white;display: inline-block;line-height: 1.2em;}#sk-512ca952-8420-4b3f-81e1-3062bba067c1 div.sk-label-container {position: relative;z-index: 2;text-align: center;}#sk-512ca952-8420-4b3f-81e1-3062bba067c1 div.sk-container {/* jupyter's `normalize.less` sets `[hidden] { display: none; }` but bootstrap.min.css set `[hidden] { display: none !important; }` so we also need the `!important` here to be able to override the default hidden behavior on the sphinx rendered scikit-learn.org. See: https://github.com/scikit-learn/scikit-learn/issues/21755 */display: inline-block !important;position: relative;}#sk-512ca952-8420-4b3f-81e1-3062bba067c1 div.sk-text-repr-fallback {display: none;}</style><div id=\"sk-512ca952-8420-4b3f-81e1-3062bba067c1\" class=\"sk-top-container\"><div class=\"sk-text-repr-fallback\"><pre>LinearRegression()</pre><b>Please rerun this cell to show the HTML repr or trust the notebook.</b></div><div class=\"sk-container\" hidden><div class=\"sk-item\"><div class=\"sk-estimator sk-toggleable\"><input class=\"sk-toggleable__control sk-hidden--visually\" id=\"c6ffa3b6-ddc8-41ac-bcff-cb91100ee6fb\" type=\"checkbox\" checked><label for=\"c6ffa3b6-ddc8-41ac-bcff-cb91100ee6fb\" class=\"sk-toggleable__label sk-toggleable__label-arrow\">LinearRegression</label><div class=\"sk-toggleable__content\"><pre>LinearRegression()</pre></div></div></div></div></div>"
            ]
          },
          "metadata": {},
          "execution_count": 37
        }
      ]
    },
    {
      "cell_type": "code",
      "source": [
        "train_predict=lr.predict(x_train)\n",
        "test_predict=lr.predict(x_test)\n"
      ],
      "metadata": {
        "id": "Ahl7QZMNVBUL"
      },
      "execution_count": 38,
      "outputs": []
    },
    {
      "cell_type": "code",
      "source": [
        "# Make an instance of the model\n",
        "logreg = LogisticRegression(C = 1000)\n",
        "# Scaler\n",
        "scaler = StandardScaler()\n",
        "# Pipeline\n",
        "logreg_pipeline = make_pipeline(scaler, logreg)\n",
        "# Training the model on the data, storing the information learned from the data\n",
        "# Model is learning the relationship between X and y \n",
        "logreg_pipeline.fit(x_train, y_train)"
      ],
      "metadata": {
        "colab": {
          "base_uri": "https://localhost:8080/",
          "height": 126
        },
        "id": "HV6V5DGZVHuJ",
        "outputId": "fe688d31-ef04-4628-d2e3-1212f9ec9aed"
      },
      "execution_count": 39,
      "outputs": [
        {
          "output_type": "execute_result",
          "data": {
            "text/plain": [
              "Pipeline(steps=[('standardscaler', StandardScaler()),\n",
              "                ('logisticregression', LogisticRegression(C=1000))])"
            ],
            "text/html": [
              "<style>#sk-f9d0ad7b-e4d7-4c40-b45a-ac5d631db3ec {color: black;background-color: white;}#sk-f9d0ad7b-e4d7-4c40-b45a-ac5d631db3ec pre{padding: 0;}#sk-f9d0ad7b-e4d7-4c40-b45a-ac5d631db3ec div.sk-toggleable {background-color: white;}#sk-f9d0ad7b-e4d7-4c40-b45a-ac5d631db3ec label.sk-toggleable__label {cursor: pointer;display: block;width: 100%;margin-bottom: 0;padding: 0.3em;box-sizing: border-box;text-align: center;}#sk-f9d0ad7b-e4d7-4c40-b45a-ac5d631db3ec label.sk-toggleable__label-arrow:before {content: \"▸\";float: left;margin-right: 0.25em;color: #696969;}#sk-f9d0ad7b-e4d7-4c40-b45a-ac5d631db3ec label.sk-toggleable__label-arrow:hover:before {color: black;}#sk-f9d0ad7b-e4d7-4c40-b45a-ac5d631db3ec div.sk-estimator:hover label.sk-toggleable__label-arrow:before {color: black;}#sk-f9d0ad7b-e4d7-4c40-b45a-ac5d631db3ec div.sk-toggleable__content {max-height: 0;max-width: 0;overflow: hidden;text-align: left;background-color: #f0f8ff;}#sk-f9d0ad7b-e4d7-4c40-b45a-ac5d631db3ec div.sk-toggleable__content pre {margin: 0.2em;color: black;border-radius: 0.25em;background-color: #f0f8ff;}#sk-f9d0ad7b-e4d7-4c40-b45a-ac5d631db3ec input.sk-toggleable__control:checked~div.sk-toggleable__content {max-height: 200px;max-width: 100%;overflow: auto;}#sk-f9d0ad7b-e4d7-4c40-b45a-ac5d631db3ec input.sk-toggleable__control:checked~label.sk-toggleable__label-arrow:before {content: \"▾\";}#sk-f9d0ad7b-e4d7-4c40-b45a-ac5d631db3ec div.sk-estimator input.sk-toggleable__control:checked~label.sk-toggleable__label {background-color: #d4ebff;}#sk-f9d0ad7b-e4d7-4c40-b45a-ac5d631db3ec div.sk-label input.sk-toggleable__control:checked~label.sk-toggleable__label {background-color: #d4ebff;}#sk-f9d0ad7b-e4d7-4c40-b45a-ac5d631db3ec input.sk-hidden--visually {border: 0;clip: rect(1px 1px 1px 1px);clip: rect(1px, 1px, 1px, 1px);height: 1px;margin: -1px;overflow: hidden;padding: 0;position: absolute;width: 1px;}#sk-f9d0ad7b-e4d7-4c40-b45a-ac5d631db3ec div.sk-estimator {font-family: monospace;background-color: #f0f8ff;border: 1px dotted black;border-radius: 0.25em;box-sizing: border-box;margin-bottom: 0.5em;}#sk-f9d0ad7b-e4d7-4c40-b45a-ac5d631db3ec div.sk-estimator:hover {background-color: #d4ebff;}#sk-f9d0ad7b-e4d7-4c40-b45a-ac5d631db3ec div.sk-parallel-item::after {content: \"\";width: 100%;border-bottom: 1px solid gray;flex-grow: 1;}#sk-f9d0ad7b-e4d7-4c40-b45a-ac5d631db3ec div.sk-label:hover label.sk-toggleable__label {background-color: #d4ebff;}#sk-f9d0ad7b-e4d7-4c40-b45a-ac5d631db3ec div.sk-serial::before {content: \"\";position: absolute;border-left: 1px solid gray;box-sizing: border-box;top: 2em;bottom: 0;left: 50%;}#sk-f9d0ad7b-e4d7-4c40-b45a-ac5d631db3ec div.sk-serial {display: flex;flex-direction: column;align-items: center;background-color: white;padding-right: 0.2em;padding-left: 0.2em;}#sk-f9d0ad7b-e4d7-4c40-b45a-ac5d631db3ec div.sk-item {z-index: 1;}#sk-f9d0ad7b-e4d7-4c40-b45a-ac5d631db3ec div.sk-parallel {display: flex;align-items: stretch;justify-content: center;background-color: white;}#sk-f9d0ad7b-e4d7-4c40-b45a-ac5d631db3ec div.sk-parallel::before {content: \"\";position: absolute;border-left: 1px solid gray;box-sizing: border-box;top: 2em;bottom: 0;left: 50%;}#sk-f9d0ad7b-e4d7-4c40-b45a-ac5d631db3ec div.sk-parallel-item {display: flex;flex-direction: column;position: relative;background-color: white;}#sk-f9d0ad7b-e4d7-4c40-b45a-ac5d631db3ec div.sk-parallel-item:first-child::after {align-self: flex-end;width: 50%;}#sk-f9d0ad7b-e4d7-4c40-b45a-ac5d631db3ec div.sk-parallel-item:last-child::after {align-self: flex-start;width: 50%;}#sk-f9d0ad7b-e4d7-4c40-b45a-ac5d631db3ec div.sk-parallel-item:only-child::after {width: 0;}#sk-f9d0ad7b-e4d7-4c40-b45a-ac5d631db3ec div.sk-dashed-wrapped {border: 1px dashed gray;margin: 0 0.4em 0.5em 0.4em;box-sizing: border-box;padding-bottom: 0.4em;background-color: white;position: relative;}#sk-f9d0ad7b-e4d7-4c40-b45a-ac5d631db3ec div.sk-label label {font-family: monospace;font-weight: bold;background-color: white;display: inline-block;line-height: 1.2em;}#sk-f9d0ad7b-e4d7-4c40-b45a-ac5d631db3ec div.sk-label-container {position: relative;z-index: 2;text-align: center;}#sk-f9d0ad7b-e4d7-4c40-b45a-ac5d631db3ec div.sk-container {/* jupyter's `normalize.less` sets `[hidden] { display: none; }` but bootstrap.min.css set `[hidden] { display: none !important; }` so we also need the `!important` here to be able to override the default hidden behavior on the sphinx rendered scikit-learn.org. See: https://github.com/scikit-learn/scikit-learn/issues/21755 */display: inline-block !important;position: relative;}#sk-f9d0ad7b-e4d7-4c40-b45a-ac5d631db3ec div.sk-text-repr-fallback {display: none;}</style><div id=\"sk-f9d0ad7b-e4d7-4c40-b45a-ac5d631db3ec\" class=\"sk-top-container\"><div class=\"sk-text-repr-fallback\"><pre>Pipeline(steps=[(&#x27;standardscaler&#x27;, StandardScaler()),\n",
              "                (&#x27;logisticregression&#x27;, LogisticRegression(C=1000))])</pre><b>Please rerun this cell to show the HTML repr or trust the notebook.</b></div><div class=\"sk-container\" hidden><div class=\"sk-item sk-dashed-wrapped\"><div class=\"sk-label-container\"><div class=\"sk-label sk-toggleable\"><input class=\"sk-toggleable__control sk-hidden--visually\" id=\"c8f3d2c5-b3dc-4bf9-ad7f-9a75b0258c5e\" type=\"checkbox\" ><label for=\"c8f3d2c5-b3dc-4bf9-ad7f-9a75b0258c5e\" class=\"sk-toggleable__label sk-toggleable__label-arrow\">Pipeline</label><div class=\"sk-toggleable__content\"><pre>Pipeline(steps=[(&#x27;standardscaler&#x27;, StandardScaler()),\n",
              "                (&#x27;logisticregression&#x27;, LogisticRegression(C=1000))])</pre></div></div></div><div class=\"sk-serial\"><div class=\"sk-item\"><div class=\"sk-estimator sk-toggleable\"><input class=\"sk-toggleable__control sk-hidden--visually\" id=\"214a4128-59bc-49ac-8251-5825f38acc41\" type=\"checkbox\" ><label for=\"214a4128-59bc-49ac-8251-5825f38acc41\" class=\"sk-toggleable__label sk-toggleable__label-arrow\">StandardScaler</label><div class=\"sk-toggleable__content\"><pre>StandardScaler()</pre></div></div></div><div class=\"sk-item\"><div class=\"sk-estimator sk-toggleable\"><input class=\"sk-toggleable__control sk-hidden--visually\" id=\"310e7dfb-aed2-4204-a1ef-60241218bdfd\" type=\"checkbox\" ><label for=\"310e7dfb-aed2-4204-a1ef-60241218bdfd\" class=\"sk-toggleable__label sk-toggleable__label-arrow\">LogisticRegression</label><div class=\"sk-toggleable__content\"><pre>LogisticRegression(C=1000)</pre></div></div></div></div></div></div></div>"
            ]
          },
          "metadata": {},
          "execution_count": 39
        }
      ]
    },
    {
      "cell_type": "code",
      "source": [
        "print(logreg_pipeline.score(x_train, y_train))\n",
        "print(logreg_pipeline.score(x_test, y_test))"
      ],
      "metadata": {
        "colab": {
          "base_uri": "https://localhost:8080/"
        },
        "id": "iw_MkwP5ViuT",
        "outputId": "a6fe053b-f215-4618-ddb9-b9ed4c004bd2"
      },
      "execution_count": 40,
      "outputs": [
        {
          "output_type": "stream",
          "name": "stdout",
          "text": [
            "0.8385650224215246\n",
            "0.7466666666666667\n"
          ]
        }
      ]
    },
    {
      "cell_type": "code",
      "source": [
        "#L1 Tuning\n",
        "\n",
        "# create a list of c values and empty lists for scores\n",
        "c_values = [0.0001, 0.001, 0.01, 0.1, 1, 10, 100, 1000]\n",
        "train_scores = []\n",
        "test_scores = []\n",
        "#iterative over the c values\n",
        "for c in c_values:\n",
        "  # model with each value of c and fit it on the data\n",
        "  log_reg = LogisticRegression(C=c, max_iter=1000, solver='liblinear', penalty='l1')\n",
        "  log_reg_pipeline = make_pipeline(scaler, log_reg)\n",
        "  log_reg_pipeline.fit(x_train, y_train)\n",
        "  #training and testing scores to our scores lists\n",
        "  train_scores.append(log_reg_pipeline.score(x_train, y_train))\n",
        "  test_scores.append(log_reg_pipeline.score(x_test, y_test))\n",
        "#plot the change in accuracy as we change the value of C\n",
        "fig, ax = plt.subplots(1,1)\n",
        "ax.plot(c_values, train_scores, label='Training Accuracy')\n",
        "ax.plot(c_values, test_scores, label='Testing Accuracy')\n",
        "ax.set_xticks(c_values)\n",
        "ax.set_title('Change in accuracy over C values for l1 regularization')\n",
        "ax.legend()\n",
        "#set the x axis to a logarithmic scale to show the values of C in even intervals\n",
        "ax.set_xscale('log')\n",
        "#dictionary of values of C and accuracy scores\n",
        "{c:score for c, score in zip(c_values, test_scores)}"
      ],
      "metadata": {
        "colab": {
          "base_uri": "https://localhost:8080/",
          "height": 424
        },
        "id": "JOz9yS4GVxir",
        "outputId": "0e061a37-2f3d-4775-b650-6f1640ed2f76"
      },
      "execution_count": 41,
      "outputs": [
        {
          "output_type": "execute_result",
          "data": {
            "text/plain": [
              "{0.0001: 0.6266666666666667,\n",
              " 0.001: 0.6266666666666667,\n",
              " 0.01: 0.6266666666666667,\n",
              " 0.1: 0.7333333333333333,\n",
              " 1: 0.7333333333333333,\n",
              " 10: 0.7466666666666667,\n",
              " 100: 0.7466666666666667,\n",
              " 1000: 0.7466666666666667}"
            ]
          },
          "metadata": {},
          "execution_count": 41
        },
        {
          "output_type": "display_data",
          "data": {
            "text/plain": [
              "<Figure size 432x288 with 1 Axes>"
            ],
            "image/png": "[encoded data removed]"
          },
          "metadata": {
            "needs_background": "light"
          }
        }
      ]
    },
    {
      "cell_type": "code",
      "source": [
        "#L2 Tuning\n",
        "\n",
        "# create a list of c values and empty lists for scores\n",
        "c_values = [0.0001, 0.001, 0.01, 0.1, 1, 10, 100, 1000]\n",
        "train_scores = []\n",
        "test_scores = []\n",
        "#iterative over the c values\n",
        "for c in c_values:\n",
        "  #  model with each value of c and fit it on the data\n",
        "  log_reg = LogisticRegression(C=c, max_iter=1000, solver='liblinear', penalty='l2')\n",
        "  log_reg_pipeline = make_pipeline(scaler, log_reg)\n",
        "  log_reg_pipeline.fit(x_train, y_train)\n",
        "  # training and testing scores\n",
        "  train_scores.append(log_reg_pipeline.score(x_train, y_train))\n",
        "  test_scores.append(log_reg_pipeline.score(x_test, y_test))\n",
        "#plot the change in accuracy as we change the value of C\n",
        "fig, ax = plt.subplots(1,1)\n",
        "ax.plot(c_values, train_scores, label='Training Accuracy')\n",
        "ax.plot(c_values, test_scores, label='Testing Accuracy')\n",
        "ax.set_xticks(c_values)\n",
        "ax.set_title('Change in accuracy over C values for l2 regularization')\n",
        "ax.legend()\n",
        "#set the x axis to a logarithmic scale to show the values of C in even intervals\n",
        "ax.set_xscale('log')\n",
        "#dictionary of values of C w/accuracy scores\n",
        "{c:score for c, score in zip(c_values, test_scores)}"
      ],
      "metadata": {
        "colab": {
          "base_uri": "https://localhost:8080/",
          "height": 424
        },
        "id": "XXa8e7TIWEoj",
        "outputId": "4401abee-df66-4cf6-9ff5-e555b7c6286e"
      },
      "execution_count": 42,
      "outputs": [
        {
          "output_type": "execute_result",
          "data": {
            "text/plain": [
              "{0.0001: 0.72,\n",
              " 0.001: 0.72,\n",
              " 0.01: 0.72,\n",
              " 0.1: 0.72,\n",
              " 1: 0.7333333333333333,\n",
              " 10: 0.7466666666666667,\n",
              " 100: 0.7466666666666667,\n",
              " 1000: 0.7466666666666667}"
            ]
          },
          "metadata": {},
          "execution_count": 42
        },
        {
          "output_type": "display_data",
          "data": {
            "text/plain": [
              "<Figure size 432x288 with 1 Axes>"
            ],
            "image/png": "[encoded data removed]"
          },
          "metadata": {
            "needs_background": "light"
          }
        }
      ]
    },
    {
      "cell_type": "markdown",
      "source": [
        "##### KNN Modeling"
      ],
      "metadata": {
        "id": "l_an9QdBXFdn"
      }
    },
    {
      "cell_type": "code",
      "source": [
        "#knn modeling\n",
        "knn = KNeighborsClassifier(n_neighbors=1)"
      ],
      "metadata": {
        "id": "umnySmKZWgpN"
      },
      "execution_count": 43,
      "outputs": []
    },
    {
      "cell_type": "code",
      "source": [
        "knn.get_params()"
      ],
      "metadata": {
        "colab": {
          "base_uri": "https://localhost:8080/"
        },
        "id": "jL17p8uTWpeL",
        "outputId": "1b3e038f-d50b-462b-c4d1-9eafe3a88d96"
      },
      "execution_count": 44,
      "outputs": [
        {
          "output_type": "execute_result",
          "data": {
            "text/plain": [
              "{'algorithm': 'auto',\n",
              " 'leaf_size': 30,\n",
              " 'metric': 'minkowski',\n",
              " 'metric_params': None,\n",
              " 'n_jobs': None,\n",
              " 'n_neighbors': 1,\n",
              " 'p': 2,\n",
              " 'weights': 'uniform'}"
            ]
          },
          "metadata": {},
          "execution_count": 44
        }
      ]
    },
    {
      "cell_type": "code",
      "source": [
        "knn_pipeline = make_pipeline(scaler, knn)\n",
        "knn_pipeline.fit(x_train, y_train)"
      ],
      "metadata": {
        "colab": {
          "base_uri": "https://localhost:8080/",
          "height": 126
        },
        "id": "g9k8R0dZWuYX",
        "outputId": "535b2b01-fa07-46df-f89b-6db28d288e4d"
      },
      "execution_count": 45,
      "outputs": [
        {
          "output_type": "execute_result",
          "data": {
            "text/plain": [
              "Pipeline(steps=[('standardscaler', StandardScaler()),\n",
              "                ('kneighborsclassifier', KNeighborsClassifier(n_neighbors=1))])"
            ],
            "text/html": [
              "<style>#sk-8177f6cf-6078-453c-bdf7-4fff5a812187 {color: black;background-color: white;}#sk-8177f6cf-6078-453c-bdf7-4fff5a812187 pre{padding: 0;}#sk-8177f6cf-6078-453c-bdf7-4fff5a812187 div.sk-toggleable {background-color: white;}#sk-8177f6cf-6078-453c-bdf7-4fff5a812187 label.sk-toggleable__label {cursor: pointer;display: block;width: 100%;margin-bottom: 0;padding: 0.3em;box-sizing: border-box;text-align: center;}#sk-8177f6cf-6078-453c-bdf7-4fff5a812187 label.sk-toggleable__label-arrow:before {content: \"▸\";float: left;margin-right: 0.25em;color: #696969;}#sk-8177f6cf-6078-453c-bdf7-4fff5a812187 label.sk-toggleable__label-arrow:hover:before {color: black;}#sk-8177f6cf-6078-453c-bdf7-4fff5a812187 div.sk-estimator:hover label.sk-toggleable__label-arrow:before {color: black;}#sk-8177f6cf-6078-453c-bdf7-4fff5a812187 div.sk-toggleable__content {max-height: 0;max-width: 0;overflow: hidden;text-align: left;background-color: #f0f8ff;}#sk-8177f6cf-6078-453c-bdf7-4fff5a812187 div.sk-toggleable__content pre {margin: 0.2em;color: black;border-radius: 0.25em;background-color: #f0f8ff;}#sk-8177f6cf-6078-453c-bdf7-4fff5a812187 input.sk-toggleable__control:checked~div.sk-toggleable__content {max-height: 200px;max-width: 100%;overflow: auto;}#sk-8177f6cf-6078-453c-bdf7-4fff5a812187 input.sk-toggleable__control:checked~label.sk-toggleable__label-arrow:before {content: \"▾\";}#sk-8177f6cf-6078-453c-bdf7-4fff5a812187 div.sk-estimator input.sk-toggleable__control:checked~label.sk-toggleable__label {background-color: #d4ebff;}#sk-8177f6cf-6078-453c-bdf7-4fff5a812187 div.sk-label input.sk-toggleable__control:checked~label.sk-toggleable__label {background-color: #d4ebff;}#sk-8177f6cf-6078-453c-bdf7-4fff5a812187 input.sk-hidden--visually {border: 0;clip: rect(1px 1px 1px 1px);clip: rect(1px, 1px, 1px, 1px);height: 1px;margin: -1px;overflow: hidden;padding: 0;position: absolute;width: 1px;}#sk-8177f6cf-6078-453c-bdf7-4fff5a812187 div.sk-estimator {font-family: monospace;background-color: #f0f8ff;border: 1px dotted black;border-radius: 0.25em;box-sizing: border-box;margin-bottom: 0.5em;}#sk-8177f6cf-6078-453c-bdf7-4fff5a812187 div.sk-estimator:hover {background-color: #d4ebff;}#sk-8177f6cf-6078-453c-bdf7-4fff5a812187 div.sk-parallel-item::after {content: \"\";width: 100%;border-bottom: 1px solid gray;flex-grow: 1;}#sk-8177f6cf-6078-453c-bdf7-4fff5a812187 div.sk-label:hover label.sk-toggleable__label {background-color: #d4ebff;}#sk-8177f6cf-6078-453c-bdf7-4fff5a812187 div.sk-serial::before {content: \"\";position: absolute;border-left: 1px solid gray;box-sizing: border-box;top: 2em;bottom: 0;left: 50%;}#sk-8177f6cf-6078-453c-bdf7-4fff5a812187 div.sk-serial {display: flex;flex-direction: column;align-items: center;background-color: white;padding-right: 0.2em;padding-left: 0.2em;}#sk-8177f6cf-6078-453c-bdf7-4fff5a812187 div.sk-item {z-index: 1;}#sk-8177f6cf-6078-453c-bdf7-4fff5a812187 div.sk-parallel {display: flex;align-items: stretch;justify-content: center;background-color: white;}#sk-8177f6cf-6078-453c-bdf7-4fff5a812187 div.sk-parallel::before {content: \"\";position: absolute;border-left: 1px solid gray;box-sizing: border-box;top: 2em;bottom: 0;left: 50%;}#sk-8177f6cf-6078-453c-bdf7-4fff5a812187 div.sk-parallel-item {display: flex;flex-direction: column;position: relative;background-color: white;}#sk-8177f6cf-6078-453c-bdf7-4fff5a812187 div.sk-parallel-item:first-child::after {align-self: flex-end;width: 50%;}#sk-8177f6cf-6078-453c-bdf7-4fff5a812187 div.sk-parallel-item:last-child::after {align-self: flex-start;width: 50%;}#sk-8177f6cf-6078-453c-bdf7-4fff5a812187 div.sk-parallel-item:only-child::after {width: 0;}#sk-8177f6cf-6078-453c-bdf7-4fff5a812187 div.sk-dashed-wrapped {border: 1px dashed gray;margin: 0 0.4em 0.5em 0.4em;box-sizing: border-box;padding-bottom: 0.4em;background-color: white;position: relative;}#sk-8177f6cf-6078-453c-bdf7-4fff5a812187 div.sk-label label {font-family: monospace;font-weight: bold;background-color: white;display: inline-block;line-height: 1.2em;}#sk-8177f6cf-6078-453c-bdf7-4fff5a812187 div.sk-label-container {position: relative;z-index: 2;text-align: center;}#sk-8177f6cf-6078-453c-bdf7-4fff5a812187 div.sk-container {/* jupyter's `normalize.less` sets `[hidden] { display: none; }` but bootstrap.min.css set `[hidden] { display: none !important; }` so we also need the `!important` here to be able to override the default hidden behavior on the sphinx rendered scikit-learn.org. See: https://github.com/scikit-learn/scikit-learn/issues/21755 */display: inline-block !important;position: relative;}#sk-8177f6cf-6078-453c-bdf7-4fff5a812187 div.sk-text-repr-fallback {display: none;}</style><div id=\"sk-8177f6cf-6078-453c-bdf7-4fff5a812187\" class=\"sk-top-container\"><div class=\"sk-text-repr-fallback\"><pre>Pipeline(steps=[(&#x27;standardscaler&#x27;, StandardScaler()),\n",
              "                (&#x27;kneighborsclassifier&#x27;, KNeighborsClassifier(n_neighbors=1))])</pre><b>Please rerun this cell to show the HTML repr or trust the notebook.</b></div><div class=\"sk-container\" hidden><div class=\"sk-item sk-dashed-wrapped\"><div class=\"sk-label-container\"><div class=\"sk-label sk-toggleable\"><input class=\"sk-toggleable__control sk-hidden--visually\" id=\"be7ed064-ea90-4ea2-93c5-13b76065045d\" type=\"checkbox\" ><label for=\"be7ed064-ea90-4ea2-93c5-13b76065045d\" class=\"sk-toggleable__label sk-toggleable__label-arrow\">Pipeline</label><div class=\"sk-toggleable__content\"><pre>Pipeline(steps=[(&#x27;standardscaler&#x27;, StandardScaler()),\n",
              "                (&#x27;kneighborsclassifier&#x27;, KNeighborsClassifier(n_neighbors=1))])</pre></div></div></div><div class=\"sk-serial\"><div class=\"sk-item\"><div class=\"sk-estimator sk-toggleable\"><input class=\"sk-toggleable__control sk-hidden--visually\" id=\"35f53492-0a98-4cc6-b109-5a7b6bf3264e\" type=\"checkbox\" ><label for=\"35f53492-0a98-4cc6-b109-5a7b6bf3264e\" class=\"sk-toggleable__label sk-toggleable__label-arrow\">StandardScaler</label><div class=\"sk-toggleable__content\"><pre>StandardScaler()</pre></div></div></div><div class=\"sk-item\"><div class=\"sk-estimator sk-toggleable\"><input class=\"sk-toggleable__control sk-hidden--visually\" id=\"736b6512-360a-47fd-abc8-0a659c848f7f\" type=\"checkbox\" ><label for=\"736b6512-360a-47fd-abc8-0a659c848f7f\" class=\"sk-toggleable__label sk-toggleable__label-arrow\">KNeighborsClassifier</label><div class=\"sk-toggleable__content\"><pre>KNeighborsClassifier(n_neighbors=1)</pre></div></div></div></div></div></div></div>"
            ]
          },
          "metadata": {},
          "execution_count": 45
        }
      ]
    },
    {
      "cell_type": "code",
      "source": [
        "#predicting KNN\n",
        "train_pred = knn_pipeline.predict(x_train)\n",
        "test_pred = knn_pipeline.predict(x_test)"
      ],
      "metadata": {
        "id": "kY_TnfpqW0AS"
      },
      "execution_count": 46,
      "outputs": []
    },
    {
      "cell_type": "code",
      "source": [
        "#cross validating\n",
        "scores = cross_val_score(knn_pipeline, x_train, y_train, cv=5)\n",
        "print(f'Accuracy scores for each fold are: {scores.round(2)}')\n",
        "print(f'Average accuracy across folds is {np.mean(scores)}')"
      ],
      "metadata": {
        "colab": {
          "base_uri": "https://localhost:8080/"
        },
        "id": "e3g6XvLKanb2",
        "outputId": "df6baad3-2234-4a70-c2bb-48cd302ab901"
      },
      "execution_count": 47,
      "outputs": [
        {
          "output_type": "stream",
          "name": "stdout",
          "text": [
            "Accuracy scores for each fold are: [0.69 0.6  0.69 0.68 0.64]\n",
            "Average accuracy across folds is 0.6591919191919191\n"
          ]
        }
      ]
    },
    {
      "cell_type": "code",
      "source": [
        "accurate_score = knn_pipeline.score(x_test, y_test)\n",
        "accurate_score"
      ],
      "metadata": {
        "colab": {
          "base_uri": "https://localhost:8080/"
        },
        "id": "MW7_hKfpW848",
        "outputId": "3631ac3c-dbf4-4a72-bbbd-4a971a973fa6"
      },
      "execution_count": 48,
      "outputs": [
        {
          "output_type": "execute_result",
          "data": {
            "text/plain": [
              "0.6666666666666666"
            ]
          },
          "metadata": {},
          "execution_count": 48
        }
      ]
    },
    {
      "cell_type": "code",
      "source": [
        "knn_pipe = Pipeline([('mms', MinMaxScaler()),\n",
        "                     ('knn', KNeighborsClassifier())])\n",
        "params = [{'knn__n_neighbors': [3, 5, 7, 9],\n",
        "         'knn__weights': ['uniform', 'distance'],\n",
        "         'knn__leaf_size': [15, 20]}]"
      ],
      "metadata": {
        "id": "S18-CzEzbw7L"
      },
      "execution_count": 125,
      "outputs": []
    },
    {
      "cell_type": "code",
      "source": [
        "knn_pipe_gs = GridSearchCV(knn_pipe, params)\n",
        " \n",
        "knn_pipe_gs.fit(x_train, y_train)\n",
        "print('Best KNN Parameters:')\n",
        "print(knn_pipe_gs.best_params_)\n",
        "best_pipe = knn_pipe_gs.best_estimator_\n",
        "print(f'Accuracy of best KNN model is: {best_pipe.score(x_test, y_test)}')"
      ],
      "metadata": {
        "colab": {
          "base_uri": "https://localhost:8080/"
        },
        "id": "i-Hk_9dttn2U",
        "outputId": "fa3dfbfd-d5b5-473e-9361-4601b6282682"
      },
      "execution_count": 126,
      "outputs": [
        {
          "output_type": "stream",
          "name": "stdout",
          "text": [
            "Best KNN Parameters:\n",
            "{'knn__leaf_size': 15, 'knn__n_neighbors': 9, 'knn__weights': 'uniform'}\n",
            "Accuracy of best KNN model is: 0.6666666666666666\n"
          ]
        }
      ]
    },
    {
      "cell_type": "code",
      "source": [
        "print(classification_report(y_test, test_pred))"
      ],
      "metadata": {
        "colab": {
          "base_uri": "https://localhost:8080/"
        },
        "id": "dEPBpiApNw-i",
        "outputId": "e8be879a-fd2f-4fe2-f9f0-8f792aabb2ec"
      },
      "execution_count": 128,
      "outputs": [
        {
          "output_type": "stream",
          "name": "stdout",
          "text": [
            "              precision    recall  f1-score   support\n",
            "\n",
            "           0       0.70      0.83      0.76        47\n",
            "           1       0.58      0.39      0.47        28\n",
            "\n",
            "    accuracy                           0.67        75\n",
            "   macro avg       0.64      0.61      0.61        75\n",
            "weighted avg       0.65      0.67      0.65        75\n",
            "\n"
          ]
        }
      ]
    },
    {
      "cell_type": "code",
      "source": [
        "#confusion matrix\n",
        "plot_confusion_matrix(knn_pipeline, x_test, y_test, cmap = 'Purples', values_format = 'd')"
      ],
      "metadata": {
        "colab": {
          "base_uri": "https://localhost:8080/",
          "height": 351
        },
        "id": "qDnJ7w7rJdeD",
        "outputId": "66cad028-ef48-4742-98dd-fd68d407eb91"
      },
      "execution_count": 129,
      "outputs": [
        {
          "output_type": "stream",
          "name": "stderr",
          "text": [
            "/usr/local/lib/python3.7/dist-packages/sklearn/utils/deprecation.py:87: FutureWarning: Function plot_confusion_matrix is deprecated; Function `plot_confusion_matrix` is deprecated in 1.0 and will be removed in 1.2. Use one of the class methods: ConfusionMatrixDisplay.from_predictions or ConfusionMatrixDisplay.from_estimator.\n",
            "  warnings.warn(msg, category=FutureWarning)\n"
          ]
        },
        {
          "output_type": "execute_result",
          "data": {
            "text/plain": [
              "<sklearn.metrics._plot.confusion_matrix.ConfusionMatrixDisplay at 0x7fdc9f9c9fd0>"
            ]
          },
          "metadata": {},
          "execution_count": 129
        },
        {
          "output_type": "display_data",
          "data": {
            "text/plain": [
              "<Figure size 432x288 with 2 Axes>"
            ],
            "image/png": "[encoded data removed]"
          },
          "metadata": {
            "needs_background": "light"
          }
        }
      ]
    },
    {
      "cell_type": "markdown",
      "source": [
        "##### Random Forest Modeling"
      ],
      "metadata": {
        "id": "fIK8eAo5XIWA"
      }
    },
    {
      "cell_type": "code",
      "source": [
        "randfor_clf = RandomForestClassifier(random_state=42)\n",
        "rf_pipeline = make_pipeline(scaler, randfor_clf)\n",
        "rf_pipeline.fit(x_train, y_train)"
      ],
      "metadata": {
        "colab": {
          "base_uri": "https://localhost:8080/",
          "height": 126
        },
        "id": "cEOihB5iXMv0",
        "outputId": "cf9c4c26-62d1-49c8-cfe2-af5a1c6eeb0e"
      },
      "execution_count": 53,
      "outputs": [
        {
          "output_type": "execute_result",
          "data": {
            "text/plain": [
              "Pipeline(steps=[('standardscaler', StandardScaler()),\n",
              "                ('randomforestclassifier',\n",
              "                 RandomForestClassifier(random_state=42))])"
            ],
            "text/html": [
              "<style>#sk-0c2220a4-8fec-471a-af9a-facda10b4ddd {color: black;background-color: white;}#sk-0c2220a4-8fec-471a-af9a-facda10b4ddd pre{padding: 0;}#sk-0c2220a4-8fec-471a-af9a-facda10b4ddd div.sk-toggleable {background-color: white;}#sk-0c2220a4-8fec-471a-af9a-facda10b4ddd label.sk-toggleable__label {cursor: pointer;display: block;width: 100%;margin-bottom: 0;padding: 0.3em;box-sizing: border-box;text-align: center;}#sk-0c2220a4-8fec-471a-af9a-facda10b4ddd label.sk-toggleable__label-arrow:before {content: \"▸\";float: left;margin-right: 0.25em;color: #696969;}#sk-0c2220a4-8fec-471a-af9a-facda10b4ddd label.sk-toggleable__label-arrow:hover:before {color: black;}#sk-0c2220a4-8fec-471a-af9a-facda10b4ddd div.sk-estimator:hover label.sk-toggleable__label-arrow:before {color: black;}#sk-0c2220a4-8fec-471a-af9a-facda10b4ddd div.sk-toggleable__content {max-height: 0;max-width: 0;overflow: hidden;text-align: left;background-color: #f0f8ff;}#sk-0c2220a4-8fec-471a-af9a-facda10b4ddd div.sk-toggleable__content pre {margin: 0.2em;color: black;border-radius: 0.25em;background-color: #f0f8ff;}#sk-0c2220a4-8fec-471a-af9a-facda10b4ddd input.sk-toggleable__control:checked~div.sk-toggleable__content {max-height: 200px;max-width: 100%;overflow: auto;}#sk-0c2220a4-8fec-471a-af9a-facda10b4ddd input.sk-toggleable__control:checked~label.sk-toggleable__label-arrow:before {content: \"▾\";}#sk-0c2220a4-8fec-471a-af9a-facda10b4ddd div.sk-estimator input.sk-toggleable__control:checked~label.sk-toggleable__label {background-color: #d4ebff;}#sk-0c2220a4-8fec-471a-af9a-facda10b4ddd div.sk-label input.sk-toggleable__control:checked~label.sk-toggleable__label {background-color: #d4ebff;}#sk-0c2220a4-8fec-471a-af9a-facda10b4ddd input.sk-hidden--visually {border: 0;clip: rect(1px 1px 1px 1px);clip: rect(1px, 1px, 1px, 1px);height: 1px;margin: -1px;overflow: hidden;padding: 0;position: absolute;width: 1px;}#sk-0c2220a4-8fec-471a-af9a-facda10b4ddd div.sk-estimator {font-family: monospace;background-color: #f0f8ff;border: 1px dotted black;border-radius: 0.25em;box-sizing: border-box;margin-bottom: 0.5em;}#sk-0c2220a4-8fec-471a-af9a-facda10b4ddd div.sk-estimator:hover {background-color: #d4ebff;}#sk-0c2220a4-8fec-471a-af9a-facda10b4ddd div.sk-parallel-item::after {content: \"\";width: 100%;border-bottom: 1px solid gray;flex-grow: 1;}#sk-0c2220a4-8fec-471a-af9a-facda10b4ddd div.sk-label:hover label.sk-toggleable__label {background-color: #d4ebff;}#sk-0c2220a4-8fec-471a-af9a-facda10b4ddd div.sk-serial::before {content: \"\";position: absolute;border-left: 1px solid gray;box-sizing: border-box;top: 2em;bottom: 0;left: 50%;}#sk-0c2220a4-8fec-471a-af9a-facda10b4ddd div.sk-serial {display: flex;flex-direction: column;align-items: center;background-color: white;padding-right: 0.2em;padding-left: 0.2em;}#sk-0c2220a4-8fec-471a-af9a-facda10b4ddd div.sk-item {z-index: 1;}#sk-0c2220a4-8fec-471a-af9a-facda10b4ddd div.sk-parallel {display: flex;align-items: stretch;justify-content: center;background-color: white;}#sk-0c2220a4-8fec-471a-af9a-facda10b4ddd div.sk-parallel::before {content: \"\";position: absolute;border-left: 1px solid gray;box-sizing: border-box;top: 2em;bottom: 0;left: 50%;}#sk-0c2220a4-8fec-471a-af9a-facda10b4ddd div.sk-parallel-item {display: flex;flex-direction: column;position: relative;background-color: white;}#sk-0c2220a4-8fec-471a-af9a-facda10b4ddd div.sk-parallel-item:first-child::after {align-self: flex-end;width: 50%;}#sk-0c2220a4-8fec-471a-af9a-facda10b4ddd div.sk-parallel-item:last-child::after {align-self: flex-start;width: 50%;}#sk-0c2220a4-8fec-471a-af9a-facda10b4ddd div.sk-parallel-item:only-child::after {width: 0;}#sk-0c2220a4-8fec-471a-af9a-facda10b4ddd div.sk-dashed-wrapped {border: 1px dashed gray;margin: 0 0.4em 0.5em 0.4em;box-sizing: border-box;padding-bottom: 0.4em;background-color: white;position: relative;}#sk-0c2220a4-8fec-471a-af9a-facda10b4ddd div.sk-label label {font-family: monospace;font-weight: bold;background-color: white;display: inline-block;line-height: 1.2em;}#sk-0c2220a4-8fec-471a-af9a-facda10b4ddd div.sk-label-container {position: relative;z-index: 2;text-align: center;}#sk-0c2220a4-8fec-471a-af9a-facda10b4ddd div.sk-container {/* jupyter's `normalize.less` sets `[hidden] { display: none; }` but bootstrap.min.css set `[hidden] { display: none !important; }` so we also need the `!important` here to be able to override the default hidden behavior on the sphinx rendered scikit-learn.org. See: https://github.com/scikit-learn/scikit-learn/issues/21755 */display: inline-block !important;position: relative;}#sk-0c2220a4-8fec-471a-af9a-facda10b4ddd div.sk-text-repr-fallback {display: none;}</style><div id=\"sk-0c2220a4-8fec-471a-af9a-facda10b4ddd\" class=\"sk-top-container\"><div class=\"sk-text-repr-fallback\"><pre>Pipeline(steps=[(&#x27;standardscaler&#x27;, StandardScaler()),\n",
              "                (&#x27;randomforestclassifier&#x27;,\n",
              "                 RandomForestClassifier(random_state=42))])</pre><b>Please rerun this cell to show the HTML repr or trust the notebook.</b></div><div class=\"sk-container\" hidden><div class=\"sk-item sk-dashed-wrapped\"><div class=\"sk-label-container\"><div class=\"sk-label sk-toggleable\"><input class=\"sk-toggleable__control sk-hidden--visually\" id=\"7b33faaf-764d-4c8d-a94c-932f89f897d0\" type=\"checkbox\" ><label for=\"7b33faaf-764d-4c8d-a94c-932f89f897d0\" class=\"sk-toggleable__label sk-toggleable__label-arrow\">Pipeline</label><div class=\"sk-toggleable__content\"><pre>Pipeline(steps=[(&#x27;standardscaler&#x27;, StandardScaler()),\n",
              "                (&#x27;randomforestclassifier&#x27;,\n",
              "                 RandomForestClassifier(random_state=42))])</pre></div></div></div><div class=\"sk-serial\"><div class=\"sk-item\"><div class=\"sk-estimator sk-toggleable\"><input class=\"sk-toggleable__control sk-hidden--visually\" id=\"4b29a4d0-391d-45ec-8fef-367b2ddbc9e7\" type=\"checkbox\" ><label for=\"4b29a4d0-391d-45ec-8fef-367b2ddbc9e7\" class=\"sk-toggleable__label sk-toggleable__label-arrow\">StandardScaler</label><div class=\"sk-toggleable__content\"><pre>StandardScaler()</pre></div></div></div><div class=\"sk-item\"><div class=\"sk-estimator sk-toggleable\"><input class=\"sk-toggleable__control sk-hidden--visually\" id=\"02224235-8d25-4653-b46a-aedeeff37d15\" type=\"checkbox\" ><label for=\"02224235-8d25-4653-b46a-aedeeff37d15\" class=\"sk-toggleable__label sk-toggleable__label-arrow\">RandomForestClassifier</label><div class=\"sk-toggleable__content\"><pre>RandomForestClassifier(random_state=42)</pre></div></div></div></div></div></div></div>"
            ]
          },
          "metadata": {},
          "execution_count": 53
        }
      ]
    },
    {
      "cell_type": "code",
      "source": [
        "rf_pipeline.get_params()"
      ],
      "metadata": {
        "colab": {
          "base_uri": "https://localhost:8080/"
        },
        "id": "cgxdDidYXOsH",
        "outputId": "409de74a-f34f-4e87-b776-d69a0dc58ee7"
      },
      "execution_count": 100,
      "outputs": [
        {
          "output_type": "execute_result",
          "data": {
            "text/plain": [
              "{'memory': None,\n",
              " 'steps': [('standardscaler', StandardScaler()),\n",
              "  ('randomforestclassifier', RandomForestClassifier(random_state=42))],\n",
              " 'verbose': False,\n",
              " 'standardscaler': StandardScaler(),\n",
              " 'randomforestclassifier': RandomForestClassifier(random_state=42),\n",
              " 'standardscaler__copy': True,\n",
              " 'standardscaler__with_mean': True,\n",
              " 'standardscaler__with_std': True,\n",
              " 'randomforestclassifier__bootstrap': True,\n",
              " 'randomforestclassifier__ccp_alpha': 0.0,\n",
              " 'randomforestclassifier__class_weight': None,\n",
              " 'randomforestclassifier__criterion': 'gini',\n",
              " 'randomforestclassifier__max_depth': None,\n",
              " 'randomforestclassifier__max_features': 'auto',\n",
              " 'randomforestclassifier__max_leaf_nodes': None,\n",
              " 'randomforestclassifier__max_samples': None,\n",
              " 'randomforestclassifier__min_impurity_decrease': 0.0,\n",
              " 'randomforestclassifier__min_samples_leaf': 1,\n",
              " 'randomforestclassifier__min_samples_split': 2,\n",
              " 'randomforestclassifier__min_weight_fraction_leaf': 0.0,\n",
              " 'randomforestclassifier__n_estimators': 100,\n",
              " 'randomforestclassifier__n_jobs': None,\n",
              " 'randomforestclassifier__oob_score': False,\n",
              " 'randomforestclassifier__random_state': 42,\n",
              " 'randomforestclassifier__verbose': 0,\n",
              " 'randomforestclassifier__warm_start': False}"
            ]
          },
          "metadata": {},
          "execution_count": 100
        }
      ]
    },
    {
      "cell_type": "code",
      "source": [
        "rfc_trainpred = rf_pipeline.predict(x_train)\n",
        "rfc_testpred = rf_pipeline.predict(x_test)\n",
        "print(rfc_trainpred)\n",
        "print(rfc_testpred)"
      ],
      "metadata": {
        "colab": {
          "base_uri": "https://localhost:8080/"
        },
        "id": "d2nduMQuXSwi",
        "outputId": "b3156164-69b1-47b7-eb5b-41af575e19d7"
      },
      "execution_count": 101,
      "outputs": [
        {
          "output_type": "stream",
          "name": "stdout",
          "text": [
            "[0 0 1 0 0 0 1 0 0 0 0 1 1 1 0 0 1 0 1 1 1 0 0 1 0 1 1 1 1 0 0 1 0 0 1 0 0\n",
            " 1 0 0 1 0 0 0 1 0 1 0 0 0 0 0 0 0 0 0 1 0 0 0 0 0 1 0 0 0 0 0 0 0 1 1 0 0\n",
            " 0 0 0 0 0 1 1 1 0 0 1 1 1 0 0 0 1 1 0 1 0 1 0 0 0 1 0 0 0 1 0 0 0 0 0 0 0\n",
            " 1 1 1 0 0 0 1 0 1 1 0 1 0 1 0 0 0 0 0 0 0 0 0 1 0 0 0 1 0 0 1 0 0 0 0 0 0\n",
            " 1 0 0 0 1 0 0 0 0 0 1 0 1 0 0 0 0 0 1 0 0 1 0 1 1 1 0 1 0 0 1 1 0 0 1 0 1\n",
            " 0 1 0 0 0 0 0 0 1 1 0 0 0 1 0 1 1 0 0 1 0 0 0 0 0 0 0 0 0 0 0 0 0 0 0 0 0\n",
            " 0]\n",
            "[0 0 0 1 0 0 0 0 1 0 0 0 0 0 1 0 0 0 0 0 0 0 0 1 1 0 0 0 0 0 1 0 1 1 0 1 0\n",
            " 0 0 0 0 0 0 0 0 0 0 0 0 0 0 0 0 0 0 0 0 1 0 1 1 0 0 0 1 1 0 1 0 0 0 0 0 0\n",
            " 1]\n"
          ]
        }
      ]
    },
    {
      "cell_type": "code",
      "source": [
        "rf_train_score = rf_pipeline.score(x_train, y_train)\n",
        "rf_test_score = rf_pipeline.score(x_test, y_test)\n",
        "print(rf_train_score)\n",
        "print(rf_test_score)"
      ],
      "metadata": {
        "colab": {
          "base_uri": "https://localhost:8080/"
        },
        "id": "Y17ige8qXUqh",
        "outputId": "c6615988-df37-4141-c6ce-a60decb32a1c"
      },
      "execution_count": 102,
      "outputs": [
        {
          "output_type": "stream",
          "name": "stdout",
          "text": [
            "1.0\n",
            "0.7333333333333333\n"
          ]
        }
      ]
    },
    {
      "cell_type": "code",
      "source": [
        "rf_pipeline.get_params().keys()"
      ],
      "metadata": {
        "colab": {
          "base_uri": "https://localhost:8080/"
        },
        "id": "DNKAAtNZooPv",
        "outputId": "2ebaad17-8a12-43af-9536-40fbec2d69ac"
      },
      "execution_count": 106,
      "outputs": [
        {
          "output_type": "execute_result",
          "data": {
            "text/plain": [
              "dict_keys(['memory', 'steps', 'verbose', 'standardscaler', 'randomforestclassifier', 'standardscaler__copy', 'standardscaler__with_mean', 'standardscaler__with_std', 'randomforestclassifier__bootstrap', 'randomforestclassifier__ccp_alpha', 'randomforestclassifier__class_weight', 'randomforestclassifier__criterion', 'randomforestclassifier__max_depth', 'randomforestclassifier__max_features', 'randomforestclassifier__max_leaf_nodes', 'randomforestclassifier__max_samples', 'randomforestclassifier__min_impurity_decrease', 'randomforestclassifier__min_samples_leaf', 'randomforestclassifier__min_samples_split', 'randomforestclassifier__min_weight_fraction_leaf', 'randomforestclassifier__n_estimators', 'randomforestclassifier__n_jobs', 'randomforestclassifier__oob_score', 'randomforestclassifier__random_state', 'randomforestclassifier__verbose', 'randomforestclassifier__warm_start'])"
            ]
          },
          "metadata": {},
          "execution_count": 106
        }
      ]
    },
    {
      "cell_type": "code",
      "source": [
        "param_grid = {'max_depth': [1,2,3],\n",
        "              'min_samples_leaf': [3,15,20],\n",
        "              'min_samples_split': [2, 10, 100]}\n",
        " \n",
        "pd.DataFrame(param_grid).T"
      ],
      "metadata": {
        "colab": {
          "base_uri": "https://localhost:8080/",
          "height": 143
        },
        "id": "IwD7RIHAeI6K",
        "outputId": "e099b800-ae3a-42c4-e792-7d7a6b44098c"
      },
      "execution_count": 109,
      "outputs": [
        {
          "output_type": "execute_result",
          "data": {
            "text/plain": [
              "                   0   1    2\n",
              "max_depth          1   2    3\n",
              "min_samples_leaf   3  15   20\n",
              "min_samples_split  2  10  100"
            ],
            "text/html": [
              "\n",
              "  <div id=\"df-23dd1def-c980-49d2-a649-a4a009c2ce1a\">\n",
              "    <div class=\"colab-df-container\">\n",
              "      <div>\n",
              "<style scoped>\n",
              "    .dataframe tbody tr th:only-of-type {\n",
              "        vertical-align: middle;\n",
              "    }\n",
              "\n",
              "    .dataframe tbody tr th {\n",
              "        vertical-align: top;\n",
              "    }\n",
              "\n",
              "    .dataframe thead th {\n",
              "        text-align: right;\n",
              "    }\n",
              "</style>\n",
              "<table border=\"1\" class=\"dataframe\">\n",
              "  <thead>\n",
              "    <tr style=\"text-align: right;\">\n",
              "      <th></th>\n",
              "      <th>0</th>\n",
              "      <th>1</th>\n",
              "      <th>2</th>\n",
              "    </tr>\n",
              "  </thead>\n",
              "  <tbody>\n",
              "    <tr>\n",
              "      <th>max_depth</th>\n",
              "      <td>1</td>\n",
              "      <td>2</td>\n",
              "      <td>3</td>\n",
              "    </tr>\n",
              "    <tr>\n",
              "      <th>min_samples_leaf</th>\n",
              "      <td>3</td>\n",
              "      <td>15</td>\n",
              "      <td>20</td>\n",
              "    </tr>\n",
              "    <tr>\n",
              "      <th>min_samples_split</th>\n",
              "      <td>2</td>\n",
              "      <td>10</td>\n",
              "      <td>100</td>\n",
              "    </tr>\n",
              "  </tbody>\n",
              "</table>\n",
              "</div>\n",
              "      <button class=\"colab-df-convert\" onclick=\"convertToInteractive('df-23dd1def-c980-49d2-a649-a4a009c2ce1a')\"\n",
              "              title=\"Convert this dataframe to an interactive table.\"\n",
              "              style=\"display:none;\">\n",
              "        \n",
              "  <svg xmlns=\"http://www.w3.org/2000/svg\" height=\"24px\"viewBox=\"0 0 24 24\"\n",
              "       width=\"24px\">\n",
              "    <path d=\"M0 0h24v24H0V0z\" fill=\"none\"/>\n",
              "    <path d=\"M18.56 5.44l.94 2.06.94-2.06 2.06-.94-2.06-.94-.94-2.06-.94 2.06-2.06.94zm-11 1L8.5 8.5l.94-2.06 2.06-.94-2.06-.94L8.5 2.5l-.94 2.06-2.06.94zm10 10l.94 2.06.94-2.06 2.06-.94-2.06-.94-.94-2.06-.94 2.06-2.06.94z\"/><path d=\"M17.41 7.96l-1.37-1.37c-.4-.4-.92-.59-1.43-.59-.52 0-1.04.2-1.43.59L10.3 9.45l-7.72 7.72c-.78.78-.78 2.05 0 2.83L4 21.41c.39.39.9.59 1.41.59.51 0 1.02-.2 1.41-.59l7.78-7.78 2.81-2.81c.8-.78.8-2.07 0-2.86zM5.41 20L4 18.59l7.72-7.72 1.47 1.35L5.41 20z\"/>\n",
              "  </svg>\n",
              "      </button>\n",
              "      \n",
              "  <style>\n",
              "    .colab-df-container {\n",
              "      display:flex;\n",
              "      flex-wrap:wrap;\n",
              "      gap: 12px;\n",
              "    }\n",
              "\n",
              "    .colab-df-convert {\n",
              "      background-color: #E8F0FE;\n",
              "      border: none;\n",
              "      border-radius: 50%;\n",
              "      cursor: pointer;\n",
              "      display: none;\n",
              "      fill: #1967D2;\n",
              "      height: 32px;\n",
              "      padding: 0 0 0 0;\n",
              "      width: 32px;\n",
              "    }\n",
              "\n",
              "    .colab-df-convert:hover {\n",
              "      background-color: #E2EBFA;\n",
              "      box-shadow: 0px 1px 2px rgba(60, 64, 67, 0.3), 0px 1px 3px 1px rgba(60, 64, 67, 0.15);\n",
              "      fill: #174EA6;\n",
              "    }\n",
              "\n",
              "    [theme=dark] .colab-df-convert {\n",
              "      background-color: #3B4455;\n",
              "      fill: #D2E3FC;\n",
              "    }\n",
              "\n",
              "    [theme=dark] .colab-df-convert:hover {\n",
              "      background-color: #434B5C;\n",
              "      box-shadow: 0px 1px 3px 1px rgba(0, 0, 0, 0.15);\n",
              "      filter: drop-shadow(0px 1px 2px rgba(0, 0, 0, 0.3));\n",
              "      fill: #FFFFFF;\n",
              "    }\n",
              "  </style>\n",
              "\n",
              "      <script>\n",
              "        const buttonEl =\n",
              "          document.querySelector('#df-23dd1def-c980-49d2-a649-a4a009c2ce1a button.colab-df-convert');\n",
              "        buttonEl.style.display =\n",
              "          google.colab.kernel.accessAllowed ? 'block' : 'none';\n",
              "\n",
              "        async function convertToInteractive(key) {\n",
              "          const element = document.querySelector('#df-23dd1def-c980-49d2-a649-a4a009c2ce1a');\n",
              "          const dataTable =\n",
              "            await google.colab.kernel.invokeFunction('convertToInteractive',\n",
              "                                                     [key], {});\n",
              "          if (!dataTable) return;\n",
              "\n",
              "          const docLinkHtml = 'Like what you see? Visit the ' +\n",
              "            '<a target=\"_blank\" href=https://colab.research.google.com/notebooks/data_table.ipynb>data table notebook</a>'\n",
              "            + ' to learn more about interactive tables.';\n",
              "          element.innerHTML = '';\n",
              "          dataTable['output_type'] = 'display_data';\n",
              "          await google.colab.output.renderOutput(dataTable, element);\n",
              "          const docLink = document.createElement('div');\n",
              "          docLink.innerHTML = docLinkHtml;\n",
              "          element.appendChild(docLink);\n",
              "        }\n",
              "      </script>\n",
              "    </div>\n",
              "  </div>\n",
              "  "
            ]
          },
          "metadata": {},
          "execution_count": 109
        }
      ]
    },
    {
      "cell_type": "code",
      "source": [
        "scores = {}\n",
        " \n",
        "#loop through all combinations of values for all hyperparameters\n",
        "for d in param_grid['max_depth']:\n",
        "  for l in param_grid['min_samples_leaf']:\n",
        "    for s in param_grid['min_samples_split']:\n",
        "      #fit a model for each combination of hyperparameter values\n",
        "      model = RandomForestClassifier(max_depth=d,\n",
        "                                     min_samples_leaf=l,\n",
        "                                     min_samples_split=s)\n",
        "      model.fit(x_train, y_train)\n",
        "      score = model.score(x_test, y_test)\n",
        "      #add the model accuracy to a dictionary with the parameter settings as the\n",
        "      #keys and the accuracies as the values.\n",
        "      scores[f'depth {d}, min_samples_leaf {l}, min_samples_split {s} accuracy'] = score.round(6) * 100\n",
        " \n",
        "#Display dictionary of scores\n",
        "scores"
      ],
      "metadata": {
        "colab": {
          "base_uri": "https://localhost:8080/"
        },
        "id": "bA0L7fA3qY_E",
        "outputId": "72f2999d-33ce-4e6e-981a-da55779c6713"
      },
      "execution_count": 112,
      "outputs": [
        {
          "output_type": "execute_result",
          "data": {
            "text/plain": [
              "{'depth 1, min_samples_leaf 3, min_samples_split 2 accuracy': 69.3333,\n",
              " 'depth 1, min_samples_leaf 3, min_samples_split 10 accuracy': 66.6667,\n",
              " 'depth 1, min_samples_leaf 3, min_samples_split 100 accuracy': 66.6667,\n",
              " 'depth 1, min_samples_leaf 15, min_samples_split 2 accuracy': 73.33330000000001,\n",
              " 'depth 1, min_samples_leaf 15, min_samples_split 10 accuracy': 70.6667,\n",
              " 'depth 1, min_samples_leaf 15, min_samples_split 100 accuracy': 68.0,\n",
              " 'depth 1, min_samples_leaf 20, min_samples_split 2 accuracy': 70.6667,\n",
              " 'depth 1, min_samples_leaf 20, min_samples_split 10 accuracy': 69.3333,\n",
              " 'depth 1, min_samples_leaf 20, min_samples_split 100 accuracy': 70.6667,\n",
              " 'depth 2, min_samples_leaf 3, min_samples_split 2 accuracy': 77.33330000000001,\n",
              " 'depth 2, min_samples_leaf 3, min_samples_split 10 accuracy': 76.0,\n",
              " 'depth 2, min_samples_leaf 3, min_samples_split 100 accuracy': 72.0,\n",
              " 'depth 2, min_samples_leaf 15, min_samples_split 2 accuracy': 78.6667,\n",
              " 'depth 2, min_samples_leaf 15, min_samples_split 10 accuracy': 73.33330000000001,\n",
              " 'depth 2, min_samples_leaf 15, min_samples_split 100 accuracy': 78.6667,\n",
              " 'depth 2, min_samples_leaf 20, min_samples_split 2 accuracy': 76.0,\n",
              " 'depth 2, min_samples_leaf 20, min_samples_split 10 accuracy': 74.66669999999999,\n",
              " 'depth 2, min_samples_leaf 20, min_samples_split 100 accuracy': 69.3333,\n",
              " 'depth 3, min_samples_leaf 3, min_samples_split 2 accuracy': 78.6667,\n",
              " 'depth 3, min_samples_leaf 3, min_samples_split 10 accuracy': 76.0,\n",
              " 'depth 3, min_samples_leaf 3, min_samples_split 100 accuracy': 68.0,\n",
              " 'depth 3, min_samples_leaf 15, min_samples_split 2 accuracy': 78.6667,\n",
              " 'depth 3, min_samples_leaf 15, min_samples_split 10 accuracy': 77.33330000000001,\n",
              " 'depth 3, min_samples_leaf 15, min_samples_split 100 accuracy': 62.6667,\n",
              " 'depth 3, min_samples_leaf 20, min_samples_split 2 accuracy': 78.6667,\n",
              " 'depth 3, min_samples_leaf 20, min_samples_split 10 accuracy': 77.33330000000001,\n",
              " 'depth 3, min_samples_leaf 20, min_samples_split 100 accuracy': 69.3333}"
            ]
          },
          "metadata": {},
          "execution_count": 112
        }
      ]
    },
    {
      "cell_type": "code",
      "source": [
        "model = RandomForestClassifier()\n",
        " \n",
        "param_grid = {'max_depth': [1,2,3],\n",
        "              'min_samples_leaf': [3,15,20],\n",
        "              'min_samples_split': [2, 10, 100]}"
      ],
      "metadata": {
        "id": "u0TCTd-uDkfd"
      },
      "execution_count": 113,
      "outputs": []
    },
    {
      "cell_type": "code",
      "source": [
        "rf_grid_search = GridSearchCV(model, param_grid)"
      ],
      "metadata": {
        "id": "VfQGwspisQ-P"
      },
      "execution_count": 115,
      "outputs": []
    },
    {
      "cell_type": "code",
      "source": [
        "rf_grid_search.fit(x_train, y_train)"
      ],
      "metadata": {
        "colab": {
          "base_uri": "https://localhost:8080/",
          "height": 93
        },
        "id": "OabOvZzUsXAo",
        "outputId": "694ecabf-a1bc-4517-efc2-98d37055bfe4"
      },
      "execution_count": 116,
      "outputs": [
        {
          "output_type": "execute_result",
          "data": {
            "text/plain": [
              "GridSearchCV(estimator=RandomForestClassifier(),\n",
              "             param_grid={'max_depth': [1, 2, 3],\n",
              "                         'min_samples_leaf': [3, 15, 20],\n",
              "                         'min_samples_split': [2, 10, 100]})"
            ],
            "text/html": [
              "<style>#sk-c7c73202-5b95-4a46-bbe1-54de9b466144 {color: black;background-color: white;}#sk-c7c73202-5b95-4a46-bbe1-54de9b466144 pre{padding: 0;}#sk-c7c73202-5b95-4a46-bbe1-54de9b466144 div.sk-toggleable {background-color: white;}#sk-c7c73202-5b95-4a46-bbe1-54de9b466144 label.sk-toggleable__label {cursor: pointer;display: block;width: 100%;margin-bottom: 0;padding: 0.3em;box-sizing: border-box;text-align: center;}#sk-c7c73202-5b95-4a46-bbe1-54de9b466144 label.sk-toggleable__label-arrow:before {content: \"▸\";float: left;margin-right: 0.25em;color: #696969;}#sk-c7c73202-5b95-4a46-bbe1-54de9b466144 label.sk-toggleable__label-arrow:hover:before {color: black;}#sk-c7c73202-5b95-4a46-bbe1-54de9b466144 div.sk-estimator:hover label.sk-toggleable__label-arrow:before {color: black;}#sk-c7c73202-5b95-4a46-bbe1-54de9b466144 div.sk-toggleable__content {max-height: 0;max-width: 0;overflow: hidden;text-align: left;background-color: #f0f8ff;}#sk-c7c73202-5b95-4a46-bbe1-54de9b466144 div.sk-toggleable__content pre {margin: 0.2em;color: black;border-radius: 0.25em;background-color: #f0f8ff;}#sk-c7c73202-5b95-4a46-bbe1-54de9b466144 input.sk-toggleable__control:checked~div.sk-toggleable__content {max-height: 200px;max-width: 100%;overflow: auto;}#sk-c7c73202-5b95-4a46-bbe1-54de9b466144 input.sk-toggleable__control:checked~label.sk-toggleable__label-arrow:before {content: \"▾\";}#sk-c7c73202-5b95-4a46-bbe1-54de9b466144 div.sk-estimator input.sk-toggleable__control:checked~label.sk-toggleable__label {background-color: #d4ebff;}#sk-c7c73202-5b95-4a46-bbe1-54de9b466144 div.sk-label input.sk-toggleable__control:checked~label.sk-toggleable__label {background-color: #d4ebff;}#sk-c7c73202-5b95-4a46-bbe1-54de9b466144 input.sk-hidden--visually {border: 0;clip: rect(1px 1px 1px 1px);clip: rect(1px, 1px, 1px, 1px);height: 1px;margin: -1px;overflow: hidden;padding: 0;position: absolute;width: 1px;}#sk-c7c73202-5b95-4a46-bbe1-54de9b466144 div.sk-estimator {font-family: monospace;background-color: #f0f8ff;border: 1px dotted black;border-radius: 0.25em;box-sizing: border-box;margin-bottom: 0.5em;}#sk-c7c73202-5b95-4a46-bbe1-54de9b466144 div.sk-estimator:hover {background-color: #d4ebff;}#sk-c7c73202-5b95-4a46-bbe1-54de9b466144 div.sk-parallel-item::after {content: \"\";width: 100%;border-bottom: 1px solid gray;flex-grow: 1;}#sk-c7c73202-5b95-4a46-bbe1-54de9b466144 div.sk-label:hover label.sk-toggleable__label {background-color: #d4ebff;}#sk-c7c73202-5b95-4a46-bbe1-54de9b466144 div.sk-serial::before {content: \"\";position: absolute;border-left: 1px solid gray;box-sizing: border-box;top: 2em;bottom: 0;left: 50%;}#sk-c7c73202-5b95-4a46-bbe1-54de9b466144 div.sk-serial {display: flex;flex-direction: column;align-items: center;background-color: white;padding-right: 0.2em;padding-left: 0.2em;}#sk-c7c73202-5b95-4a46-bbe1-54de9b466144 div.sk-item {z-index: 1;}#sk-c7c73202-5b95-4a46-bbe1-54de9b466144 div.sk-parallel {display: flex;align-items: stretch;justify-content: center;background-color: white;}#sk-c7c73202-5b95-4a46-bbe1-54de9b466144 div.sk-parallel::before {content: \"\";position: absolute;border-left: 1px solid gray;box-sizing: border-box;top: 2em;bottom: 0;left: 50%;}#sk-c7c73202-5b95-4a46-bbe1-54de9b466144 div.sk-parallel-item {display: flex;flex-direction: column;position: relative;background-color: white;}#sk-c7c73202-5b95-4a46-bbe1-54de9b466144 div.sk-parallel-item:first-child::after {align-self: flex-end;width: 50%;}#sk-c7c73202-5b95-4a46-bbe1-54de9b466144 div.sk-parallel-item:last-child::after {align-self: flex-start;width: 50%;}#sk-c7c73202-5b95-4a46-bbe1-54de9b466144 div.sk-parallel-item:only-child::after {width: 0;}#sk-c7c73202-5b95-4a46-bbe1-54de9b466144 div.sk-dashed-wrapped {border: 1px dashed gray;margin: 0 0.4em 0.5em 0.4em;box-sizing: border-box;padding-bottom: 0.4em;background-color: white;position: relative;}#sk-c7c73202-5b95-4a46-bbe1-54de9b466144 div.sk-label label {font-family: monospace;font-weight: bold;background-color: white;display: inline-block;line-height: 1.2em;}#sk-c7c73202-5b95-4a46-bbe1-54de9b466144 div.sk-label-container {position: relative;z-index: 2;text-align: center;}#sk-c7c73202-5b95-4a46-bbe1-54de9b466144 div.sk-container {/* jupyter's `normalize.less` sets `[hidden] { display: none; }` but bootstrap.min.css set `[hidden] { display: none !important; }` so we also need the `!important` here to be able to override the default hidden behavior on the sphinx rendered scikit-learn.org. See: https://github.com/scikit-learn/scikit-learn/issues/21755 */display: inline-block !important;position: relative;}#sk-c7c73202-5b95-4a46-bbe1-54de9b466144 div.sk-text-repr-fallback {display: none;}</style><div id=\"sk-c7c73202-5b95-4a46-bbe1-54de9b466144\" class=\"sk-top-container\"><div class=\"sk-text-repr-fallback\"><pre>GridSearchCV(estimator=RandomForestClassifier(),\n",
              "             param_grid={&#x27;max_depth&#x27;: [1, 2, 3],\n",
              "                         &#x27;min_samples_leaf&#x27;: [3, 15, 20],\n",
              "                         &#x27;min_samples_split&#x27;: [2, 10, 100]})</pre><b>Please rerun this cell to show the HTML repr or trust the notebook.</b></div><div class=\"sk-container\" hidden><div class=\"sk-item sk-dashed-wrapped\"><div class=\"sk-label-container\"><div class=\"sk-label sk-toggleable\"><input class=\"sk-toggleable__control sk-hidden--visually\" id=\"826fdccc-cce9-45cf-b951-af17a87253f8\" type=\"checkbox\" ><label for=\"826fdccc-cce9-45cf-b951-af17a87253f8\" class=\"sk-toggleable__label sk-toggleable__label-arrow\">GridSearchCV</label><div class=\"sk-toggleable__content\"><pre>GridSearchCV(estimator=RandomForestClassifier(),\n",
              "             param_grid={&#x27;max_depth&#x27;: [1, 2, 3],\n",
              "                         &#x27;min_samples_leaf&#x27;: [3, 15, 20],\n",
              "                         &#x27;min_samples_split&#x27;: [2, 10, 100]})</pre></div></div></div><div class=\"sk-parallel\"><div class=\"sk-parallel-item\"><div class=\"sk-item\"><div class=\"sk-serial\"><div class=\"sk-item\"><div class=\"sk-estimator sk-toggleable\"><input class=\"sk-toggleable__control sk-hidden--visually\" id=\"bc837d4f-1628-4fd9-a97c-d66fe138206c\" type=\"checkbox\" ><label for=\"bc837d4f-1628-4fd9-a97c-d66fe138206c\" class=\"sk-toggleable__label sk-toggleable__label-arrow\">RandomForestClassifier</label><div class=\"sk-toggleable__content\"><pre>RandomForestClassifier()</pre></div></div></div></div></div></div></div></div></div></div>"
            ]
          },
          "metadata": {},
          "execution_count": 116
        }
      ]
    },
    {
      "cell_type": "code",
      "source": [
        "rf_grid_search.best_params_"
      ],
      "metadata": {
        "colab": {
          "base_uri": "https://localhost:8080/"
        },
        "id": "9-9Lt6f4scu2",
        "outputId": "feefa9d9-d28f-42b5-adb4-572dd2069ee7"
      },
      "execution_count": 117,
      "outputs": [
        {
          "output_type": "execute_result",
          "data": {
            "text/plain": [
              "{'max_depth': 2, 'min_samples_leaf': 15, 'min_samples_split': 2}"
            ]
          },
          "metadata": {},
          "execution_count": 117
        }
      ]
    },
    {
      "cell_type": "code",
      "source": [
        "print(classification_report(y_test, rfc_testpred))"
      ],
      "metadata": {
        "colab": {
          "base_uri": "https://localhost:8080/"
        },
        "id": "mpCWq_NmMV7u",
        "outputId": "0d2c2538-7335-4f42-ed78-5a1f527f87ee"
      },
      "execution_count": 59,
      "outputs": [
        {
          "output_type": "stream",
          "name": "stderr",
          "text": [
            "/usr/local/lib/python3.7/dist-packages/sklearn/metrics/_classification.py:1318: UndefinedMetricWarning: Precision and F-score are ill-defined and being set to 0.0 in labels with no predicted samples. Use `zero_division` parameter to control this behavior.\n",
            "  _warn_prf(average, modifier, msg_start, len(result))\n"
          ]
        },
        {
          "output_type": "stream",
          "name": "stdout",
          "text": [
            "              precision    recall  f1-score   support\n",
            "\n",
            "           0       0.63      1.00      0.77        47\n",
            "           1       0.00      0.00      0.00        28\n",
            "\n",
            "    accuracy                           0.63        75\n",
            "   macro avg       0.31      0.50      0.39        75\n",
            "weighted avg       0.39      0.63      0.48        75\n",
            "\n"
          ]
        },
        {
          "output_type": "stream",
          "name": "stderr",
          "text": [
            "/usr/local/lib/python3.7/dist-packages/sklearn/metrics/_classification.py:1318: UndefinedMetricWarning: Precision and F-score are ill-defined and being set to 0.0 in labels with no predicted samples. Use `zero_division` parameter to control this behavior.\n",
            "  _warn_prf(average, modifier, msg_start, len(result))\n",
            "/usr/local/lib/python3.7/dist-packages/sklearn/metrics/_classification.py:1318: UndefinedMetricWarning: Precision and F-score are ill-defined and being set to 0.0 in labels with no predicted samples. Use `zero_division` parameter to control this behavior.\n",
            "  _warn_prf(average, modifier, msg_start, len(result))\n"
          ]
        }
      ]
    },
    {
      "cell_type": "code",
      "source": [
        "param_grid2 = {'max_depth': [3, 5, 10],\n",
        "              'min_samples_leaf': [1, 2, 3],\n",
        "              'min_samples_split': [2, 4, 7]}\n",
        " \n",
        "rf_grid_search2 = GridSearchCV(model, param_grid2)\n",
        "rf_grid_search2.fit(x_train, y_train)\n",
        "rf_grid_search2.best_params_"
      ],
      "metadata": {
        "colab": {
          "base_uri": "https://localhost:8080/"
        },
        "id": "REUzgrqvsoD6",
        "outputId": "83f3e931-4f19-4214-b763-85a381d19372"
      },
      "execution_count": 118,
      "outputs": [
        {
          "output_type": "execute_result",
          "data": {
            "text/plain": [
              "{'max_depth': 10, 'min_samples_leaf': 3, 'min_samples_split': 2}"
            ]
          },
          "metadata": {},
          "execution_count": 118
        }
      ]
    },
    {
      "cell_type": "code",
      "source": [
        "#retrieve the best version of the model\n",
        "best_model = rf_grid_search2.best_estimator_\n",
        " \n",
        "#refit the model on the whole training set\n",
        "best_model.fit(x_train, y_train)\n",
        "#score the model on the test set\n",
        "best_model.score(x_test, y_test)"
      ],
      "metadata": {
        "colab": {
          "base_uri": "https://localhost:8080/"
        },
        "id": "RMngEAUWtGcJ",
        "outputId": "2f2f3899-243f-4d25-c958-0475e67496ee"
      },
      "execution_count": 119,
      "outputs": [
        {
          "output_type": "execute_result",
          "data": {
            "text/plain": [
              "0.76"
            ]
          },
          "metadata": {},
          "execution_count": 119
        }
      ]
    },
    {
      "cell_type": "code",
      "source": [
        "#confusion matrix\n",
        "plot_confusion_matrix(rf_pipeline, x_test, y_test, cmap = 'Purples', values_format = 'd')"
      ],
      "metadata": {
        "id": "iWRCxUvjXEWv",
        "colab": {
          "base_uri": "https://localhost:8080/",
          "height": 351
        },
        "outputId": "2652bfd2-49ba-4ab6-9900-9498559c9f1f"
      },
      "execution_count": 120,
      "outputs": [
        {
          "output_type": "stream",
          "name": "stderr",
          "text": [
            "/usr/local/lib/python3.7/dist-packages/sklearn/utils/deprecation.py:87: FutureWarning: Function plot_confusion_matrix is deprecated; Function `plot_confusion_matrix` is deprecated in 1.0 and will be removed in 1.2. Use one of the class methods: ConfusionMatrixDisplay.from_predictions or ConfusionMatrixDisplay.from_estimator.\n",
            "  warnings.warn(msg, category=FutureWarning)\n"
          ]
        },
        {
          "output_type": "execute_result",
          "data": {
            "text/plain": [
              "<sklearn.metrics._plot.confusion_matrix.ConfusionMatrixDisplay at 0x7fdc9faa66d0>"
            ]
          },
          "metadata": {},
          "execution_count": 120
        },
        {
          "output_type": "display_data",
          "data": {
            "text/plain": [
              "<Figure size 432x288 with 2 Axes>"
            ],
            "image/png": "[encoded data removed]"
          },
          "metadata": {
            "needs_background": "light"
          }
        }
      ]
    },
    {
      "cell_type": "markdown",
      "metadata": {
        "id": "HEw5c2Hp_EuP"
      },
      "source": [
        "####Perform PCA or another feature engineering technique on your dataset to see how this impacts your results.  (We encourage you to try multiple techniques depending on your data!)"
      ]
    },
    {
      "cell_type": "code",
      "execution_count": 61,
      "metadata": {
        "id": "Gm700YEY_JAR"
      },
      "outputs": [],
      "source": [
        "from sklearn.decomposition import PCA"
      ]
    },
    {
      "cell_type": "code",
      "source": [
        "#creating a scaler\n",
        "scaler= StandardScaler()\n",
        "scaled_df = scaler.fit_transform(x)"
      ],
      "metadata": {
        "id": "CVBPco4h7WsQ"
      },
      "execution_count": 62,
      "outputs": []
    },
    {
      "cell_type": "code",
      "source": [
        "#fitting the pca\n",
        "pca = PCA()\n",
        "pca.fit(scaled_df)"
      ],
      "metadata": {
        "id": "jUTlw2ES7hdg",
        "colab": {
          "base_uri": "https://localhost:8080/",
          "height": 75
        },
        "outputId": "a7ddc5c3-47ee-4e0a-c4b0-72cfa38bdb19"
      },
      "execution_count": 63,
      "outputs": [
        {
          "output_type": "execute_result",
          "data": {
            "text/plain": [
              "PCA()"
            ],
            "text/html": [
              "<style>#sk-fb95d41c-ea17-4223-811a-20f7a3f5e447 {color: black;background-color: white;}#sk-fb95d41c-ea17-4223-811a-20f7a3f5e447 pre{padding: 0;}#sk-fb95d41c-ea17-4223-811a-20f7a3f5e447 div.sk-toggleable {background-color: white;}#sk-fb95d41c-ea17-4223-811a-20f7a3f5e447 label.sk-toggleable__label {cursor: pointer;display: block;width: 100%;margin-bottom: 0;padding: 0.3em;box-sizing: border-box;text-align: center;}#sk-fb95d41c-ea17-4223-811a-20f7a3f5e447 label.sk-toggleable__label-arrow:before {content: \"▸\";float: left;margin-right: 0.25em;color: #696969;}#sk-fb95d41c-ea17-4223-811a-20f7a3f5e447 label.sk-toggleable__label-arrow:hover:before {color: black;}#sk-fb95d41c-ea17-4223-811a-20f7a3f5e447 div.sk-estimator:hover label.sk-toggleable__label-arrow:before {color: black;}#sk-fb95d41c-ea17-4223-811a-20f7a3f5e447 div.sk-toggleable__content {max-height: 0;max-width: 0;overflow: hidden;text-align: left;background-color: #f0f8ff;}#sk-fb95d41c-ea17-4223-811a-20f7a3f5e447 div.sk-toggleable__content pre {margin: 0.2em;color: black;border-radius: 0.25em;background-color: #f0f8ff;}#sk-fb95d41c-ea17-4223-811a-20f7a3f5e447 input.sk-toggleable__control:checked~div.sk-toggleable__content {max-height: 200px;max-width: 100%;overflow: auto;}#sk-fb95d41c-ea17-4223-811a-20f7a3f5e447 input.sk-toggleable__control:checked~label.sk-toggleable__label-arrow:before {content: \"▾\";}#sk-fb95d41c-ea17-4223-811a-20f7a3f5e447 div.sk-estimator input.sk-toggleable__control:checked~label.sk-toggleable__label {background-color: #d4ebff;}#sk-fb95d41c-ea17-4223-811a-20f7a3f5e447 div.sk-label input.sk-toggleable__control:checked~label.sk-toggleable__label {background-color: #d4ebff;}#sk-fb95d41c-ea17-4223-811a-20f7a3f5e447 input.sk-hidden--visually {border: 0;clip: rect(1px 1px 1px 1px);clip: rect(1px, 1px, 1px, 1px);height: 1px;margin: -1px;overflow: hidden;padding: 0;position: absolute;width: 1px;}#sk-fb95d41c-ea17-4223-811a-20f7a3f5e447 div.sk-estimator {font-family: monospace;background-color: #f0f8ff;border: 1px dotted black;border-radius: 0.25em;box-sizing: border-box;margin-bottom: 0.5em;}#sk-fb95d41c-ea17-4223-811a-20f7a3f5e447 div.sk-estimator:hover {background-color: #d4ebff;}#sk-fb95d41c-ea17-4223-811a-20f7a3f5e447 div.sk-parallel-item::after {content: \"\";width: 100%;border-bottom: 1px solid gray;flex-grow: 1;}#sk-fb95d41c-ea17-4223-811a-20f7a3f5e447 div.sk-label:hover label.sk-toggleable__label {background-color: #d4ebff;}#sk-fb95d41c-ea17-4223-811a-20f7a3f5e447 div.sk-serial::before {content: \"\";position: absolute;border-left: 1px solid gray;box-sizing: border-box;top: 2em;bottom: 0;left: 50%;}#sk-fb95d41c-ea17-4223-811a-20f7a3f5e447 div.sk-serial {display: flex;flex-direction: column;align-items: center;background-color: white;padding-right: 0.2em;padding-left: 0.2em;}#sk-fb95d41c-ea17-4223-811a-20f7a3f5e447 div.sk-item {z-index: 1;}#sk-fb95d41c-ea17-4223-811a-20f7a3f5e447 div.sk-parallel {display: flex;align-items: stretch;justify-content: center;background-color: white;}#sk-fb95d41c-ea17-4223-811a-20f7a3f5e447 div.sk-parallel::before {content: \"\";position: absolute;border-left: 1px solid gray;box-sizing: border-box;top: 2em;bottom: 0;left: 50%;}#sk-fb95d41c-ea17-4223-811a-20f7a3f5e447 div.sk-parallel-item {display: flex;flex-direction: column;position: relative;background-color: white;}#sk-fb95d41c-ea17-4223-811a-20f7a3f5e447 div.sk-parallel-item:first-child::after {align-self: flex-end;width: 50%;}#sk-fb95d41c-ea17-4223-811a-20f7a3f5e447 div.sk-parallel-item:last-child::after {align-self: flex-start;width: 50%;}#sk-fb95d41c-ea17-4223-811a-20f7a3f5e447 div.sk-parallel-item:only-child::after {width: 0;}#sk-fb95d41c-ea17-4223-811a-20f7a3f5e447 div.sk-dashed-wrapped {border: 1px dashed gray;margin: 0 0.4em 0.5em 0.4em;box-sizing: border-box;padding-bottom: 0.4em;background-color: white;position: relative;}#sk-fb95d41c-ea17-4223-811a-20f7a3f5e447 div.sk-label label {font-family: monospace;font-weight: bold;background-color: white;display: inline-block;line-height: 1.2em;}#sk-fb95d41c-ea17-4223-811a-20f7a3f5e447 div.sk-label-container {position: relative;z-index: 2;text-align: center;}#sk-fb95d41c-ea17-4223-811a-20f7a3f5e447 div.sk-container {/* jupyter's `normalize.less` sets `[hidden] { display: none; }` but bootstrap.min.css set `[hidden] { display: none !important; }` so we also need the `!important` here to be able to override the default hidden behavior on the sphinx rendered scikit-learn.org. See: https://github.com/scikit-learn/scikit-learn/issues/21755 */display: inline-block !important;position: relative;}#sk-fb95d41c-ea17-4223-811a-20f7a3f5e447 div.sk-text-repr-fallback {display: none;}</style><div id=\"sk-fb95d41c-ea17-4223-811a-20f7a3f5e447\" class=\"sk-top-container\"><div class=\"sk-text-repr-fallback\"><pre>PCA()</pre><b>Please rerun this cell to show the HTML repr or trust the notebook.</b></div><div class=\"sk-container\" hidden><div class=\"sk-item\"><div class=\"sk-estimator sk-toggleable\"><input class=\"sk-toggleable__control sk-hidden--visually\" id=\"dd5ff3ed-c586-4c08-819c-0b79069ae8a9\" type=\"checkbox\" checked><label for=\"dd5ff3ed-c586-4c08-819c-0b79069ae8a9\" class=\"sk-toggleable__label sk-toggleable__label-arrow\">PCA</label><div class=\"sk-toggleable__content\"><pre>PCA()</pre></div></div></div></div></div>"
            ]
          },
          "metadata": {},
          "execution_count": 63
        }
      ]
    },
    {
      "cell_type": "code",
      "source": [
        "pca_processing = make_pipeline(scaler, pca)"
      ],
      "metadata": {
        "id": "OT0q-A8P7xKL"
      },
      "execution_count": 64,
      "outputs": []
    },
    {
      "cell_type": "code",
      "source": [
        "# Transform the training data and check shape of new features after applying PCA\n",
        "print('Shape before PCA:', x_train.shape)\n",
        "print('Shape after PCA', pca_processing.fit_transform(x_train).shape)\n",
        "print('Column count reduced by', x_train.shape[1] - pca_processing.fit_transform(x_train).shape[1])"
      ],
      "metadata": {
        "id": "B5jHcVps7ayK",
        "colab": {
          "base_uri": "https://localhost:8080/"
        },
        "outputId": "72485efc-4823-4b57-aa9c-42a0a0203350"
      },
      "execution_count": 65,
      "outputs": [
        {
          "output_type": "stream",
          "name": "stdout",
          "text": [
            "Shape before PCA: (223, 7)\n",
            "Shape after PCA (223, 7)\n",
            "Column count reduced by 0\n"
          ]
        }
      ]
    },
    {
      "cell_type": "code",
      "source": [
        "plt.plot(range(0, 7), pca.explained_variance_ratio_.cumsum(), marker= '.')\n",
        "plt.xticks(ticks=range(0,7), fontsize=8);"
      ],
      "metadata": {
        "id": "3YC11xp5awMV",
        "colab": {
          "base_uri": "https://localhost:8080/",
          "height": 264
        },
        "outputId": "dba16669-8b53-479e-97fd-26fb37db56fb"
      },
      "execution_count": 66,
      "outputs": [
        {
          "output_type": "display_data",
          "data": {
            "text/plain": [
              "<Figure size 432x288 with 1 Axes>"
            ],
            "image/png": "[encoded data removed]"
          },
          "metadata": {
            "needs_background": "light"
          }
        }
      ]
    },
    {
      "cell_type": "code",
      "source": [
        "# Plot the explained variance ratios of the first 30 principal components\n",
        "plt.plot(range(0, 7), pca.explained_variance_ratio_, marker = '.')\n",
        "plt.xticks(ticks = range(0, 7), fontsize=8)\n",
        "plt.xlabel('Principal Component')\n",
        "plt.ylabel('Proportion of Explained Variance')"
      ],
      "metadata": {
        "id": "R9ISCQZmayYC",
        "colab": {
          "base_uri": "https://localhost:8080/",
          "height": 299
        },
        "outputId": "10e52bdc-452f-418f-8c23-976f65a31cea"
      },
      "execution_count": 67,
      "outputs": [
        {
          "output_type": "execute_result",
          "data": {
            "text/plain": [
              "Text(0, 0.5, 'Proportion of Explained Variance')"
            ]
          },
          "metadata": {},
          "execution_count": 67
        },
        {
          "output_type": "display_data",
          "data": {
            "text/plain": [
              "<Figure size 432x288 with 1 Axes>"
            ],
            "image/png": "[encoded data removed]"
          },
          "metadata": {
            "needs_background": "light"
          }
        }
      ]
    },
    {
      "cell_type": "code",
      "source": [
        "logreg = LogisticRegression()\n",
        "# Create a modeling pipeline\n",
        "logreg_pipe = make_pipeline(scaler, logreg)\n",
        "logreg_pipe.fit(x_train, y_train)"
      ],
      "metadata": {
        "id": "Ir3PZOPe9bfx",
        "colab": {
          "base_uri": "https://localhost:8080/",
          "height": 126
        },
        "outputId": "474a1e10-738c-46b9-a979-d6f1a10e3dd8"
      },
      "execution_count": 68,
      "outputs": [
        {
          "output_type": "execute_result",
          "data": {
            "text/plain": [
              "Pipeline(steps=[('standardscaler', StandardScaler()),\n",
              "                ('logisticregression', LogisticRegression())])"
            ],
            "text/html": [
              "<style>#sk-2fcacded-aa66-44b5-9f91-2bd6b6381274 {color: black;background-color: white;}#sk-2fcacded-aa66-44b5-9f91-2bd6b6381274 pre{padding: 0;}#sk-2fcacded-aa66-44b5-9f91-2bd6b6381274 div.sk-toggleable {background-color: white;}#sk-2fcacded-aa66-44b5-9f91-2bd6b6381274 label.sk-toggleable__label {cursor: pointer;display: block;width: 100%;margin-bottom: 0;padding: 0.3em;box-sizing: border-box;text-align: center;}#sk-2fcacded-aa66-44b5-9f91-2bd6b6381274 label.sk-toggleable__label-arrow:before {content: \"▸\";float: left;margin-right: 0.25em;color: #696969;}#sk-2fcacded-aa66-44b5-9f91-2bd6b6381274 label.sk-toggleable__label-arrow:hover:before {color: black;}#sk-2fcacded-aa66-44b5-9f91-2bd6b6381274 div.sk-estimator:hover label.sk-toggleable__label-arrow:before {color: black;}#sk-2fcacded-aa66-44b5-9f91-2bd6b6381274 div.sk-toggleable__content {max-height: 0;max-width: 0;overflow: hidden;text-align: left;background-color: #f0f8ff;}#sk-2fcacded-aa66-44b5-9f91-2bd6b6381274 div.sk-toggleable__content pre {margin: 0.2em;color: black;border-radius: 0.25em;background-color: #f0f8ff;}#sk-2fcacded-aa66-44b5-9f91-2bd6b6381274 input.sk-toggleable__control:checked~div.sk-toggleable__content {max-height: 200px;max-width: 100%;overflow: auto;}#sk-2fcacded-aa66-44b5-9f91-2bd6b6381274 input.sk-toggleable__control:checked~label.sk-toggleable__label-arrow:before {content: \"▾\";}#sk-2fcacded-aa66-44b5-9f91-2bd6b6381274 div.sk-estimator input.sk-toggleable__control:checked~label.sk-toggleable__label {background-color: #d4ebff;}#sk-2fcacded-aa66-44b5-9f91-2bd6b6381274 div.sk-label input.sk-toggleable__control:checked~label.sk-toggleable__label {background-color: #d4ebff;}#sk-2fcacded-aa66-44b5-9f91-2bd6b6381274 input.sk-hidden--visually {border: 0;clip: rect(1px 1px 1px 1px);clip: rect(1px, 1px, 1px, 1px);height: 1px;margin: -1px;overflow: hidden;padding: 0;position: absolute;width: 1px;}#sk-2fcacded-aa66-44b5-9f91-2bd6b6381274 div.sk-estimator {font-family: monospace;background-color: #f0f8ff;border: 1px dotted black;border-radius: 0.25em;box-sizing: border-box;margin-bottom: 0.5em;}#sk-2fcacded-aa66-44b5-9f91-2bd6b6381274 div.sk-estimator:hover {background-color: #d4ebff;}#sk-2fcacded-aa66-44b5-9f91-2bd6b6381274 div.sk-parallel-item::after {content: \"\";width: 100%;border-bottom: 1px solid gray;flex-grow: 1;}#sk-2fcacded-aa66-44b5-9f91-2bd6b6381274 div.sk-label:hover label.sk-toggleable__label {background-color: #d4ebff;}#sk-2fcacded-aa66-44b5-9f91-2bd6b6381274 div.sk-serial::before {content: \"\";position: absolute;border-left: 1px solid gray;box-sizing: border-box;top: 2em;bottom: 0;left: 50%;}#sk-2fcacded-aa66-44b5-9f91-2bd6b6381274 div.sk-serial {display: flex;flex-direction: column;align-items: center;background-color: white;padding-right: 0.2em;padding-left: 0.2em;}#sk-2fcacded-aa66-44b5-9f91-2bd6b6381274 div.sk-item {z-index: 1;}#sk-2fcacded-aa66-44b5-9f91-2bd6b6381274 div.sk-parallel {display: flex;align-items: stretch;justify-content: center;background-color: white;}#sk-2fcacded-aa66-44b5-9f91-2bd6b6381274 div.sk-parallel::before {content: \"\";position: absolute;border-left: 1px solid gray;box-sizing: border-box;top: 2em;bottom: 0;left: 50%;}#sk-2fcacded-aa66-44b5-9f91-2bd6b6381274 div.sk-parallel-item {display: flex;flex-direction: column;position: relative;background-color: white;}#sk-2fcacded-aa66-44b5-9f91-2bd6b6381274 div.sk-parallel-item:first-child::after {align-self: flex-end;width: 50%;}#sk-2fcacded-aa66-44b5-9f91-2bd6b6381274 div.sk-parallel-item:last-child::after {align-self: flex-start;width: 50%;}#sk-2fcacded-aa66-44b5-9f91-2bd6b6381274 div.sk-parallel-item:only-child::after {width: 0;}#sk-2fcacded-aa66-44b5-9f91-2bd6b6381274 div.sk-dashed-wrapped {border: 1px dashed gray;margin: 0 0.4em 0.5em 0.4em;box-sizing: border-box;padding-bottom: 0.4em;background-color: white;position: relative;}#sk-2fcacded-aa66-44b5-9f91-2bd6b6381274 div.sk-label label {font-family: monospace;font-weight: bold;background-color: white;display: inline-block;line-height: 1.2em;}#sk-2fcacded-aa66-44b5-9f91-2bd6b6381274 div.sk-label-container {position: relative;z-index: 2;text-align: center;}#sk-2fcacded-aa66-44b5-9f91-2bd6b6381274 div.sk-container {/* jupyter's `normalize.less` sets `[hidden] { display: none; }` but bootstrap.min.css set `[hidden] { display: none !important; }` so we also need the `!important` here to be able to override the default hidden behavior on the sphinx rendered scikit-learn.org. See: https://github.com/scikit-learn/scikit-learn/issues/21755 */display: inline-block !important;position: relative;}#sk-2fcacded-aa66-44b5-9f91-2bd6b6381274 div.sk-text-repr-fallback {display: none;}</style><div id=\"sk-2fcacded-aa66-44b5-9f91-2bd6b6381274\" class=\"sk-top-container\"><div class=\"sk-text-repr-fallback\"><pre>Pipeline(steps=[(&#x27;standardscaler&#x27;, StandardScaler()),\n",
              "                (&#x27;logisticregression&#x27;, LogisticRegression())])</pre><b>Please rerun this cell to show the HTML repr or trust the notebook.</b></div><div class=\"sk-container\" hidden><div class=\"sk-item sk-dashed-wrapped\"><div class=\"sk-label-container\"><div class=\"sk-label sk-toggleable\"><input class=\"sk-toggleable__control sk-hidden--visually\" id=\"950bea37-c81e-4ae8-a46b-811238668035\" type=\"checkbox\" ><label for=\"950bea37-c81e-4ae8-a46b-811238668035\" class=\"sk-toggleable__label sk-toggleable__label-arrow\">Pipeline</label><div class=\"sk-toggleable__content\"><pre>Pipeline(steps=[(&#x27;standardscaler&#x27;, StandardScaler()),\n",
              "                (&#x27;logisticregression&#x27;, LogisticRegression())])</pre></div></div></div><div class=\"sk-serial\"><div class=\"sk-item\"><div class=\"sk-estimator sk-toggleable\"><input class=\"sk-toggleable__control sk-hidden--visually\" id=\"dc81e10b-91ab-4744-9d53-e1696f0b57e3\" type=\"checkbox\" ><label for=\"dc81e10b-91ab-4744-9d53-e1696f0b57e3\" class=\"sk-toggleable__label sk-toggleable__label-arrow\">StandardScaler</label><div class=\"sk-toggleable__content\"><pre>StandardScaler()</pre></div></div></div><div class=\"sk-item\"><div class=\"sk-estimator sk-toggleable\"><input class=\"sk-toggleable__control sk-hidden--visually\" id=\"85349308-7312-44b8-b9bc-6f62e4e14a1b\" type=\"checkbox\" ><label for=\"85349308-7312-44b8-b9bc-6f62e4e14a1b\" class=\"sk-toggleable__label sk-toggleable__label-arrow\">LogisticRegression</label><div class=\"sk-toggleable__content\"><pre>LogisticRegression()</pre></div></div></div></div></div></div></div>"
            ]
          },
          "metadata": {},
          "execution_count": 68
        }
      ]
    },
    {
      "cell_type": "code",
      "execution_count": 69,
      "metadata": {
        "id": "RrGkTLWR_Nq3",
        "colab": {
          "base_uri": "https://localhost:8080/",
          "height": 161
        },
        "outputId": "cb25231c-73fa-4b87-9c6e-d05c3cc4edb0"
      },
      "outputs": [
        {
          "output_type": "execute_result",
          "data": {
            "text/plain": [
              "Pipeline(steps=[('standardscaler', StandardScaler()), ('pca', PCA()),\n",
              "                ('kneighborsclassifier', KNeighborsClassifier())])"
            ],
            "text/html": [
              "<style>#sk-9fa9b794-5718-492d-8617-f96c19eb7ec7 {color: black;background-color: white;}#sk-9fa9b794-5718-492d-8617-f96c19eb7ec7 pre{padding: 0;}#sk-9fa9b794-5718-492d-8617-f96c19eb7ec7 div.sk-toggleable {background-color: white;}#sk-9fa9b794-5718-492d-8617-f96c19eb7ec7 label.sk-toggleable__label {cursor: pointer;display: block;width: 100%;margin-bottom: 0;padding: 0.3em;box-sizing: border-box;text-align: center;}#sk-9fa9b794-5718-492d-8617-f96c19eb7ec7 label.sk-toggleable__label-arrow:before {content: \"▸\";float: left;margin-right: 0.25em;color: #696969;}#sk-9fa9b794-5718-492d-8617-f96c19eb7ec7 label.sk-toggleable__label-arrow:hover:before {color: black;}#sk-9fa9b794-5718-492d-8617-f96c19eb7ec7 div.sk-estimator:hover label.sk-toggleable__label-arrow:before {color: black;}#sk-9fa9b794-5718-492d-8617-f96c19eb7ec7 div.sk-toggleable__content {max-height: 0;max-width: 0;overflow: hidden;text-align: left;background-color: #f0f8ff;}#sk-9fa9b794-5718-492d-8617-f96c19eb7ec7 div.sk-toggleable__content pre {margin: 0.2em;color: black;border-radius: 0.25em;background-color: #f0f8ff;}#sk-9fa9b794-5718-492d-8617-f96c19eb7ec7 input.sk-toggleable__control:checked~div.sk-toggleable__content {max-height: 200px;max-width: 100%;overflow: auto;}#sk-9fa9b794-5718-492d-8617-f96c19eb7ec7 input.sk-toggleable__control:checked~label.sk-toggleable__label-arrow:before {content: \"▾\";}#sk-9fa9b794-5718-492d-8617-f96c19eb7ec7 div.sk-estimator input.sk-toggleable__control:checked~label.sk-toggleable__label {background-color: #d4ebff;}#sk-9fa9b794-5718-492d-8617-f96c19eb7ec7 div.sk-label input.sk-toggleable__control:checked~label.sk-toggleable__label {background-color: #d4ebff;}#sk-9fa9b794-5718-492d-8617-f96c19eb7ec7 input.sk-hidden--visually {border: 0;clip: rect(1px 1px 1px 1px);clip: rect(1px, 1px, 1px, 1px);height: 1px;margin: -1px;overflow: hidden;padding: 0;position: absolute;width: 1px;}#sk-9fa9b794-5718-492d-8617-f96c19eb7ec7 div.sk-estimator {font-family: monospace;background-color: #f0f8ff;border: 1px dotted black;border-radius: 0.25em;box-sizing: border-box;margin-bottom: 0.5em;}#sk-9fa9b794-5718-492d-8617-f96c19eb7ec7 div.sk-estimator:hover {background-color: #d4ebff;}#sk-9fa9b794-5718-492d-8617-f96c19eb7ec7 div.sk-parallel-item::after {content: \"\";width: 100%;border-bottom: 1px solid gray;flex-grow: 1;}#sk-9fa9b794-5718-492d-8617-f96c19eb7ec7 div.sk-label:hover label.sk-toggleable__label {background-color: #d4ebff;}#sk-9fa9b794-5718-492d-8617-f96c19eb7ec7 div.sk-serial::before {content: \"\";position: absolute;border-left: 1px solid gray;box-sizing: border-box;top: 2em;bottom: 0;left: 50%;}#sk-9fa9b794-5718-492d-8617-f96c19eb7ec7 div.sk-serial {display: flex;flex-direction: column;align-items: center;background-color: white;padding-right: 0.2em;padding-left: 0.2em;}#sk-9fa9b794-5718-492d-8617-f96c19eb7ec7 div.sk-item {z-index: 1;}#sk-9fa9b794-5718-492d-8617-f96c19eb7ec7 div.sk-parallel {display: flex;align-items: stretch;justify-content: center;background-color: white;}#sk-9fa9b794-5718-492d-8617-f96c19eb7ec7 div.sk-parallel::before {content: \"\";position: absolute;border-left: 1px solid gray;box-sizing: border-box;top: 2em;bottom: 0;left: 50%;}#sk-9fa9b794-5718-492d-8617-f96c19eb7ec7 div.sk-parallel-item {display: flex;flex-direction: column;position: relative;background-color: white;}#sk-9fa9b794-5718-492d-8617-f96c19eb7ec7 div.sk-parallel-item:first-child::after {align-self: flex-end;width: 50%;}#sk-9fa9b794-5718-492d-8617-f96c19eb7ec7 div.sk-parallel-item:last-child::after {align-self: flex-start;width: 50%;}#sk-9fa9b794-5718-492d-8617-f96c19eb7ec7 div.sk-parallel-item:only-child::after {width: 0;}#sk-9fa9b794-5718-492d-8617-f96c19eb7ec7 div.sk-dashed-wrapped {border: 1px dashed gray;margin: 0 0.4em 0.5em 0.4em;box-sizing: border-box;padding-bottom: 0.4em;background-color: white;position: relative;}#sk-9fa9b794-5718-492d-8617-f96c19eb7ec7 div.sk-label label {font-family: monospace;font-weight: bold;background-color: white;display: inline-block;line-height: 1.2em;}#sk-9fa9b794-5718-492d-8617-f96c19eb7ec7 div.sk-label-container {position: relative;z-index: 2;text-align: center;}#sk-9fa9b794-5718-492d-8617-f96c19eb7ec7 div.sk-container {/* jupyter's `normalize.less` sets `[hidden] { display: none; }` but bootstrap.min.css set `[hidden] { display: none !important; }` so we also need the `!important` here to be able to override the default hidden behavior on the sphinx rendered scikit-learn.org. See: https://github.com/scikit-learn/scikit-learn/issues/21755 */display: inline-block !important;position: relative;}#sk-9fa9b794-5718-492d-8617-f96c19eb7ec7 div.sk-text-repr-fallback {display: none;}</style><div id=\"sk-9fa9b794-5718-492d-8617-f96c19eb7ec7\" class=\"sk-top-container\"><div class=\"sk-text-repr-fallback\"><pre>Pipeline(steps=[(&#x27;standardscaler&#x27;, StandardScaler()), (&#x27;pca&#x27;, PCA()),\n",
              "                (&#x27;kneighborsclassifier&#x27;, KNeighborsClassifier())])</pre><b>Please rerun this cell to show the HTML repr or trust the notebook.</b></div><div class=\"sk-container\" hidden><div class=\"sk-item sk-dashed-wrapped\"><div class=\"sk-label-container\"><div class=\"sk-label sk-toggleable\"><input class=\"sk-toggleable__control sk-hidden--visually\" id=\"b74ded7c-58a6-4922-9a75-5d04f6210033\" type=\"checkbox\" ><label for=\"b74ded7c-58a6-4922-9a75-5d04f6210033\" class=\"sk-toggleable__label sk-toggleable__label-arrow\">Pipeline</label><div class=\"sk-toggleable__content\"><pre>Pipeline(steps=[(&#x27;standardscaler&#x27;, StandardScaler()), (&#x27;pca&#x27;, PCA()),\n",
              "                (&#x27;kneighborsclassifier&#x27;, KNeighborsClassifier())])</pre></div></div></div><div class=\"sk-serial\"><div class=\"sk-item\"><div class=\"sk-estimator sk-toggleable\"><input class=\"sk-toggleable__control sk-hidden--visually\" id=\"7e3c6ac0-8828-46dd-90b8-71eae90f3c34\" type=\"checkbox\" ><label for=\"7e3c6ac0-8828-46dd-90b8-71eae90f3c34\" class=\"sk-toggleable__label sk-toggleable__label-arrow\">StandardScaler</label><div class=\"sk-toggleable__content\"><pre>StandardScaler()</pre></div></div></div><div class=\"sk-item\"><div class=\"sk-estimator sk-toggleable\"><input class=\"sk-toggleable__control sk-hidden--visually\" id=\"587fd56e-a64b-434b-a5ab-c5a0466751ee\" type=\"checkbox\" ><label for=\"587fd56e-a64b-434b-a5ab-c5a0466751ee\" class=\"sk-toggleable__label sk-toggleable__label-arrow\">PCA</label><div class=\"sk-toggleable__content\"><pre>PCA()</pre></div></div></div><div class=\"sk-item\"><div class=\"sk-estimator sk-toggleable\"><input class=\"sk-toggleable__control sk-hidden--visually\" id=\"02412b60-cf0f-40e1-ab71-3a0961d2a7da\" type=\"checkbox\" ><label for=\"02412b60-cf0f-40e1-ab71-3a0961d2a7da\" class=\"sk-toggleable__label sk-toggleable__label-arrow\">KNeighborsClassifier</label><div class=\"sk-toggleable__content\"><pre>KNeighborsClassifier()</pre></div></div></div></div></div></div></div>"
            ]
          },
          "metadata": {},
          "execution_count": 69
        }
      ],
      "source": [
        "# Create and fit a KNN model WITH PCA.\n",
        "knn = KNeighborsClassifier()\n",
        "\n",
        "knn_pipe = make_pipeline(scaler,pca, knn)\n",
        "knn_pipe.fit(x_train, y_train)"
      ]
    },
    {
      "cell_type": "code",
      "source": [
        "%%time\n",
        "train_pred_pca = knn_pipe.predict(x_train)\n",
        "test_pred_pca = knn_pipe.predict(x_test)"
      ],
      "metadata": {
        "colab": {
          "base_uri": "https://localhost:8080/"
        },
        "id": "Ojv394KpFahq",
        "outputId": "62bb5ffb-dc2f-47e3-9326-49b15da1b080"
      },
      "execution_count": 70,
      "outputs": [
        {
          "output_type": "stream",
          "name": "stdout",
          "text": [
            "CPU times: user 25.7 ms, sys: 18 µs, total: 25.7 ms\n",
            "Wall time: 26.1 ms\n"
          ]
        }
      ]
    },
    {
      "cell_type": "code",
      "source": [
        "#knn with PCA scores\n",
        "print('Accuracy of Train set', accuracy_score(y_train, train_pred_pca))\n",
        "print('Accuracy of Test set', accuracy_score(y_test, test_pred_pca))"
      ],
      "metadata": {
        "colab": {
          "base_uri": "https://localhost:8080/"
        },
        "id": "G9NuhxmkFuSJ",
        "outputId": "98f003d2-1c3e-404a-a4b1-b6196468ab6c"
      },
      "execution_count": 71,
      "outputs": [
        {
          "output_type": "stream",
          "name": "stdout",
          "text": [
            "Accuracy of Train set 0.8026905829596412\n",
            "Accuracy of Test set 0.7333333333333333\n"
          ]
        }
      ]
    },
    {
      "cell_type": "code",
      "source": [
        "#making and fitting pipeline for NON PCA\n",
        "knn_pipe_noPCA = make_pipeline(scaler, knn)\n",
        "knn_pipe_noPCA.fit(x_train, y_train)"
      ],
      "metadata": {
        "colab": {
          "base_uri": "https://localhost:8080/",
          "height": 126
        },
        "id": "-gAZlQIzF0Rp",
        "outputId": "7cf692ee-a2be-4edc-cd6d-ec8f75a57973"
      },
      "execution_count": 72,
      "outputs": [
        {
          "output_type": "execute_result",
          "data": {
            "text/plain": [
              "Pipeline(steps=[('standardscaler', StandardScaler()),\n",
              "                ('kneighborsclassifier', KNeighborsClassifier())])"
            ],
            "text/html": [
              "<style>#sk-b9ad3e21-e12c-448b-ba67-3f50080c36c2 {color: black;background-color: white;}#sk-b9ad3e21-e12c-448b-ba67-3f50080c36c2 pre{padding: 0;}#sk-b9ad3e21-e12c-448b-ba67-3f50080c36c2 div.sk-toggleable {background-color: white;}#sk-b9ad3e21-e12c-448b-ba67-3f50080c36c2 label.sk-toggleable__label {cursor: pointer;display: block;width: 100%;margin-bottom: 0;padding: 0.3em;box-sizing: border-box;text-align: center;}#sk-b9ad3e21-e12c-448b-ba67-3f50080c36c2 label.sk-toggleable__label-arrow:before {content: \"▸\";float: left;margin-right: 0.25em;color: #696969;}#sk-b9ad3e21-e12c-448b-ba67-3f50080c36c2 label.sk-toggleable__label-arrow:hover:before {color: black;}#sk-b9ad3e21-e12c-448b-ba67-3f50080c36c2 div.sk-estimator:hover label.sk-toggleable__label-arrow:before {color: black;}#sk-b9ad3e21-e12c-448b-ba67-3f50080c36c2 div.sk-toggleable__content {max-height: 0;max-width: 0;overflow: hidden;text-align: left;background-color: #f0f8ff;}#sk-b9ad3e21-e12c-448b-ba67-3f50080c36c2 div.sk-toggleable__content pre {margin: 0.2em;color: black;border-radius: 0.25em;background-color: #f0f8ff;}#sk-b9ad3e21-e12c-448b-ba67-3f50080c36c2 input.sk-toggleable__control:checked~div.sk-toggleable__content {max-height: 200px;max-width: 100%;overflow: auto;}#sk-b9ad3e21-e12c-448b-ba67-3f50080c36c2 input.sk-toggleable__control:checked~label.sk-toggleable__label-arrow:before {content: \"▾\";}#sk-b9ad3e21-e12c-448b-ba67-3f50080c36c2 div.sk-estimator input.sk-toggleable__control:checked~label.sk-toggleable__label {background-color: #d4ebff;}#sk-b9ad3e21-e12c-448b-ba67-3f50080c36c2 div.sk-label input.sk-toggleable__control:checked~label.sk-toggleable__label {background-color: #d4ebff;}#sk-b9ad3e21-e12c-448b-ba67-3f50080c36c2 input.sk-hidden--visually {border: 0;clip: rect(1px 1px 1px 1px);clip: rect(1px, 1px, 1px, 1px);height: 1px;margin: -1px;overflow: hidden;padding: 0;position: absolute;width: 1px;}#sk-b9ad3e21-e12c-448b-ba67-3f50080c36c2 div.sk-estimator {font-family: monospace;background-color: #f0f8ff;border: 1px dotted black;border-radius: 0.25em;box-sizing: border-box;margin-bottom: 0.5em;}#sk-b9ad3e21-e12c-448b-ba67-3f50080c36c2 div.sk-estimator:hover {background-color: #d4ebff;}#sk-b9ad3e21-e12c-448b-ba67-3f50080c36c2 div.sk-parallel-item::after {content: \"\";width: 100%;border-bottom: 1px solid gray;flex-grow: 1;}#sk-b9ad3e21-e12c-448b-ba67-3f50080c36c2 div.sk-label:hover label.sk-toggleable__label {background-color: #d4ebff;}#sk-b9ad3e21-e12c-448b-ba67-3f50080c36c2 div.sk-serial::before {content: \"\";position: absolute;border-left: 1px solid gray;box-sizing: border-box;top: 2em;bottom: 0;left: 50%;}#sk-b9ad3e21-e12c-448b-ba67-3f50080c36c2 div.sk-serial {display: flex;flex-direction: column;align-items: center;background-color: white;padding-right: 0.2em;padding-left: 0.2em;}#sk-b9ad3e21-e12c-448b-ba67-3f50080c36c2 div.sk-item {z-index: 1;}#sk-b9ad3e21-e12c-448b-ba67-3f50080c36c2 div.sk-parallel {display: flex;align-items: stretch;justify-content: center;background-color: white;}#sk-b9ad3e21-e12c-448b-ba67-3f50080c36c2 div.sk-parallel::before {content: \"\";position: absolute;border-left: 1px solid gray;box-sizing: border-box;top: 2em;bottom: 0;left: 50%;}#sk-b9ad3e21-e12c-448b-ba67-3f50080c36c2 div.sk-parallel-item {display: flex;flex-direction: column;position: relative;background-color: white;}#sk-b9ad3e21-e12c-448b-ba67-3f50080c36c2 div.sk-parallel-item:first-child::after {align-self: flex-end;width: 50%;}#sk-b9ad3e21-e12c-448b-ba67-3f50080c36c2 div.sk-parallel-item:last-child::after {align-self: flex-start;width: 50%;}#sk-b9ad3e21-e12c-448b-ba67-3f50080c36c2 div.sk-parallel-item:only-child::after {width: 0;}#sk-b9ad3e21-e12c-448b-ba67-3f50080c36c2 div.sk-dashed-wrapped {border: 1px dashed gray;margin: 0 0.4em 0.5em 0.4em;box-sizing: border-box;padding-bottom: 0.4em;background-color: white;position: relative;}#sk-b9ad3e21-e12c-448b-ba67-3f50080c36c2 div.sk-label label {font-family: monospace;font-weight: bold;background-color: white;display: inline-block;line-height: 1.2em;}#sk-b9ad3e21-e12c-448b-ba67-3f50080c36c2 div.sk-label-container {position: relative;z-index: 2;text-align: center;}#sk-b9ad3e21-e12c-448b-ba67-3f50080c36c2 div.sk-container {/* jupyter's `normalize.less` sets `[hidden] { display: none; }` but bootstrap.min.css set `[hidden] { display: none !important; }` so we also need the `!important` here to be able to override the default hidden behavior on the sphinx rendered scikit-learn.org. See: https://github.com/scikit-learn/scikit-learn/issues/21755 */display: inline-block !important;position: relative;}#sk-b9ad3e21-e12c-448b-ba67-3f50080c36c2 div.sk-text-repr-fallback {display: none;}</style><div id=\"sk-b9ad3e21-e12c-448b-ba67-3f50080c36c2\" class=\"sk-top-container\"><div class=\"sk-text-repr-fallback\"><pre>Pipeline(steps=[(&#x27;standardscaler&#x27;, StandardScaler()),\n",
              "                (&#x27;kneighborsclassifier&#x27;, KNeighborsClassifier())])</pre><b>Please rerun this cell to show the HTML repr or trust the notebook.</b></div><div class=\"sk-container\" hidden><div class=\"sk-item sk-dashed-wrapped\"><div class=\"sk-label-container\"><div class=\"sk-label sk-toggleable\"><input class=\"sk-toggleable__control sk-hidden--visually\" id=\"6a59309f-e802-4597-a690-41da120c9cb6\" type=\"checkbox\" ><label for=\"6a59309f-e802-4597-a690-41da120c9cb6\" class=\"sk-toggleable__label sk-toggleable__label-arrow\">Pipeline</label><div class=\"sk-toggleable__content\"><pre>Pipeline(steps=[(&#x27;standardscaler&#x27;, StandardScaler()),\n",
              "                (&#x27;kneighborsclassifier&#x27;, KNeighborsClassifier())])</pre></div></div></div><div class=\"sk-serial\"><div class=\"sk-item\"><div class=\"sk-estimator sk-toggleable\"><input class=\"sk-toggleable__control sk-hidden--visually\" id=\"01b6e21e-41c9-4b95-94df-eb12048fd97e\" type=\"checkbox\" ><label for=\"01b6e21e-41c9-4b95-94df-eb12048fd97e\" class=\"sk-toggleable__label sk-toggleable__label-arrow\">StandardScaler</label><div class=\"sk-toggleable__content\"><pre>StandardScaler()</pre></div></div></div><div class=\"sk-item\"><div class=\"sk-estimator sk-toggleable\"><input class=\"sk-toggleable__control sk-hidden--visually\" id=\"b5ed8a8b-5004-47f1-a075-1c97ca25be74\" type=\"checkbox\" ><label for=\"b5ed8a8b-5004-47f1-a075-1c97ca25be74\" class=\"sk-toggleable__label sk-toggleable__label-arrow\">KNeighborsClassifier</label><div class=\"sk-toggleable__content\"><pre>KNeighborsClassifier()</pre></div></div></div></div></div></div></div>"
            ]
          },
          "metadata": {},
          "execution_count": 72
        }
      ]
    },
    {
      "cell_type": "code",
      "source": [
        "# predict with no PCA\n",
        "%%time\n",
        "train_preds = knn_pipe_noPCA.predict(x_train)\n",
        "test_preds = knn_pipe_noPCA.predict(x_test)"
      ],
      "metadata": {
        "colab": {
          "base_uri": "https://localhost:8080/"
        },
        "id": "ik9SQSfXGfyi",
        "outputId": "f94d1d60-7bc7-49b7-fdb7-7e9d2c4317ca"
      },
      "execution_count": 73,
      "outputs": [
        {
          "output_type": "stream",
          "name": "stdout",
          "text": [
            "CPU times: user 23.7 ms, sys: 0 ns, total: 23.7 ms\n",
            "Wall time: 25.3 ms\n"
          ]
        }
      ]
    },
    {
      "cell_type": "code",
      "source": [
        "#knn no PCA scores\n",
        "print('Accuracy of Train set', accuracy_score(y_train, train_preds))\n",
        "print('Accuracy of Test set', accuracy_score(y_test, test_preds))"
      ],
      "metadata": {
        "colab": {
          "base_uri": "https://localhost:8080/"
        },
        "id": "4QIjHlufGtQd",
        "outputId": "9251e524-cd66-435f-873d-7ca1fd4b18a2"
      },
      "execution_count": 74,
      "outputs": [
        {
          "output_type": "stream",
          "name": "stdout",
          "text": [
            "Accuracy of Train set 0.8026905829596412\n",
            "Accuracy of Test set 0.7333333333333333\n"
          ]
        }
      ]
    },
    {
      "cell_type": "markdown",
      "metadata": {
        "id": "ebDkpUdd_JQ1"
      },
      "source": [
        "####Evaluate model performance with appropriate metrics for the model"
      ]
    },
    {
      "cell_type": "code",
      "source": [
        "#RANDOM FOREST\n",
        "%%time\n",
        "print('Training accuracy:', randfor_clf.score(x_train, y_train))\n",
        "print('Testing accuracy:', randfor_clf.score(x_test, y_test))"
      ],
      "metadata": {
        "id": "2xIV14u6F_Ez",
        "colab": {
          "base_uri": "https://localhost:8080/"
        },
        "outputId": "6c734e12-3fb5-4e76-c900-564b4b31f6cb"
      },
      "execution_count": 75,
      "outputs": [
        {
          "output_type": "stream",
          "name": "stdout",
          "text": [
            "Training accuracy: 0.695067264573991\n",
            "Testing accuracy: 0.6266666666666667\n",
            "CPU times: user 43.3 ms, sys: 1.01 ms, total: 44.3 ms\n",
            "Wall time: 44.2 ms\n"
          ]
        },
        {
          "output_type": "stream",
          "name": "stderr",
          "text": [
            "/usr/local/lib/python3.7/dist-packages/sklearn/base.py:444: UserWarning: X has feature names, but RandomForestClassifier was fitted without feature names\n",
            "  f\"X has feature names, but {self.__class__.__name__} was fitted without\"\n",
            "/usr/local/lib/python3.7/dist-packages/sklearn/base.py:444: UserWarning: X has feature names, but RandomForestClassifier was fitted without feature names\n",
            "  f\"X has feature names, but {self.__class__.__name__} was fitted without\"\n"
          ]
        }
      ]
    },
    {
      "cell_type": "code",
      "source": [
        "#LOGISTIC REGRESSION\n",
        "%%time\n",
        "print('Training accuracy:', logreg_pipe.score(x_train, y_train))\n",
        "print('Testing accuracy:', logreg_pipe.score(x_test, y_test))"
      ],
      "metadata": {
        "id": "KPUSnQcl9ihe",
        "colab": {
          "base_uri": "https://localhost:8080/"
        },
        "outputId": "5dd5dfad-f016-47cb-b0ed-ea52089a49bc"
      },
      "execution_count": 76,
      "outputs": [
        {
          "output_type": "stream",
          "name": "stdout",
          "text": [
            "Training accuracy: 0.8340807174887892\n",
            "Testing accuracy: 0.7333333333333333\n",
            "CPU times: user 12.9 ms, sys: 24 µs, total: 12.9 ms\n",
            "Wall time: 15.4 ms\n"
          ]
        }
      ]
    },
    {
      "cell_type": "code",
      "source": [
        "#KNN\n",
        "%%time\n",
        "print('Training accuracy:', knn_pipe.score(x_train, y_train))\n",
        "print('Testing accuracy:', knn_pipe.score(x_test, y_test))"
      ],
      "metadata": {
        "id": "BQy3EBa09R44",
        "colab": {
          "base_uri": "https://localhost:8080/"
        },
        "outputId": "4485df23-46ac-4491-b2b5-be65d878e0e2"
      },
      "execution_count": 77,
      "outputs": [
        {
          "output_type": "stream",
          "name": "stdout",
          "text": [
            "Training accuracy: 0.6412556053811659\n",
            "Testing accuracy: 0.6266666666666667\n",
            "CPU times: user 29.8 ms, sys: 0 ns, total: 29.8 ms\n",
            "Wall time: 30.8 ms\n"
          ]
        }
      ]
    },
    {
      "cell_type": "code",
      "source": [
        "#knn no PCA scores\n",
        "%%time\n",
        "print('Accuracy of Train set', accuracy_score(y_train, train_preds))\n",
        "print('Accuracy of Test set', accuracy_score(y_test, test_preds))"
      ],
      "metadata": {
        "colab": {
          "base_uri": "https://localhost:8080/"
        },
        "id": "AY05BRD4PJa8",
        "outputId": "45d9782d-42a2-4e5d-acce-74333fb087e7"
      },
      "execution_count": 78,
      "outputs": [
        {
          "output_type": "stream",
          "name": "stdout",
          "text": [
            "Accuracy of Train set 0.8026905829596412\n",
            "Accuracy of Test set 0.7333333333333333\n",
            "CPU times: user 5.81 ms, sys: 0 ns, total: 5.81 ms\n",
            "Wall time: 8.26 ms\n"
          ]
        }
      ]
    },
    {
      "cell_type": "markdown",
      "metadata": {
        "id": "sebgAPdk_N7s"
      },
      "source": [
        "####Choose your \"production\" model and justify this decision"
      ]
    },
    {
      "cell_type": "markdown",
      "metadata": {
        "id": "RBQvOxLy_Q7a"
      },
      "source": [
        "The logistic Regressor is my model of choice, due to accuracy. Out of all I ran, this one seemed to have higher values in accuracy scores."
      ]
    }
  ],
  "metadata": {
    "colab": {
      "collapsed_sections": [
        "l_an9QdBXFdn"
      ],
      "provenance": [],
      "mount_file_id": "14nfqfWy5-oNlcGUg-1Qoamrf2h7RTfdP",
      "authorship_tag": "ABX9TyMefjoTjr6IT3e+UPQRVp4I",
      "include_colab_link": true
    },
    "kernelspec": {
      "display_name": "Python 3",
      "name": "python3"
    },
    "language_info": {
      "name": "python"
    }
  },
  "nbformat": 4,
  "nbformat_minor": 0
}